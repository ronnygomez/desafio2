{
 "cells": [
  {
   "cell_type": "code",
   "execution_count": 2,
   "metadata": {},
   "outputs": [],
   "source": [
    "import pandas as pd\n",
    "import numpy as np"
   ]
  },
  {
   "cell_type": "code",
   "execution_count": 38,
   "metadata": {},
   "outputs": [],
   "source": [
    "def importsdf(data_location):\n",
    "    dataf = pd.read_csv(data_location, sep=\",\")\n",
    "    return dataf"
   ]
  },
  {
   "cell_type": "code",
   "execution_count": 80,
   "metadata": {},
   "outputs": [],
   "source": [
    "data15 = importsdf(r\"2015.csv\")\n",
    "data16 = importsdf(r\"2016.csv\")\n",
    "data17 = importsdf(r\"2017.csv\")\n",
    "data18 = importsdf(r\"2018.csv\")\n",
    "data19 = importsdf(r\"2019.csv\")\n",
    "data20 = importsdf(r\"WHR20_DataForFigure2.1.csv\")\n"
   ]
  },
  {
   "cell_type": "code",
   "execution_count": 72,
   "metadata": {},
   "outputs": [],
   "source": [
    "def joinearRegion(df,nombrecampoleft):\n",
    "    df= df.set_index(nombrecampoleft).join(data20[['Country name',\"Regional indicator\"]].set_index('Country name')).reset_index()\n",
    "    return df\n",
    "def renametodo(df,camposrename):\n",
    "    df = df.rename(columns=camposrename)\n",
    "    return df"
   ]
  },
  {
   "cell_type": "code",
   "execution_count": 81,
   "metadata": {},
   "outputs": [
    {
     "data": {
      "text/plain": [
       "Index(['Country', 'OverallRank', 'Score', 'GDPperCapita', 'Social_support',\n",
       "       'HealthyLifeExpectancy', 'Freedomchoices', 'Generosity',\n",
       "       'PerceptionsOfCorruption', 'Region'],\n",
       "      dtype='object')"
      ]
     },
     "execution_count": 81,
     "metadata": {},
     "output_type": "execute_result"
    }
   ],
   "source": [
    "campos_renombrar = {\"Country or region\": \"Country\",\n",
    " 'Overall rank':'OverallRank', \n",
    " 'GDP per capita':'GDPperCapita',\n",
    " 'Social support':'Social_support',\n",
    " 'Healthy life expectancy':'HealthyLifeExpectancy',\n",
    " 'Freedom to make life choices':'Freedomchoices',\n",
    " 'Perceptions of corruption':'PerceptionsOfCorruption',\n",
    " 'Regional indicator':'Region'\n",
    "}\n",
    "data19= renametodo(joinearRegion(data19,'Country or region'),campos_renombrar)"
   ]
  },
  {
   "cell_type": "code",
   "execution_count": 84,
   "metadata": {},
   "outputs": [
    {
     "data": {
      "text/plain": [
       "Index(['Country', 'OverallRank', 'Score', 'GDPperCapita', 'Social_support',\n",
       "       'HealthyLifeExpectancy', 'Freedomchoices', 'Generosity',\n",
       "       'PerceptionsOfCorruption', 'Region'],\n",
       "      dtype='object')"
      ]
     },
     "metadata": {},
     "output_type": "display_data"
    }
   ],
   "source": [
    "campos_renombrar = {\"Country or region\": \"Country\",\n",
    " 'Overall rank':'OverallRank', \n",
    " 'GDP per capita':'GDPperCapita',\n",
    " 'Social support':'Social_support',\n",
    " 'Healthy life expectancy':'HealthyLifeExpectancy',\n",
    " 'Freedom to make life choices':'Freedomchoices',\n",
    " 'Perceptions of corruption':'PerceptionsOfCorruption',\n",
    " 'Regional indicator':'Region'\n",
    "}\n",
    "data18= renametodo(joinearRegion(data18,'Country or region'),campos_renombrar)"
   ]
  },
  {
   "cell_type": "code",
   "execution_count": 92,
   "metadata": {},
   "outputs": [
    {
     "data": {
      "text/plain": [
       "Index(['Country', 'OverallRank', 'Score', 'Whisker.high', 'Whisker.low',\n",
       "       'GDPperCapita', 'Family', 'HealthyLifeExpectancy', 'Freedomchoices',\n",
       "       'Generosity', 'PerceptionsOfCorruption', 'Dystopia.Residual', 'Region'],\n",
       "      dtype='object')"
      ]
     },
     "metadata": {},
     "output_type": "display_data"
    }
   ],
   "source": [
    "campos_renombrar = {\n",
    " 'Happiness.Rank':'OverallRank',\n",
    " 'Happiness.Score':'Score',\n",
    " 'Economy..GDP.per.Capita.':'GDPperCapita',\n",
    " 'Family':'Social_support',\n",
    " 'Health..Life.Expectancy.':'HealthyLifeExpectancy',\n",
    " 'Freedom':'Freedomchoices',\n",
    " 'Trust..Government.Corruption.':'PerceptionsOfCorruption',\n",
    " 'Regional indicator':'Region'\n",
    "}\n",
    "data17= renametodo(joinearRegion(data17,'Country'),campos_renombrar)"
   ]
  },
  {
   "cell_type": "code",
   "execution_count": 98,
   "metadata": {},
   "outputs": [
    {
     "data": {
      "text/plain": [
       "Index(['Country', 'Region', 'OverallRank', 'Score',\n",
       "       'Lower Confidence Interval', 'Upper Confidence Interval',\n",
       "       'GDPperCapita', 'Family', 'HealthyLifeExpectancy', 'Freedomchoices',\n",
       "       'PerceptionsOfCorruption', 'Generosity', 'Dystopia Residual'],\n",
       "      dtype='object')"
      ]
     },
     "metadata": {},
     "output_type": "display_data"
    }
   ],
   "source": [
    "campos_renombrar = {\n",
    " 'Happiness Rank':'OverallRank',\n",
    " 'Happiness Score':'Score',\n",
    " 'Economy (GDP per Capita)':'GDPperCapita',\n",
    " 'Family':'Social_support',\n",
    " 'Health (Life Expectancy)':'HealthyLifeExpectancy',\n",
    " 'Freedom':'Freedomchoices',\n",
    " 'Trust (Government Corruption)':'PerceptionsOfCorruption'\n",
    "}\n",
    "data16= renametodo(data16,campos_renombrar)"
   ]
  },
  {
   "cell_type": "code",
   "execution_count": 101,
   "metadata": {},
   "outputs": [
    {
     "data": {
      "text/plain": [
       "Index(['Country', 'Region', 'OverallRank', 'Score', 'Standard Error',\n",
       "       'GDPperCapita', 'Social_support', 'HealthyLifeExpectancy',\n",
       "       'Freedomchoices', 'PerceptionsOfCorruption', 'Generosity',\n",
       "       'Dystopia Residual'],\n",
       "      dtype='object')"
      ]
     },
     "metadata": {},
     "output_type": "display_data"
    }
   ],
   "source": [
    "campos_renombrar = {\n",
    " 'Happiness Rank':'OverallRank',\n",
    " 'Happiness Score':'Score',\n",
    " 'Family':'Social_support',\n",
    " 'Economy (GDP per Capita)':'GDPperCapita',\n",
    " 'Health (Life Expectancy)':'HealthyLifeExpectancy',\n",
    " 'Freedom':'Freedomchoices',\n",
    " 'Trust (Government Corruption)':'PerceptionsOfCorruption'\n",
    "}\n",
    "data15= renametodo(data15,campos_renombrar)"
   ]
  },
  {
   "cell_type": "code",
   "execution_count": 111,
   "metadata": {},
   "outputs": [
    {
     "name": "stdout",
     "output_type": "stream",
     "text": [
      "data15: (158, 12)\n",
      "data16: (157, 13)\n",
      "data17: (155, 13)\n",
      "data18: (156, 10)\n",
      "data19: (156, 10)\n",
      "data20: (153, 20)\n"
     ]
    }
   ],
   "source": [
    "print(\"data15:\",data15.shape)\n",
    "print(\"data16:\",data16.shape)\n",
    "print(\"data17:\",data17.shape)\n",
    "print(\"data18:\",data18.shape)\n",
    "print(\"data19:\",data19.shape)\n",
    "print(\"data20:\",data20.shape)"
   ]
  },
  {
   "cell_type": "code",
   "execution_count": 125,
   "metadata": {},
   "outputs": [
    {
     "data": {
      "text/plain": [
       "False    157\n",
       "Name: Region, dtype: int64"
      ]
     },
     "execution_count": 125,
     "metadata": {},
     "output_type": "execute_result"
    }
   ],
   "source": [
    "data16.Region.isnull().value_counts()"
   ]
  },
  {
   "cell_type": "code",
   "execution_count": 126,
   "metadata": {},
   "outputs": [
    {
     "data": {
      "text/plain": [
       "(157, 13)"
      ]
     },
     "execution_count": 126,
     "metadata": {},
     "output_type": "execute_result"
    }
   ],
   "source": [
    "data16 = importsdf(r\"2016.csv\")\n",
    "data16.shape"
   ]
  }
 ],
 "metadata": {
  "kernelspec": {
   "display_name": "Python 3",
   "language": "python",
   "name": "python3"
  },
  "language_info": {
   "codemirror_mode": {
    "name": "ipython",
    "version": 3
   },
   "file_extension": ".py",
   "mimetype": "text/x-python",
   "name": "python",
   "nbconvert_exporter": "python",
   "pygments_lexer": "ipython3",
   "version": "3.7.7"
  }
 },
 "nbformat": 4,
 "nbformat_minor": 4
}
