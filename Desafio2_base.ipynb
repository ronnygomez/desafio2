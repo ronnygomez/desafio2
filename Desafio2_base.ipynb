{
 "cells": [
  {
   "cell_type": "code",
   "execution_count": 128,
   "metadata": {},
   "outputs": [],
   "source": [
    "import pandas as pd\n",
    "import numpy as np"
   ]
  },
  {
   "cell_type": "code",
   "execution_count": 129,
   "metadata": {},
   "outputs": [],
   "source": [
    "def importsdf(data_location):\n",
    "    dataf = pd.read_csv(data_location, sep=\",\")\n",
    "    return dataf\n",
    "def add_region(df,Country,Region):\n",
    "    df=df.append({'Country':Country,'Region':Region}, ignore_index=True)\n",
    "    return df\n",
    "def joinearRegion(df,nombrecampoleft):\n",
    "    df= df.set_index(nombrecampoleft).join(country_region.set_index('Country'),how='left').reset_index()\n",
    "    return df\n",
    "def renametodo(df,camposrename):\n",
    "    df = df.rename(columns=camposrename)\n",
    "    return df\n",
    "def creamask(df,texto):\n",
    "    mask = df.Country ==texto\n",
    "    return mask\n",
    "def creamask2(df,texto):\n",
    "    mask = df[\"Country or region\"] ==texto\n",
    "    return mask"
   ]
  },
  {
   "cell_type": "code",
   "execution_count": 130,
   "metadata": {},
   "outputs": [],
   "source": [
    "data15 = importsdf(r\"2015.csv\")\n",
    "data16 = importsdf(r\"2016.csv\")\n",
    "data17 = importsdf(r\"2017.csv\")\n",
    "data18 = importsdf(r\"2018.csv\")\n",
    "data19 = importsdf(r\"2019.csv\")\n",
    "data20 = importsdf(r\"WHR20_DataForFigure2.1.csv\")"
   ]
  },
  {
   "cell_type": "code",
   "execution_count": 131,
   "metadata": {},
   "outputs": [],
   "source": [
    "campos_renombrar = {\"Country name\": \"Country\",\n",
    " 'Overall rank':'OverallRank', \n",
    " 'Logged GDP per capita':'GDPperCapita',\n",
    " 'Social support':'Social_support',\n",
    " 'Healthy life expectancy':'HealthyLifeExpectancy',\n",
    " 'Freedom to make life choices':'Freedomchoices',\n",
    " 'Perceptions of corruption':'PerceptionsOfCorruption',\n",
    " 'Regional indicator':'Region'\n",
    "}\n",
    "data20= renametodo(data20,campos_renombrar)\n",
    "data20.loc[creamask(data20,\"Taiwan Province of China\"),\"Country\"]= \"Taiwan\"\n",
    "country_region= data20[['Country',\"Region\"]]"
   ]
  },
  {
   "cell_type": "code",
   "execution_count": 132,
   "metadata": {},
   "outputs": [],
   "source": [
    "country_region= add_region(country_region,\"Sudan\",\"Sub-Saharan Africa\")\n",
    "country_region= add_region(country_region,\"Somalia\",\"Sub-Saharan Africa\")\n",
    "country_region= add_region(country_region,\"Syria\",\"Middle East and North Africa\")\n",
    "country_region= add_region(country_region,\"Angola\",\"Sub-Saharan Africa\")\n",
    "country_region= add_region(country_region,\"Qatar\",\"Middle East and North Africa\")\n",
    "country_region= add_region(country_region,\"Belize\",\"Latin America and Caribbean\")\n",
    "country_region= add_region(country_region,\"Bhutan\",\"South Asia\")"
   ]
  },
  {
   "cell_type": "code",
   "execution_count": 133,
   "metadata": {},
   "outputs": [],
   "source": [
    "data17.loc[creamask(data17,\"Hong Kong S.A.R., China\"),\"Country\"]= \"Hong Kong S.A.R. of China\"\n",
    "data17.loc[creamask(data17,\"Taiwan Province of China\"),\"Country\"]= \"Taiwan\"\n",
    "data18.loc[creamask2(data18,\"Hong Kong\"),\"Country or region\"]= \"Hong Kong S.A.R. of China\"\n",
    "data19.loc[creamask2(data19,\"Hong Kong\"),\"Country or region\"]= \"Hong Kong S.A.R. of China\"\n",
    "data19.loc[creamask2(data19,\"Trinidad & Tobago\"),\"Country or region\"]= \"Trinidad and Tobago\"\n",
    "data18.loc[creamask2(data18,\"Trinidad & Tobago\"),\"Country or region\"]= \"Trinidad and Tobago\"\n",
    "data19.loc[creamask2(data19,\"North Macedonia\"),\"Country or region\"]= \"Macedonia\"\n",
    "data18.loc[creamask2(data18,\"North Macedonia\"),\"Country or region\"]= \"Macedonia\"\n",
    "data19.loc[creamask2(data19,\"Northern Cyprus\"),\"Country or region\"]= \"Cyprus\"\n",
    "data18.loc[creamask2(data18,\"Northern Cyprus\"),\"Country or region\"]= \"Cyprus\""
   ]
  },
  {
   "cell_type": "code",
   "execution_count": 134,
   "metadata": {},
   "outputs": [],
   "source": [
    "\n",
    "# data20.loc[creamask(data20,\"Taiwan Province of China\"),\"Country\"]= \"Taiwan\"\n",
    "\n",
    "# data17.loc[creamask(data20,\"Taiwan Province of China\"),\"Country\"]= \"Taiwan\"\n",
    "\n",
    "# maskcountry1 = data17.Country ==\"Hong Kong S.A.R., China\"\n",
    "# data17.loc[maskcountry1,\"Country\"]= \"Hong Kong S.A.R. of China\"\n",
    "\n",
    "# maskcountry2 = data20.Country ==\"Taiwan Province of China\"\n",
    "# data20.loc[maskcountry2,\"Country\"]= \"Taiwan\"\n",
    "\n",
    "# maskcountry3 = data19[\"Country or region\"] ==\"Trinidad & Tobago\"\n",
    "# data19.loc[maskcountry3,\"Country or region\"]= \"Trinidad and Tobago\"\n",
    "\n",
    "# maskcountry4 = data18[\"Country or region\"] ==\"Trinidad & Tobago\"\n",
    "# data18.loc[maskcountry4,\"Country or region\"]= \"Trinidad and Tobago\"\n",
    "\n",
    "# maskcountry4 = data19[\"Country or region\"] ==\"North Macedonia\"\n",
    "# data19.loc[maskcountry4,\"Country or region\"]= \"Macedonia\"\n",
    "\n",
    "# maskcountry4 = data19[\"Country or region\"] ==\"North Macedonia\"\n",
    "# data19.loc[maskcountry4,\"Country or region\"]= \"Macedonia\"\n"
   ]
  },
  {
   "cell_type": "code",
   "execution_count": 135,
   "metadata": {},
   "outputs": [],
   "source": [
    "campos_renombrar = {\"Country or region\": \"Country\",\n",
    "                    \"index\":\"Country\",\n",
    " 'Overall rank':'OverallRank', \n",
    " 'GDP per capita':'GDPperCapita',\n",
    " 'Social support':'Social_support',\n",
    " 'Healthy life expectancy':'HealthyLifeExpectancy',\n",
    " 'Freedom to make life choices':'Freedomchoices',\n",
    " 'Perceptions of corruption':'PerceptionsOfCorruption',\n",
    " 'Regional indicator':'Region'\n",
    "}\n",
    "data19= renametodo(joinearRegion(data19,'Country or region'),campos_renombrar)"
   ]
  },
  {
   "cell_type": "code",
   "execution_count": 136,
   "metadata": {},
   "outputs": [],
   "source": [
    "campos_renombrar = {\"Country or region\": \"Country\",\n",
    "                    \"index\":\"Country\",\n",
    " 'Overall rank':'OverallRank', \n",
    " 'GDP per capita':'GDPperCapita',\n",
    " 'Social support':'Social_support',\n",
    " 'Healthy life expectancy':'HealthyLifeExpectancy',\n",
    " 'Freedom to make life choices':'Freedomchoices',\n",
    " 'Perceptions of corruption':'PerceptionsOfCorruption',\n",
    " 'Regional indicator':'Region'\n",
    "}\n",
    "data18= renametodo(joinearRegion(data18,'Country or region'),campos_renombrar)"
   ]
  },
  {
   "cell_type": "code",
   "execution_count": 137,
   "metadata": {},
   "outputs": [],
   "source": [
    "\n",
    "campos_renombrar = {\n",
    " 'Happiness.Rank':'OverallRank',\n",
    " 'Happiness.Score':'Score',\n",
    " 'Economy..GDP.per.Capita.':'GDPperCapita',\n",
    " 'Family':'Social_support',\n",
    " 'Health..Life.Expectancy.':'HealthyLifeExpectancy',\n",
    " 'Freedom':'Freedomchoices',\n",
    " 'Trust..Government.Corruption.':'PerceptionsOfCorruption',\n",
    " 'Regional indicator':'Region'\n",
    "}\n",
    "data17= renametodo(joinearRegion(data17,'Country'),campos_renombrar)"
   ]
  },
  {
   "cell_type": "code",
   "execution_count": 138,
   "metadata": {},
   "outputs": [],
   "source": [
    "campos_renombrar = {\n",
    " 'Happiness Rank':'OverallRank',\n",
    " 'Happiness Score':'Score',\n",
    " 'Economy (GDP per Capita)':'GDPperCapita',\n",
    " 'Family':'Social_support',\n",
    " 'Health (Life Expectancy)':'HealthyLifeExpectancy',\n",
    " 'Freedom':'Freedomchoices',\n",
    " 'Trust (Government Corruption)':'PerceptionsOfCorruption'\n",
    "}\n",
    "data16= renametodo(data16,campos_renombrar)"
   ]
  },
  {
   "cell_type": "code",
   "execution_count": 139,
   "metadata": {},
   "outputs": [],
   "source": [
    "campos_renombrar = {\n",
    " 'Happiness Rank':'OverallRank',\n",
    " 'Happiness Score':'Score',\n",
    " 'Family':'Social_support',\n",
    " 'Economy (GDP per Capita)':'GDPperCapita',\n",
    " 'Health (Life Expectancy)':'HealthyLifeExpectancy',\n",
    " 'Freedom':'Freedomchoices',\n",
    " 'Trust (Government Corruption)':'PerceptionsOfCorruption'\n",
    "}\n",
    "data15= renametodo(data15,campos_renombrar)"
   ]
  },
  {
   "cell_type": "code",
   "execution_count": 140,
   "metadata": {},
   "outputs": [
    {
     "name": "stdout",
     "output_type": "stream",
     "text": [
      "data15: (158, 12)\n",
      "data16: (157, 13)\n",
      "data17: (155, 13)\n",
      "data18: (156, 10)\n",
      "data19: (156, 10)\n",
      "data20: (153, 20)\n"
     ]
    }
   ],
   "source": [
    "print(\"data15:\",data15.shape)\n",
    "print(\"data16:\",data16.shape)\n",
    "print(\"data17:\",data17.shape)\n",
    "print(\"data18:\",data18.shape)\n",
    "print(\"data19:\",data19.shape)\n",
    "print(\"data20:\",data20.shape)"
   ]
  },
  {
   "cell_type": "code",
   "execution_count": null,
   "metadata": {},
   "outputs": [],
   "source": []
  }
 ],
 "metadata": {
  "kernelspec": {
   "display_name": "Python 3",
   "language": "python",
   "name": "python3"
  },
  "language_info": {
   "codemirror_mode": {
    "name": "ipython",
    "version": 3
   },
   "file_extension": ".py",
   "mimetype": "text/x-python",
   "name": "python",
   "nbconvert_exporter": "python",
   "pygments_lexer": "ipython3",
   "version": "3.7.7"
  }
 },
 "nbformat": 4,
 "nbformat_minor": 4
}
