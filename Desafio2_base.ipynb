{
 "cells": [
  {
   "cell_type": "code",
   "execution_count": 89,
   "metadata": {},
   "outputs": [],
   "source": [
    "import pandas as pd\n",
    "import numpy as np\n",
    "import matplotlib.pyplot as plt"
   ]
  },
  {
   "cell_type": "code",
   "execution_count": 90,
   "metadata": {},
   "outputs": [],
   "source": [
    "def importsdf(data_location):\n",
    "    dataf = pd.read_csv(data_location, sep=\",\")\n",
    "    return dataf\n",
    "def add_region(df,Country,Region):\n",
    "    df=df.append({'Country':Country,'Region':Region}, ignore_index=True)\n",
    "    return df\n",
    "def joinearRegion(df,nombrecampoleft):\n",
    "    df= df.set_index(nombrecampoleft).join(country_region.set_index('Country'),how='left').reset_index()\n",
    "    return df\n",
    "def renametodo(df,camposrename):\n",
    "    df = df.rename(columns=camposrename)\n",
    "    return df\n",
    "def creamask(df,texto):\n",
    "    mask = df.Country ==texto\n",
    "    return mask\n",
    "def creamask2(df,texto):\n",
    "    mask = df[\"Country or region\"] ==texto\n",
    "    return mask"
   ]
  },
  {
   "cell_type": "code",
   "execution_count": 91,
   "metadata": {},
   "outputs": [],
   "source": [
    "data15 = importsdf(r\"2015.csv\")\n",
    "data16 = importsdf(r\"2016.csv\")\n",
    "data17 = importsdf(r\"2017.csv\")\n",
    "data18 = importsdf(r\"2018.csv\")\n",
    "data19 = importsdf(r\"2019.csv\")\n",
    "data20 = importsdf(r\"WHR20_DataForFigure2.1.csv\")"
   ]
  },
  {
   "cell_type": "code",
   "execution_count": 92,
   "metadata": {},
   "outputs": [],
   "source": [
    "campos_renombrar = {\"Country name\": \"Country\",\n",
    " 'Ladder score':'Score', \n",
    " 'Logged GDP per capita':'GDPperCapita',\n",
    " 'Social support':'Social_support',\n",
    " 'Healthy life expectancy':'HealthyLifeExpectancy',\n",
    " 'Freedom to make life choices':'Freedomchoices',\n",
    " 'Perceptions of corruption':'PerceptionsOfCorruption',\n",
    " 'Regional indicator':'Region'\n",
    "}\n",
    "data20= renametodo(data20,campos_renombrar)\n",
    "data20.loc[creamask(data20,\"Taiwan Province of China\"),\"Country\"]= \"Taiwan\"\n",
    "country_region= data20[['Country',\"Region\"]]"
   ]
  },
  {
   "cell_type": "code",
   "execution_count": 93,
   "metadata": {},
   "outputs": [],
   "source": [
    "country_region= add_region(country_region,\"Sudan\",\"Sub-Saharan Africa\")\n",
    "country_region= add_region(country_region,\"Somalia\",\"Sub-Saharan Africa\")\n",
    "country_region= add_region(country_region,\"Syria\",\"Middle East and North Africa\")\n",
    "country_region= add_region(country_region,\"Angola\",\"Sub-Saharan Africa\")\n",
    "country_region= add_region(country_region,\"Qatar\",\"Middle East and North Africa\")\n",
    "country_region= add_region(country_region,\"Belize\",\"Latin America and Caribbean\")\n",
    "country_region= add_region(country_region,\"Bhutan\",\"South Asia\")"
   ]
  },
  {
   "cell_type": "code",
   "execution_count": 94,
   "metadata": {},
   "outputs": [],
   "source": [
    "data17.loc[creamask(data17,\"Hong Kong S.A.R., China\"),\"Country\"]= \"Hong Kong S.A.R. of China\"\n",
    "data17.loc[creamask(data17,\"Taiwan Province of China\"),\"Country\"]= \"Taiwan\"\n",
    "data18.loc[creamask2(data18,\"Hong Kong\"),\"Country or region\"]= \"Hong Kong S.A.R. of China\"\n",
    "data19.loc[creamask2(data19,\"Hong Kong\"),\"Country or region\"]= \"Hong Kong S.A.R. of China\"\n",
    "data19.loc[creamask2(data19,\"Trinidad & Tobago\"),\"Country or region\"]= \"Trinidad and Tobago\"\n",
    "data18.loc[creamask2(data18,\"Trinidad & Tobago\"),\"Country or region\"]= \"Trinidad and Tobago\"\n",
    "data19.loc[creamask2(data19,\"North Macedonia\"),\"Country or region\"]= \"Macedonia\"\n",
    "data18.loc[creamask2(data18,\"North Macedonia\"),\"Country or region\"]= \"Macedonia\"\n",
    "data19.loc[creamask2(data19,\"Northern Cyprus\"),\"Country or region\"]= \"Cyprus\"\n",
    "data18.loc[creamask2(data18,\"Northern Cyprus\"),\"Country or region\"]= \"Cyprus\""
   ]
  },
  {
   "cell_type": "code",
   "execution_count": 95,
   "metadata": {},
   "outputs": [],
   "source": [
    "campos_renombrar = {\"Country or region\": \"Country\",\n",
    "                    \"index\":\"Country\",\n",
    " 'Overall rank':'OverallRank', \n",
    " 'GDP per capita':'GDPperCapita',\n",
    " 'Social support':'Social_support',\n",
    " 'Healthy life expectancy':'HealthyLifeExpectancy',\n",
    " 'Freedom to make life choices':'Freedomchoices',\n",
    " 'Perceptions of corruption':'PerceptionsOfCorruption',\n",
    " 'Regional indicator':'Region'\n",
    "}\n",
    "data19= renametodo(joinearRegion(data19,'Country or region'),campos_renombrar)"
   ]
  },
  {
   "cell_type": "code",
   "execution_count": 96,
   "metadata": {},
   "outputs": [],
   "source": [
    "campos_renombrar = {\"Country or region\": \"Country\",\n",
    "                    \"index\":\"Country\",\n",
    " 'Overall rank':'OverallRank', \n",
    " 'GDP per capita':'GDPperCapita',\n",
    " 'Social support':'Social_support',\n",
    " 'Healthy life expectancy':'HealthyLifeExpectancy',\n",
    " 'Freedom to make life choices':'Freedomchoices',\n",
    " 'Perceptions of corruption':'PerceptionsOfCorruption',\n",
    " 'Regional indicator':'Region'\n",
    "}\n",
    "data18= renametodo(joinearRegion(data18,'Country or region'),campos_renombrar)"
   ]
  },
  {
   "cell_type": "code",
   "execution_count": 97,
   "metadata": {},
   "outputs": [],
   "source": [
    "\n",
    "campos_renombrar = {\n",
    " 'Happiness.Rank':'OverallRank',\n",
    " 'Happiness.Score':'Score',\n",
    " 'Economy..GDP.per.Capita.':'GDPperCapita',\n",
    " 'Family':'Social_support',\n",
    " 'Health..Life.Expectancy.':'HealthyLifeExpectancy',\n",
    " 'Freedom':'Freedomchoices',\n",
    " 'Trust..Government.Corruption.':'PerceptionsOfCorruption',\n",
    " 'Regional indicator':'Region'\n",
    "}\n",
    "data17= renametodo(joinearRegion(data17,'Country'),campos_renombrar)"
   ]
  },
  {
   "cell_type": "code",
   "execution_count": 98,
   "metadata": {},
   "outputs": [],
   "source": [
    "campos_renombrar = {\n",
    " 'Happiness Rank':'OverallRank',\n",
    " 'Happiness Score':'Score',\n",
    " 'Economy (GDP per Capita)':'GDPperCapita',\n",
    " 'Family':'Social_support',\n",
    " 'Health (Life Expectancy)':'HealthyLifeExpectancy',\n",
    " 'Freedom':'Freedomchoices',\n",
    " 'Trust (Government Corruption)':'PerceptionsOfCorruption'\n",
    "}\n",
    "data16= renametodo(data16,campos_renombrar)"
   ]
  },
  {
   "cell_type": "code",
   "execution_count": 99,
   "metadata": {},
   "outputs": [],
   "source": [
    "campos_renombrar = {\n",
    " 'Happiness Rank':'OverallRank',\n",
    " 'Happiness Score':'Score',\n",
    " 'Family':'Social_support',\n",
    " 'Economy (GDP per Capita)':'GDPperCapita',\n",
    " 'Health (Life Expectancy)':'HealthyLifeExpectancy',\n",
    " 'Freedom':'Freedomchoices',\n",
    " 'Trust (Government Corruption)':'PerceptionsOfCorruption'\n",
    "}\n",
    "data15= renametodo(data15,campos_renombrar)"
   ]
  },
  {
   "cell_type": "code",
   "execution_count": 100,
   "metadata": {},
   "outputs": [
    {
     "name": "stdout",
     "output_type": "stream",
     "text": [
      "data15: (158, 12)\n",
      "data16: (157, 13)\n",
      "data17: (155, 13)\n",
      "data18: (156, 10)\n",
      "data19: (156, 10)\n",
      "data20: (153, 20)\n"
     ]
    }
   ],
   "source": [
    "print(\"data15:\",data15.shape)\n",
    "print(\"data16:\",data16.shape)\n",
    "print(\"data17:\",data17.shape)\n",
    "print(\"data18:\",data18.shape)\n",
    "print(\"data19:\",data19.shape)\n",
    "print(\"data20:\",data20.shape)"
   ]
  },
  {
   "cell_type": "code",
   "execution_count": 101,
   "metadata": {},
   "outputs": [
    {
     "data": {
      "text/html": [
       "<div>\n",
       "<style scoped>\n",
       "    .dataframe tbody tr th:only-of-type {\n",
       "        vertical-align: middle;\n",
       "    }\n",
       "\n",
       "    .dataframe tbody tr th {\n",
       "        vertical-align: top;\n",
       "    }\n",
       "\n",
       "    .dataframe thead th {\n",
       "        text-align: right;\n",
       "    }\n",
       "</style>\n",
       "<table border=\"1\" class=\"dataframe\">\n",
       "  <thead>\n",
       "    <tr style=\"text-align: right;\">\n",
       "      <th></th>\n",
       "      <th>Country</th>\n",
       "      <th>Region</th>\n",
       "      <th>Score</th>\n",
       "      <th>Standard error of ladder score</th>\n",
       "      <th>upperwhisker</th>\n",
       "      <th>lowerwhisker</th>\n",
       "      <th>GDPperCapita</th>\n",
       "      <th>Social_support</th>\n",
       "      <th>HealthyLifeExpectancy</th>\n",
       "      <th>Freedomchoices</th>\n",
       "      <th>Generosity</th>\n",
       "      <th>PerceptionsOfCorruption</th>\n",
       "      <th>Ladder score in Dystopia</th>\n",
       "      <th>Explained by: Log GDP per capita</th>\n",
       "      <th>Explained by: Social support</th>\n",
       "      <th>Explained by: Healthy life expectancy</th>\n",
       "      <th>Explained by: Freedom to make life choices</th>\n",
       "      <th>Explained by: Generosity</th>\n",
       "      <th>Explained by: Perceptions of corruption</th>\n",
       "      <th>Dystopia + residual</th>\n",
       "    </tr>\n",
       "  </thead>\n",
       "  <tbody>\n",
       "    <tr>\n",
       "      <th>0</th>\n",
       "      <td>Finland</td>\n",
       "      <td>Western Europe</td>\n",
       "      <td>7.8087</td>\n",
       "      <td>0.031156</td>\n",
       "      <td>7.869766</td>\n",
       "      <td>7.747634</td>\n",
       "      <td>10.639267</td>\n",
       "      <td>0.954330</td>\n",
       "      <td>71.900825</td>\n",
       "      <td>0.949172</td>\n",
       "      <td>-0.059482</td>\n",
       "      <td>0.195445</td>\n",
       "      <td>1.972317</td>\n",
       "      <td>1.285190</td>\n",
       "      <td>1.499526</td>\n",
       "      <td>0.961271</td>\n",
       "      <td>0.662317</td>\n",
       "      <td>0.159670</td>\n",
       "      <td>0.477857</td>\n",
       "      <td>2.762835</td>\n",
       "    </tr>\n",
       "    <tr>\n",
       "      <th>1</th>\n",
       "      <td>Denmark</td>\n",
       "      <td>Western Europe</td>\n",
       "      <td>7.6456</td>\n",
       "      <td>0.033492</td>\n",
       "      <td>7.711245</td>\n",
       "      <td>7.579955</td>\n",
       "      <td>10.774001</td>\n",
       "      <td>0.955991</td>\n",
       "      <td>72.402504</td>\n",
       "      <td>0.951444</td>\n",
       "      <td>0.066202</td>\n",
       "      <td>0.168489</td>\n",
       "      <td>1.972317</td>\n",
       "      <td>1.326949</td>\n",
       "      <td>1.503449</td>\n",
       "      <td>0.979333</td>\n",
       "      <td>0.665040</td>\n",
       "      <td>0.242793</td>\n",
       "      <td>0.495260</td>\n",
       "      <td>2.432741</td>\n",
       "    </tr>\n",
       "  </tbody>\n",
       "</table>\n",
       "</div>"
      ],
      "text/plain": [
       "   Country          Region   Score  Standard error of ladder score  \\\n",
       "0  Finland  Western Europe  7.8087                        0.031156   \n",
       "1  Denmark  Western Europe  7.6456                        0.033492   \n",
       "\n",
       "   upperwhisker  lowerwhisker  GDPperCapita  Social_support  \\\n",
       "0      7.869766      7.747634     10.639267        0.954330   \n",
       "1      7.711245      7.579955     10.774001        0.955991   \n",
       "\n",
       "   HealthyLifeExpectancy  Freedomchoices  Generosity  PerceptionsOfCorruption  \\\n",
       "0              71.900825        0.949172   -0.059482                 0.195445   \n",
       "1              72.402504        0.951444    0.066202                 0.168489   \n",
       "\n",
       "   Ladder score in Dystopia  Explained by: Log GDP per capita  \\\n",
       "0                  1.972317                          1.285190   \n",
       "1                  1.972317                          1.326949   \n",
       "\n",
       "   Explained by: Social support  Explained by: Healthy life expectancy  \\\n",
       "0                      1.499526                               0.961271   \n",
       "1                      1.503449                               0.979333   \n",
       "\n",
       "   Explained by: Freedom to make life choices  Explained by: Generosity  \\\n",
       "0                                    0.662317                  0.159670   \n",
       "1                                    0.665040                  0.242793   \n",
       "\n",
       "   Explained by: Perceptions of corruption  Dystopia + residual  \n",
       "0                                 0.477857             2.762835  \n",
       "1                                 0.495260             2.432741  "
      ]
     },
     "execution_count": 101,
     "metadata": {},
     "output_type": "execute_result"
    }
   ],
   "source": [
    "data20.head(2)"
   ]
  },
  {
   "cell_type": "code",
   "execution_count": 283,
   "metadata": {},
   "outputs": [],
   "source": [
    "def genDataRank(datas,ascendente,top):\n",
    "    val = not(ascendente)\n",
    "    return datas.groupby([\"Country\",\"Region\",\"year\"])[\"Score\"].sum().reset_index().sort_values(\"Score\", ascending= ascendente).head(top).sort_values(\"Score\", ascending= val)\n",
    "def rank_plot(datas,fig1,fig2):\n",
    "    dt_Country = datas.Country\n",
    "    dt_Rank = datas.Score\n",
    "    plt.title(\"Top 10 Paises más Felices\")\n",
    "    plt.barh(dt_Country, dt_Rank)\n",
    "    plt.figure(figsize=(fig1,fig2))\n",
    "    return None\n"
   ]
  },
  {
   "cell_type": "code",
   "execution_count": 284,
   "metadata": {},
   "outputs": [
    {
     "data": {
      "image/png": "[encoded data removed]",
      "text/plain": [
       "<Figure size 432x288 with 1 Axes>"
      ]
     },
     "metadata": {
      "needs_background": "light"
     },
     "output_type": "display_data"
    },
    {
     "data": {
      "text/plain": [
       "<Figure size 720x720 with 0 Axes>"
      ]
     },
     "metadata": {},
     "output_type": "display_data"
    }
   ],
   "source": [
    "rank_plot(genDataRank(data20,False,15),10,10)"
   ]
  },
  {
   "cell_type": "code",
   "execution_count": 239,
   "metadata": {},
   "outputs": [
    {
     "data": {
      "image/png": "[encoded data removed]",
      "text/plain": [
       "<Figure size 432x288 with 1 Axes>"
      ]
     },
     "metadata": {
      "needs_background": "light"
     },
     "output_type": "display_data"
    },
    {
     "data": {
      "text/plain": [
       "<Figure size 720x720 with 0 Axes>"
      ]
     },
     "metadata": {},
     "output_type": "display_data"
    }
   ],
   "source": [
    "rank_plot(genDataRank(data19),10,10)"
   ]
  },
  {
   "cell_type": "code",
   "execution_count": 238,
   "metadata": {},
   "outputs": [
    {
     "data": {
      "image/png": "[encoded data removed]",
      "text/plain": [
       "<Figure size 432x288 with 1 Axes>"
      ]
     },
     "metadata": {
      "needs_background": "light"
     },
     "output_type": "display_data"
    },
    {
     "data": {
      "text/plain": [
       "<Figure size 720x720 with 0 Axes>"
      ]
     },
     "metadata": {},
     "output_type": "display_data"
    }
   ],
   "source": [
    "rank_plot(genDataRank(data18),10,10)"
   ]
  },
  {
   "cell_type": "code",
   "execution_count": 128,
   "metadata": {},
   "outputs": [
    {
     "data": {
      "image/png": "[encoded data removed]",
      "text/plain": [
       "<Figure size 432x288 with 1 Axes>"
      ]
     },
     "metadata": {
      "needs_background": "light"
     },
     "output_type": "display_data"
    },
    {
     "data": {
      "text/plain": [
       "<Figure size 720x720 with 0 Axes>"
      ]
     },
     "metadata": {},
     "output_type": "display_data"
    }
   ],
   "source": [
    "rank_plot(genDataRank(data16),10,10)"
   ]
  },
  {
   "cell_type": "code",
   "execution_count": 129,
   "metadata": {},
   "outputs": [
    {
     "data": {
      "image/png": "[encoded data removed]",
      "text/plain": [
       "<Figure size 432x288 with 1 Axes>"
      ]
     },
     "metadata": {
      "needs_background": "light"
     },
     "output_type": "display_data"
    },
    {
     "data": {
      "text/plain": [
       "<Figure size 720x720 with 0 Axes>"
      ]
     },
     "metadata": {},
     "output_type": "display_data"
    }
   ],
   "source": [
    "rank_plot(genDataRank(data15),10,10)"
   ]
  },
  {
   "cell_type": "code",
   "execution_count": 248,
   "metadata": {},
   "outputs": [
    {
     "data": {
      "text/plain": [
       "<Figure size 1440x2160 with 0 Axes>"
      ]
     },
     "execution_count": 248,
     "metadata": {},
     "output_type": "execute_result"
    },
    {
     "data": {
      "image/png": "[encoded data removed]",
      "text/plain": [
       "<Figure size 432x288 with 1 Axes>"
      ]
     },
     "metadata": {
      "needs_background": "light"
     },
     "output_type": "display_data"
    },
    {
     "data": {
      "text/plain": [
       "<Figure size 1440x2160 with 0 Axes>"
      ]
     },
     "metadata": {},
     "output_type": "display_data"
    }
   ],
   "source": [
    "dt_Country = data20.Country\n",
    "dt_Rank = data20.Score\n",
    "plt.title(\"Todos\")\n",
    "plt.barh(dt_Country, dt_Rank)\n",
    "plt.figure(figsize=(20,30))"
   ]
  },
  {
   "cell_type": "code",
   "execution_count": 137,
   "metadata": {},
   "outputs": [],
   "source": [
    "#import plotly\n",
    "import plotly.express as px\n",
    "import chart_studio\n",
    "import chart_studio.plotly as py\n"
   ]
  },
  {
   "cell_type": "code",
   "execution_count": 140,
   "metadata": {},
   "outputs": [],
   "source": [
    "data15[\"year\"] = '2015'\n",
    "data16[\"year\"] = '2016'\n",
    "data17[\"year\"] = '2017'\n",
    "data18[\"year\"] = '2018'\n",
    "data19[\"year\"] = '2019'\n",
    "data20[\"year\"] = '2020'"
   ]
  },
  {
   "cell_type": "code",
   "execution_count": 227,
   "metadata": {},
   "outputs": [],
   "source": [
    "data_todo = pd.concat((data15[[\"Country\",\"Region\",\"Score\",\"year\",\"Social_support\",\"GDPperCapita\",\"HealthyLifeExpectancy\"]], data16[[\"Country\",\"Region\",\"Score\",\"year\",\"Social_support\",\"GDPperCapita\",\"HealthyLifeExpectancy\"]],data17[[\"Country\",\"Region\",\"Score\",\"year\",\"Social_support\",\"GDPperCapita\",\"HealthyLifeExpectancy\"]],data18[[\"Country\",\"Region\",\"Score\",\"year\",\"Social_support\",\"GDPperCapita\",\"HealthyLifeExpectancy\"]],data19[[\"Country\",\"Region\",\"Score\",\"year\",\"Social_support\",\"GDPperCapita\",\"HealthyLifeExpectancy\"]]), axis=0)"
   ]
  },
  {
   "cell_type": "code",
   "execution_count": 249,
   "metadata": {},
   "outputs": [
    {
     "data": {
      "text/plain": [
       "[<matplotlib.lines.Line2D at 0x1f0edbcc448>]"
      ]
     },
     "execution_count": 249,
     "metadata": {},
     "output_type": "execute_result"
    },
    {
     "data": {
      "image/png": "[encoded data removed]",
      "text/plain": [
       "<Figure size 432x288 with 1 Axes>"
      ]
     },
     "metadata": {
      "needs_background": "light"
     },
     "output_type": "display_data"
    }
   ],
   "source": [
    "mask = data_todo.Country==\"Venezuela\"\n",
    "data_todo[mask][[\"Score\",\"year\"]]\n",
    "plt.plot(data_todo[mask][\"year\"], data_todo[mask][\"Score\"])"
   ]
  },
  {
   "cell_type": "code",
   "execution_count": 257,
   "metadata": {},
   "outputs": [
    {
     "data": {
      "text/plain": [
       "[<matplotlib.lines.Line2D at 0x1f0e9a33908>]"
      ]
     },
     "execution_count": 257,
     "metadata": {},
     "output_type": "execute_result"
    },
    {
     "data": {
      "image/png": "[encoded data removed]",
      "text/plain": [
       "<Figure size 432x288 with 1 Axes>"
      ]
     },
     "metadata": {
      "needs_background": "light"
     },
     "output_type": "display_data"
    }
   ],
   "source": [
    "mask = data_todo.Country==\"Venezuela\"\n",
    "data_todo[mask][[\"Score\",\"year\"]]\n",
    "plt.plot(data_todo[mask][\"year\"], data_todo[mask][\"Score\"])"
   ]
  },
  {
   "cell_type": "code",
   "execution_count": 253,
   "metadata": {},
   "outputs": [
    {
     "data": {
      "text/plain": [
       "[<matplotlib.lines.Line2D at 0x1f0f0183e48>]"
      ]
     },
     "execution_count": 253,
     "metadata": {},
     "output_type": "execute_result"
    },
    {
     "data": {
      "image/png": "[encoded data removed]",
      "text/plain": [
       "<Figure size 432x288 with 1 Axes>"
      ]
     },
     "metadata": {
      "needs_background": "light"
     },
     "output_type": "display_data"
    }
   ],
   "source": [
    "mask = data_todo.Country==\"Denmark\"\n",
    "data_todo[mask][[\"Score\",\"year\"]]\n",
    "plt.plot(data_todo[mask][\"year\"], data_todo[mask][\"Score\"])"
   ]
  },
  {
   "cell_type": "code",
   "execution_count": 230,
   "metadata": {},
   "outputs": [
    {
     "data": {
      "text/html": [
       "<div>\n",
       "<style scoped>\n",
       "    .dataframe tbody tr th:only-of-type {\n",
       "        vertical-align: middle;\n",
       "    }\n",
       "\n",
       "    .dataframe tbody tr th {\n",
       "        vertical-align: top;\n",
       "    }\n",
       "\n",
       "    .dataframe thead th {\n",
       "        text-align: right;\n",
       "    }\n",
       "</style>\n",
       "<table border=\"1\" class=\"dataframe\">\n",
       "  <thead>\n",
       "    <tr style=\"text-align: right;\">\n",
       "      <th></th>\n",
       "      <th>Country</th>\n",
       "      <th>Region</th>\n",
       "      <th>Score</th>\n",
       "      <th>year</th>\n",
       "      <th>Social_support</th>\n",
       "      <th>GDPperCapita</th>\n",
       "      <th>HealthyLifeExpectancy</th>\n",
       "    </tr>\n",
       "  </thead>\n",
       "  <tbody>\n",
       "    <tr>\n",
       "      <th>0</th>\n",
       "      <td>Switzerland</td>\n",
       "      <td>Western Europe</td>\n",
       "      <td>7.587</td>\n",
       "      <td>2015</td>\n",
       "      <td>1.34951</td>\n",
       "      <td>1.39651</td>\n",
       "      <td>0.94143</td>\n",
       "    </tr>\n",
       "    <tr>\n",
       "      <th>1</th>\n",
       "      <td>Iceland</td>\n",
       "      <td>Western Europe</td>\n",
       "      <td>7.561</td>\n",
       "      <td>2015</td>\n",
       "      <td>1.40223</td>\n",
       "      <td>1.30232</td>\n",
       "      <td>0.94784</td>\n",
       "    </tr>\n",
       "    <tr>\n",
       "      <th>2</th>\n",
       "      <td>Denmark</td>\n",
       "      <td>Western Europe</td>\n",
       "      <td>7.527</td>\n",
       "      <td>2015</td>\n",
       "      <td>1.36058</td>\n",
       "      <td>1.32548</td>\n",
       "      <td>0.87464</td>\n",
       "    </tr>\n",
       "    <tr>\n",
       "      <th>3</th>\n",
       "      <td>Norway</td>\n",
       "      <td>Western Europe</td>\n",
       "      <td>7.522</td>\n",
       "      <td>2015</td>\n",
       "      <td>1.33095</td>\n",
       "      <td>1.45900</td>\n",
       "      <td>0.88521</td>\n",
       "    </tr>\n",
       "    <tr>\n",
       "      <th>4</th>\n",
       "      <td>Canada</td>\n",
       "      <td>North America</td>\n",
       "      <td>7.427</td>\n",
       "      <td>2015</td>\n",
       "      <td>1.32261</td>\n",
       "      <td>1.32629</td>\n",
       "      <td>0.90563</td>\n",
       "    </tr>\n",
       "    <tr>\n",
       "      <th>...</th>\n",
       "      <td>...</td>\n",
       "      <td>...</td>\n",
       "      <td>...</td>\n",
       "      <td>...</td>\n",
       "      <td>...</td>\n",
       "      <td>...</td>\n",
       "      <td>...</td>\n",
       "    </tr>\n",
       "    <tr>\n",
       "      <th>151</th>\n",
       "      <td>Venezuela</td>\n",
       "      <td>Latin America and Caribbean</td>\n",
       "      <td>4.707</td>\n",
       "      <td>2019</td>\n",
       "      <td>1.42700</td>\n",
       "      <td>0.96000</td>\n",
       "      <td>0.80500</td>\n",
       "    </tr>\n",
       "    <tr>\n",
       "      <th>152</th>\n",
       "      <td>Vietnam</td>\n",
       "      <td>Southeast Asia</td>\n",
       "      <td>5.175</td>\n",
       "      <td>2019</td>\n",
       "      <td>1.34600</td>\n",
       "      <td>0.74100</td>\n",
       "      <td>0.85100</td>\n",
       "    </tr>\n",
       "    <tr>\n",
       "      <th>153</th>\n",
       "      <td>Yemen</td>\n",
       "      <td>Middle East and North Africa</td>\n",
       "      <td>3.380</td>\n",
       "      <td>2019</td>\n",
       "      <td>1.16300</td>\n",
       "      <td>0.28700</td>\n",
       "      <td>0.46300</td>\n",
       "    </tr>\n",
       "    <tr>\n",
       "      <th>154</th>\n",
       "      <td>Zambia</td>\n",
       "      <td>Sub-Saharan Africa</td>\n",
       "      <td>4.107</td>\n",
       "      <td>2019</td>\n",
       "      <td>1.05800</td>\n",
       "      <td>0.57800</td>\n",
       "      <td>0.42600</td>\n",
       "    </tr>\n",
       "    <tr>\n",
       "      <th>155</th>\n",
       "      <td>Zimbabwe</td>\n",
       "      <td>Sub-Saharan Africa</td>\n",
       "      <td>3.663</td>\n",
       "      <td>2019</td>\n",
       "      <td>1.11400</td>\n",
       "      <td>0.36600</td>\n",
       "      <td>0.43300</td>\n",
       "    </tr>\n",
       "  </tbody>\n",
       "</table>\n",
       "<p>782 rows × 7 columns</p>\n",
       "</div>"
      ],
      "text/plain": [
       "         Country                        Region  Score  year  Social_support  \\\n",
       "0    Switzerland                Western Europe  7.587  2015         1.34951   \n",
       "1        Iceland                Western Europe  7.561  2015         1.40223   \n",
       "2        Denmark                Western Europe  7.527  2015         1.36058   \n",
       "3         Norway                Western Europe  7.522  2015         1.33095   \n",
       "4         Canada                 North America  7.427  2015         1.32261   \n",
       "..           ...                           ...    ...   ...             ...   \n",
       "151    Venezuela   Latin America and Caribbean  4.707  2019         1.42700   \n",
       "152      Vietnam                Southeast Asia  5.175  2019         1.34600   \n",
       "153        Yemen  Middle East and North Africa  3.380  2019         1.16300   \n",
       "154       Zambia            Sub-Saharan Africa  4.107  2019         1.05800   \n",
       "155     Zimbabwe            Sub-Saharan Africa  3.663  2019         1.11400   \n",
       "\n",
       "     GDPperCapita  HealthyLifeExpectancy  \n",
       "0         1.39651                0.94143  \n",
       "1         1.30232                0.94784  \n",
       "2         1.32548                0.87464  \n",
       "3         1.45900                0.88521  \n",
       "4         1.32629                0.90563  \n",
       "..            ...                    ...  \n",
       "151       0.96000                0.80500  \n",
       "152       0.74100                0.85100  \n",
       "153       0.28700                0.46300  \n",
       "154       0.57800                0.42600  \n",
       "155       0.36600                0.43300  \n",
       "\n",
       "[782 rows x 7 columns]"
      ]
     },
     "execution_count": 230,
     "metadata": {},
     "output_type": "execute_result"
    }
   ],
   "source": [
    "data_todo"
   ]
  },
  {
   "cell_type": "code",
   "execution_count": 236,
   "metadata": {},
   "outputs": [
    {
     "data": {
      "application/vnd.plotly.v1+json": {
       "config": {
        "plotlyServerURL": "https://plotly.com"
       },
       "data": [
        {
         "hovertemplate": "<b>%{hovertext}</b><br><br>Region=Western Europe<br>year=2019<br>HealthyLifeExpectancy=%{x}<br>Score=%{y}<extra></extra>",
         "hovertext": [
          "Austria",
          "Belgium",
          "Cyprus",
          "Cyprus",
          "Denmark",
          "Finland",
          "France",
          "Germany",
          "Greece",
          "Iceland",
          "Ireland",
          "Italy",
          "Luxembourg",
          "Malta",
          "Netherlands",
          "Norway",
          "Portugal",
          "Spain",
          "Sweden",
          "Switzerland",
          "United Kingdom"
         ],
         "ids": [
          "Austria",
          "Belgium",
          "Cyprus",
          "Cyprus",
          "Denmark",
          "Finland",
          "France",
          "Germany",
          "Greece",
          "Iceland",
          "Ireland",
          "Italy",
          "Luxembourg",
          "Malta",
          "Netherlands",
          "Norway",
          "Portugal",
          "Spain",
          "Sweden",
          "Switzerland",
          "United Kingdom"
         ],
         "legendgroup": "Western Europe",
         "marker": {
          "color": "#636efa",
          "symbol": "circle"
         },
         "mode": "markers",
         "name": "Western Europe",
         "showlegend": true,
         "type": "scatter",
         "x": [
          1.016,
          0.986,
          1.042,
          1.042,
          0.996,
          0.986,
          1.045,
          0.987,
          0.9990000000000001,
          1.026,
          0.9990000000000001,
          1.0390000000000001,
          1.012,
          0.9990000000000001,
          0.9990000000000001,
          1.028,
          0.9990000000000001,
          1.062,
          1.0090000000000001,
          1.052,
          0.996
         ],
         "xaxis": "x",
         "y": [
          7.246,
          6.922999999999999,
          6.046,
          5.718,
          7.6,
          7.769,
          6.5920000000000005,
          6.985,
          5.287000000000001,
          7.494,
          7.021,
          6.223,
          7.09,
          6.726,
          7.4879999999999995,
          7.553999999999999,
          5.693,
          6.354,
          7.343,
          7.48,
          7.053999999999999
         ],
         "yaxis": "y"
        },
        {
         "hovertemplate": "<b>%{hovertext}</b><br><br>Region=Latin America and Caribbean<br>year=2019<br>HealthyLifeExpectancy=%{x}<br>Score=%{y}<extra></extra>",
         "hovertext": [
          "Argentina",
          "Bolivia",
          "Brazil",
          "Chile",
          "Colombia",
          "Costa Rica",
          "Dominican Republic",
          "Ecuador",
          "El Salvador",
          "Guatemala",
          "Haiti",
          "Honduras",
          "Jamaica",
          "Mexico",
          "Nicaragua",
          "Panama",
          "Paraguay",
          "Peru",
          "Trinidad and Tobago",
          "Uruguay",
          "Venezuela"
         ],
         "ids": [
          "Argentina",
          "Bolivia",
          "Brazil",
          "Chile",
          "Colombia",
          "Costa Rica",
          "Dominican Republic",
          "Ecuador",
          "El Salvador",
          "Guatemala",
          "Haiti",
          "Honduras",
          "Jamaica",
          "Mexico",
          "Nicaragua",
          "Panama",
          "Paraguay",
          "Peru",
          "Trinidad and Tobago",
          "Uruguay",
          "Venezuela"
         ],
         "legendgroup": "Latin America and Caribbean",
         "marker": {
          "color": "#FFA15A",
          "symbol": "circle"
         },
         "mode": "markers",
         "name": "Latin America and Caribbean",
         "showlegend": true,
         "type": "scatter",
         "visible": "legendonly",
         "x": [
          0.8809999999999999,
          0.706,
          0.802,
          0.92,
          0.841,
          0.963,
          0.779,
          0.868,
          0.789,
          0.746,
          0.449,
          0.828,
          0.831,
          0.861,
          0.835,
          0.91,
          0.777,
          0.8540000000000001,
          0.713,
          0.8909999999999999,
          0.805
         ],
         "xaxis": "x",
         "y": [
          6.086,
          5.779,
          6.3,
          6.444,
          6.125,
          7.167000000000001,
          5.425,
          6.028,
          6.252999999999999,
          6.436,
          3.597,
          5.86,
          5.89,
          6.595,
          6.105,
          6.321000000000001,
          5.742999999999999,
          5.697,
          6.192,
          6.292999999999999,
          4.707
         ],
         "yaxis": "y"
        },
        {
         "hovertemplate": "<b>%{hovertext}</b><br><br>Region=Central and Eastern Europe<br>year=2019<br>HealthyLifeExpectancy=%{x}<br>Score=%{y}<extra></extra>",
         "hovertext": [
          "Albania",
          "Bosnia and Herzegovina",
          "Bulgaria",
          "Croatia",
          "Czech Republic",
          "Estonia",
          "Hungary",
          "Kosovo",
          "Latvia",
          "Lithuania",
          "Macedonia",
          "Montenegro",
          "Poland",
          "Romania",
          "Serbia",
          "Slovakia",
          "Slovenia"
         ],
         "ids": [
          "Albania",
          "Bosnia and Herzegovina",
          "Bulgaria",
          "Croatia",
          "Czech Republic",
          "Estonia",
          "Hungary",
          "Kosovo",
          "Latvia",
          "Lithuania",
          "Macedonia",
          "Montenegro",
          "Poland",
          "Romania",
          "Serbia",
          "Slovakia",
          "Slovenia"
         ],
         "legendgroup": "Central and Eastern Europe",
         "marker": {
          "color": "#FF6692",
          "symbol": "circle"
         },
         "mode": "markers",
         "name": "Central and Eastern Europe",
         "showlegend": true,
         "type": "scatter",
         "x": [
          0.8740000000000001,
          0.845,
          0.815,
          0.914,
          0.92,
          0.8740000000000001,
          0.828,
          0.758,
          0.812,
          0.818,
          0.838,
          0.871,
          0.884,
          0.825,
          0.8540000000000001,
          0.8809999999999999,
          0.953
         ],
         "xaxis": "x",
         "y": [
          4.718999999999999,
          5.386,
          5.011,
          5.432,
          6.852,
          5.893,
          5.757999999999999,
          6.1,
          5.94,
          6.149,
          5.274,
          5.523,
          6.182,
          6.07,
          5.603,
          6.1979999999999995,
          6.117999999999999
         ],
         "yaxis": "y"
        },
        {
         "hovertemplate": "<b>%{hovertext}</b><br><br>Region=Sub-Saharan Africa<br>year=2019<br>HealthyLifeExpectancy=%{x}<br>Score=%{y}<extra></extra>",
         "hovertext": [
          "Benin",
          "Botswana",
          "Burkina Faso",
          "Burundi",
          "Cameroon",
          "Central African Republic",
          "Chad",
          "Comoros",
          "Congo (Brazzaville)",
          "Congo (Kinshasa)",
          "Ethiopia",
          "Gabon",
          "Gambia",
          "Ghana",
          "Guinea",
          "Ivory Coast",
          "Kenya",
          "Lesotho",
          "Liberia",
          "Madagascar",
          "Malawi",
          "Mali",
          "Mauritania",
          "Mauritius",
          "Mozambique",
          "Namibia",
          "Niger",
          "Nigeria",
          "Rwanda",
          "Senegal",
          "Sierra Leone",
          "Somalia",
          "South Africa",
          "South Sudan",
          "Swaziland",
          "Tanzania",
          "Togo",
          "Uganda",
          "Zambia",
          "Zimbabwe"
         ],
         "ids": [
          "Benin",
          "Botswana",
          "Burkina Faso",
          "Burundi",
          "Cameroon",
          "Central African Republic",
          "Chad",
          "Comoros",
          "Congo (Brazzaville)",
          "Congo (Kinshasa)",
          "Ethiopia",
          "Gabon",
          "Gambia",
          "Ghana",
          "Guinea",
          "Ivory Coast",
          "Kenya",
          "Lesotho",
          "Liberia",
          "Madagascar",
          "Malawi",
          "Mali",
          "Mauritania",
          "Mauritius",
          "Mozambique",
          "Namibia",
          "Niger",
          "Nigeria",
          "Rwanda",
          "Senegal",
          "Sierra Leone",
          "Somalia",
          "South Africa",
          "South Sudan",
          "Swaziland",
          "Tanzania",
          "Togo",
          "Uganda",
          "Zambia",
          "Zimbabwe"
         ],
         "legendgroup": "Sub-Saharan Africa",
         "marker": {
          "color": "#FF97FF",
          "symbol": "circle"
         },
         "mode": "markers",
         "name": "Sub-Saharan Africa",
         "showlegend": true,
         "type": "scatter",
         "x": [
          0.397,
          0.5379999999999999,
          0.38,
          0.38,
          0.331,
          0.105,
          0.192,
          0.505,
          0.508,
          0.35700000000000004,
          0.532,
          0.5710000000000001,
          0.428,
          0.486,
          0.375,
          0.23199999999999998,
          0.581,
          0.168,
          0.44299999999999995,
          0.555,
          0.495,
          0.308,
          0.489,
          0.7979999999999999,
          0.39,
          0.47700000000000004,
          0.366,
          0.245,
          0.614,
          0.5710000000000001,
          0.242,
          0.268,
          0.469,
          0.295,
          0,
          0.499,
          0.41,
          0.44299999999999995,
          0.426,
          0.433
         ],
         "xaxis": "x",
         "y": [
          4.883,
          3.488,
          4.587,
          3.775,
          5.044,
          3.083,
          4.35,
          3.9730000000000003,
          4.812,
          4.418,
          4.2860000000000005,
          4.7989999999999995,
          4.516,
          4.996,
          4.534,
          4.944,
          4.5089999999999995,
          3.802,
          3.975,
          3.9330000000000003,
          3.41,
          4.39,
          4.49,
          5.888,
          4.466,
          4.638999999999999,
          4.628,
          5.265,
          3.3339999999999996,
          4.681,
          4.374,
          4.668,
          4.7219999999999995,
          2.853,
          4.212,
          3.2310000000000003,
          4.085,
          4.189,
          4.107,
          3.6630000000000003
         ],
         "yaxis": "y"
        },
        {
         "hovertemplate": "<b>%{hovertext}</b><br><br>Region=North America and ANZ<br>year=2019<br>HealthyLifeExpectancy=%{x}<br>Score=%{y}<extra></extra>",
         "hovertext": [
          "Australia",
          "Canada",
          "New Zealand",
          "United States"
         ],
         "ids": [
          "Australia",
          "Canada",
          "New Zealand",
          "United States"
         ],
         "legendgroup": "North America and ANZ",
         "marker": {
          "color": "#636efa",
          "symbol": "circle"
         },
         "mode": "markers",
         "name": "North America and ANZ",
         "showlegend": true,
         "type": "scatter",
         "x": [
          1.036,
          1.0390000000000001,
          1.026,
          0.8740000000000001
         ],
         "xaxis": "x",
         "y": [
          7.228,
          7.278,
          7.307,
          6.892
         ],
         "yaxis": "y"
        },
        {
         "hovertemplate": "<b>%{hovertext}</b><br><br>Region=Middle East and North Africa<br>year=2019<br>HealthyLifeExpectancy=%{x}<br>Score=%{y}<extra></extra>",
         "hovertext": [
          "Algeria",
          "Bahrain",
          "Egypt",
          "Iran",
          "Iraq",
          "Israel",
          "Jordan",
          "Kuwait",
          "Lebanon",
          "Libya",
          "Morocco",
          "Palestinian Territories",
          "Qatar",
          "Saudi Arabia",
          "Syria",
          "Tunisia",
          "Turkey",
          "United Arab Emirates",
          "Yemen"
         ],
         "ids": [
          "Algeria",
          "Bahrain",
          "Egypt",
          "Iran",
          "Iraq",
          "Israel",
          "Jordan",
          "Kuwait",
          "Lebanon",
          "Libya",
          "Morocco",
          "Palestinian Territories",
          "Qatar",
          "Saudi Arabia",
          "Syria",
          "Tunisia",
          "Turkey",
          "United Arab Emirates",
          "Yemen"
         ],
         "legendgroup": "Middle East and North Africa",
         "marker": {
          "color": "#EF553B",
          "symbol": "circle"
         },
         "mode": "markers",
         "name": "Middle East and North Africa",
         "showlegend": true,
         "type": "scatter",
         "x": [
          0.785,
          0.871,
          0.644,
          0.785,
          0.574,
          1.0290000000000001,
          0.815,
          0.8079999999999999,
          0.815,
          0.6729999999999999,
          0.782,
          0.672,
          0.871,
          0.795,
          0.44,
          0.815,
          0.8079999999999999,
          0.825,
          0.46299999999999997
         ],
         "xaxis": "x",
         "y": [
          5.211,
          6.199,
          4.166,
          4.548,
          4.437,
          7.138999999999999,
          4.906000000000001,
          6.021,
          5.197,
          5.525,
          5.207999999999999,
          4.696000000000001,
          6.374,
          6.375,
          3.4619999999999997,
          4.461,
          5.372999999999999,
          6.825,
          3.38
         ],
         "yaxis": "y"
        },
        {
         "hovertemplate": "<b>%{hovertext}</b><br><br>Region=Southeast Asia<br>year=2019<br>HealthyLifeExpectancy=%{x}<br>Score=%{y}<extra></extra>",
         "hovertext": [
          "Cambodia",
          "Indonesia",
          "Laos",
          "Malaysia",
          "Myanmar",
          "Philippines",
          "Singapore",
          "Thailand",
          "Vietnam"
         ],
         "ids": [
          "Cambodia",
          "Indonesia",
          "Laos",
          "Malaysia",
          "Myanmar",
          "Philippines",
          "Singapore",
          "Thailand",
          "Vietnam"
         ],
         "legendgroup": "Southeast Asia",
         "marker": {
          "color": "#00cc96",
          "symbol": "circle"
         },
         "mode": "markers",
         "name": "Southeast Asia",
         "showlegend": true,
         "type": "scatter",
         "x": [
          0.637,
          0.66,
          0.551,
          0.828,
          0.555,
          0.657,
          1.141,
          0.828,
          0.851
         ],
         "xaxis": "x",
         "y": [
          4.7,
          5.192,
          4.796,
          5.3389999999999995,
          4.36,
          5.631,
          6.2620000000000005,
          6.007999999999999,
          5.175
         ],
         "yaxis": "y"
        },
        {
         "hovertemplate": "<b>%{hovertext}</b><br><br>Region=East Asia<br>year=2019<br>HealthyLifeExpectancy=%{x}<br>Score=%{y}<extra></extra>",
         "hovertext": [
          "China",
          "Hong Kong S.A.R. of China",
          "Japan",
          "Mongolia",
          "South Korea",
          "Taiwan"
         ],
         "ids": [
          "China",
          "Hong Kong S.A.R. of China",
          "Japan",
          "Mongolia",
          "South Korea",
          "Taiwan"
         ],
         "legendgroup": "East Asia",
         "marker": {
          "color": "#ab63fa",
          "symbol": "circle"
         },
         "mode": "markers",
         "name": "East Asia",
         "showlegend": true,
         "type": "scatter",
         "x": [
          0.893,
          1.122,
          1.088,
          0.667,
          1.036,
          0.914
         ],
         "xaxis": "x",
         "y": [
          5.191,
          5.43,
          5.886,
          5.285,
          5.895,
          6.446000000000001
         ],
         "yaxis": "y"
        },
        {
         "hovertemplate": "<b>%{hovertext}</b><br><br>Region=Commonwealth of Independent States<br>year=2019<br>HealthyLifeExpectancy=%{x}<br>Score=%{y}<extra></extra>",
         "hovertext": [
          "Armenia",
          "Azerbaijan",
          "Belarus",
          "Georgia",
          "Kazakhstan",
          "Kyrgyzstan",
          "Moldova",
          "Russia",
          "Tajikistan",
          "Turkmenistan",
          "Ukraine",
          "Uzbekistan"
         ],
         "ids": [
          "Armenia",
          "Azerbaijan",
          "Belarus",
          "Georgia",
          "Kazakhstan",
          "Kyrgyzstan",
          "Moldova",
          "Russia",
          "Tajikistan",
          "Turkmenistan",
          "Ukraine",
          "Uzbekistan"
         ],
         "legendgroup": "Commonwealth of Independent States",
         "marker": {
          "color": "#FFA15A",
          "symbol": "circle"
         },
         "mode": "markers",
         "name": "Commonwealth of Independent States",
         "showlegend": true,
         "type": "scatter",
         "x": [
          0.815,
          0.769,
          0.789,
          0.752,
          0.7290000000000001,
          0.723,
          0.7390000000000001,
          0.726,
          0.718,
          0.657,
          0.7390000000000001,
          0.7559999999999999
         ],
         "xaxis": "x",
         "y": [
          4.559,
          5.207999999999999,
          5.3229999999999995,
          4.519,
          5.809,
          5.261,
          5.529,
          5.648,
          5.4670000000000005,
          5.247000000000001,
          4.332,
          6.1739999999999995
         ],
         "yaxis": "y"
        },
        {
         "hovertemplate": "<b>%{hovertext}</b><br><br>Region=South Asia<br>year=2019<br>HealthyLifeExpectancy=%{x}<br>Score=%{y}<extra></extra>",
         "hovertext": [
          "Afghanistan",
          "Bangladesh",
          "Bhutan",
          "India",
          "Nepal",
          "Pakistan",
          "Sri Lanka"
         ],
         "ids": [
          "Afghanistan",
          "Bangladesh",
          "Bhutan",
          "India",
          "Nepal",
          "Pakistan",
          "Sri Lanka"
         ],
         "legendgroup": "South Asia",
         "marker": {
          "color": "#19d3f3",
          "symbol": "circle"
         },
         "mode": "markers",
         "name": "South Asia",
         "showlegend": true,
         "type": "scatter",
         "x": [
          0.361,
          0.723,
          0.604,
          0.588,
          0.677,
          0.535,
          0.831
         ],
         "xaxis": "x",
         "y": [
          3.2030000000000003,
          4.456,
          5.082,
          4.015,
          4.913,
          5.653,
          4.3660000000000005
         ],
         "yaxis": "y"
        }
       ],
       "frames": [
        {
         "data": [
          {
           "hovertemplate": "<b>%{hovertext}</b><br><br>Region=Western Europe<br>year=2015<br>HealthyLifeExpectancy=%{x}<br>Score=%{y}<extra></extra>",
           "hovertext": [
            "Switzerland",
            "Iceland",
            "Denmark",
            "Norway",
            "Finland",
            "Netherlands",
            "Sweden",
            "Austria",
            "Luxembourg",
            "Ireland",
            "Belgium",
            "United Kingdom",
            "Germany",
            "France",
            "Spain",
            "Malta",
            "Italy",
            "North Cyprus",
            "Cyprus",
            "Portugal",
            "Greece"
           ],
           "ids": [
            "Switzerland",
            "Iceland",
            "Denmark",
            "Norway",
            "Finland",
            "Netherlands",
            "Sweden",
            "Austria",
            "Luxembourg",
            "Ireland",
            "Belgium",
            "United Kingdom",
            "Germany",
            "France",
            "Spain",
            "Malta",
            "Italy",
            "North Cyprus",
            "Cyprus",
            "Portugal",
            "Greece"
           ],
           "legendgroup": "Western Europe",
           "marker": {
            "color": "#636efa",
            "symbol": "circle"
           },
           "mode": "markers",
           "name": "Western Europe",
           "showlegend": true,
           "type": "scatter",
           "x": [
            0.9414299999999999,
            0.94784,
            0.87464,
            0.88521,
            0.8891100000000001,
            0.89284,
            0.9108700000000001,
            0.8904200000000001,
            0.91894,
            0.89533,
            0.8966700000000001,
            0.90943,
            0.89186,
            0.9457899999999999,
            0.95562,
            0.88721,
            0.9544600000000001,
            0.92356,
            0.92356,
            0.8751899999999999,
            0.88213
           ],
           "xaxis": "x",
           "y": [
            7.587000000000001,
            7.561,
            7.527,
            7.522,
            7.406000000000001,
            7.377999999999999,
            7.364,
            7.2,
            6.946000000000001,
            6.94,
            6.937,
            6.867000000000001,
            6.75,
            6.575,
            6.329,
            6.3020000000000005,
            5.9479999999999995,
            5.695,
            5.689,
            5.102,
            4.857
           ],
           "yaxis": "y"
          },
          {
           "hovertemplate": "<b>%{hovertext}</b><br><br>Region=North America<br>year=2015<br>HealthyLifeExpectancy=%{x}<br>Score=%{y}<extra></extra>",
           "hovertext": [
            "Canada",
            "United States"
           ],
           "ids": [
            "Canada",
            "United States"
           ],
           "legendgroup": "North America",
           "marker": {
            "color": "#EF553B",
            "symbol": "circle"
           },
           "mode": "markers",
           "name": "North America",
           "showlegend": true,
           "type": "scatter",
           "x": [
            0.9056299999999999,
            0.86179
           ],
           "xaxis": "x",
           "y": [
            7.4270000000000005,
            7.119
           ],
           "yaxis": "y"
          },
          {
           "hovertemplate": "<b>%{hovertext}</b><br><br>Region=Australia and New Zealand<br>year=2015<br>HealthyLifeExpectancy=%{x}<br>Score=%{y}<extra></extra>",
           "hovertext": [
            "New Zealand",
            "Australia"
           ],
           "ids": [
            "New Zealand",
            "Australia"
           ],
           "legendgroup": "Australia and New Zealand",
           "marker": {
            "color": "#00cc96",
            "symbol": "circle"
           },
           "mode": "markers",
           "name": "Australia and New Zealand",
           "showlegend": true,
           "type": "scatter",
           "x": [
            0.9083700000000001,
            0.93156
           ],
           "xaxis": "x",
           "y": [
            7.2860000000000005,
            7.284
           ],
           "yaxis": "y"
          },
          {
           "hovertemplate": "<b>%{hovertext}</b><br><br>Region=Middle East and Northern Africa<br>year=2015<br>HealthyLifeExpectancy=%{x}<br>Score=%{y}<extra></extra>",
           "hovertext": [
            "Israel",
            "United Arab Emirates",
            "Oman",
            "Qatar",
            "Saudi Arabia",
            "Kuwait",
            "Bahrain",
            "Libya",
            "Algeria",
            "Turkey",
            "Jordan",
            "Morocco",
            "Lebanon",
            "Tunisia",
            "Palestinian Territories",
            "Iran",
            "Iraq",
            "Egypt",
            "Yemen",
            "Syria"
           ],
           "ids": [
            "Israel",
            "United Arab Emirates",
            "Oman",
            "Qatar",
            "Saudi Arabia",
            "Kuwait",
            "Bahrain",
            "Libya",
            "Algeria",
            "Turkey",
            "Jordan",
            "Morocco",
            "Lebanon",
            "Tunisia",
            "Palestinian Territories",
            "Iran",
            "Iraq",
            "Egypt",
            "Yemen",
            "Syria"
           ],
           "legendgroup": "Middle East and Northern Africa",
           "marker": {
            "color": "#ab63fa",
            "symbol": "circle"
           },
           "mode": "markers",
           "name": "Middle East and Northern Africa",
           "showlegend": true,
           "type": "scatter",
           "x": [
            0.9138700000000001,
            0.80925,
            0.76276,
            0.79733,
            0.72025,
            0.72492,
            0.74716,
            0.7038,
            0.61766,
            0.73172,
            0.69639,
            0.60954,
            0.83947,
            0.73793,
            0.66015,
            0.69805,
            0.60237,
            0.61712,
            0.40064,
            0.7219300000000001
           ],
           "xaxis": "x",
           "y": [
            7.278,
            6.901,
            6.853,
            6.611000000000001,
            6.4110000000000005,
            6.295,
            5.96,
            5.754,
            5.605,
            5.332000000000001,
            5.192,
            5.013,
            4.8389999999999995,
            4.739,
            4.715,
            4.686,
            4.677,
            4.194,
            4.077,
            3.0060000000000002
           ],
           "yaxis": "y"
          },
          {
           "hovertemplate": "<b>%{hovertext}</b><br><br>Region=Latin America and Caribbean<br>year=2015<br>HealthyLifeExpectancy=%{x}<br>Score=%{y}<extra></extra>",
           "hovertext": [
            "Costa Rica",
            "Mexico",
            "Brazil",
            "Venezuela",
            "Panama",
            "Chile",
            "Argentina",
            "Uruguay",
            "Colombia",
            "Suriname",
            "Trinidad and Tobago",
            "El Salvador",
            "Guatemala",
            "Ecuador",
            "Bolivia",
            "Paraguay",
            "Nicaragua",
            "Peru",
            "Jamaica",
            "Dominican Republic",
            "Honduras",
            "Haiti"
           ],
           "ids": [
            "Costa Rica",
            "Mexico",
            "Brazil",
            "Venezuela",
            "Panama",
            "Chile",
            "Argentina",
            "Uruguay",
            "Colombia",
            "Suriname",
            "Trinidad and Tobago",
            "El Salvador",
            "Guatemala",
            "Ecuador",
            "Bolivia",
            "Paraguay",
            "Nicaragua",
            "Peru",
            "Jamaica",
            "Dominican Republic",
            "Honduras",
            "Haiti"
           ],
           "legendgroup": "Latin America and Caribbean",
           "marker": {
            "color": "#FFA15A",
            "symbol": "circle"
           },
           "mode": "markers",
           "name": "Latin America and Caribbean",
           "showlegend": true,
           "type": "scatter",
           "x": [
            0.8602700000000001,
            0.8144399999999999,
            0.69702,
            0.7205199999999999,
            0.79661,
            0.85857,
            0.78723,
            0.8116,
            0.69077,
            0.6082,
            0.61483,
            0.67737,
            0.64425,
            0.79075,
            0.5392,
            0.66098,
            0.7431399999999999,
            0.73017,
            0.6874100000000001,
            0.66825,
            0.6951,
            0.38847
           ],
           "xaxis": "x",
           "y": [
            7.226,
            7.187,
            6.983,
            6.81,
            6.7860000000000005,
            6.67,
            6.574,
            6.485,
            6.477,
            6.269,
            6.167999999999999,
            6.13,
            6.122999999999999,
            5.975,
            5.89,
            5.877999999999999,
            5.827999999999999,
            5.824,
            5.709,
            4.885,
            4.788,
            4.518
           ],
           "yaxis": "y"
          },
          {
           "hovertemplate": "<b>%{hovertext}</b><br><br>Region=Southeastern Asia<br>year=2015<br>HealthyLifeExpectancy=%{x}<br>Score=%{y}<extra></extra>",
           "hovertext": [
            "Singapore",
            "Thailand",
            "Malaysia",
            "Indonesia",
            "Vietnam",
            "Philippines",
            "Laos",
            "Myanmar",
            "Cambodia"
           ],
           "ids": [
            "Singapore",
            "Thailand",
            "Malaysia",
            "Indonesia",
            "Vietnam",
            "Philippines",
            "Laos",
            "Myanmar",
            "Cambodia"
           ],
           "legendgroup": "Southeastern Asia",
           "marker": {
            "color": "#19d3f3",
            "symbol": "circle"
           },
           "mode": "markers",
           "name": "Southeastern Asia",
           "showlegend": true,
           "type": "scatter",
           "x": [
            1.02525,
            0.7385,
            0.7239399999999999,
            0.63793,
            0.7467600000000001,
            0.58114,
            0.54909,
            0.48246000000000006,
            0.61114
           ],
           "xaxis": "x",
           "y": [
            6.797999999999999,
            6.455,
            5.77,
            5.399,
            5.36,
            5.073,
            4.876,
            4.3069999999999995,
            3.819
           ],
           "yaxis": "y"
          },
          {
           "hovertemplate": "<b>%{hovertext}</b><br><br>Region=Central and Eastern Europe<br>year=2015<br>HealthyLifeExpectancy=%{x}<br>Score=%{y}<extra></extra>",
           "hovertext": [
            "Czech Republic",
            "Uzbekistan",
            "Slovakia",
            "Moldova",
            "Kazakhstan",
            "Slovenia",
            "Lithuania",
            "Belarus",
            "Poland",
            "Croatia",
            "Russia",
            "Kosovo",
            "Turkmenistan",
            "Estonia",
            "Kyrgyzstan",
            "Azerbaijan",
            "Montenegro",
            "Romania",
            "Serbia",
            "Latvia",
            "Macedonia",
            "Albania",
            "Bosnia and Herzegovina",
            "Hungary",
            "Tajikistan",
            "Ukraine",
            "Armenia",
            "Georgia",
            "Bulgaria"
           ],
           "ids": [
            "Czech Republic",
            "Uzbekistan",
            "Slovakia",
            "Moldova",
            "Kazakhstan",
            "Slovenia",
            "Lithuania",
            "Belarus",
            "Poland",
            "Croatia",
            "Russia",
            "Kosovo",
            "Turkmenistan",
            "Estonia",
            "Kyrgyzstan",
            "Azerbaijan",
            "Montenegro",
            "Romania",
            "Serbia",
            "Latvia",
            "Macedonia",
            "Albania",
            "Bosnia and Herzegovina",
            "Hungary",
            "Tajikistan",
            "Ukraine",
            "Armenia",
            "Georgia",
            "Bulgaria"
           ],
           "legendgroup": "Central and Eastern Europe",
           "marker": {
            "color": "#FF6692",
            "symbol": "circle"
           },
           "mode": "markers",
           "name": "Central and Eastern Europe",
           "showlegend": true,
           "type": "scatter",
           "x": [
            0.84483,
            0.59772,
            0.7890199999999999,
            0.61826,
            0.64368,
            0.8733700000000001,
            0.73128,
            0.7360800000000001,
            0.77903,
            0.78805,
            0.6692600000000001,
            0.63132,
            0.53886,
            0.77361,
            0.65088,
            0.64045,
            0.72521,
            0.7689,
            0.74836,
            0.72437,
            0.73545,
            0.81325,
            0.79081,
            0.75905,
            0.5737899999999999,
            0.6739,
            0.7299,
            0.72926,
            0.76649
           ],
           "xaxis": "x",
           "y": [
            6.505,
            6.002999999999999,
            5.995,
            5.888999999999999,
            5.855,
            5.848,
            5.832999999999999,
            5.813,
            5.791,
            5.7589999999999995,
            5.716,
            5.5889999999999995,
            5.547999999999999,
            5.428999999999999,
            5.2860000000000005,
            5.212000000000001,
            5.192,
            5.124,
            5.122999999999999,
            5.098,
            5.007,
            4.959,
            4.949,
            4.8,
            4.7860000000000005,
            4.681,
            4.35,
            4.297,
            4.218
           ],
           "yaxis": "y"
          },
          {
           "hovertemplate": "<b>%{hovertext}</b><br><br>Region=Eastern Asia<br>year=2015<br>HealthyLifeExpectancy=%{x}<br>Score=%{y}<extra></extra>",
           "hovertext": [
            "Taiwan",
            "Japan",
            "South Korea",
            "Hong Kong",
            "China",
            "Mongolia"
           ],
           "ids": [
            "Taiwan",
            "Japan",
            "South Korea",
            "Hong Kong",
            "China",
            "Mongolia"
           ],
           "legendgroup": "Eastern Asia",
           "marker": {
            "color": "#B6E880",
            "symbol": "circle"
           },
           "mode": "markers",
           "name": "Eastern Asia",
           "showlegend": true,
           "type": "scatter",
           "x": [
            0.8753,
            0.99111,
            0.9653799999999999,
            1.01328,
            0.81658,
            0.60268
           ],
           "xaxis": "x",
           "y": [
            6.297999999999999,
            5.987,
            5.984,
            5.474,
            5.14,
            4.874
           ],
           "yaxis": "y"
          },
          {
           "hovertemplate": "<b>%{hovertext}</b><br><br>Region=Sub-Saharan Africa<br>year=2015<br>HealthyLifeExpectancy=%{x}<br>Score=%{y}<extra></extra>",
           "hovertext": [
            "Mauritius",
            "Nigeria",
            "Zambia",
            "Somaliland region",
            "Mozambique",
            "Lesotho",
            "Swaziland",
            "South Africa",
            "Ghana",
            "Zimbabwe",
            "Liberia",
            "Sudan",
            "Congo (Kinshasa)",
            "Ethiopia",
            "Sierra Leone",
            "Mauritania",
            "Kenya",
            "Djibouti",
            "Botswana",
            "Malawi",
            "Cameroon",
            "Angola",
            "Mali",
            "Congo (Brazzaville)",
            "Comoros",
            "Uganda",
            "Senegal",
            "Gabon",
            "Niger",
            "Tanzania",
            "Madagascar",
            "Central African Republic",
            "Chad",
            "Guinea",
            "Ivory Coast",
            "Burkina Faso",
            "Rwanda",
            "Benin",
            "Burundi",
            "Togo"
           ],
           "ids": [
            "Mauritius",
            "Nigeria",
            "Zambia",
            "Somaliland region",
            "Mozambique",
            "Lesotho",
            "Swaziland",
            "South Africa",
            "Ghana",
            "Zimbabwe",
            "Liberia",
            "Sudan",
            "Congo (Kinshasa)",
            "Ethiopia",
            "Sierra Leone",
            "Mauritania",
            "Kenya",
            "Djibouti",
            "Botswana",
            "Malawi",
            "Cameroon",
            "Angola",
            "Mali",
            "Congo (Brazzaville)",
            "Comoros",
            "Uganda",
            "Senegal",
            "Gabon",
            "Niger",
            "Tanzania",
            "Madagascar",
            "Central African Republic",
            "Chad",
            "Guinea",
            "Ivory Coast",
            "Burkina Faso",
            "Rwanda",
            "Benin",
            "Burundi",
            "Togo"
           ],
           "legendgroup": "Sub-Saharan Africa",
           "marker": {
            "color": "#FF97FF",
            "symbol": "circle"
           },
           "mode": "markers",
           "name": "Sub-Saharan Africa",
           "showlegend": true,
           "type": "scatter",
           "x": [
            0.7095,
            0.16007000000000002,
            0.29924,
            0.43873,
            0.09131,
            0.07612000000000001,
            0.07566,
            0.27688,
            0.40131999999999995,
            0.33475,
            0.34201,
            0.36878,
            0.09806000000000001,
            0.44055,
            0,
            0.35874,
            0.41435,
            0.36291,
            0.047760000000000004,
            0.22562,
            0.23401999999999998,
            0.16683,
            0.20583,
            0.31051,
            0.36315,
            0.33860999999999997,
            0.4354,
            0.43372,
            0.29707,
            0.38215,
            0.46721,
            0.06699,
            0.1501,
            0.24009,
            0.15185,
            0.27125,
            0.42863999999999997,
            0.3191,
            0.22396,
            0.28443
           ],
           "xaxis": "x",
           "y": [
            5.477,
            5.268,
            5.129,
            5.0569999999999995,
            4.971,
            4.898,
            4.867,
            4.6419999999999995,
            4.633,
            4.61,
            4.571000000000001,
            4.55,
            4.5169999999999995,
            4.512,
            4.507,
            4.436,
            4.419,
            4.369,
            4.332,
            4.292,
            4.252,
            4.033,
            3.995,
            3.989,
            3.9560000000000004,
            3.931,
            3.904,
            3.8960000000000004,
            3.845,
            3.781,
            3.681,
            3.678,
            3.667,
            3.656,
            3.655,
            3.5869999999999997,
            3.465,
            3.34,
            2.905,
            2.839
           ],
           "yaxis": "y"
          },
          {
           "hovertemplate": "<b>%{hovertext}</b><br><br>Region=Southern Asia<br>year=2015<br>HealthyLifeExpectancy=%{x}<br>Score=%{y}<extra></extra>",
           "hovertext": [
            "Bhutan",
            "Pakistan",
            "Bangladesh",
            "India",
            "Nepal",
            "Sri Lanka",
            "Afghanistan"
           ],
           "ids": [
            "Bhutan",
            "Pakistan",
            "Bangladesh",
            "India",
            "Nepal",
            "Sri Lanka",
            "Afghanistan"
           ],
           "legendgroup": "Southern Asia",
           "marker": {
            "color": "#FECB52",
            "symbol": "circle"
           },
           "mode": "markers",
           "name": "Southern Asia",
           "showlegend": true,
           "type": "scatter",
           "x": [
            0.57407,
            0.51466,
            0.60164,
            0.5152899999999999,
            0.5687399999999999,
            0.70806,
            0.30335
           ],
           "xaxis": "x",
           "y": [
            5.252999999999999,
            5.194,
            4.694,
            4.565,
            4.513999999999999,
            4.271,
            3.575
           ],
           "yaxis": "y"
          }
         ],
         "name": "2015"
        },
        {
         "data": [
          {
           "hovertemplate": "<b>%{hovertext}</b><br><br>Region=Western Europe<br>year=2016<br>HealthyLifeExpectancy=%{x}<br>Score=%{y}<extra></extra>",
           "hovertext": [
            "Denmark",
            "Switzerland",
            "Iceland",
            "Norway",
            "Finland",
            "Netherlands",
            "Sweden",
            "Austria",
            "Germany",
            "Belgium",
            "Ireland",
            "Luxembourg",
            "United Kingdom",
            "Malta",
            "France",
            "Spain",
            "Italy",
            "North Cyprus",
            "Cyprus",
            "Portugal",
            "Greece"
           ],
           "ids": [
            "Denmark",
            "Switzerland",
            "Iceland",
            "Norway",
            "Finland",
            "Netherlands",
            "Sweden",
            "Austria",
            "Germany",
            "Belgium",
            "Ireland",
            "Luxembourg",
            "United Kingdom",
            "Malta",
            "France",
            "Spain",
            "Italy",
            "North Cyprus",
            "Cyprus",
            "Portugal",
            "Greece"
           ],
           "legendgroup": "Western Europe",
           "marker": {
            "color": "#636efa",
            "symbol": "circle"
           },
           "mode": "markers",
           "name": "Western Europe",
           "showlegend": true,
           "type": "scatter",
           "x": [
            0.79504,
            0.86303,
            0.8673299999999999,
            0.79579,
            0.81091,
            0.8123100000000001,
            0.83121,
            0.80565,
            0.81487,
            0.8195899999999999,
            0.81455,
            0.8454200000000001,
            0.80991,
            0.80315,
            0.83795,
            0.8789600000000001,
            0.8510200000000001,
            0.8414200000000001,
            0.8488,
            0.7936300000000001,
            0.80029
           ],
           "xaxis": "x",
           "y": [
            7.526,
            7.5089999999999995,
            7.501,
            7.497999999999999,
            7.412999999999999,
            7.3389999999999995,
            7.291,
            7.119,
            6.994,
            6.928999999999999,
            6.907,
            6.871,
            6.725,
            6.4879999999999995,
            6.478,
            6.361000000000001,
            5.977,
            5.771,
            5.546,
            5.122999999999999,
            5.033
           ],
           "yaxis": "y"
          },
          {
           "hovertemplate": "<b>%{hovertext}</b><br><br>Region=North America<br>year=2016<br>HealthyLifeExpectancy=%{x}<br>Score=%{y}<extra></extra>",
           "hovertext": [
            "Canada",
            "United States"
           ],
           "ids": [
            "Canada",
            "United States"
           ],
           "legendgroup": "North America",
           "marker": {
            "color": "#EF553B",
            "symbol": "circle"
           },
           "mode": "markers",
           "name": "North America",
           "showlegend": true,
           "type": "scatter",
           "x": [
            0.8276,
            0.779
           ],
           "xaxis": "x",
           "y": [
            7.404,
            7.104
           ],
           "yaxis": "y"
          },
          {
           "hovertemplate": "<b>%{hovertext}</b><br><br>Region=Australia and New Zealand<br>year=2016<br>HealthyLifeExpectancy=%{x}<br>Score=%{y}<extra></extra>",
           "hovertext": [
            "New Zealand",
            "Australia"
           ],
           "ids": [
            "New Zealand",
            "Australia"
           ],
           "legendgroup": "Australia and New Zealand",
           "marker": {
            "color": "#00cc96",
            "symbol": "circle"
           },
           "mode": "markers",
           "name": "Australia and New Zealand",
           "showlegend": true,
           "type": "scatter",
           "x": [
            0.83096,
            0.8512
           ],
           "xaxis": "x",
           "y": [
            7.334,
            7.313
           ],
           "yaxis": "y"
          },
          {
           "hovertemplate": "<b>%{hovertext}</b><br><br>Region=Middle East and Northern Africa<br>year=2016<br>HealthyLifeExpectancy=%{x}<br>Score=%{y}<extra></extra>",
           "hovertext": [
            "Israel",
            "United Arab Emirates",
            "Saudi Arabia",
            "Qatar",
            "Algeria",
            "Kuwait",
            "Bahrain",
            "Libya",
            "Turkey",
            "Jordan",
            "Morocco",
            "Lebanon",
            "Tunisia",
            "Iran",
            "Palestinian Territories",
            "Iraq",
            "Egypt",
            "Yemen",
            "Syria"
           ],
           "ids": [
            "Israel",
            "United Arab Emirates",
            "Saudi Arabia",
            "Qatar",
            "Algeria",
            "Kuwait",
            "Bahrain",
            "Libya",
            "Turkey",
            "Jordan",
            "Morocco",
            "Lebanon",
            "Tunisia",
            "Iran",
            "Palestinian Territories",
            "Iraq",
            "Egypt",
            "Yemen",
            "Syria"
           ],
           "legendgroup": "Middle East and Northern Africa",
           "marker": {
            "color": "#ab63fa",
            "symbol": "circle"
           },
           "mode": "markers",
           "name": "Middle East and Northern Africa",
           "showlegend": true,
           "type": "scatter",
           "x": [
            0.8491700000000001,
            0.72993,
            0.59267,
            0.71723,
            0.6180399999999999,
            0.63569,
            0.65696,
            0.52304,
            0.64718,
            0.60712,
            0.5947100000000001,
            0.76171,
            0.59577,
            0.64232,
            0.56844,
            0.51076,
            0.5211600000000001,
            0.31048000000000003,
            0.6299399999999999
           ],
           "xaxis": "x",
           "y": [
            7.267,
            6.5729999999999995,
            6.379,
            6.375,
            6.355,
            6.239,
            6.218,
            5.615,
            5.388999999999999,
            5.303,
            5.151,
            5.129,
            5.045,
            4.813,
            4.754,
            4.575,
            4.362,
            3.7239999999999998,
            3.069
           ],
           "yaxis": "y"
          },
          {
           "hovertemplate": "<b>%{hovertext}</b><br><br>Region=Latin America and Caribbean<br>year=2016<br>HealthyLifeExpectancy=%{x}<br>Score=%{y}<extra></extra>",
           "hovertext": [
            "Costa Rica",
            "Puerto Rico",
            "Brazil",
            "Mexico",
            "Chile",
            "Panama",
            "Argentina",
            "Uruguay",
            "Colombia",
            "Guatemala",
            "Suriname",
            "Trinidad and Tobago",
            "Venezuela",
            "El Salvador",
            "Nicaragua",
            "Ecuador",
            "Belize",
            "Bolivia",
            "Peru",
            "Paraguay",
            "Jamaica",
            "Dominican Republic",
            "Honduras",
            "Haiti"
           ],
           "ids": [
            "Costa Rica",
            "Puerto Rico",
            "Brazil",
            "Mexico",
            "Chile",
            "Panama",
            "Argentina",
            "Uruguay",
            "Colombia",
            "Guatemala",
            "Suriname",
            "Trinidad and Tobago",
            "Venezuela",
            "El Salvador",
            "Nicaragua",
            "Ecuador",
            "Belize",
            "Bolivia",
            "Peru",
            "Paraguay",
            "Jamaica",
            "Dominican Republic",
            "Honduras",
            "Haiti"
           ],
           "legendgroup": "Latin America and Caribbean",
           "marker": {
            "color": "#FFA15A",
            "symbol": "circle"
           },
           "mode": "markers",
           "name": "Latin America and Caribbean",
           "showlegend": true,
           "type": "scatter",
           "x": [
            0.76146,
            0.77758,
            0.61415,
            0.71143,
            0.8188300000000001,
            0.70835,
            0.69711,
            0.72183,
            0.59659,
            0.5403899999999999,
            0.5093300000000001,
            0.52608,
            0.6190399999999999,
            0.596,
            0.65213,
            0.68613,
            0.45569,
            0.4697,
            0.6299399999999999,
            0.58295,
            0.5946899999999999,
            0.5766899999999999,
            0.5838300000000001,
            0.27494
           ],
           "xaxis": "x",
           "y": [
            7.087000000000001,
            7.039,
            6.952000000000001,
            6.778,
            6.705,
            6.7010000000000005,
            6.65,
            6.545,
            6.481,
            6.324,
            6.269,
            6.167999999999999,
            6.084,
            6.068,
            5.992000000000001,
            5.976,
            5.956,
            5.822,
            5.742999999999999,
            5.537999999999999,
            5.51,
            5.155,
            4.871,
            4.0280000000000005
           ],
           "yaxis": "y"
          },
          {
           "hovertemplate": "<b>%{hovertext}</b><br><br>Region=Southeastern Asia<br>year=2016<br>HealthyLifeExpectancy=%{x}<br>Score=%{y}<extra></extra>",
           "hovertext": [
            "Singapore",
            "Thailand",
            "Malaysia",
            "Indonesia",
            "Philippines",
            "Vietnam",
            "Laos",
            "Myanmar",
            "Cambodia"
           ],
           "ids": [
            "Singapore",
            "Thailand",
            "Malaysia",
            "Indonesia",
            "Philippines",
            "Vietnam",
            "Laos",
            "Myanmar",
            "Cambodia"
           ],
           "legendgroup": "Southeastern Asia",
           "marker": {
            "color": "#19d3f3",
            "symbol": "circle"
           },
           "mode": "markers",
           "name": "Southeastern Asia",
           "showlegend": true,
           "type": "scatter",
           "x": [
            0.94719,
            0.64915,
            0.62366,
            0.49373999999999996,
            0.47036000000000006,
            0.66157,
            0.38291,
            0.3988,
            0.42494
           ],
           "xaxis": "x",
           "y": [
            6.739,
            6.474,
            6.005,
            5.314,
            5.279,
            5.061,
            4.876,
            4.395,
            3.907
           ],
           "yaxis": "y"
          },
          {
           "hovertemplate": "<b>%{hovertext}</b><br><br>Region=Central and Eastern Europe<br>year=2016<br>HealthyLifeExpectancy=%{x}<br>Score=%{y}<extra></extra>",
           "hovertext": [
            "Czech Republic",
            "Slovakia",
            "Uzbekistan",
            "Kazakhstan",
            "Moldova",
            "Russia",
            "Poland",
            "Lithuania",
            "Belarus",
            "Slovenia",
            "Turkmenistan",
            "Latvia",
            "Romania",
            "Estonia",
            "Croatia",
            "Kosovo",
            "Azerbaijan",
            "Kyrgyzstan",
            "Serbia",
            "Bosnia and Herzegovina",
            "Montenegro",
            "Hungary",
            "Macedonia",
            "Tajikistan",
            "Albania",
            "Armenia",
            "Ukraine",
            "Georgia",
            "Bulgaria"
           ],
           "ids": [
            "Czech Republic",
            "Slovakia",
            "Uzbekistan",
            "Kazakhstan",
            "Moldova",
            "Russia",
            "Poland",
            "Lithuania",
            "Belarus",
            "Slovenia",
            "Turkmenistan",
            "Latvia",
            "Romania",
            "Estonia",
            "Croatia",
            "Kosovo",
            "Azerbaijan",
            "Kyrgyzstan",
            "Serbia",
            "Bosnia and Herzegovina",
            "Montenegro",
            "Hungary",
            "Macedonia",
            "Tajikistan",
            "Albania",
            "Armenia",
            "Ukraine",
            "Georgia",
            "Bulgaria"
           ],
           "legendgroup": "Central and Eastern Europe",
           "marker": {
            "color": "#FF6692",
            "symbol": "circle"
           },
           "mode": "markers",
           "name": "Central and Eastern Europe",
           "showlegend": true,
           "type": "scatter",
           "x": [
            0.76376,
            0.70367,
            0.50163,
            0.57386,
            0.5230899999999999,
            0.58991,
            0.69058,
            0.64674,
            0.6310399999999999,
            0.79151,
            0.44006000000000006,
            0.63952,
            0.67602,
            0.68098,
            0.70524,
            0.54,
            0.54504,
            0.5544899999999999,
            0.6458,
            0.7076600000000001,
            0.6353300000000001,
            0.67608,
            0.6473800000000001,
            0.5311899999999999,
            0.73007,
            0.64083,
            0.58628,
            0.64035,
            0.67806
           ],
           "xaxis": "x",
           "y": [
            6.596,
            6.077999999999999,
            5.987,
            5.919,
            5.897,
            5.856,
            5.835,
            5.813,
            5.8020000000000005,
            5.768,
            5.6579999999999995,
            5.56,
            5.528,
            5.517,
            5.4879999999999995,
            5.401,
            5.291,
            5.185,
            5.1770000000000005,
            5.162999999999999,
            5.1610000000000005,
            5.145,
            5.121,
            4.996,
            4.655,
            4.36,
            4.324,
            4.252,
            4.217
           ],
           "yaxis": "y"
          },
          {
           "hovertemplate": "<b>%{hovertext}</b><br><br>Region=Eastern Asia<br>year=2016<br>HealthyLifeExpectancy=%{x}<br>Score=%{y}<extra></extra>",
           "hovertext": [
            "Taiwan",
            "Japan",
            "South Korea",
            "Hong Kong",
            "China",
            "Mongolia"
           ],
           "ids": [
            "Taiwan",
            "Japan",
            "South Korea",
            "Hong Kong",
            "China",
            "Mongolia"
           ],
           "legendgroup": "Eastern Asia",
           "marker": {
            "color": "#B6E880",
            "symbol": "circle"
           },
           "mode": "markers",
           "name": "Eastern Asia",
           "showlegend": true,
           "type": "scatter",
           "x": [
            0.79565,
            0.91491,
            0.88645,
            0.9527700000000001,
            0.73561,
            0.55469
           ],
           "xaxis": "x",
           "y": [
            6.379,
            5.921,
            5.835,
            5.457999999999999,
            5.245,
            4.907
           ],
           "yaxis": "y"
          },
          {
           "hovertemplate": "<b>%{hovertext}</b><br><br>Region=Sub-Saharan Africa<br>year=2016<br>HealthyLifeExpectancy=%{x}<br>Score=%{y}<extra></extra>",
           "hovertext": [
            "Mauritius",
            "Somalia",
            "Somaliland Region",
            "Nigeria",
            "Zambia",
            "Sierra Leone",
            "Namibia",
            "Cameroon",
            "Ethiopia",
            "South Africa",
            "Kenya",
            "Ghana",
            "Congo (Kinshasa)",
            "Congo (Brazzaville)",
            "Senegal",
            "Mauritania",
            "Zimbabwe",
            "Malawi",
            "Sudan",
            "Gabon",
            "Mali",
            "Botswana",
            "Comoros",
            "Ivory Coast",
            "Angola",
            "Niger",
            "South Sudan",
            "Chad",
            "Burkina Faso",
            "Uganda",
            "Madagascar",
            "Tanzania",
            "Liberia",
            "Guinea",
            "Rwanda",
            "Benin",
            "Togo",
            "Burundi"
           ],
           "ids": [
            "Mauritius",
            "Somalia",
            "Somaliland Region",
            "Nigeria",
            "Zambia",
            "Sierra Leone",
            "Namibia",
            "Cameroon",
            "Ethiopia",
            "South Africa",
            "Kenya",
            "Ghana",
            "Congo (Kinshasa)",
            "Congo (Brazzaville)",
            "Senegal",
            "Mauritania",
            "Zimbabwe",
            "Malawi",
            "Sudan",
            "Gabon",
            "Mali",
            "Botswana",
            "Comoros",
            "Ivory Coast",
            "Angola",
            "Niger",
            "South Sudan",
            "Chad",
            "Burkina Faso",
            "Uganda",
            "Madagascar",
            "Tanzania",
            "Liberia",
            "Guinea",
            "Rwanda",
            "Benin",
            "Togo",
            "Burundi"
           ],
           "legendgroup": "Sub-Saharan Africa",
           "marker": {
            "color": "#FF97FF",
            "symbol": "circle"
           },
           "mode": "markers",
           "name": "Sub-Saharan Africa",
           "showlegend": true,
           "type": "scatter",
           "x": [
            0.66189,
            0.11465999999999998,
            0.33108000000000004,
            0.05108,
            0.23573000000000002,
            0,
            0.34745,
            0.12697999999999998,
            0.34578000000000003,
            0.18611,
            0.30146999999999996,
            0.29681,
            0.188,
            0.28212,
            0.40457,
            0.28639000000000003,
            0.1595,
            0.29364,
            0.29759,
            0.3494,
            0.16347,
            0.34752,
            0.29980999999999997,
            0.04476,
            0.04991,
            0.26161999999999996,
            0.15780999999999998,
            0.038239999999999996,
            0.21297,
            0.19625,
            0.37109000000000003,
            0.35700000000000004,
            0.23165,
            0.18829,
            0.31865,
            0.21028000000000002,
            0.24811,
            0.15747
           ],
           "xaxis": "x",
           "y": [
            5.648,
            5.44,
            5.0569999999999995,
            4.875,
            4.795,
            4.635,
            4.574,
            4.513,
            4.508,
            4.459,
            4.356,
            4.276,
            4.272,
            4.236000000000001,
            4.218999999999999,
            4.2010000000000005,
            4.1930000000000005,
            4.156000000000001,
            4.138999999999999,
            4.121,
            4.073,
            3.9739999999999998,
            3.9560000000000004,
            3.9160000000000004,
            3.866,
            3.8560000000000003,
            3.832,
            3.763,
            3.739,
            3.739,
            3.695,
            3.6660000000000004,
            3.622,
            3.6069999999999998,
            3.515,
            3.484,
            3.303,
            2.905
           ],
           "yaxis": "y"
          },
          {
           "hovertemplate": "<b>%{hovertext}</b><br><br>Region=Southern Asia<br>year=2016<br>HealthyLifeExpectancy=%{x}<br>Score=%{y}<extra></extra>",
           "hovertext": [
            "Bhutan",
            "Pakistan",
            "Nepal",
            "Bangladesh",
            "Sri Lanka",
            "India",
            "Afghanistan"
           ],
           "ids": [
            "Bhutan",
            "Pakistan",
            "Nepal",
            "Bangladesh",
            "Sri Lanka",
            "India",
            "Afghanistan"
           ],
           "legendgroup": "Southern Asia",
           "marker": {
            "color": "#FECB52",
            "symbol": "circle"
           },
           "mode": "markers",
           "name": "Southern Asia",
           "showlegend": true,
           "type": "scatter",
           "x": [
            0.49759,
            0.40306,
            0.50073,
            0.52989,
            0.62007,
            0.45091000000000003,
            0.17344
           ],
           "xaxis": "x",
           "y": [
            5.196000000000001,
            5.132000000000001,
            4.793,
            4.643,
            4.415,
            4.404,
            3.36
           ],
           "yaxis": "y"
          }
         ],
         "name": "2016"
        },
        {
         "data": [
          {
           "hovertemplate": "<b>%{hovertext}</b><br><br>Region=Western Europe<br>year=2017<br>HealthyLifeExpectancy=%{x}<br>Score=%{y}<extra></extra>",
           "hovertext": [
            "Norway",
            "Denmark",
            "Iceland",
            "Switzerland",
            "Finland",
            "Netherlands",
            "Sweden",
            "Austria",
            "Ireland",
            "Germany",
            "Belgium",
            "Luxembourg",
            "United Kingdom",
            "Malta",
            "France",
            "Spain",
            "Italy",
            "North Cyprus",
            "Cyprus",
            "Greece",
            "Portugal"
           ],
           "ids": [
            "Norway",
            "Denmark",
            "Iceland",
            "Switzerland",
            "Finland",
            "Netherlands",
            "Sweden",
            "Austria",
            "Ireland",
            "Germany",
            "Belgium",
            "Luxembourg",
            "United Kingdom",
            "Malta",
            "France",
            "Spain",
            "Italy",
            "North Cyprus",
            "Cyprus",
            "Greece",
            "Portugal"
           ],
           "legendgroup": "Western Europe",
           "marker": {
            "color": "#636efa",
            "symbol": "circle"
           },
           "mode": "markers",
           "name": "Western Europe",
           "showlegend": true,
           "type": "scatter",
           "x": [
            0.796666502952576,
            0.7925655245780941,
            0.8335521221160892,
            0.858131289482117,
            0.80915766954422,
            0.8106961250305179,
            0.830875158309937,
            0.8153284192085269,
            0.8097826242446899,
            0.798950731754303,
            0.8180918693542479,
            0.845089495182037,
            0.805335938930511,
            0.821944236755371,
            0.8444658517837521,
            0.888960599899292,
            0.8531443476676941,
            0.834647238254547,
            0.84471470117569,
            0.8101989030838009,
            0.795843541622162
           ],
           "xaxis": "x",
           "y": [
            7.537000179290769,
            7.52199983596802,
            7.50400018692017,
            7.49399995803833,
            7.468999862670901,
            7.3769998550415,
            7.28399991989136,
            7.00600004196167,
            6.9770002365112305,
            6.9510002136230495,
            6.89099979400635,
            6.86299991607666,
            6.71400022506714,
            6.52699995040894,
            6.44199991226196,
            6.40299987792969,
            5.96400022506714,
            5.80999994277954,
            5.62099981307983,
            5.2270002365112305,
            5.19500017166138
           ],
           "yaxis": "y"
          },
          {
           "hovertemplate": "<b>%{hovertext}</b><br><br>Region=Latin America and Caribbean<br>year=2017<br>HealthyLifeExpectancy=%{x}<br>Score=%{y}<extra></extra>",
           "hovertext": [
            "Costa Rica",
            "Chile",
            "Brazil",
            "Argentina",
            "Mexico",
            "Uruguay",
            "Guatemala",
            "Panama",
            "Colombia",
            "Trinidad and Tobago",
            "Nicaragua",
            "Ecuador",
            "El Salvador",
            "Belize",
            "Bolivia",
            "Peru",
            "Paraguay",
            "Jamaica",
            "Venezuela",
            "Dominican Republic",
            "Honduras",
            "Haiti"
           ],
           "ids": [
            "Costa Rica",
            "Chile",
            "Brazil",
            "Argentina",
            "Mexico",
            "Uruguay",
            "Guatemala",
            "Panama",
            "Colombia",
            "Trinidad and Tobago",
            "Nicaragua",
            "Ecuador",
            "El Salvador",
            "Belize",
            "Bolivia",
            "Peru",
            "Paraguay",
            "Jamaica",
            "Venezuela",
            "Dominican Republic",
            "Honduras",
            "Haiti"
           ],
           "legendgroup": "Latin America and Caribbean",
           "marker": {
            "color": "#FFA15A",
            "symbol": "circle"
           },
           "mode": "markers",
           "name": "Latin America and Caribbean",
           "showlegend": true,
           "type": "scatter",
           "x": [
            0.7595092654228209,
            0.8194797039031979,
            0.6165523529052729,
            0.695137083530426,
            0.709978997707367,
            0.719216823577881,
            0.540239989757538,
            0.706156134605408,
            0.595027923583984,
            0.5199832916259771,
            0.6530959606170649,
            0.685636222362518,
            0.596018552780151,
            0.45019176602363603,
            0.47363024950027505,
            0.6301661133766171,
            0.579250693321228,
            0.6410223841667181,
            0.617144227027893,
            0.574873745441437,
            0.582569479942322,
            0.277321130037308
           ],
           "xaxis": "x",
           "y": [
            7.0789999961853,
            6.65199995040894,
            6.6350002288818395,
            6.59899997711182,
            6.57800006866455,
            6.4539999961853,
            6.4539999961853,
            6.4520001411438,
            6.35699987411499,
            6.1680002212524405,
            6.07100009918213,
            6.00799989700317,
            6.002999782562259,
            5.955999851226809,
            5.82299995422363,
            5.71500015258789,
            5.493000030517581,
            5.31099987030029,
            5.25,
            5.230000019073491,
            5.1810002326965305,
            3.6029999256133998
           ],
           "yaxis": "y"
          },
          {
           "hovertemplate": "<b>%{hovertext}</b><br><br>Region=Central and Eastern Europe<br>year=2017<br>HealthyLifeExpectancy=%{x}<br>Score=%{y}<extra></extra>",
           "hovertext": [
            "Czech Republic",
            "Slovakia",
            "Poland",
            "Lithuania",
            "Latvia",
            "Romania",
            "Slovenia",
            "Estonia",
            "Serbia",
            "Hungary",
            "Croatia",
            "Kosovo",
            "Montenegro",
            "Bosnia and Herzegovina",
            "Macedonia",
            "Bulgaria",
            "Albania"
           ],
           "ids": [
            "Czech Republic",
            "Slovakia",
            "Poland",
            "Lithuania",
            "Latvia",
            "Romania",
            "Slovenia",
            "Estonia",
            "Serbia",
            "Hungary",
            "Croatia",
            "Kosovo",
            "Montenegro",
            "Bosnia and Herzegovina",
            "Macedonia",
            "Bulgaria",
            "Albania"
           ],
           "legendgroup": "Central and Eastern Europe",
           "marker": {
            "color": "#FF6692",
            "symbol": "circle"
           },
           "mode": "markers",
           "name": "Central and Eastern Europe",
           "showlegend": true,
           "type": "scatter",
           "x": [
            0.754444003105164,
            0.712732911109924,
            0.699475347995758,
            0.62894994020462,
            0.638566970825195,
            0.6851583123207089,
            0.7908282279968258,
            0.695168316364288,
            0.65078467130661,
            0.6877634525299069,
            0.701288521289825,
            0.541452050209045,
            0.6674646735191351,
            0.705186307430267,
            0.644948184490204,
            0.708217680454254,
            0.731159746646881
           ],
           "xaxis": "x",
           "y": [
            6.60900020599365,
            6.09800004959106,
            5.97300004959106,
            5.90199995040894,
            5.849999904632571,
            5.824999809265139,
            5.75799989700317,
            5.61100006103516,
            5.39499998092651,
            5.32399988174438,
            5.2930002212524405,
            5.27899980545044,
            5.23699998855591,
            5.18200016021729,
            5.175000190734861,
            4.71400022506714,
            4.64400005340576
           ],
           "yaxis": "y"
          },
          {
           "hovertemplate": "<b>%{hovertext}</b><br><br>Region=Sub-Saharan Africa<br>year=2017<br>HealthyLifeExpectancy=%{x}<br>Score=%{y}<extra></extra>",
           "hovertext": [
            "Mauritius",
            "Somalia",
            "Nigeria",
            "South Africa",
            "Sierra Leone",
            "Cameroon",
            "Namibia",
            "Kenya",
            "Mozambique",
            "Senegal",
            "Zambia",
            "Gabon",
            "Ethiopia",
            "Mauritania",
            "Congo (Brazzaville)",
            "Congo (Kinshasa)",
            "Mali",
            "Ivory Coast",
            "Sudan",
            "Ghana",
            "Uganda",
            "Burkina Faso",
            "Niger",
            "Malawi",
            "Chad",
            "Zimbabwe",
            "Lesotho",
            "Angola",
            "Botswana",
            "Benin",
            "Madagascar",
            "South Sudan",
            "Liberia",
            "Guinea",
            "Togo",
            "Rwanda",
            "Tanzania",
            "Burundi",
            "Central African Republic"
           ],
           "ids": [
            "Mauritius",
            "Somalia",
            "Nigeria",
            "South Africa",
            "Sierra Leone",
            "Cameroon",
            "Namibia",
            "Kenya",
            "Mozambique",
            "Senegal",
            "Zambia",
            "Gabon",
            "Ethiopia",
            "Mauritania",
            "Congo (Brazzaville)",
            "Congo (Kinshasa)",
            "Mali",
            "Ivory Coast",
            "Sudan",
            "Ghana",
            "Uganda",
            "Burkina Faso",
            "Niger",
            "Malawi",
            "Chad",
            "Zimbabwe",
            "Lesotho",
            "Angola",
            "Botswana",
            "Benin",
            "Madagascar",
            "South Sudan",
            "Liberia",
            "Guinea",
            "Togo",
            "Rwanda",
            "Tanzania",
            "Burundi",
            "Central African Republic"
           ],
           "legendgroup": "Sub-Saharan Africa",
           "marker": {
            "color": "#FF97FF",
            "symbol": "circle"
           },
           "mode": "markers",
           "name": "Sub-Saharan Africa",
           "showlegend": true,
           "type": "scatter",
           "x": [
            0.6380074620246889,
            0.11398913711309401,
            0.0569157302379608,
            0.18708007037639604,
            0.005564753897488121,
            0.132892116904259,
            0.33861181139946,
            0.30998834967613204,
            0.10665443539619399,
            0.409362852573395,
            0.25783589482307395,
            0.35657858848571794,
            0.35340970754623396,
            0.285349279642105,
            0.28995743393898,
            0.191407024860382,
            0.16936567425727803,
            0.0486421696841717,
            0.290920823812485,
            0.29563772678375205,
            0.21763260662555703,
            0.21584425866603896,
            0.26850500702858,
            0.315089583396912,
            0.0411347150802612,
            0.19676375389099102,
            0,
            0.0498686656355858,
            0.34175550937652605,
            0.20993021130561804,
            0.375223308801651,
            0.163486003875732,
            0.229918196797371,
            0.194129139184952,
            0.247105568647385,
            0.326424807310104,
            0.364509284496307,
            0.151610791683197,
            0.0187726859003305
           ],
           "xaxis": "x",
           "y": [
            5.62900018692017,
            5.151000022888179,
            5.07399988174438,
            4.8289999961853,
            4.70900011062622,
            4.69500017166138,
            4.57399988174438,
            4.55299997329712,
            4.550000190734861,
            4.53499984741211,
            4.513999938964839,
            4.46500015258789,
            4.46000003814697,
            4.29199981689453,
            4.29099988937378,
            4.2800002098083505,
            4.19000005722046,
            4.17999982833862,
            4.138999938964839,
            4.11999988555908,
            4.08099985122681,
            4.03200006484985,
            4.02799987792969,
            3.97000002861023,
            3.9360001087188703,
            3.875,
            3.80800008773804,
            3.79500007629395,
            3.7660000324249303,
            3.65700006484985,
            3.64400005340576,
            3.5910000801086404,
            3.5329999923706095,
            3.50699996948242,
            3.4949998855590803,
            3.47099995613098,
            3.34899997711182,
            2.90499997138977,
            2.69300007820129
           ],
           "yaxis": "y"
          },
          {
           "hovertemplate": "<b>%{hovertext}</b><br><br>Region=North America and ANZ<br>year=2017<br>HealthyLifeExpectancy=%{x}<br>Score=%{y}<extra></extra>",
           "hovertext": [
            "Canada",
            "New Zealand",
            "Australia",
            "United States"
           ],
           "ids": [
            "Canada",
            "New Zealand",
            "Australia",
            "United States"
           ],
           "legendgroup": "North America and ANZ",
           "marker": {
            "color": "#636efa",
            "symbol": "circle"
           },
           "mode": "markers",
           "name": "North America and ANZ",
           "showlegend": true,
           "type": "scatter",
           "x": [
            0.83455765247345,
            0.816759705543518,
            0.84388679265976,
            0.7742866277694699
           ],
           "xaxis": "x",
           "y": [
            7.31599998474121,
            7.31400012969971,
            7.28399991989136,
            6.993000030517581
           ],
           "yaxis": "y"
          },
          {
           "hovertemplate": "<b>%{hovertext}</b><br><br>Region=Middle East and North Africa<br>year=2017<br>HealthyLifeExpectancy=%{x}<br>Score=%{y}<extra></extra>",
           "hovertext": [
            "Israel",
            "United Arab Emirates",
            "Qatar",
            "Saudi Arabia",
            "Kuwait",
            "Bahrain",
            "Algeria",
            "Libya",
            "Turkey",
            "Jordan",
            "Morocco",
            "Lebanon",
            "Tunisia",
            "Palestinian Territories",
            "Egypt",
            "Iran",
            "Iraq",
            "Yemen",
            "Syria"
           ],
           "ids": [
            "Israel",
            "United Arab Emirates",
            "Qatar",
            "Saudi Arabia",
            "Kuwait",
            "Bahrain",
            "Algeria",
            "Libya",
            "Turkey",
            "Jordan",
            "Morocco",
            "Lebanon",
            "Tunisia",
            "Palestinian Territories",
            "Egypt",
            "Iran",
            "Iraq",
            "Yemen",
            "Syria"
           ],
           "legendgroup": "Middle East and North Africa",
           "marker": {
            "color": "#EF553B",
            "symbol": "circle"
           },
           "mode": "markers",
           "name": "Middle East and North Africa",
           "showlegend": true,
           "type": "scatter",
           "x": [
            0.83840399980545,
            0.726798236370087,
            0.7100980877876278,
            0.590148329734802,
            0.6321057081222529,
            0.653133034706116,
            0.6175846457481379,
            0.520169019699097,
            0.6376056075096129,
            0.6045900583267211,
            0.59771066904068,
            0.7350810766220089,
            0.613212049007416,
            0.565666973590851,
            0.520187258720398,
            0.639333188533783,
            0.501180469989777,
            0.310080915689468,
            0.5005333423614501
           ],
           "xaxis": "x",
           "y": [
            7.212999820709231,
            6.6479997634887695,
            6.375,
            6.343999862670901,
            6.10500001907349,
            6.08699989318848,
            5.872000217437741,
            5.525000095367429,
            5.5,
            5.33599996566772,
            5.2350001335144,
            5.22499990463257,
            4.80499982833862,
            4.77500009536743,
            4.7350001335144,
            4.69199991226196,
            4.49700021743774,
            3.59299993515015,
            3.46199989318848
           ],
           "yaxis": "y"
          },
          {
           "hovertemplate": "<b>%{hovertext}</b><br><br>Region=Southeast Asia<br>year=2017<br>HealthyLifeExpectancy=%{x}<br>Score=%{y}<extra></extra>",
           "hovertext": [
            "Singapore",
            "Thailand",
            "Malaysia",
            "Philippines",
            "Indonesia",
            "Vietnam",
            "Myanmar",
            "Cambodia"
           ],
           "ids": [
            "Singapore",
            "Thailand",
            "Malaysia",
            "Philippines",
            "Indonesia",
            "Vietnam",
            "Myanmar",
            "Cambodia"
           ],
           "legendgroup": "Southeast Asia",
           "marker": {
            "color": "#00cc96",
            "symbol": "circle"
           },
           "mode": "markers",
           "name": "Southeast Asia",
           "showlegend": true,
           "type": "scatter",
           "x": [
            0.9494923949241642,
            0.647239029407501,
            0.618784427642822,
            0.46800905466079706,
            0.49234572052955605,
            0.6521689891815191,
            0.397522568702698,
            0.429783403873444
           ],
           "xaxis": "x",
           "y": [
            6.57200002670288,
            6.4239997863769505,
            6.08400011062622,
            5.42999982833862,
            5.26200008392334,
            5.07399988174438,
            4.54500007629395,
            4.1680002212524405
           ],
           "yaxis": "y"
          },
          {
           "hovertemplate": "<b>%{hovertext}</b><br><br>Region=East Asia<br>year=2017<br>HealthyLifeExpectancy=%{x}<br>Score=%{y}<extra></extra>",
           "hovertext": [
            "Taiwan",
            "Japan",
            "South Korea",
            "Hong Kong S.A.R. of China",
            "China",
            "Mongolia"
           ],
           "ids": [
            "Taiwan",
            "Japan",
            "South Korea",
            "Hong Kong S.A.R. of China",
            "China",
            "Mongolia"
           ],
           "legendgroup": "East Asia",
           "marker": {
            "color": "#ab63fa",
            "symbol": "circle"
           },
           "mode": "markers",
           "name": "East Asia",
           "showlegend": true,
           "type": "scatter",
           "x": [
            0.793984234333038,
            0.9134758710861209,
            0.900214076042175,
            0.943062424659729,
            0.741415500640869,
            0.557783484458923
           ],
           "xaxis": "x",
           "y": [
            6.42199993133545,
            5.92000007629395,
            5.837999820709231,
            5.47200012207031,
            5.2729997634887695,
            4.95499992370605
           ],
           "yaxis": "y"
          },
          {
           "hovertemplate": "<b>%{hovertext}</b><br><br>Region=Commonwealth of Independent States<br>year=2017<br>HealthyLifeExpectancy=%{x}<br>Score=%{y}<extra></extra>",
           "hovertext": [
            "Uzbekistan",
            "Russia",
            "Moldova",
            "Turkmenistan",
            "Kazakhstan",
            "Belarus",
            "Azerbaijan",
            "Tajikistan",
            "Kyrgyzstan",
            "Armenia",
            "Georgia",
            "Ukraine"
           ],
           "ids": [
            "Uzbekistan",
            "Russia",
            "Moldova",
            "Turkmenistan",
            "Kazakhstan",
            "Belarus",
            "Azerbaijan",
            "Tajikistan",
            "Kyrgyzstan",
            "Armenia",
            "Georgia",
            "Ukraine"
           ],
           "legendgroup": "Commonwealth of Independent States",
           "marker": {
            "color": "#FFA15A",
            "symbol": "circle"
           },
           "mode": "markers",
           "name": "Commonwealth of Independent States",
           "showlegend": true,
           "type": "scatter",
           "x": [
            0.498272627592087,
            0.547349333763123,
            0.5894652009010309,
            0.437726080417633,
            0.6060415506362921,
            0.6377142667770389,
            0.5407757759094239,
            0.5292351245880129,
            0.553457796573639,
            0.637524425983429,
            0.649546980857849,
            0.575903952121735
           ],
           "xaxis": "x",
           "y": [
            5.97100019454956,
            5.962999820709231,
            5.837999820709231,
            5.82200002670288,
            5.8189997673034695,
            5.5689997673034695,
            5.234000205993651,
            5.04099988937378,
            5.0040001869201705,
            4.37599992752075,
            4.28599977493286,
            4.09600019454956
           ],
           "yaxis": "y"
          },
          {
           "hovertemplate": "<b>%{hovertext}</b><br><br>Region=South Asia<br>year=2017<br>HealthyLifeExpectancy=%{x}<br>Score=%{y}<extra></extra>",
           "hovertext": [
            "Pakistan",
            "Bhutan",
            "Nepal",
            "Bangladesh",
            "Sri Lanka",
            "India",
            "Afghanistan"
           ],
           "ids": [
            "Pakistan",
            "Bhutan",
            "Nepal",
            "Bangladesh",
            "Sri Lanka",
            "India",
            "Afghanistan"
           ],
           "legendgroup": "South Asia",
           "marker": {
            "color": "#19d3f3",
            "symbol": "circle"
           },
           "mode": "markers",
           "name": "South Asia",
           "showlegend": true,
           "type": "scatter",
           "x": [
            0.40204778313636796,
            0.495879292488098,
            0.504130780696869,
            0.533241033554077,
            0.625130832195282,
            0.455427616834641,
            0.18074677884578697
           ],
           "xaxis": "x",
           "y": [
            5.26900005340576,
            5.01100015640259,
            4.961999893188481,
            4.60799980163574,
            4.44000005722046,
            4.31500005722046,
            3.7939999103546103
           ],
           "yaxis": "y"
          }
         ],
         "name": "2017"
        },
        {
         "data": [
          {
           "hovertemplate": "<b>%{hovertext}</b><br><br>Region=Western Europe<br>year=2018<br>HealthyLifeExpectancy=%{x}<br>Score=%{y}<extra></extra>",
           "hovertext": [
            "Austria",
            "Belgium",
            "Cyprus",
            "Cyprus",
            "Denmark",
            "Finland",
            "France",
            "Germany",
            "Greece",
            "Iceland",
            "Ireland",
            "Italy",
            "Luxembourg",
            "Malta",
            "Netherlands",
            "Norway",
            "Portugal",
            "Spain",
            "Sweden",
            "Switzerland",
            "United Kingdom"
           ],
           "ids": [
            "Austria",
            "Belgium",
            "Cyprus",
            "Cyprus",
            "Denmark",
            "Finland",
            "France",
            "Germany",
            "Greece",
            "Iceland",
            "Ireland",
            "Italy",
            "Luxembourg",
            "Malta",
            "Netherlands",
            "Norway",
            "Portugal",
            "Spain",
            "Sweden",
            "Switzerland",
            "United Kingdom"
           ],
           "legendgroup": "Western Europe",
           "marker": {
            "color": "#636efa",
            "symbol": "circle"
           },
           "mode": "markers",
           "name": "Western Europe",
           "showlegend": true,
           "type": "scatter",
           "x": [
            0.8909999999999999,
            0.894,
            0.909,
            0.909,
            0.868,
            0.8740000000000001,
            0.9079999999999999,
            0.861,
            0.879,
            0.914,
            0.8759999999999999,
            0.946,
            0.8959999999999999,
            0.884,
            0.878,
            0.861,
            0.884,
            0.965,
            0.9129999999999999,
            0.927,
            0.888
           ],
           "xaxis": "x",
           "y": [
            7.138999999999999,
            6.9270000000000005,
            5.835,
            5.7620000000000005,
            7.555,
            7.632000000000001,
            6.489,
            6.965,
            5.358,
            7.495,
            6.977,
            6,
            6.91,
            6.627000000000001,
            7.441,
            7.593999999999999,
            5.41,
            6.31,
            7.314,
            7.487,
            7.19
           ],
           "yaxis": "y"
          },
          {
           "hovertemplate": "<b>%{hovertext}</b><br><br>Region=Latin America and Caribbean<br>year=2018<br>HealthyLifeExpectancy=%{x}<br>Score=%{y}<extra></extra>",
           "hovertext": [
            "Argentina",
            "Belize",
            "Bolivia",
            "Brazil",
            "Chile",
            "Colombia",
            "Costa Rica",
            "Dominican Republic",
            "Ecuador",
            "El Salvador",
            "Guatemala",
            "Haiti",
            "Honduras",
            "Jamaica",
            "Mexico",
            "Nicaragua",
            "Panama",
            "Paraguay",
            "Peru",
            "Trinidad and Tobago",
            "Uruguay",
            "Venezuela"
           ],
           "ids": [
            "Argentina",
            "Belize",
            "Bolivia",
            "Brazil",
            "Chile",
            "Colombia",
            "Costa Rica",
            "Dominican Republic",
            "Ecuador",
            "El Salvador",
            "Guatemala",
            "Haiti",
            "Honduras",
            "Jamaica",
            "Mexico",
            "Nicaragua",
            "Panama",
            "Paraguay",
            "Peru",
            "Trinidad and Tobago",
            "Uruguay",
            "Venezuela"
           ],
           "legendgroup": "Latin America and Caribbean",
           "marker": {
            "color": "#FFA15A",
            "symbol": "circle"
           },
           "mode": "markers",
           "name": "Latin America and Caribbean",
           "showlegend": true,
           "type": "scatter",
           "x": [
            0.7440000000000001,
            0.474,
            0.508,
            0.675,
            0.8079999999999999,
            0.635,
            0.8170000000000001,
            0.614,
            0.736,
            0.639,
            0.608,
            0.289,
            0.622,
            0.693,
            0.7609999999999999,
            0.7,
            0.759,
            0.615,
            0.674,
            0.564,
            0.7709999999999999,
            0.657
           ],
           "xaxis": "x",
           "y": [
            6.388,
            5.956,
            5.752000000000001,
            6.419,
            6.476,
            6.26,
            7.072,
            5.3020000000000005,
            5.973,
            6.167000000000001,
            6.382000000000001,
            3.582,
            5.504,
            5.89,
            6.4879999999999995,
            6.141,
            6.43,
            5.681,
            5.662999999999999,
            6.192,
            6.379,
            4.806
           ],
           "yaxis": "y"
          },
          {
           "hovertemplate": "<b>%{hovertext}</b><br><br>Region=Central and Eastern Europe<br>year=2018<br>HealthyLifeExpectancy=%{x}<br>Score=%{y}<extra></extra>",
           "hovertext": [
            "Albania",
            "Bosnia and Herzegovina",
            "Bulgaria",
            "Croatia",
            "Czech Republic",
            "Estonia",
            "Hungary",
            "Kosovo",
            "Latvia",
            "Lithuania",
            "Macedonia",
            "Montenegro",
            "Poland",
            "Romania",
            "Serbia",
            "Slovakia",
            "Slovenia"
           ],
           "ids": [
            "Albania",
            "Bosnia and Herzegovina",
            "Bulgaria",
            "Croatia",
            "Czech Republic",
            "Estonia",
            "Hungary",
            "Kosovo",
            "Latvia",
            "Lithuania",
            "Macedonia",
            "Montenegro",
            "Poland",
            "Romania",
            "Serbia",
            "Slovakia",
            "Slovenia"
           ],
           "legendgroup": "Central and Eastern Europe",
           "marker": {
            "color": "#FF6692",
            "symbol": "circle"
           },
           "mode": "markers",
           "name": "Central and Eastern Europe",
           "showlegend": true,
           "type": "scatter",
           "x": [
            0.79,
            0.758,
            0.7120000000000001,
            0.737,
            0.8540000000000001,
            0.737,
            0.732,
            0.578,
            0.6709999999999999,
            0.716,
            0.691,
            0.7290000000000001,
            0.7809999999999999,
            0.726,
            0.685,
            0.7759999999999999,
            0.856
           ],
           "xaxis": "x",
           "y": [
            4.586,
            5.129,
            4.933,
            5.321000000000001,
            6.711,
            5.739,
            5.62,
            5.662000000000001,
            5.933,
            5.952000000000001,
            5.185,
            5.347,
            6.122999999999999,
            5.945,
            5.398,
            6.172999999999999,
            5.9479999999999995
           ],
           "yaxis": "y"
          },
          {
           "hovertemplate": "<b>%{hovertext}</b><br><br>Region=Sub-Saharan Africa<br>year=2018<br>HealthyLifeExpectancy=%{x}<br>Score=%{y}<extra></extra>",
           "hovertext": [
            "Angola",
            "Benin",
            "Botswana",
            "Burkina Faso",
            "Burundi",
            "Cameroon",
            "Central African Republic",
            "Chad",
            "Congo (Brazzaville)",
            "Congo (Kinshasa)",
            "Ethiopia",
            "Gabon",
            "Ghana",
            "Guinea",
            "Ivory Coast",
            "Kenya",
            "Lesotho",
            "Liberia",
            "Madagascar",
            "Malawi",
            "Mali",
            "Mauritania",
            "Mauritius",
            "Mozambique",
            "Namibia",
            "Niger",
            "Nigeria",
            "Rwanda",
            "Senegal",
            "Sierra Leone",
            "Somalia",
            "South Africa",
            "South Sudan",
            "Sudan",
            "Tanzania",
            "Togo",
            "Uganda",
            "Zambia",
            "Zimbabwe"
           ],
           "ids": [
            "Angola",
            "Benin",
            "Botswana",
            "Burkina Faso",
            "Burundi",
            "Cameroon",
            "Central African Republic",
            "Chad",
            "Congo (Brazzaville)",
            "Congo (Kinshasa)",
            "Ethiopia",
            "Gabon",
            "Ghana",
            "Guinea",
            "Ivory Coast",
            "Kenya",
            "Lesotho",
            "Liberia",
            "Madagascar",
            "Malawi",
            "Mali",
            "Mauritania",
            "Mauritius",
            "Mozambique",
            "Namibia",
            "Niger",
            "Nigeria",
            "Rwanda",
            "Senegal",
            "Sierra Leone",
            "Somalia",
            "South Africa",
            "South Sudan",
            "Sudan",
            "Tanzania",
            "Togo",
            "Uganda",
            "Zambia",
            "Zimbabwe"
           ],
           "legendgroup": "Sub-Saharan Africa",
           "marker": {
            "color": "#FF97FF",
            "symbol": "circle"
           },
           "mode": "markers",
           "name": "Sub-Saharan Africa",
           "showlegend": true,
           "type": "scatter",
           "x": [
            0.26899999999999996,
            0.24,
            0.41700000000000004,
            0.254,
            0.145,
            0.182,
            0.01,
            0.053,
            0.34299999999999997,
            0.204,
            0.391,
            0.40399999999999997,
            0.337,
            0.21100000000000002,
            0.08,
            0.45399999999999996,
            0.079,
            0.267,
            0.402,
            0.306,
            0.152,
            0.292,
            0.684,
            0.17300000000000001,
            0.365,
            0.221,
            0.048,
            0.4,
            0.433,
            0,
            0.115,
            0.33,
            0.177,
            0.312,
            0.381,
            0.253,
            0.237,
            0.295,
            0.248
           ],
           "xaxis": "x",
           "y": [
            3.795,
            4.141,
            3.59,
            4.4239999999999995,
            2.905,
            4.975,
            3.083,
            4.301,
            4.559,
            4.245,
            4.35,
            4.758,
            4.657,
            3.964,
            4.671,
            4.41,
            3.8080000000000003,
            3.495,
            3.7739999999999996,
            3.5869999999999997,
            4.447,
            4.356,
            5.891,
            4.417,
            4.441,
            4.166,
            5.155,
            3.408,
            4.631,
            4.571000000000001,
            4.982,
            4.724,
            3.2539999999999996,
            4.138999999999999,
            3.303,
            3.9989999999999997,
            4.1610000000000005,
            4.377,
            3.6919999999999997
           ],
           "yaxis": "y"
          },
          {
           "hovertemplate": "<b>%{hovertext}</b><br><br>Region=North America and ANZ<br>year=2018<br>HealthyLifeExpectancy=%{x}<br>Score=%{y}<extra></extra>",
           "hovertext": [
            "Australia",
            "Canada",
            "New Zealand",
            "United States"
           ],
           "ids": [
            "Australia",
            "Canada",
            "New Zealand",
            "United States"
           ],
           "legendgroup": "North America and ANZ",
           "marker": {
            "color": "#636efa",
            "symbol": "circle"
           },
           "mode": "markers",
           "name": "North America and ANZ",
           "showlegend": true,
           "type": "scatter",
           "x": [
            0.91,
            0.8959999999999999,
            0.8759999999999999,
            0.8190000000000001
           ],
           "xaxis": "x",
           "y": [
            7.272,
            7.327999999999999,
            7.324,
            6.886
           ],
           "yaxis": "y"
          },
          {
           "hovertemplate": "<b>%{hovertext}</b><br><br>Region=Middle East and North Africa<br>year=2018<br>HealthyLifeExpectancy=%{x}<br>Score=%{y}<extra></extra>",
           "hovertext": [
            "Algeria",
            "Bahrain",
            "Egypt",
            "Iran",
            "Iraq",
            "Israel",
            "Jordan",
            "Kuwait",
            "Lebanon",
            "Libya",
            "Morocco",
            "Palestinian Territories",
            "Qatar",
            "Saudi Arabia",
            "Syria",
            "Tunisia",
            "Turkey",
            "United Arab Emirates",
            "Yemen"
           ],
           "ids": [
            "Algeria",
            "Bahrain",
            "Egypt",
            "Iran",
            "Iraq",
            "Israel",
            "Jordan",
            "Kuwait",
            "Lebanon",
            "Libya",
            "Morocco",
            "Palestinian Territories",
            "Qatar",
            "Saudi Arabia",
            "Syria",
            "Tunisia",
            "Turkey",
            "United Arab Emirates",
            "Yemen"
           ],
           "legendgroup": "Middle East and North Africa",
           "marker": {
            "color": "#EF553B",
            "symbol": "circle"
           },
           "mode": "markers",
           "name": "Middle East and North Africa",
           "showlegend": true,
           "type": "scatter",
           "x": [
            0.687,
            0.698,
            0.5529999999999999,
            0.691,
            0.536,
            0.883,
            0.645,
            0.675,
            0.785,
            0.5529999999999999,
            0.669,
            0.602,
            0.748,
            0.633,
            0.539,
            0.69,
            0.6859999999999999,
            0.67,
            0.34299999999999997
           ],
           "xaxis": "x",
           "y": [
            5.295,
            6.105,
            4.419,
            4.707,
            4.456,
            6.814,
            5.1610000000000005,
            6.082999999999999,
            5.358,
            5.566,
            5.254,
            4.743,
            6.374,
            6.371,
            3.4619999999999997,
            4.592,
            5.483,
            6.774,
            3.355
           ],
           "yaxis": "y"
          },
          {
           "hovertemplate": "<b>%{hovertext}</b><br><br>Region=Southeast Asia<br>year=2018<br>HealthyLifeExpectancy=%{x}<br>Score=%{y}<extra></extra>",
           "hovertext": [
            "Cambodia",
            "Indonesia",
            "Laos",
            "Malaysia",
            "Myanmar",
            "Philippines",
            "Singapore",
            "Thailand",
            "Vietnam"
           ],
           "ids": [
            "Cambodia",
            "Indonesia",
            "Laos",
            "Malaysia",
            "Myanmar",
            "Philippines",
            "Singapore",
            "Thailand",
            "Vietnam"
           ],
           "legendgroup": "Southeast Asia",
           "marker": {
            "color": "#00cc96",
            "symbol": "circle"
           },
           "mode": "markers",
           "name": "Southeast Asia",
           "showlegend": true,
           "type": "scatter",
           "x": [
            0.457,
            0.522,
            0.441,
            0.669,
            0.429,
            0.513,
            1.008,
            0.7070000000000001,
            0.7020000000000001
           ],
           "xaxis": "x",
           "y": [
            4.433,
            5.093,
            4.623,
            6.322,
            4.308,
            5.524,
            6.343,
            6.072,
            5.103
           ],
           "yaxis": "y"
          },
          {
           "hovertemplate": "<b>%{hovertext}</b><br><br>Region=East Asia<br>year=2018<br>HealthyLifeExpectancy=%{x}<br>Score=%{y}<extra></extra>",
           "hovertext": [
            "China",
            "Hong Kong S.A.R. of China",
            "Japan",
            "Mongolia",
            "South Korea",
            "Taiwan"
           ],
           "ids": [
            "China",
            "Hong Kong S.A.R. of China",
            "Japan",
            "Mongolia",
            "South Korea",
            "Taiwan"
           ],
           "legendgroup": "East Asia",
           "marker": {
            "color": "#ab63fa",
            "symbol": "circle"
           },
           "mode": "markers",
           "name": "East Asia",
           "showlegend": true,
           "type": "scatter",
           "x": [
            0.799,
            1.03,
            0.988,
            0.575,
            0.955,
            0.857
           ],
           "xaxis": "x",
           "y": [
            5.246,
            5.43,
            5.915,
            5.125,
            5.875,
            6.441
           ],
           "yaxis": "y"
          },
          {
           "hovertemplate": "<b>%{hovertext}</b><br><br>Region=Commonwealth of Independent States<br>year=2018<br>HealthyLifeExpectancy=%{x}<br>Score=%{y}<extra></extra>",
           "hovertext": [
            "Armenia",
            "Azerbaijan",
            "Belarus",
            "Georgia",
            "Kazakhstan",
            "Kyrgyzstan",
            "Moldova",
            "Russia",
            "Tajikistan",
            "Turkmenistan",
            "Ukraine",
            "Uzbekistan"
           ],
           "ids": [
            "Armenia",
            "Azerbaijan",
            "Belarus",
            "Georgia",
            "Kazakhstan",
            "Kyrgyzstan",
            "Moldova",
            "Russia",
            "Tajikistan",
            "Turkmenistan",
            "Ukraine",
            "Uzbekistan"
           ],
           "legendgroup": "Commonwealth of Independent States",
           "marker": {
            "color": "#FFA15A",
            "symbol": "circle"
           },
           "mode": "markers",
           "name": "Commonwealth of Independent States",
           "showlegend": true,
           "type": "scatter",
           "x": [
            0.6659999999999999,
            0.603,
            0.7,
            0.643,
            0.631,
            0.594,
            0.62,
            0.599,
            0.598,
            0.517,
            0.609,
            0.605
           ],
           "xaxis": "x",
           "y": [
            4.321000000000001,
            5.2010000000000005,
            5.483,
            4.34,
            5.79,
            5.131,
            5.64,
            5.81,
            5.199,
            5.636,
            4.103,
            6.096
           ],
           "yaxis": "y"
          },
          {
           "hovertemplate": "<b>%{hovertext}</b><br><br>Region=South Asia<br>year=2018<br>HealthyLifeExpectancy=%{x}<br>Score=%{y}<extra></extra>",
           "hovertext": [
            "Afghanistan",
            "Bangladesh",
            "Bhutan",
            "India",
            "Nepal",
            "Pakistan",
            "Sri Lanka"
           ],
           "ids": [
            "Afghanistan",
            "Bangladesh",
            "Bhutan",
            "India",
            "Nepal",
            "Pakistan",
            "Sri Lanka"
           ],
           "legendgroup": "South Asia",
           "marker": {
            "color": "#19d3f3",
            "symbol": "circle"
           },
           "mode": "markers",
           "name": "South Asia",
           "showlegend": true,
           "type": "scatter",
           "x": [
            0.255,
            0.579,
            0.527,
            0.485,
            0.539,
            0.424,
            0.672
           ],
           "xaxis": "x",
           "y": [
            3.6319999999999997,
            4.5,
            5.082,
            4.19,
            4.88,
            5.472,
            4.471
           ],
           "yaxis": "y"
          }
         ],
         "name": "2018"
        },
        {
         "data": [
          {
           "hovertemplate": "<b>%{hovertext}</b><br><br>Region=Western Europe<br>year=2019<br>HealthyLifeExpectancy=%{x}<br>Score=%{y}<extra></extra>",
           "hovertext": [
            "Austria",
            "Belgium",
            "Cyprus",
            "Cyprus",
            "Denmark",
            "Finland",
            "France",
            "Germany",
            "Greece",
            "Iceland",
            "Ireland",
            "Italy",
            "Luxembourg",
            "Malta",
            "Netherlands",
            "Norway",
            "Portugal",
            "Spain",
            "Sweden",
            "Switzerland",
            "United Kingdom"
           ],
           "ids": [
            "Austria",
            "Belgium",
            "Cyprus",
            "Cyprus",
            "Denmark",
            "Finland",
            "France",
            "Germany",
            "Greece",
            "Iceland",
            "Ireland",
            "Italy",
            "Luxembourg",
            "Malta",
            "Netherlands",
            "Norway",
            "Portugal",
            "Spain",
            "Sweden",
            "Switzerland",
            "United Kingdom"
           ],
           "legendgroup": "Western Europe",
           "marker": {
            "color": "#636efa",
            "symbol": "circle"
           },
           "mode": "markers",
           "name": "Western Europe",
           "showlegend": true,
           "type": "scatter",
           "x": [
            1.016,
            0.986,
            1.042,
            1.042,
            0.996,
            0.986,
            1.045,
            0.987,
            0.9990000000000001,
            1.026,
            0.9990000000000001,
            1.0390000000000001,
            1.012,
            0.9990000000000001,
            0.9990000000000001,
            1.028,
            0.9990000000000001,
            1.062,
            1.0090000000000001,
            1.052,
            0.996
           ],
           "xaxis": "x",
           "y": [
            7.246,
            6.922999999999999,
            6.046,
            5.718,
            7.6,
            7.769,
            6.5920000000000005,
            6.985,
            5.287000000000001,
            7.494,
            7.021,
            6.223,
            7.09,
            6.726,
            7.4879999999999995,
            7.553999999999999,
            5.693,
            6.354,
            7.343,
            7.48,
            7.053999999999999
           ],
           "yaxis": "y"
          },
          {
           "hovertemplate": "<b>%{hovertext}</b><br><br>Region=Latin America and Caribbean<br>year=2019<br>HealthyLifeExpectancy=%{x}<br>Score=%{y}<extra></extra>",
           "hovertext": [
            "Argentina",
            "Bolivia",
            "Brazil",
            "Chile",
            "Colombia",
            "Costa Rica",
            "Dominican Republic",
            "Ecuador",
            "El Salvador",
            "Guatemala",
            "Haiti",
            "Honduras",
            "Jamaica",
            "Mexico",
            "Nicaragua",
            "Panama",
            "Paraguay",
            "Peru",
            "Trinidad and Tobago",
            "Uruguay",
            "Venezuela"
           ],
           "ids": [
            "Argentina",
            "Bolivia",
            "Brazil",
            "Chile",
            "Colombia",
            "Costa Rica",
            "Dominican Republic",
            "Ecuador",
            "El Salvador",
            "Guatemala",
            "Haiti",
            "Honduras",
            "Jamaica",
            "Mexico",
            "Nicaragua",
            "Panama",
            "Paraguay",
            "Peru",
            "Trinidad and Tobago",
            "Uruguay",
            "Venezuela"
           ],
           "legendgroup": "Latin America and Caribbean",
           "marker": {
            "color": "#FFA15A",
            "symbol": "circle"
           },
           "mode": "markers",
           "name": "Latin America and Caribbean",
           "showlegend": true,
           "type": "scatter",
           "x": [
            0.8809999999999999,
            0.706,
            0.802,
            0.92,
            0.841,
            0.963,
            0.779,
            0.868,
            0.789,
            0.746,
            0.449,
            0.828,
            0.831,
            0.861,
            0.835,
            0.91,
            0.777,
            0.8540000000000001,
            0.713,
            0.8909999999999999,
            0.805
           ],
           "xaxis": "x",
           "y": [
            6.086,
            5.779,
            6.3,
            6.444,
            6.125,
            7.167000000000001,
            5.425,
            6.028,
            6.252999999999999,
            6.436,
            3.597,
            5.86,
            5.89,
            6.595,
            6.105,
            6.321000000000001,
            5.742999999999999,
            5.697,
            6.192,
            6.292999999999999,
            4.707
           ],
           "yaxis": "y"
          },
          {
           "hovertemplate": "<b>%{hovertext}</b><br><br>Region=Central and Eastern Europe<br>year=2019<br>HealthyLifeExpectancy=%{x}<br>Score=%{y}<extra></extra>",
           "hovertext": [
            "Albania",
            "Bosnia and Herzegovina",
            "Bulgaria",
            "Croatia",
            "Czech Republic",
            "Estonia",
            "Hungary",
            "Kosovo",
            "Latvia",
            "Lithuania",
            "Macedonia",
            "Montenegro",
            "Poland",
            "Romania",
            "Serbia",
            "Slovakia",
            "Slovenia"
           ],
           "ids": [
            "Albania",
            "Bosnia and Herzegovina",
            "Bulgaria",
            "Croatia",
            "Czech Republic",
            "Estonia",
            "Hungary",
            "Kosovo",
            "Latvia",
            "Lithuania",
            "Macedonia",
            "Montenegro",
            "Poland",
            "Romania",
            "Serbia",
            "Slovakia",
            "Slovenia"
           ],
           "legendgroup": "Central and Eastern Europe",
           "marker": {
            "color": "#FF6692",
            "symbol": "circle"
           },
           "mode": "markers",
           "name": "Central and Eastern Europe",
           "showlegend": true,
           "type": "scatter",
           "x": [
            0.8740000000000001,
            0.845,
            0.815,
            0.914,
            0.92,
            0.8740000000000001,
            0.828,
            0.758,
            0.812,
            0.818,
            0.838,
            0.871,
            0.884,
            0.825,
            0.8540000000000001,
            0.8809999999999999,
            0.953
           ],
           "xaxis": "x",
           "y": [
            4.718999999999999,
            5.386,
            5.011,
            5.432,
            6.852,
            5.893,
            5.757999999999999,
            6.1,
            5.94,
            6.149,
            5.274,
            5.523,
            6.182,
            6.07,
            5.603,
            6.1979999999999995,
            6.117999999999999
           ],
           "yaxis": "y"
          },
          {
           "hovertemplate": "<b>%{hovertext}</b><br><br>Region=Sub-Saharan Africa<br>year=2019<br>HealthyLifeExpectancy=%{x}<br>Score=%{y}<extra></extra>",
           "hovertext": [
            "Benin",
            "Botswana",
            "Burkina Faso",
            "Burundi",
            "Cameroon",
            "Central African Republic",
            "Chad",
            "Comoros",
            "Congo (Brazzaville)",
            "Congo (Kinshasa)",
            "Ethiopia",
            "Gabon",
            "Gambia",
            "Ghana",
            "Guinea",
            "Ivory Coast",
            "Kenya",
            "Lesotho",
            "Liberia",
            "Madagascar",
            "Malawi",
            "Mali",
            "Mauritania",
            "Mauritius",
            "Mozambique",
            "Namibia",
            "Niger",
            "Nigeria",
            "Rwanda",
            "Senegal",
            "Sierra Leone",
            "Somalia",
            "South Africa",
            "South Sudan",
            "Swaziland",
            "Tanzania",
            "Togo",
            "Uganda",
            "Zambia",
            "Zimbabwe"
           ],
           "ids": [
            "Benin",
            "Botswana",
            "Burkina Faso",
            "Burundi",
            "Cameroon",
            "Central African Republic",
            "Chad",
            "Comoros",
            "Congo (Brazzaville)",
            "Congo (Kinshasa)",
            "Ethiopia",
            "Gabon",
            "Gambia",
            "Ghana",
            "Guinea",
            "Ivory Coast",
            "Kenya",
            "Lesotho",
            "Liberia",
            "Madagascar",
            "Malawi",
            "Mali",
            "Mauritania",
            "Mauritius",
            "Mozambique",
            "Namibia",
            "Niger",
            "Nigeria",
            "Rwanda",
            "Senegal",
            "Sierra Leone",
            "Somalia",
            "South Africa",
            "South Sudan",
            "Swaziland",
            "Tanzania",
            "Togo",
            "Uganda",
            "Zambia",
            "Zimbabwe"
           ],
           "legendgroup": "Sub-Saharan Africa",
           "marker": {
            "color": "#FF97FF",
            "symbol": "circle"
           },
           "mode": "markers",
           "name": "Sub-Saharan Africa",
           "showlegend": true,
           "type": "scatter",
           "x": [
            0.397,
            0.5379999999999999,
            0.38,
            0.38,
            0.331,
            0.105,
            0.192,
            0.505,
            0.508,
            0.35700000000000004,
            0.532,
            0.5710000000000001,
            0.428,
            0.486,
            0.375,
            0.23199999999999998,
            0.581,
            0.168,
            0.44299999999999995,
            0.555,
            0.495,
            0.308,
            0.489,
            0.7979999999999999,
            0.39,
            0.47700000000000004,
            0.366,
            0.245,
            0.614,
            0.5710000000000001,
            0.242,
            0.268,
            0.469,
            0.295,
            0,
            0.499,
            0.41,
            0.44299999999999995,
            0.426,
            0.433
           ],
           "xaxis": "x",
           "y": [
            4.883,
            3.488,
            4.587,
            3.775,
            5.044,
            3.083,
            4.35,
            3.9730000000000003,
            4.812,
            4.418,
            4.2860000000000005,
            4.7989999999999995,
            4.516,
            4.996,
            4.534,
            4.944,
            4.5089999999999995,
            3.802,
            3.975,
            3.9330000000000003,
            3.41,
            4.39,
            4.49,
            5.888,
            4.466,
            4.638999999999999,
            4.628,
            5.265,
            3.3339999999999996,
            4.681,
            4.374,
            4.668,
            4.7219999999999995,
            2.853,
            4.212,
            3.2310000000000003,
            4.085,
            4.189,
            4.107,
            3.6630000000000003
           ],
           "yaxis": "y"
          },
          {
           "hovertemplate": "<b>%{hovertext}</b><br><br>Region=North America and ANZ<br>year=2019<br>HealthyLifeExpectancy=%{x}<br>Score=%{y}<extra></extra>",
           "hovertext": [
            "Australia",
            "Canada",
            "New Zealand",
            "United States"
           ],
           "ids": [
            "Australia",
            "Canada",
            "New Zealand",
            "United States"
           ],
           "legendgroup": "North America and ANZ",
           "marker": {
            "color": "#636efa",
            "symbol": "circle"
           },
           "mode": "markers",
           "name": "North America and ANZ",
           "showlegend": true,
           "type": "scatter",
           "x": [
            1.036,
            1.0390000000000001,
            1.026,
            0.8740000000000001
           ],
           "xaxis": "x",
           "y": [
            7.228,
            7.278,
            7.307,
            6.892
           ],
           "yaxis": "y"
          },
          {
           "hovertemplate": "<b>%{hovertext}</b><br><br>Region=Middle East and North Africa<br>year=2019<br>HealthyLifeExpectancy=%{x}<br>Score=%{y}<extra></extra>",
           "hovertext": [
            "Algeria",
            "Bahrain",
            "Egypt",
            "Iran",
            "Iraq",
            "Israel",
            "Jordan",
            "Kuwait",
            "Lebanon",
            "Libya",
            "Morocco",
            "Palestinian Territories",
            "Qatar",
            "Saudi Arabia",
            "Syria",
            "Tunisia",
            "Turkey",
            "United Arab Emirates",
            "Yemen"
           ],
           "ids": [
            "Algeria",
            "Bahrain",
            "Egypt",
            "Iran",
            "Iraq",
            "Israel",
            "Jordan",
            "Kuwait",
            "Lebanon",
            "Libya",
            "Morocco",
            "Palestinian Territories",
            "Qatar",
            "Saudi Arabia",
            "Syria",
            "Tunisia",
            "Turkey",
            "United Arab Emirates",
            "Yemen"
           ],
           "legendgroup": "Middle East and North Africa",
           "marker": {
            "color": "#EF553B",
            "symbol": "circle"
           },
           "mode": "markers",
           "name": "Middle East and North Africa",
           "showlegend": true,
           "type": "scatter",
           "x": [
            0.785,
            0.871,
            0.644,
            0.785,
            0.574,
            1.0290000000000001,
            0.815,
            0.8079999999999999,
            0.815,
            0.6729999999999999,
            0.782,
            0.672,
            0.871,
            0.795,
            0.44,
            0.815,
            0.8079999999999999,
            0.825,
            0.46299999999999997
           ],
           "xaxis": "x",
           "y": [
            5.211,
            6.199,
            4.166,
            4.548,
            4.437,
            7.138999999999999,
            4.906000000000001,
            6.021,
            5.197,
            5.525,
            5.207999999999999,
            4.696000000000001,
            6.374,
            6.375,
            3.4619999999999997,
            4.461,
            5.372999999999999,
            6.825,
            3.38
           ],
           "yaxis": "y"
          },
          {
           "hovertemplate": "<b>%{hovertext}</b><br><br>Region=Southeast Asia<br>year=2019<br>HealthyLifeExpectancy=%{x}<br>Score=%{y}<extra></extra>",
           "hovertext": [
            "Cambodia",
            "Indonesia",
            "Laos",
            "Malaysia",
            "Myanmar",
            "Philippines",
            "Singapore",
            "Thailand",
            "Vietnam"
           ],
           "ids": [
            "Cambodia",
            "Indonesia",
            "Laos",
            "Malaysia",
            "Myanmar",
            "Philippines",
            "Singapore",
            "Thailand",
            "Vietnam"
           ],
           "legendgroup": "Southeast Asia",
           "marker": {
            "color": "#00cc96",
            "symbol": "circle"
           },
           "mode": "markers",
           "name": "Southeast Asia",
           "showlegend": true,
           "type": "scatter",
           "x": [
            0.637,
            0.66,
            0.551,
            0.828,
            0.555,
            0.657,
            1.141,
            0.828,
            0.851
           ],
           "xaxis": "x",
           "y": [
            4.7,
            5.192,
            4.796,
            5.3389999999999995,
            4.36,
            5.631,
            6.2620000000000005,
            6.007999999999999,
            5.175
           ],
           "yaxis": "y"
          },
          {
           "hovertemplate": "<b>%{hovertext}</b><br><br>Region=East Asia<br>year=2019<br>HealthyLifeExpectancy=%{x}<br>Score=%{y}<extra></extra>",
           "hovertext": [
            "China",
            "Hong Kong S.A.R. of China",
            "Japan",
            "Mongolia",
            "South Korea",
            "Taiwan"
           ],
           "ids": [
            "China",
            "Hong Kong S.A.R. of China",
            "Japan",
            "Mongolia",
            "South Korea",
            "Taiwan"
           ],
           "legendgroup": "East Asia",
           "marker": {
            "color": "#ab63fa",
            "symbol": "circle"
           },
           "mode": "markers",
           "name": "East Asia",
           "showlegend": true,
           "type": "scatter",
           "x": [
            0.893,
            1.122,
            1.088,
            0.667,
            1.036,
            0.914
           ],
           "xaxis": "x",
           "y": [
            5.191,
            5.43,
            5.886,
            5.285,
            5.895,
            6.446000000000001
           ],
           "yaxis": "y"
          },
          {
           "hovertemplate": "<b>%{hovertext}</b><br><br>Region=Commonwealth of Independent States<br>year=2019<br>HealthyLifeExpectancy=%{x}<br>Score=%{y}<extra></extra>",
           "hovertext": [
            "Armenia",
            "Azerbaijan",
            "Belarus",
            "Georgia",
            "Kazakhstan",
            "Kyrgyzstan",
            "Moldova",
            "Russia",
            "Tajikistan",
            "Turkmenistan",
            "Ukraine",
            "Uzbekistan"
           ],
           "ids": [
            "Armenia",
            "Azerbaijan",
            "Belarus",
            "Georgia",
            "Kazakhstan",
            "Kyrgyzstan",
            "Moldova",
            "Russia",
            "Tajikistan",
            "Turkmenistan",
            "Ukraine",
            "Uzbekistan"
           ],
           "legendgroup": "Commonwealth of Independent States",
           "marker": {
            "color": "#FFA15A",
            "symbol": "circle"
           },
           "mode": "markers",
           "name": "Commonwealth of Independent States",
           "showlegend": true,
           "type": "scatter",
           "x": [
            0.815,
            0.769,
            0.789,
            0.752,
            0.7290000000000001,
            0.723,
            0.7390000000000001,
            0.726,
            0.718,
            0.657,
            0.7390000000000001,
            0.7559999999999999
           ],
           "xaxis": "x",
           "y": [
            4.559,
            5.207999999999999,
            5.3229999999999995,
            4.519,
            5.809,
            5.261,
            5.529,
            5.648,
            5.4670000000000005,
            5.247000000000001,
            4.332,
            6.1739999999999995
           ],
           "yaxis": "y"
          },
          {
           "hovertemplate": "<b>%{hovertext}</b><br><br>Region=South Asia<br>year=2019<br>HealthyLifeExpectancy=%{x}<br>Score=%{y}<extra></extra>",
           "hovertext": [
            "Afghanistan",
            "Bangladesh",
            "Bhutan",
            "India",
            "Nepal",
            "Pakistan",
            "Sri Lanka"
           ],
           "ids": [
            "Afghanistan",
            "Bangladesh",
            "Bhutan",
            "India",
            "Nepal",
            "Pakistan",
            "Sri Lanka"
           ],
           "legendgroup": "South Asia",
           "marker": {
            "color": "#19d3f3",
            "symbol": "circle"
           },
           "mode": "markers",
           "name": "South Asia",
           "showlegend": true,
           "type": "scatter",
           "x": [
            0.361,
            0.723,
            0.604,
            0.588,
            0.677,
            0.535,
            0.831
           ],
           "xaxis": "x",
           "y": [
            3.2030000000000003,
            4.456,
            5.082,
            4.015,
            4.913,
            5.653,
            4.3660000000000005
           ],
           "yaxis": "y"
          }
         ],
         "name": "2019"
        }
       ],
       "layout": {
        "autosize": true,
        "legend": {
         "title": {
          "text": "Region"
         },
         "tracegroupgap": 0
        },
        "margin": {
         "t": 60
        },
        "sliders": [
         {
          "active": 4,
          "currentvalue": {
           "prefix": "year="
          },
          "len": 0.9,
          "pad": {
           "b": 10,
           "t": 60
          },
          "steps": [
           {
            "args": [
             [
              "2015"
             ],
             {
              "frame": {
               "duration": 0,
               "redraw": false
              },
              "fromcurrent": true,
              "mode": "immediate",
              "transition": {
               "duration": 0,
               "easing": "linear"
              }
             }
            ],
            "label": "2015",
            "method": "animate"
           },
           {
            "args": [
             [
              "2016"
             ],
             {
              "frame": {
               "duration": 0,
               "redraw": false
              },
              "fromcurrent": true,
              "mode": "immediate",
              "transition": {
               "duration": 0,
               "easing": "linear"
              }
             }
            ],
            "label": "2016",
            "method": "animate"
           },
           {
            "args": [
             [
              "2017"
             ],
             {
              "frame": {
               "duration": 0,
               "redraw": false
              },
              "fromcurrent": true,
              "mode": "immediate",
              "transition": {
               "duration": 0,
               "easing": "linear"
              }
             }
            ],
            "label": "2017",
            "method": "animate"
           },
           {
            "args": [
             [
              "2018"
             ],
             {
              "frame": {
               "duration": 0,
               "redraw": false
              },
              "fromcurrent": true,
              "mode": "immediate",
              "transition": {
               "duration": 0,
               "easing": "linear"
              }
             }
            ],
            "label": "2018",
            "method": "animate"
           },
           {
            "args": [
             [
              "2019"
             ],
             {
              "frame": {
               "duration": 0,
               "redraw": false
              },
              "fromcurrent": true,
              "mode": "immediate",
              "transition": {
               "duration": 0,
               "easing": "linear"
              }
             }
            ],
            "label": "2019",
            "method": "animate"
           }
          ],
          "x": 0.1,
          "xanchor": "left",
          "y": 0,
          "yanchor": "top"
         }
        ],
        "template": {
         "data": {
          "bar": [
           {
            "error_x": {
             "color": "#2a3f5f"
            },
            "error_y": {
             "color": "#2a3f5f"
            },
            "marker": {
             "line": {
              "color": "#E5ECF6",
              "width": 0.5
             }
            },
            "type": "bar"
           }
          ],
          "barpolar": [
           {
            "marker": {
             "line": {
              "color": "#E5ECF6",
              "width": 0.5
             }
            },
            "type": "barpolar"
           }
          ],
          "carpet": [
           {
            "aaxis": {
             "endlinecolor": "#2a3f5f",
             "gridcolor": "white",
             "linecolor": "white",
             "minorgridcolor": "white",
             "startlinecolor": "#2a3f5f"
            },
            "baxis": {
             "endlinecolor": "#2a3f5f",
             "gridcolor": "white",
             "linecolor": "white",
             "minorgridcolor": "white",
             "startlinecolor": "#2a3f5f"
            },
            "type": "carpet"
           }
          ],
          "choropleth": [
           {
            "colorbar": {
             "outlinewidth": 0,
             "ticks": ""
            },
            "type": "choropleth"
           }
          ],
          "contour": [
           {
            "colorbar": {
             "outlinewidth": 0,
             "ticks": ""
            },
            "colorscale": [
             [
              0,
              "#0d0887"
             ],
             [
              0.1111111111111111,
              "#46039f"
             ],
             [
              0.2222222222222222,
              "#7201a8"
             ],
             [
              0.3333333333333333,
              "#9c179e"
             ],
             [
              0.4444444444444444,
              "#bd3786"
             ],
             [
              0.5555555555555556,
              "#d8576b"
             ],
             [
              0.6666666666666666,
              "#ed7953"
             ],
             [
              0.7777777777777778,
              "#fb9f3a"
             ],
             [
              0.8888888888888888,
              "#fdca26"
             ],
             [
              1,
              "#f0f921"
             ]
            ],
            "type": "contour"
           }
          ],
          "contourcarpet": [
           {
            "colorbar": {
             "outlinewidth": 0,
             "ticks": ""
            },
            "type": "contourcarpet"
           }
          ],
          "heatmap": [
           {
            "colorbar": {
             "outlinewidth": 0,
             "ticks": ""
            },
            "colorscale": [
             [
              0,
              "#0d0887"
             ],
             [
              0.1111111111111111,
              "#46039f"
             ],
             [
              0.2222222222222222,
              "#7201a8"
             ],
             [
              0.3333333333333333,
              "#9c179e"
             ],
             [
              0.4444444444444444,
              "#bd3786"
             ],
             [
              0.5555555555555556,
              "#d8576b"
             ],
             [
              0.6666666666666666,
              "#ed7953"
             ],
             [
              0.7777777777777778,
              "#fb9f3a"
             ],
             [
              0.8888888888888888,
              "#fdca26"
             ],
             [
              1,
              "#f0f921"
             ]
            ],
            "type": "heatmap"
           }
          ],
          "heatmapgl": [
           {
            "colorbar": {
             "outlinewidth": 0,
             "ticks": ""
            },
            "colorscale": [
             [
              0,
              "#0d0887"
             ],
             [
              0.1111111111111111,
              "#46039f"
             ],
             [
              0.2222222222222222,
              "#7201a8"
             ],
             [
              0.3333333333333333,
              "#9c179e"
             ],
             [
              0.4444444444444444,
              "#bd3786"
             ],
             [
              0.5555555555555556,
              "#d8576b"
             ],
             [
              0.6666666666666666,
              "#ed7953"
             ],
             [
              0.7777777777777778,
              "#fb9f3a"
             ],
             [
              0.8888888888888888,
              "#fdca26"
             ],
             [
              1,
              "#f0f921"
             ]
            ],
            "type": "heatmapgl"
           }
          ],
          "histogram": [
           {
            "marker": {
             "colorbar": {
              "outlinewidth": 0,
              "ticks": ""
             }
            },
            "type": "histogram"
           }
          ],
          "histogram2d": [
           {
            "colorbar": {
             "outlinewidth": 0,
             "ticks": ""
            },
            "colorscale": [
             [
              0,
              "#0d0887"
             ],
             [
              0.1111111111111111,
              "#46039f"
             ],
             [
              0.2222222222222222,
              "#7201a8"
             ],
             [
              0.3333333333333333,
              "#9c179e"
             ],
             [
              0.4444444444444444,
              "#bd3786"
             ],
             [
              0.5555555555555556,
              "#d8576b"
             ],
             [
              0.6666666666666666,
              "#ed7953"
             ],
             [
              0.7777777777777778,
              "#fb9f3a"
             ],
             [
              0.8888888888888888,
              "#fdca26"
             ],
             [
              1,
              "#f0f921"
             ]
            ],
            "type": "histogram2d"
           }
          ],
          "histogram2dcontour": [
           {
            "colorbar": {
             "outlinewidth": 0,
             "ticks": ""
            },
            "colorscale": [
             [
              0,
              "#0d0887"
             ],
             [
              0.1111111111111111,
              "#46039f"
             ],
             [
              0.2222222222222222,
              "#7201a8"
             ],
             [
              0.3333333333333333,
              "#9c179e"
             ],
             [
              0.4444444444444444,
              "#bd3786"
             ],
             [
              0.5555555555555556,
              "#d8576b"
             ],
             [
              0.6666666666666666,
              "#ed7953"
             ],
             [
              0.7777777777777778,
              "#fb9f3a"
             ],
             [
              0.8888888888888888,
              "#fdca26"
             ],
             [
              1,
              "#f0f921"
             ]
            ],
            "type": "histogram2dcontour"
           }
          ],
          "mesh3d": [
           {
            "colorbar": {
             "outlinewidth": 0,
             "ticks": ""
            },
            "type": "mesh3d"
           }
          ],
          "parcoords": [
           {
            "line": {
             "colorbar": {
              "outlinewidth": 0,
              "ticks": ""
             }
            },
            "type": "parcoords"
           }
          ],
          "pie": [
           {
            "automargin": true,
            "type": "pie"
           }
          ],
          "scatter": [
           {
            "marker": {
             "colorbar": {
              "outlinewidth": 0,
              "ticks": ""
             }
            },
            "type": "scatter"
           }
          ],
          "scatter3d": [
           {
            "line": {
             "colorbar": {
              "outlinewidth": 0,
              "ticks": ""
             }
            },
            "marker": {
             "colorbar": {
              "outlinewidth": 0,
              "ticks": ""
             }
            },
            "type": "scatter3d"
           }
          ],
          "scattercarpet": [
           {
            "marker": {
             "colorbar": {
              "outlinewidth": 0,
              "ticks": ""
             }
            },
            "type": "scattercarpet"
           }
          ],
          "scattergeo": [
           {
            "marker": {
             "colorbar": {
              "outlinewidth": 0,
              "ticks": ""
             }
            },
            "type": "scattergeo"
           }
          ],
          "scattergl": [
           {
            "marker": {
             "colorbar": {
              "outlinewidth": 0,
              "ticks": ""
             }
            },
            "type": "scattergl"
           }
          ],
          "scattermapbox": [
           {
            "marker": {
             "colorbar": {
              "outlinewidth": 0,
              "ticks": ""
             }
            },
            "type": "scattermapbox"
           }
          ],
          "scatterpolar": [
           {
            "marker": {
             "colorbar": {
              "outlinewidth": 0,
              "ticks": ""
             }
            },
            "type": "scatterpolar"
           }
          ],
          "scatterpolargl": [
           {
            "marker": {
             "colorbar": {
              "outlinewidth": 0,
              "ticks": ""
             }
            },
            "type": "scatterpolargl"
           }
          ],
          "scatterternary": [
           {
            "marker": {
             "colorbar": {
              "outlinewidth": 0,
              "ticks": ""
             }
            },
            "type": "scatterternary"
           }
          ],
          "surface": [
           {
            "colorbar": {
             "outlinewidth": 0,
             "ticks": ""
            },
            "colorscale": [
             [
              0,
              "#0d0887"
             ],
             [
              0.1111111111111111,
              "#46039f"
             ],
             [
              0.2222222222222222,
              "#7201a8"
             ],
             [
              0.3333333333333333,
              "#9c179e"
             ],
             [
              0.4444444444444444,
              "#bd3786"
             ],
             [
              0.5555555555555556,
              "#d8576b"
             ],
             [
              0.6666666666666666,
              "#ed7953"
             ],
             [
              0.7777777777777778,
              "#fb9f3a"
             ],
             [
              0.8888888888888888,
              "#fdca26"
             ],
             [
              1,
              "#f0f921"
             ]
            ],
            "type": "surface"
           }
          ],
          "table": [
           {
            "cells": {
             "fill": {
              "color": "#EBF0F8"
             },
             "line": {
              "color": "white"
             }
            },
            "header": {
             "fill": {
              "color": "#C8D4E3"
             },
             "line": {
              "color": "white"
             }
            },
            "type": "table"
           }
          ]
         },
         "layout": {
          "annotationdefaults": {
           "arrowcolor": "#2a3f5f",
           "arrowhead": 0,
           "arrowwidth": 1
          },
          "coloraxis": {
           "colorbar": {
            "outlinewidth": 0,
            "ticks": ""
           }
          },
          "colorscale": {
           "diverging": [
            [
             0,
             "#8e0152"
            ],
            [
             0.1,
             "#c51b7d"
            ],
            [
             0.2,
             "#de77ae"
            ],
            [
             0.3,
             "#f1b6da"
            ],
            [
             0.4,
             "#fde0ef"
            ],
            [
             0.5,
             "#f7f7f7"
            ],
            [
             0.6,
             "#e6f5d0"
            ],
            [
             0.7,
             "#b8e186"
            ],
            [
             0.8,
             "#7fbc41"
            ],
            [
             0.9,
             "#4d9221"
            ],
            [
             1,
             "#276419"
            ]
           ],
           "sequential": [
            [
             0,
             "#0d0887"
            ],
            [
             0.1111111111111111,
             "#46039f"
            ],
            [
             0.2222222222222222,
             "#7201a8"
            ],
            [
             0.3333333333333333,
             "#9c179e"
            ],
            [
             0.4444444444444444,
             "#bd3786"
            ],
            [
             0.5555555555555556,
             "#d8576b"
            ],
            [
             0.6666666666666666,
             "#ed7953"
            ],
            [
             0.7777777777777778,
             "#fb9f3a"
            ],
            [
             0.8888888888888888,
             "#fdca26"
            ],
            [
             1,
             "#f0f921"
            ]
           ],
           "sequentialminus": [
            [
             0,
             "#0d0887"
            ],
            [
             0.1111111111111111,
             "#46039f"
            ],
            [
             0.2222222222222222,
             "#7201a8"
            ],
            [
             0.3333333333333333,
             "#9c179e"
            ],
            [
             0.4444444444444444,
             "#bd3786"
            ],
            [
             0.5555555555555556,
             "#d8576b"
            ],
            [
             0.6666666666666666,
             "#ed7953"
            ],
            [
             0.7777777777777778,
             "#fb9f3a"
            ],
            [
             0.8888888888888888,
             "#fdca26"
            ],
            [
             1,
             "#f0f921"
            ]
           ]
          },
          "colorway": [
           "#636efa",
           "#EF553B",
           "#00cc96",
           "#ab63fa",
           "#FFA15A",
           "#19d3f3",
           "#FF6692",
           "#B6E880",
           "#FF97FF",
           "#FECB52"
          ],
          "font": {
           "color": "#2a3f5f"
          },
          "geo": {
           "bgcolor": "white",
           "lakecolor": "white",
           "landcolor": "#E5ECF6",
           "showlakes": true,
           "showland": true,
           "subunitcolor": "white"
          },
          "hoverlabel": {
           "align": "left"
          },
          "hovermode": "closest",
          "mapbox": {
           "style": "light"
          },
          "paper_bgcolor": "white",
          "plot_bgcolor": "#E5ECF6",
          "polar": {
           "angularaxis": {
            "gridcolor": "white",
            "linecolor": "white",
            "ticks": ""
           },
           "bgcolor": "#E5ECF6",
           "radialaxis": {
            "gridcolor": "white",
            "linecolor": "white",
            "ticks": ""
           }
          },
          "scene": {
           "xaxis": {
            "backgroundcolor": "#E5ECF6",
            "gridcolor": "white",
            "gridwidth": 2,
            "linecolor": "white",
            "showbackground": true,
            "ticks": "",
            "zerolinecolor": "white"
           },
           "yaxis": {
            "backgroundcolor": "#E5ECF6",
            "gridcolor": "white",
            "gridwidth": 2,
            "linecolor": "white",
            "showbackground": true,
            "ticks": "",
            "zerolinecolor": "white"
           },
           "zaxis": {
            "backgroundcolor": "#E5ECF6",
            "gridcolor": "white",
            "gridwidth": 2,
            "linecolor": "white",
            "showbackground": true,
            "ticks": "",
            "zerolinecolor": "white"
           }
          },
          "shapedefaults": {
           "line": {
            "color": "#2a3f5f"
           }
          },
          "ternary": {
           "aaxis": {
            "gridcolor": "white",
            "linecolor": "white",
            "ticks": ""
           },
           "baxis": {
            "gridcolor": "white",
            "linecolor": "white",
            "ticks": ""
           },
           "bgcolor": "#E5ECF6",
           "caxis": {
            "gridcolor": "white",
            "linecolor": "white",
            "ticks": ""
           }
          },
          "title": {
           "x": 0.05
          },
          "xaxis": {
           "automargin": true,
           "gridcolor": "white",
           "linecolor": "white",
           "ticks": "",
           "title": {
            "standoff": 15
           },
           "zerolinecolor": "white",
           "zerolinewidth": 2
          },
          "yaxis": {
           "automargin": true,
           "gridcolor": "white",
           "linecolor": "white",
           "ticks": "",
           "title": {
            "standoff": 15
           },
           "zerolinecolor": "white",
           "zerolinewidth": 2
          }
         }
        },
        "updatemenus": [
         {
          "active": 0,
          "buttons": [
           {
            "args": [
             null,
             {
              "frame": {
               "duration": 500,
               "redraw": false
              },
              "fromcurrent": true,
              "mode": "immediate",
              "transition": {
               "duration": 500,
               "easing": "linear"
              }
             }
            ],
            "label": "&#9654;",
            "method": "animate"
           },
           {
            "args": [
             [
              null
             ],
             {
              "frame": {
               "duration": 0,
               "redraw": false
              },
              "fromcurrent": true,
              "mode": "immediate",
              "transition": {
               "duration": 0,
               "easing": "linear"
              }
             }
            ],
            "label": "&#9724;",
            "method": "animate"
           }
          ],
          "direction": "left",
          "pad": {
           "r": 10,
           "t": 70
          },
          "showactive": false,
          "type": "buttons",
          "x": 0.1,
          "xanchor": "right",
          "y": 0,
          "yanchor": "top"
         }
        ],
        "xaxis": {
         "anchor": "y",
         "autorange": true,
         "domain": [
          0,
          1
         ],
         "range": [
          -0.07279376854599406,
          1.213793768545994
         ],
         "title": {
          "text": "HealthyLifeExpectancy"
         },
         "type": "linear"
        },
        "yaxis": {
         "anchor": "x",
         "autorange": true,
         "domain": [
          0,
          1
         ],
         "range": [
          2.479921425085408,
          8.142078574914592
         ],
         "title": {
          "text": "Score"
         },
         "type": "linear"
        }
       }
      },
      "image/png": "[encoded data removed]",
      "text/html": [
       "<div>\n",
       "        \n",
       "        \n",
       "            <div id=\"3f285c8d-ff7c-4d15-8589-186313851463\" class=\"plotly-graph-div\" style=\"height:525px; width:100%;\"></div>\n",
       "            <script type=\"text/javascript\">\n",
       "                require([\"plotly\"], function(Plotly) {\n",
       "                    window.PLOTLYENV=window.PLOTLYENV || {};\n",
       "                    \n",
       "                if (document.getElementById(\"3f285c8d-ff7c-4d15-8589-186313851463\")) {\n",
       "                    Plotly.newPlot(\n",
       "                        '3f285c8d-ff7c-4d15-8589-186313851463',\n",
       "                        [{\"hovertemplate\": \"<b>%{hovertext}</b><br><br>Region=Western Europe<br>year=2015<br>HealthyLifeExpectancy=%{x}<br>Score=%{y}<extra></extra>\", \"hovertext\": [\"Switzerland\", \"Iceland\", \"Denmark\", \"Norway\", \"Finland\", \"Netherlands\", \"Sweden\", \"Austria\", \"Luxembourg\", \"Ireland\", \"Belgium\", \"United Kingdom\", \"Germany\", \"France\", \"Spain\", \"Malta\", \"Italy\", \"North Cyprus\", \"Cyprus\", \"Portugal\", \"Greece\"], \"ids\": [\"Switzerland\", \"Iceland\", \"Denmark\", \"Norway\", \"Finland\", \"Netherlands\", \"Sweden\", \"Austria\", \"Luxembourg\", \"Ireland\", \"Belgium\", \"United Kingdom\", \"Germany\", \"France\", \"Spain\", \"Malta\", \"Italy\", \"North Cyprus\", \"Cyprus\", \"Portugal\", \"Greece\"], \"legendgroup\": \"Western Europe\", \"marker\": {\"color\": \"#636efa\", \"symbol\": \"circle\"}, \"mode\": \"markers\", \"name\": \"Western Europe\", \"showlegend\": true, \"type\": \"scatter\", \"x\": [0.9414299999999999, 0.94784, 0.87464, 0.88521, 0.8891100000000001, 0.89284, 0.9108700000000001, 0.8904200000000001, 0.91894, 0.89533, 0.8966700000000001, 0.90943, 0.89186, 0.9457899999999999, 0.95562, 0.88721, 0.9544600000000001, 0.92356, 0.92356, 0.8751899999999999, 0.88213], \"xaxis\": \"x\", \"y\": [7.587000000000001, 7.561, 7.527, 7.522, 7.406000000000001, 7.377999999999999, 7.364, 7.2, 6.946000000000001, 6.94, 6.937, 6.867000000000001, 6.75, 6.575, 6.329, 6.3020000000000005, 5.9479999999999995, 5.695, 5.689, 5.102, 4.857], \"yaxis\": \"y\"}, {\"hovertemplate\": \"<b>%{hovertext}</b><br><br>Region=North America<br>year=2015<br>HealthyLifeExpectancy=%{x}<br>Score=%{y}<extra></extra>\", \"hovertext\": [\"Canada\", \"United States\"], \"ids\": [\"Canada\", \"United States\"], \"legendgroup\": \"North America\", \"marker\": {\"color\": \"#EF553B\", \"symbol\": \"circle\"}, \"mode\": \"markers\", \"name\": \"North America\", \"showlegend\": true, \"type\": \"scatter\", \"x\": [0.9056299999999999, 0.86179], \"xaxis\": \"x\", \"y\": [7.4270000000000005, 7.119], \"yaxis\": \"y\"}, {\"hovertemplate\": \"<b>%{hovertext}</b><br><br>Region=Australia and New Zealand<br>year=2015<br>HealthyLifeExpectancy=%{x}<br>Score=%{y}<extra></extra>\", \"hovertext\": [\"New Zealand\", \"Australia\"], \"ids\": [\"New Zealand\", \"Australia\"], \"legendgroup\": \"Australia and New Zealand\", \"marker\": {\"color\": \"#00cc96\", \"symbol\": \"circle\"}, \"mode\": \"markers\", \"name\": \"Australia and New Zealand\", \"showlegend\": true, \"type\": \"scatter\", \"x\": [0.9083700000000001, 0.93156], \"xaxis\": \"x\", \"y\": [7.2860000000000005, 7.284], \"yaxis\": \"y\"}, {\"hovertemplate\": \"<b>%{hovertext}</b><br><br>Region=Middle East and Northern Africa<br>year=2015<br>HealthyLifeExpectancy=%{x}<br>Score=%{y}<extra></extra>\", \"hovertext\": [\"Israel\", \"United Arab Emirates\", \"Oman\", \"Qatar\", \"Saudi Arabia\", \"Kuwait\", \"Bahrain\", \"Libya\", \"Algeria\", \"Turkey\", \"Jordan\", \"Morocco\", \"Lebanon\", \"Tunisia\", \"Palestinian Territories\", \"Iran\", \"Iraq\", \"Egypt\", \"Yemen\", \"Syria\"], \"ids\": [\"Israel\", \"United Arab Emirates\", \"Oman\", \"Qatar\", \"Saudi Arabia\", \"Kuwait\", \"Bahrain\", \"Libya\", \"Algeria\", \"Turkey\", \"Jordan\", \"Morocco\", \"Lebanon\", \"Tunisia\", \"Palestinian Territories\", \"Iran\", \"Iraq\", \"Egypt\", \"Yemen\", \"Syria\"], \"legendgroup\": \"Middle East and Northern Africa\", \"marker\": {\"color\": \"#ab63fa\", \"symbol\": \"circle\"}, \"mode\": \"markers\", \"name\": \"Middle East and Northern Africa\", \"showlegend\": true, \"type\": \"scatter\", \"x\": [0.9138700000000001, 0.80925, 0.76276, 0.79733, 0.72025, 0.72492, 0.74716, 0.7038, 0.61766, 0.73172, 0.69639, 0.60954, 0.83947, 0.73793, 0.66015, 0.69805, 0.60237, 0.61712, 0.40064, 0.7219300000000001], \"xaxis\": \"x\", \"y\": [7.278, 6.901, 6.853, 6.611000000000001, 6.4110000000000005, 6.295, 5.96, 5.754, 5.605, 5.332000000000001, 5.192, 5.013, 4.8389999999999995, 4.739, 4.715, 4.686, 4.677, 4.194, 4.077, 3.0060000000000002], \"yaxis\": \"y\"}, {\"hovertemplate\": \"<b>%{hovertext}</b><br><br>Region=Latin America and Caribbean<br>year=2015<br>HealthyLifeExpectancy=%{x}<br>Score=%{y}<extra></extra>\", \"hovertext\": [\"Costa Rica\", \"Mexico\", \"Brazil\", \"Venezuela\", \"Panama\", \"Chile\", \"Argentina\", \"Uruguay\", \"Colombia\", \"Suriname\", \"Trinidad and Tobago\", \"El Salvador\", \"Guatemala\", \"Ecuador\", \"Bolivia\", \"Paraguay\", \"Nicaragua\", \"Peru\", \"Jamaica\", \"Dominican Republic\", \"Honduras\", \"Haiti\"], \"ids\": [\"Costa Rica\", \"Mexico\", \"Brazil\", \"Venezuela\", \"Panama\", \"Chile\", \"Argentina\", \"Uruguay\", \"Colombia\", \"Suriname\", \"Trinidad and Tobago\", \"El Salvador\", \"Guatemala\", \"Ecuador\", \"Bolivia\", \"Paraguay\", \"Nicaragua\", \"Peru\", \"Jamaica\", \"Dominican Republic\", \"Honduras\", \"Haiti\"], \"legendgroup\": \"Latin America and Caribbean\", \"marker\": {\"color\": \"#FFA15A\", \"symbol\": \"circle\"}, \"mode\": \"markers\", \"name\": \"Latin America and Caribbean\", \"showlegend\": true, \"type\": \"scatter\", \"x\": [0.8602700000000001, 0.8144399999999999, 0.69702, 0.7205199999999999, 0.79661, 0.85857, 0.78723, 0.8116, 0.69077, 0.6082, 0.61483, 0.67737, 0.64425, 0.79075, 0.5392, 0.66098, 0.7431399999999999, 0.73017, 0.6874100000000001, 0.66825, 0.6951, 0.38847], \"xaxis\": \"x\", \"y\": [7.226, 7.187, 6.983, 6.81, 6.7860000000000005, 6.67, 6.574, 6.485, 6.477, 6.269, 6.167999999999999, 6.13, 6.122999999999999, 5.975, 5.89, 5.877999999999999, 5.827999999999999, 5.824, 5.709, 4.885, 4.788, 4.518], \"yaxis\": \"y\"}, {\"hovertemplate\": \"<b>%{hovertext}</b><br><br>Region=Southeastern Asia<br>year=2015<br>HealthyLifeExpectancy=%{x}<br>Score=%{y}<extra></extra>\", \"hovertext\": [\"Singapore\", \"Thailand\", \"Malaysia\", \"Indonesia\", \"Vietnam\", \"Philippines\", \"Laos\", \"Myanmar\", \"Cambodia\"], \"ids\": [\"Singapore\", \"Thailand\", \"Malaysia\", \"Indonesia\", \"Vietnam\", \"Philippines\", \"Laos\", \"Myanmar\", \"Cambodia\"], \"legendgroup\": \"Southeastern Asia\", \"marker\": {\"color\": \"#19d3f3\", \"symbol\": \"circle\"}, \"mode\": \"markers\", \"name\": \"Southeastern Asia\", \"showlegend\": true, \"type\": \"scatter\", \"x\": [1.02525, 0.7385, 0.7239399999999999, 0.63793, 0.7467600000000001, 0.58114, 0.54909, 0.48246000000000006, 0.61114], \"xaxis\": \"x\", \"y\": [6.797999999999999, 6.455, 5.77, 5.399, 5.36, 5.073, 4.876, 4.3069999999999995, 3.819], \"yaxis\": \"y\"}, {\"hovertemplate\": \"<b>%{hovertext}</b><br><br>Region=Central and Eastern Europe<br>year=2015<br>HealthyLifeExpectancy=%{x}<br>Score=%{y}<extra></extra>\", \"hovertext\": [\"Czech Republic\", \"Uzbekistan\", \"Slovakia\", \"Moldova\", \"Kazakhstan\", \"Slovenia\", \"Lithuania\", \"Belarus\", \"Poland\", \"Croatia\", \"Russia\", \"Kosovo\", \"Turkmenistan\", \"Estonia\", \"Kyrgyzstan\", \"Azerbaijan\", \"Montenegro\", \"Romania\", \"Serbia\", \"Latvia\", \"Macedonia\", \"Albania\", \"Bosnia and Herzegovina\", \"Hungary\", \"Tajikistan\", \"Ukraine\", \"Armenia\", \"Georgia\", \"Bulgaria\"], \"ids\": [\"Czech Republic\", \"Uzbekistan\", \"Slovakia\", \"Moldova\", \"Kazakhstan\", \"Slovenia\", \"Lithuania\", \"Belarus\", \"Poland\", \"Croatia\", \"Russia\", \"Kosovo\", \"Turkmenistan\", \"Estonia\", \"Kyrgyzstan\", \"Azerbaijan\", \"Montenegro\", \"Romania\", \"Serbia\", \"Latvia\", \"Macedonia\", \"Albania\", \"Bosnia and Herzegovina\", \"Hungary\", \"Tajikistan\", \"Ukraine\", \"Armenia\", \"Georgia\", \"Bulgaria\"], \"legendgroup\": \"Central and Eastern Europe\", \"marker\": {\"color\": \"#FF6692\", \"symbol\": \"circle\"}, \"mode\": \"markers\", \"name\": \"Central and Eastern Europe\", \"showlegend\": true, \"type\": \"scatter\", \"x\": [0.84483, 0.59772, 0.7890199999999999, 0.61826, 0.64368, 0.8733700000000001, 0.73128, 0.7360800000000001, 0.77903, 0.78805, 0.6692600000000001, 0.63132, 0.53886, 0.77361, 0.65088, 0.64045, 0.72521, 0.7689, 0.74836, 0.72437, 0.73545, 0.81325, 0.79081, 0.75905, 0.5737899999999999, 0.6739, 0.7299, 0.72926, 0.76649], \"xaxis\": \"x\", \"y\": [6.505, 6.002999999999999, 5.995, 5.888999999999999, 5.855, 5.848, 5.832999999999999, 5.813, 5.791, 5.7589999999999995, 5.716, 5.5889999999999995, 5.547999999999999, 5.428999999999999, 5.2860000000000005, 5.212000000000001, 5.192, 5.124, 5.122999999999999, 5.098, 5.007, 4.959, 4.949, 4.8, 4.7860000000000005, 4.681, 4.35, 4.297, 4.218], \"yaxis\": \"y\"}, {\"hovertemplate\": \"<b>%{hovertext}</b><br><br>Region=Eastern Asia<br>year=2015<br>HealthyLifeExpectancy=%{x}<br>Score=%{y}<extra></extra>\", \"hovertext\": [\"Taiwan\", \"Japan\", \"South Korea\", \"Hong Kong\", \"China\", \"Mongolia\"], \"ids\": [\"Taiwan\", \"Japan\", \"South Korea\", \"Hong Kong\", \"China\", \"Mongolia\"], \"legendgroup\": \"Eastern Asia\", \"marker\": {\"color\": \"#B6E880\", \"symbol\": \"circle\"}, \"mode\": \"markers\", \"name\": \"Eastern Asia\", \"showlegend\": true, \"type\": \"scatter\", \"x\": [0.8753, 0.99111, 0.9653799999999999, 1.01328, 0.81658, 0.60268], \"xaxis\": \"x\", \"y\": [6.297999999999999, 5.987, 5.984, 5.474, 5.14, 4.874], \"yaxis\": \"y\"}, {\"hovertemplate\": \"<b>%{hovertext}</b><br><br>Region=Sub-Saharan Africa<br>year=2015<br>HealthyLifeExpectancy=%{x}<br>Score=%{y}<extra></extra>\", \"hovertext\": [\"Mauritius\", \"Nigeria\", \"Zambia\", \"Somaliland region\", \"Mozambique\", \"Lesotho\", \"Swaziland\", \"South Africa\", \"Ghana\", \"Zimbabwe\", \"Liberia\", \"Sudan\", \"Congo (Kinshasa)\", \"Ethiopia\", \"Sierra Leone\", \"Mauritania\", \"Kenya\", \"Djibouti\", \"Botswana\", \"Malawi\", \"Cameroon\", \"Angola\", \"Mali\", \"Congo (Brazzaville)\", \"Comoros\", \"Uganda\", \"Senegal\", \"Gabon\", \"Niger\", \"Tanzania\", \"Madagascar\", \"Central African Republic\", \"Chad\", \"Guinea\", \"Ivory Coast\", \"Burkina Faso\", \"Rwanda\", \"Benin\", \"Burundi\", \"Togo\"], \"ids\": [\"Mauritius\", \"Nigeria\", \"Zambia\", \"Somaliland region\", \"Mozambique\", \"Lesotho\", \"Swaziland\", \"South Africa\", \"Ghana\", \"Zimbabwe\", \"Liberia\", \"Sudan\", \"Congo (Kinshasa)\", \"Ethiopia\", \"Sierra Leone\", \"Mauritania\", \"Kenya\", \"Djibouti\", \"Botswana\", \"Malawi\", \"Cameroon\", \"Angola\", \"Mali\", \"Congo (Brazzaville)\", \"Comoros\", \"Uganda\", \"Senegal\", \"Gabon\", \"Niger\", \"Tanzania\", \"Madagascar\", \"Central African Republic\", \"Chad\", \"Guinea\", \"Ivory Coast\", \"Burkina Faso\", \"Rwanda\", \"Benin\", \"Burundi\", \"Togo\"], \"legendgroup\": \"Sub-Saharan Africa\", \"marker\": {\"color\": \"#FF97FF\", \"symbol\": \"circle\"}, \"mode\": \"markers\", \"name\": \"Sub-Saharan Africa\", \"showlegend\": true, \"type\": \"scatter\", \"x\": [0.7095, 0.16007000000000002, 0.29924, 0.43873, 0.09131, 0.07612000000000001, 0.07566, 0.27688, 0.40131999999999995, 0.33475, 0.34201, 0.36878, 0.09806000000000001, 0.44055, 0.0, 0.35874, 0.41435, 0.36291, 0.047760000000000004, 0.22562, 0.23401999999999998, 0.16683, 0.20583, 0.31051, 0.36315, 0.33860999999999997, 0.4354, 0.43372, 0.29707, 0.38215, 0.46721, 0.06699, 0.1501, 0.24009, 0.15185, 0.27125, 0.42863999999999997, 0.3191, 0.22396, 0.28443], \"xaxis\": \"x\", \"y\": [5.477, 5.268, 5.129, 5.0569999999999995, 4.971, 4.898, 4.867, 4.6419999999999995, 4.633, 4.61, 4.571000000000001, 4.55, 4.5169999999999995, 4.512, 4.507, 4.436, 4.419, 4.369, 4.332, 4.292, 4.252, 4.033, 3.995, 3.989, 3.9560000000000004, 3.931, 3.904, 3.8960000000000004, 3.845, 3.781, 3.681, 3.678, 3.667, 3.656, 3.655, 3.5869999999999997, 3.465, 3.34, 2.905, 2.839], \"yaxis\": \"y\"}, {\"hovertemplate\": \"<b>%{hovertext}</b><br><br>Region=Southern Asia<br>year=2015<br>HealthyLifeExpectancy=%{x}<br>Score=%{y}<extra></extra>\", \"hovertext\": [\"Bhutan\", \"Pakistan\", \"Bangladesh\", \"India\", \"Nepal\", \"Sri Lanka\", \"Afghanistan\"], \"ids\": [\"Bhutan\", \"Pakistan\", \"Bangladesh\", \"India\", \"Nepal\", \"Sri Lanka\", \"Afghanistan\"], \"legendgroup\": \"Southern Asia\", \"marker\": {\"color\": \"#FECB52\", \"symbol\": \"circle\"}, \"mode\": \"markers\", \"name\": \"Southern Asia\", \"showlegend\": true, \"type\": \"scatter\", \"x\": [0.57407, 0.51466, 0.60164, 0.5152899999999999, 0.5687399999999999, 0.70806, 0.30335], \"xaxis\": \"x\", \"y\": [5.252999999999999, 5.194, 4.694, 4.565, 4.513999999999999, 4.271, 3.575], \"yaxis\": \"y\"}],\n",
       "                        {\"legend\": {\"title\": {\"text\": \"Region\"}, \"tracegroupgap\": 0}, \"margin\": {\"t\": 60}, \"sliders\": [{\"active\": 0, \"currentvalue\": {\"prefix\": \"year=\"}, \"len\": 0.9, \"pad\": {\"b\": 10, \"t\": 60}, \"steps\": [{\"args\": [[\"2015\"], {\"frame\": {\"duration\": 0, \"redraw\": false}, \"fromcurrent\": true, \"mode\": \"immediate\", \"transition\": {\"duration\": 0, \"easing\": \"linear\"}}], \"label\": \"2015\", \"method\": \"animate\"}, {\"args\": [[\"2016\"], {\"frame\": {\"duration\": 0, \"redraw\": false}, \"fromcurrent\": true, \"mode\": \"immediate\", \"transition\": {\"duration\": 0, \"easing\": \"linear\"}}], \"label\": \"2016\", \"method\": \"animate\"}, {\"args\": [[\"2017\"], {\"frame\": {\"duration\": 0, \"redraw\": false}, \"fromcurrent\": true, \"mode\": \"immediate\", \"transition\": {\"duration\": 0, \"easing\": \"linear\"}}], \"label\": \"2017\", \"method\": \"animate\"}, {\"args\": [[\"2018\"], {\"frame\": {\"duration\": 0, \"redraw\": false}, \"fromcurrent\": true, \"mode\": \"immediate\", \"transition\": {\"duration\": 0, \"easing\": \"linear\"}}], \"label\": \"2018\", \"method\": \"animate\"}, {\"args\": [[\"2019\"], {\"frame\": {\"duration\": 0, \"redraw\": false}, \"fromcurrent\": true, \"mode\": \"immediate\", \"transition\": {\"duration\": 0, \"easing\": \"linear\"}}], \"label\": \"2019\", \"method\": \"animate\"}], \"x\": 0.1, \"xanchor\": \"left\", \"y\": 0, \"yanchor\": \"top\"}], \"template\": {\"data\": {\"bar\": [{\"error_x\": {\"color\": \"#2a3f5f\"}, \"error_y\": {\"color\": \"#2a3f5f\"}, \"marker\": {\"line\": {\"color\": \"#E5ECF6\", \"width\": 0.5}}, \"type\": \"bar\"}], \"barpolar\": [{\"marker\": {\"line\": {\"color\": \"#E5ECF6\", \"width\": 0.5}}, \"type\": \"barpolar\"}], \"carpet\": [{\"aaxis\": {\"endlinecolor\": \"#2a3f5f\", \"gridcolor\": \"white\", \"linecolor\": \"white\", \"minorgridcolor\": \"white\", \"startlinecolor\": \"#2a3f5f\"}, \"baxis\": {\"endlinecolor\": \"#2a3f5f\", \"gridcolor\": \"white\", \"linecolor\": \"white\", \"minorgridcolor\": \"white\", \"startlinecolor\": \"#2a3f5f\"}, \"type\": \"carpet\"}], \"choropleth\": [{\"colorbar\": {\"outlinewidth\": 0, \"ticks\": \"\"}, \"type\": \"choropleth\"}], \"contour\": [{\"colorbar\": {\"outlinewidth\": 0, \"ticks\": \"\"}, \"colorscale\": [[0.0, \"#0d0887\"], [0.1111111111111111, \"#46039f\"], [0.2222222222222222, \"#7201a8\"], [0.3333333333333333, \"#9c179e\"], [0.4444444444444444, \"#bd3786\"], [0.5555555555555556, \"#d8576b\"], [0.6666666666666666, \"#ed7953\"], [0.7777777777777778, \"#fb9f3a\"], [0.8888888888888888, \"#fdca26\"], [1.0, \"#f0f921\"]], \"type\": \"contour\"}], \"contourcarpet\": [{\"colorbar\": {\"outlinewidth\": 0, \"ticks\": \"\"}, \"type\": \"contourcarpet\"}], \"heatmap\": [{\"colorbar\": {\"outlinewidth\": 0, \"ticks\": \"\"}, \"colorscale\": [[0.0, \"#0d0887\"], [0.1111111111111111, \"#46039f\"], [0.2222222222222222, \"#7201a8\"], [0.3333333333333333, \"#9c179e\"], [0.4444444444444444, \"#bd3786\"], [0.5555555555555556, \"#d8576b\"], [0.6666666666666666, \"#ed7953\"], [0.7777777777777778, \"#fb9f3a\"], [0.8888888888888888, \"#fdca26\"], [1.0, \"#f0f921\"]], \"type\": \"heatmap\"}], \"heatmapgl\": [{\"colorbar\": {\"outlinewidth\": 0, \"ticks\": \"\"}, \"colorscale\": [[0.0, \"#0d0887\"], [0.1111111111111111, \"#46039f\"], [0.2222222222222222, \"#7201a8\"], [0.3333333333333333, \"#9c179e\"], [0.4444444444444444, \"#bd3786\"], [0.5555555555555556, \"#d8576b\"], [0.6666666666666666, \"#ed7953\"], [0.7777777777777778, \"#fb9f3a\"], [0.8888888888888888, \"#fdca26\"], [1.0, \"#f0f921\"]], \"type\": \"heatmapgl\"}], \"histogram\": [{\"marker\": {\"colorbar\": {\"outlinewidth\": 0, \"ticks\": \"\"}}, \"type\": \"histogram\"}], \"histogram2d\": [{\"colorbar\": {\"outlinewidth\": 0, \"ticks\": \"\"}, \"colorscale\": [[0.0, \"#0d0887\"], [0.1111111111111111, \"#46039f\"], [0.2222222222222222, \"#7201a8\"], [0.3333333333333333, \"#9c179e\"], [0.4444444444444444, \"#bd3786\"], [0.5555555555555556, \"#d8576b\"], [0.6666666666666666, \"#ed7953\"], [0.7777777777777778, \"#fb9f3a\"], [0.8888888888888888, \"#fdca26\"], [1.0, \"#f0f921\"]], \"type\": \"histogram2d\"}], \"histogram2dcontour\": [{\"colorbar\": {\"outlinewidth\": 0, \"ticks\": \"\"}, \"colorscale\": [[0.0, \"#0d0887\"], [0.1111111111111111, \"#46039f\"], [0.2222222222222222, \"#7201a8\"], [0.3333333333333333, \"#9c179e\"], [0.4444444444444444, \"#bd3786\"], [0.5555555555555556, \"#d8576b\"], [0.6666666666666666, \"#ed7953\"], [0.7777777777777778, \"#fb9f3a\"], [0.8888888888888888, \"#fdca26\"], [1.0, \"#f0f921\"]], \"type\": \"histogram2dcontour\"}], \"mesh3d\": [{\"colorbar\": {\"outlinewidth\": 0, \"ticks\": \"\"}, \"type\": \"mesh3d\"}], \"parcoords\": [{\"line\": {\"colorbar\": {\"outlinewidth\": 0, \"ticks\": \"\"}}, \"type\": \"parcoords\"}], \"pie\": [{\"automargin\": true, \"type\": \"pie\"}], \"scatter\": [{\"marker\": {\"colorbar\": {\"outlinewidth\": 0, \"ticks\": \"\"}}, \"type\": \"scatter\"}], \"scatter3d\": [{\"line\": {\"colorbar\": {\"outlinewidth\": 0, \"ticks\": \"\"}}, \"marker\": {\"colorbar\": {\"outlinewidth\": 0, \"ticks\": \"\"}}, \"type\": \"scatter3d\"}], \"scattercarpet\": [{\"marker\": {\"colorbar\": {\"outlinewidth\": 0, \"ticks\": \"\"}}, \"type\": \"scattercarpet\"}], \"scattergeo\": [{\"marker\": {\"colorbar\": {\"outlinewidth\": 0, \"ticks\": \"\"}}, \"type\": \"scattergeo\"}], \"scattergl\": [{\"marker\": {\"colorbar\": {\"outlinewidth\": 0, \"ticks\": \"\"}}, \"type\": \"scattergl\"}], \"scattermapbox\": [{\"marker\": {\"colorbar\": {\"outlinewidth\": 0, \"ticks\": \"\"}}, \"type\": \"scattermapbox\"}], \"scatterpolar\": [{\"marker\": {\"colorbar\": {\"outlinewidth\": 0, \"ticks\": \"\"}}, \"type\": \"scatterpolar\"}], \"scatterpolargl\": [{\"marker\": {\"colorbar\": {\"outlinewidth\": 0, \"ticks\": \"\"}}, \"type\": \"scatterpolargl\"}], \"scatterternary\": [{\"marker\": {\"colorbar\": {\"outlinewidth\": 0, \"ticks\": \"\"}}, \"type\": \"scatterternary\"}], \"surface\": [{\"colorbar\": {\"outlinewidth\": 0, \"ticks\": \"\"}, \"colorscale\": [[0.0, \"#0d0887\"], [0.1111111111111111, \"#46039f\"], [0.2222222222222222, \"#7201a8\"], [0.3333333333333333, \"#9c179e\"], [0.4444444444444444, \"#bd3786\"], [0.5555555555555556, \"#d8576b\"], [0.6666666666666666, \"#ed7953\"], [0.7777777777777778, \"#fb9f3a\"], [0.8888888888888888, \"#fdca26\"], [1.0, \"#f0f921\"]], \"type\": \"surface\"}], \"table\": [{\"cells\": {\"fill\": {\"color\": \"#EBF0F8\"}, \"line\": {\"color\": \"white\"}}, \"header\": {\"fill\": {\"color\": \"#C8D4E3\"}, \"line\": {\"color\": \"white\"}}, \"type\": \"table\"}]}, \"layout\": {\"annotationdefaults\": {\"arrowcolor\": \"#2a3f5f\", \"arrowhead\": 0, \"arrowwidth\": 1}, \"coloraxis\": {\"colorbar\": {\"outlinewidth\": 0, \"ticks\": \"\"}}, \"colorscale\": {\"diverging\": [[0, \"#8e0152\"], [0.1, \"#c51b7d\"], [0.2, \"#de77ae\"], [0.3, \"#f1b6da\"], [0.4, \"#fde0ef\"], [0.5, \"#f7f7f7\"], [0.6, \"#e6f5d0\"], [0.7, \"#b8e186\"], [0.8, \"#7fbc41\"], [0.9, \"#4d9221\"], [1, \"#276419\"]], \"sequential\": [[0.0, \"#0d0887\"], [0.1111111111111111, \"#46039f\"], [0.2222222222222222, \"#7201a8\"], [0.3333333333333333, \"#9c179e\"], [0.4444444444444444, \"#bd3786\"], [0.5555555555555556, \"#d8576b\"], [0.6666666666666666, \"#ed7953\"], [0.7777777777777778, \"#fb9f3a\"], [0.8888888888888888, \"#fdca26\"], [1.0, \"#f0f921\"]], \"sequentialminus\": [[0.0, \"#0d0887\"], [0.1111111111111111, \"#46039f\"], [0.2222222222222222, \"#7201a8\"], [0.3333333333333333, \"#9c179e\"], [0.4444444444444444, \"#bd3786\"], [0.5555555555555556, \"#d8576b\"], [0.6666666666666666, \"#ed7953\"], [0.7777777777777778, \"#fb9f3a\"], [0.8888888888888888, \"#fdca26\"], [1.0, \"#f0f921\"]]}, \"colorway\": [\"#636efa\", \"#EF553B\", \"#00cc96\", \"#ab63fa\", \"#FFA15A\", \"#19d3f3\", \"#FF6692\", \"#B6E880\", \"#FF97FF\", \"#FECB52\"], \"font\": {\"color\": \"#2a3f5f\"}, \"geo\": {\"bgcolor\": \"white\", \"lakecolor\": \"white\", \"landcolor\": \"#E5ECF6\", \"showlakes\": true, \"showland\": true, \"subunitcolor\": \"white\"}, \"hoverlabel\": {\"align\": \"left\"}, \"hovermode\": \"closest\", \"mapbox\": {\"style\": \"light\"}, \"paper_bgcolor\": \"white\", \"plot_bgcolor\": \"#E5ECF6\", \"polar\": {\"angularaxis\": {\"gridcolor\": \"white\", \"linecolor\": \"white\", \"ticks\": \"\"}, \"bgcolor\": \"#E5ECF6\", \"radialaxis\": {\"gridcolor\": \"white\", \"linecolor\": \"white\", \"ticks\": \"\"}}, \"scene\": {\"xaxis\": {\"backgroundcolor\": \"#E5ECF6\", \"gridcolor\": \"white\", \"gridwidth\": 2, \"linecolor\": \"white\", \"showbackground\": true, \"ticks\": \"\", \"zerolinecolor\": \"white\"}, \"yaxis\": {\"backgroundcolor\": \"#E5ECF6\", \"gridcolor\": \"white\", \"gridwidth\": 2, \"linecolor\": \"white\", \"showbackground\": true, \"ticks\": \"\", \"zerolinecolor\": \"white\"}, \"zaxis\": {\"backgroundcolor\": \"#E5ECF6\", \"gridcolor\": \"white\", \"gridwidth\": 2, \"linecolor\": \"white\", \"showbackground\": true, \"ticks\": \"\", \"zerolinecolor\": \"white\"}}, \"shapedefaults\": {\"line\": {\"color\": \"#2a3f5f\"}}, \"ternary\": {\"aaxis\": {\"gridcolor\": \"white\", \"linecolor\": \"white\", \"ticks\": \"\"}, \"baxis\": {\"gridcolor\": \"white\", \"linecolor\": \"white\", \"ticks\": \"\"}, \"bgcolor\": \"#E5ECF6\", \"caxis\": {\"gridcolor\": \"white\", \"linecolor\": \"white\", \"ticks\": \"\"}}, \"title\": {\"x\": 0.05}, \"xaxis\": {\"automargin\": true, \"gridcolor\": \"white\", \"linecolor\": \"white\", \"ticks\": \"\", \"title\": {\"standoff\": 15}, \"zerolinecolor\": \"white\", \"zerolinewidth\": 2}, \"yaxis\": {\"automargin\": true, \"gridcolor\": \"white\", \"linecolor\": \"white\", \"ticks\": \"\", \"title\": {\"standoff\": 15}, \"zerolinecolor\": \"white\", \"zerolinewidth\": 2}}}, \"updatemenus\": [{\"buttons\": [{\"args\": [null, {\"frame\": {\"duration\": 500, \"redraw\": false}, \"fromcurrent\": true, \"mode\": \"immediate\", \"transition\": {\"duration\": 500, \"easing\": \"linear\"}}], \"label\": \"&#9654;\", \"method\": \"animate\"}, {\"args\": [[null], {\"frame\": {\"duration\": 0, \"redraw\": false}, \"fromcurrent\": true, \"mode\": \"immediate\", \"transition\": {\"duration\": 0, \"easing\": \"linear\"}}], \"label\": \"&#9724;\", \"method\": \"animate\"}], \"direction\": \"left\", \"pad\": {\"r\": 10, \"t\": 70}, \"showactive\": false, \"type\": \"buttons\", \"x\": 0.1, \"xanchor\": \"right\", \"y\": 0, \"yanchor\": \"top\"}], \"xaxis\": {\"anchor\": \"y\", \"domain\": [0.0, 1.0], \"title\": {\"text\": \"HealthyLifeExpectancy\"}}, \"yaxis\": {\"anchor\": \"x\", \"domain\": [0.0, 1.0], \"title\": {\"text\": \"Score\"}}},\n",
       "                        {\"responsive\": true}\n",
       "                    ).then(function(){\n",
       "                            Plotly.addFrames('3f285c8d-ff7c-4d15-8589-186313851463', [{\"data\": [{\"hovertemplate\": \"<b>%{hovertext}</b><br><br>Region=Western Europe<br>year=2015<br>HealthyLifeExpectancy=%{x}<br>Score=%{y}<extra></extra>\", \"hovertext\": [\"Switzerland\", \"Iceland\", \"Denmark\", \"Norway\", \"Finland\", \"Netherlands\", \"Sweden\", \"Austria\", \"Luxembourg\", \"Ireland\", \"Belgium\", \"United Kingdom\", \"Germany\", \"France\", \"Spain\", \"Malta\", \"Italy\", \"North Cyprus\", \"Cyprus\", \"Portugal\", \"Greece\"], \"ids\": [\"Switzerland\", \"Iceland\", \"Denmark\", \"Norway\", \"Finland\", \"Netherlands\", \"Sweden\", \"Austria\", \"Luxembourg\", \"Ireland\", \"Belgium\", \"United Kingdom\", \"Germany\", \"France\", \"Spain\", \"Malta\", \"Italy\", \"North Cyprus\", \"Cyprus\", \"Portugal\", \"Greece\"], \"legendgroup\": \"Western Europe\", \"marker\": {\"color\": \"#636efa\", \"symbol\": \"circle\"}, \"mode\": \"markers\", \"name\": \"Western Europe\", \"showlegend\": true, \"x\": [0.9414299999999999, 0.94784, 0.87464, 0.88521, 0.8891100000000001, 0.89284, 0.9108700000000001, 0.8904200000000001, 0.91894, 0.89533, 0.8966700000000001, 0.90943, 0.89186, 0.9457899999999999, 0.95562, 0.88721, 0.9544600000000001, 0.92356, 0.92356, 0.8751899999999999, 0.88213], \"xaxis\": \"x\", \"y\": [7.587000000000001, 7.561, 7.527, 7.522, 7.406000000000001, 7.377999999999999, 7.364, 7.2, 6.946000000000001, 6.94, 6.937, 6.867000000000001, 6.75, 6.575, 6.329, 6.3020000000000005, 5.9479999999999995, 5.695, 5.689, 5.102, 4.857], \"yaxis\": \"y\", \"type\": \"scatter\"}, {\"hovertemplate\": \"<b>%{hovertext}</b><br><br>Region=North America<br>year=2015<br>HealthyLifeExpectancy=%{x}<br>Score=%{y}<extra></extra>\", \"hovertext\": [\"Canada\", \"United States\"], \"ids\": [\"Canada\", \"United States\"], \"legendgroup\": \"North America\", \"marker\": {\"color\": \"#EF553B\", \"symbol\": \"circle\"}, \"mode\": \"markers\", \"name\": \"North America\", \"showlegend\": true, \"x\": [0.9056299999999999, 0.86179], \"xaxis\": \"x\", \"y\": [7.4270000000000005, 7.119], \"yaxis\": \"y\", \"type\": \"scatter\"}, {\"hovertemplate\": \"<b>%{hovertext}</b><br><br>Region=Australia and New Zealand<br>year=2015<br>HealthyLifeExpectancy=%{x}<br>Score=%{y}<extra></extra>\", \"hovertext\": [\"New Zealand\", \"Australia\"], \"ids\": [\"New Zealand\", \"Australia\"], \"legendgroup\": \"Australia and New Zealand\", \"marker\": {\"color\": \"#00cc96\", \"symbol\": \"circle\"}, \"mode\": \"markers\", \"name\": \"Australia and New Zealand\", \"showlegend\": true, \"x\": [0.9083700000000001, 0.93156], \"xaxis\": \"x\", \"y\": [7.2860000000000005, 7.284], \"yaxis\": \"y\", \"type\": \"scatter\"}, {\"hovertemplate\": \"<b>%{hovertext}</b><br><br>Region=Middle East and Northern Africa<br>year=2015<br>HealthyLifeExpectancy=%{x}<br>Score=%{y}<extra></extra>\", \"hovertext\": [\"Israel\", \"United Arab Emirates\", \"Oman\", \"Qatar\", \"Saudi Arabia\", \"Kuwait\", \"Bahrain\", \"Libya\", \"Algeria\", \"Turkey\", \"Jordan\", \"Morocco\", \"Lebanon\", \"Tunisia\", \"Palestinian Territories\", \"Iran\", \"Iraq\", \"Egypt\", \"Yemen\", \"Syria\"], \"ids\": [\"Israel\", \"United Arab Emirates\", \"Oman\", \"Qatar\", \"Saudi Arabia\", \"Kuwait\", \"Bahrain\", \"Libya\", \"Algeria\", \"Turkey\", \"Jordan\", \"Morocco\", \"Lebanon\", \"Tunisia\", \"Palestinian Territories\", \"Iran\", \"Iraq\", \"Egypt\", \"Yemen\", \"Syria\"], \"legendgroup\": \"Middle East and Northern Africa\", \"marker\": {\"color\": \"#ab63fa\", \"symbol\": \"circle\"}, \"mode\": \"markers\", \"name\": \"Middle East and Northern Africa\", \"showlegend\": true, \"x\": [0.9138700000000001, 0.80925, 0.76276, 0.79733, 0.72025, 0.72492, 0.74716, 0.7038, 0.61766, 0.73172, 0.69639, 0.60954, 0.83947, 0.73793, 0.66015, 0.69805, 0.60237, 0.61712, 0.40064, 0.7219300000000001], \"xaxis\": \"x\", \"y\": [7.278, 6.901, 6.853, 6.611000000000001, 6.4110000000000005, 6.295, 5.96, 5.754, 5.605, 5.332000000000001, 5.192, 5.013, 4.8389999999999995, 4.739, 4.715, 4.686, 4.677, 4.194, 4.077, 3.0060000000000002], \"yaxis\": \"y\", \"type\": \"scatter\"}, {\"hovertemplate\": \"<b>%{hovertext}</b><br><br>Region=Latin America and Caribbean<br>year=2015<br>HealthyLifeExpectancy=%{x}<br>Score=%{y}<extra></extra>\", \"hovertext\": [\"Costa Rica\", \"Mexico\", \"Brazil\", \"Venezuela\", \"Panama\", \"Chile\", \"Argentina\", \"Uruguay\", \"Colombia\", \"Suriname\", \"Trinidad and Tobago\", \"El Salvador\", \"Guatemala\", \"Ecuador\", \"Bolivia\", \"Paraguay\", \"Nicaragua\", \"Peru\", \"Jamaica\", \"Dominican Republic\", \"Honduras\", \"Haiti\"], \"ids\": [\"Costa Rica\", \"Mexico\", \"Brazil\", \"Venezuela\", \"Panama\", \"Chile\", \"Argentina\", \"Uruguay\", \"Colombia\", \"Suriname\", \"Trinidad and Tobago\", \"El Salvador\", \"Guatemala\", \"Ecuador\", \"Bolivia\", \"Paraguay\", \"Nicaragua\", \"Peru\", \"Jamaica\", \"Dominican Republic\", \"Honduras\", \"Haiti\"], \"legendgroup\": \"Latin America and Caribbean\", \"marker\": {\"color\": \"#FFA15A\", \"symbol\": \"circle\"}, \"mode\": \"markers\", \"name\": \"Latin America and Caribbean\", \"showlegend\": true, \"x\": [0.8602700000000001, 0.8144399999999999, 0.69702, 0.7205199999999999, 0.79661, 0.85857, 0.78723, 0.8116, 0.69077, 0.6082, 0.61483, 0.67737, 0.64425, 0.79075, 0.5392, 0.66098, 0.7431399999999999, 0.73017, 0.6874100000000001, 0.66825, 0.6951, 0.38847], \"xaxis\": \"x\", \"y\": [7.226, 7.187, 6.983, 6.81, 6.7860000000000005, 6.67, 6.574, 6.485, 6.477, 6.269, 6.167999999999999, 6.13, 6.122999999999999, 5.975, 5.89, 5.877999999999999, 5.827999999999999, 5.824, 5.709, 4.885, 4.788, 4.518], \"yaxis\": \"y\", \"type\": \"scatter\"}, {\"hovertemplate\": \"<b>%{hovertext}</b><br><br>Region=Southeastern Asia<br>year=2015<br>HealthyLifeExpectancy=%{x}<br>Score=%{y}<extra></extra>\", \"hovertext\": [\"Singapore\", \"Thailand\", \"Malaysia\", \"Indonesia\", \"Vietnam\", \"Philippines\", \"Laos\", \"Myanmar\", \"Cambodia\"], \"ids\": [\"Singapore\", \"Thailand\", \"Malaysia\", \"Indonesia\", \"Vietnam\", \"Philippines\", \"Laos\", \"Myanmar\", \"Cambodia\"], \"legendgroup\": \"Southeastern Asia\", \"marker\": {\"color\": \"#19d3f3\", \"symbol\": \"circle\"}, \"mode\": \"markers\", \"name\": \"Southeastern Asia\", \"showlegend\": true, \"x\": [1.02525, 0.7385, 0.7239399999999999, 0.63793, 0.7467600000000001, 0.58114, 0.54909, 0.48246000000000006, 0.61114], \"xaxis\": \"x\", \"y\": [6.797999999999999, 6.455, 5.77, 5.399, 5.36, 5.073, 4.876, 4.3069999999999995, 3.819], \"yaxis\": \"y\", \"type\": \"scatter\"}, {\"hovertemplate\": \"<b>%{hovertext}</b><br><br>Region=Central and Eastern Europe<br>year=2015<br>HealthyLifeExpectancy=%{x}<br>Score=%{y}<extra></extra>\", \"hovertext\": [\"Czech Republic\", \"Uzbekistan\", \"Slovakia\", \"Moldova\", \"Kazakhstan\", \"Slovenia\", \"Lithuania\", \"Belarus\", \"Poland\", \"Croatia\", \"Russia\", \"Kosovo\", \"Turkmenistan\", \"Estonia\", \"Kyrgyzstan\", \"Azerbaijan\", \"Montenegro\", \"Romania\", \"Serbia\", \"Latvia\", \"Macedonia\", \"Albania\", \"Bosnia and Herzegovina\", \"Hungary\", \"Tajikistan\", \"Ukraine\", \"Armenia\", \"Georgia\", \"Bulgaria\"], \"ids\": [\"Czech Republic\", \"Uzbekistan\", \"Slovakia\", \"Moldova\", \"Kazakhstan\", \"Slovenia\", \"Lithuania\", \"Belarus\", \"Poland\", \"Croatia\", \"Russia\", \"Kosovo\", \"Turkmenistan\", \"Estonia\", \"Kyrgyzstan\", \"Azerbaijan\", \"Montenegro\", \"Romania\", \"Serbia\", \"Latvia\", \"Macedonia\", \"Albania\", \"Bosnia and Herzegovina\", \"Hungary\", \"Tajikistan\", \"Ukraine\", \"Armenia\", \"Georgia\", \"Bulgaria\"], \"legendgroup\": \"Central and Eastern Europe\", \"marker\": {\"color\": \"#FF6692\", \"symbol\": \"circle\"}, \"mode\": \"markers\", \"name\": \"Central and Eastern Europe\", \"showlegend\": true, \"x\": [0.84483, 0.59772, 0.7890199999999999, 0.61826, 0.64368, 0.8733700000000001, 0.73128, 0.7360800000000001, 0.77903, 0.78805, 0.6692600000000001, 0.63132, 0.53886, 0.77361, 0.65088, 0.64045, 0.72521, 0.7689, 0.74836, 0.72437, 0.73545, 0.81325, 0.79081, 0.75905, 0.5737899999999999, 0.6739, 0.7299, 0.72926, 0.76649], \"xaxis\": \"x\", \"y\": [6.505, 6.002999999999999, 5.995, 5.888999999999999, 5.855, 5.848, 5.832999999999999, 5.813, 5.791, 5.7589999999999995, 5.716, 5.5889999999999995, 5.547999999999999, 5.428999999999999, 5.2860000000000005, 5.212000000000001, 5.192, 5.124, 5.122999999999999, 5.098, 5.007, 4.959, 4.949, 4.8, 4.7860000000000005, 4.681, 4.35, 4.297, 4.218], \"yaxis\": \"y\", \"type\": \"scatter\"}, {\"hovertemplate\": \"<b>%{hovertext}</b><br><br>Region=Eastern Asia<br>year=2015<br>HealthyLifeExpectancy=%{x}<br>Score=%{y}<extra></extra>\", \"hovertext\": [\"Taiwan\", \"Japan\", \"South Korea\", \"Hong Kong\", \"China\", \"Mongolia\"], \"ids\": [\"Taiwan\", \"Japan\", \"South Korea\", \"Hong Kong\", \"China\", \"Mongolia\"], \"legendgroup\": \"Eastern Asia\", \"marker\": {\"color\": \"#B6E880\", \"symbol\": \"circle\"}, \"mode\": \"markers\", \"name\": \"Eastern Asia\", \"showlegend\": true, \"x\": [0.8753, 0.99111, 0.9653799999999999, 1.01328, 0.81658, 0.60268], \"xaxis\": \"x\", \"y\": [6.297999999999999, 5.987, 5.984, 5.474, 5.14, 4.874], \"yaxis\": \"y\", \"type\": \"scatter\"}, {\"hovertemplate\": \"<b>%{hovertext}</b><br><br>Region=Sub-Saharan Africa<br>year=2015<br>HealthyLifeExpectancy=%{x}<br>Score=%{y}<extra></extra>\", \"hovertext\": [\"Mauritius\", \"Nigeria\", \"Zambia\", \"Somaliland region\", \"Mozambique\", \"Lesotho\", \"Swaziland\", \"South Africa\", \"Ghana\", \"Zimbabwe\", \"Liberia\", \"Sudan\", \"Congo (Kinshasa)\", \"Ethiopia\", \"Sierra Leone\", \"Mauritania\", \"Kenya\", \"Djibouti\", \"Botswana\", \"Malawi\", \"Cameroon\", \"Angola\", \"Mali\", \"Congo (Brazzaville)\", \"Comoros\", \"Uganda\", \"Senegal\", \"Gabon\", \"Niger\", \"Tanzania\", \"Madagascar\", \"Central African Republic\", \"Chad\", \"Guinea\", \"Ivory Coast\", \"Burkina Faso\", \"Rwanda\", \"Benin\", \"Burundi\", \"Togo\"], \"ids\": [\"Mauritius\", \"Nigeria\", \"Zambia\", \"Somaliland region\", \"Mozambique\", \"Lesotho\", \"Swaziland\", \"South Africa\", \"Ghana\", \"Zimbabwe\", \"Liberia\", \"Sudan\", \"Congo (Kinshasa)\", \"Ethiopia\", \"Sierra Leone\", \"Mauritania\", \"Kenya\", \"Djibouti\", \"Botswana\", \"Malawi\", \"Cameroon\", \"Angola\", \"Mali\", \"Congo (Brazzaville)\", \"Comoros\", \"Uganda\", \"Senegal\", \"Gabon\", \"Niger\", \"Tanzania\", \"Madagascar\", \"Central African Republic\", \"Chad\", \"Guinea\", \"Ivory Coast\", \"Burkina Faso\", \"Rwanda\", \"Benin\", \"Burundi\", \"Togo\"], \"legendgroup\": \"Sub-Saharan Africa\", \"marker\": {\"color\": \"#FF97FF\", \"symbol\": \"circle\"}, \"mode\": \"markers\", \"name\": \"Sub-Saharan Africa\", \"showlegend\": true, \"x\": [0.7095, 0.16007000000000002, 0.29924, 0.43873, 0.09131, 0.07612000000000001, 0.07566, 0.27688, 0.40131999999999995, 0.33475, 0.34201, 0.36878, 0.09806000000000001, 0.44055, 0.0, 0.35874, 0.41435, 0.36291, 0.047760000000000004, 0.22562, 0.23401999999999998, 0.16683, 0.20583, 0.31051, 0.36315, 0.33860999999999997, 0.4354, 0.43372, 0.29707, 0.38215, 0.46721, 0.06699, 0.1501, 0.24009, 0.15185, 0.27125, 0.42863999999999997, 0.3191, 0.22396, 0.28443], \"xaxis\": \"x\", \"y\": [5.477, 5.268, 5.129, 5.0569999999999995, 4.971, 4.898, 4.867, 4.6419999999999995, 4.633, 4.61, 4.571000000000001, 4.55, 4.5169999999999995, 4.512, 4.507, 4.436, 4.419, 4.369, 4.332, 4.292, 4.252, 4.033, 3.995, 3.989, 3.9560000000000004, 3.931, 3.904, 3.8960000000000004, 3.845, 3.781, 3.681, 3.678, 3.667, 3.656, 3.655, 3.5869999999999997, 3.465, 3.34, 2.905, 2.839], \"yaxis\": \"y\", \"type\": \"scatter\"}, {\"hovertemplate\": \"<b>%{hovertext}</b><br><br>Region=Southern Asia<br>year=2015<br>HealthyLifeExpectancy=%{x}<br>Score=%{y}<extra></extra>\", \"hovertext\": [\"Bhutan\", \"Pakistan\", \"Bangladesh\", \"India\", \"Nepal\", \"Sri Lanka\", \"Afghanistan\"], \"ids\": [\"Bhutan\", \"Pakistan\", \"Bangladesh\", \"India\", \"Nepal\", \"Sri Lanka\", \"Afghanistan\"], \"legendgroup\": \"Southern Asia\", \"marker\": {\"color\": \"#FECB52\", \"symbol\": \"circle\"}, \"mode\": \"markers\", \"name\": \"Southern Asia\", \"showlegend\": true, \"x\": [0.57407, 0.51466, 0.60164, 0.5152899999999999, 0.5687399999999999, 0.70806, 0.30335], \"xaxis\": \"x\", \"y\": [5.252999999999999, 5.194, 4.694, 4.565, 4.513999999999999, 4.271, 3.575], \"yaxis\": \"y\", \"type\": \"scatter\"}], \"name\": \"2015\"}, {\"data\": [{\"hovertemplate\": \"<b>%{hovertext}</b><br><br>Region=Western Europe<br>year=2016<br>HealthyLifeExpectancy=%{x}<br>Score=%{y}<extra></extra>\", \"hovertext\": [\"Denmark\", \"Switzerland\", \"Iceland\", \"Norway\", \"Finland\", \"Netherlands\", \"Sweden\", \"Austria\", \"Germany\", \"Belgium\", \"Ireland\", \"Luxembourg\", \"United Kingdom\", \"Malta\", \"France\", \"Spain\", \"Italy\", \"North Cyprus\", \"Cyprus\", \"Portugal\", \"Greece\"], \"ids\": [\"Denmark\", \"Switzerland\", \"Iceland\", \"Norway\", \"Finland\", \"Netherlands\", \"Sweden\", \"Austria\", \"Germany\", \"Belgium\", \"Ireland\", \"Luxembourg\", \"United Kingdom\", \"Malta\", \"France\", \"Spain\", \"Italy\", \"North Cyprus\", \"Cyprus\", \"Portugal\", \"Greece\"], \"legendgroup\": \"Western Europe\", \"marker\": {\"color\": \"#636efa\", \"symbol\": \"circle\"}, \"mode\": \"markers\", \"name\": \"Western Europe\", \"showlegend\": true, \"x\": [0.79504, 0.86303, 0.8673299999999999, 0.79579, 0.81091, 0.8123100000000001, 0.83121, 0.80565, 0.81487, 0.8195899999999999, 0.81455, 0.8454200000000001, 0.80991, 0.80315, 0.83795, 0.8789600000000001, 0.8510200000000001, 0.8414200000000001, 0.8488, 0.7936300000000001, 0.80029], \"xaxis\": \"x\", \"y\": [7.526, 7.5089999999999995, 7.501, 7.497999999999999, 7.412999999999999, 7.3389999999999995, 7.291, 7.119, 6.994, 6.928999999999999, 6.907, 6.871, 6.725, 6.4879999999999995, 6.478, 6.361000000000001, 5.977, 5.771, 5.546, 5.122999999999999, 5.033], \"yaxis\": \"y\", \"type\": \"scatter\"}, {\"hovertemplate\": \"<b>%{hovertext}</b><br><br>Region=North America<br>year=2016<br>HealthyLifeExpectancy=%{x}<br>Score=%{y}<extra></extra>\", \"hovertext\": [\"Canada\", \"United States\"], \"ids\": [\"Canada\", \"United States\"], \"legendgroup\": \"North America\", \"marker\": {\"color\": \"#EF553B\", \"symbol\": \"circle\"}, \"mode\": \"markers\", \"name\": \"North America\", \"showlegend\": true, \"x\": [0.8276, 0.779], \"xaxis\": \"x\", \"y\": [7.404, 7.104], \"yaxis\": \"y\", \"type\": \"scatter\"}, {\"hovertemplate\": \"<b>%{hovertext}</b><br><br>Region=Australia and New Zealand<br>year=2016<br>HealthyLifeExpectancy=%{x}<br>Score=%{y}<extra></extra>\", \"hovertext\": [\"New Zealand\", \"Australia\"], \"ids\": [\"New Zealand\", \"Australia\"], \"legendgroup\": \"Australia and New Zealand\", \"marker\": {\"color\": \"#00cc96\", \"symbol\": \"circle\"}, \"mode\": \"markers\", \"name\": \"Australia and New Zealand\", \"showlegend\": true, \"x\": [0.83096, 0.8512], \"xaxis\": \"x\", \"y\": [7.334, 7.313], \"yaxis\": \"y\", \"type\": \"scatter\"}, {\"hovertemplate\": \"<b>%{hovertext}</b><br><br>Region=Middle East and Northern Africa<br>year=2016<br>HealthyLifeExpectancy=%{x}<br>Score=%{y}<extra></extra>\", \"hovertext\": [\"Israel\", \"United Arab Emirates\", \"Saudi Arabia\", \"Qatar\", \"Algeria\", \"Kuwait\", \"Bahrain\", \"Libya\", \"Turkey\", \"Jordan\", \"Morocco\", \"Lebanon\", \"Tunisia\", \"Iran\", \"Palestinian Territories\", \"Iraq\", \"Egypt\", \"Yemen\", \"Syria\"], \"ids\": [\"Israel\", \"United Arab Emirates\", \"Saudi Arabia\", \"Qatar\", \"Algeria\", \"Kuwait\", \"Bahrain\", \"Libya\", \"Turkey\", \"Jordan\", \"Morocco\", \"Lebanon\", \"Tunisia\", \"Iran\", \"Palestinian Territories\", \"Iraq\", \"Egypt\", \"Yemen\", \"Syria\"], \"legendgroup\": \"Middle East and Northern Africa\", \"marker\": {\"color\": \"#ab63fa\", \"symbol\": \"circle\"}, \"mode\": \"markers\", \"name\": \"Middle East and Northern Africa\", \"showlegend\": true, \"x\": [0.8491700000000001, 0.72993, 0.59267, 0.71723, 0.6180399999999999, 0.63569, 0.65696, 0.52304, 0.64718, 0.60712, 0.5947100000000001, 0.76171, 0.59577, 0.64232, 0.56844, 0.51076, 0.5211600000000001, 0.31048000000000003, 0.6299399999999999], \"xaxis\": \"x\", \"y\": [7.267, 6.5729999999999995, 6.379, 6.375, 6.355, 6.239, 6.218, 5.615, 5.388999999999999, 5.303, 5.151, 5.129, 5.045, 4.813, 4.754, 4.575, 4.362, 3.7239999999999998, 3.069], \"yaxis\": \"y\", \"type\": \"scatter\"}, {\"hovertemplate\": \"<b>%{hovertext}</b><br><br>Region=Latin America and Caribbean<br>year=2016<br>HealthyLifeExpectancy=%{x}<br>Score=%{y}<extra></extra>\", \"hovertext\": [\"Costa Rica\", \"Puerto Rico\", \"Brazil\", \"Mexico\", \"Chile\", \"Panama\", \"Argentina\", \"Uruguay\", \"Colombia\", \"Guatemala\", \"Suriname\", \"Trinidad and Tobago\", \"Venezuela\", \"El Salvador\", \"Nicaragua\", \"Ecuador\", \"Belize\", \"Bolivia\", \"Peru\", \"Paraguay\", \"Jamaica\", \"Dominican Republic\", \"Honduras\", \"Haiti\"], \"ids\": [\"Costa Rica\", \"Puerto Rico\", \"Brazil\", \"Mexico\", \"Chile\", \"Panama\", \"Argentina\", \"Uruguay\", \"Colombia\", \"Guatemala\", \"Suriname\", \"Trinidad and Tobago\", \"Venezuela\", \"El Salvador\", \"Nicaragua\", \"Ecuador\", \"Belize\", \"Bolivia\", \"Peru\", \"Paraguay\", \"Jamaica\", \"Dominican Republic\", \"Honduras\", \"Haiti\"], \"legendgroup\": \"Latin America and Caribbean\", \"marker\": {\"color\": \"#FFA15A\", \"symbol\": \"circle\"}, \"mode\": \"markers\", \"name\": \"Latin America and Caribbean\", \"showlegend\": true, \"x\": [0.76146, 0.77758, 0.61415, 0.71143, 0.8188300000000001, 0.70835, 0.69711, 0.72183, 0.59659, 0.5403899999999999, 0.5093300000000001, 0.52608, 0.6190399999999999, 0.596, 0.65213, 0.68613, 0.45569, 0.4697, 0.6299399999999999, 0.58295, 0.5946899999999999, 0.5766899999999999, 0.5838300000000001, 0.27494], \"xaxis\": \"x\", \"y\": [7.087000000000001, 7.039, 6.952000000000001, 6.778, 6.705, 6.7010000000000005, 6.65, 6.545, 6.481, 6.324, 6.269, 6.167999999999999, 6.084, 6.068, 5.992000000000001, 5.976, 5.956, 5.822, 5.742999999999999, 5.537999999999999, 5.51, 5.155, 4.871, 4.0280000000000005], \"yaxis\": \"y\", \"type\": \"scatter\"}, {\"hovertemplate\": \"<b>%{hovertext}</b><br><br>Region=Southeastern Asia<br>year=2016<br>HealthyLifeExpectancy=%{x}<br>Score=%{y}<extra></extra>\", \"hovertext\": [\"Singapore\", \"Thailand\", \"Malaysia\", \"Indonesia\", \"Philippines\", \"Vietnam\", \"Laos\", \"Myanmar\", \"Cambodia\"], \"ids\": [\"Singapore\", \"Thailand\", \"Malaysia\", \"Indonesia\", \"Philippines\", \"Vietnam\", \"Laos\", \"Myanmar\", \"Cambodia\"], \"legendgroup\": \"Southeastern Asia\", \"marker\": {\"color\": \"#19d3f3\", \"symbol\": \"circle\"}, \"mode\": \"markers\", \"name\": \"Southeastern Asia\", \"showlegend\": true, \"x\": [0.94719, 0.64915, 0.62366, 0.49373999999999996, 0.47036000000000006, 0.66157, 0.38291, 0.3988, 0.42494], \"xaxis\": \"x\", \"y\": [6.739, 6.474, 6.005, 5.314, 5.279, 5.061, 4.876, 4.395, 3.907], \"yaxis\": \"y\", \"type\": \"scatter\"}, {\"hovertemplate\": \"<b>%{hovertext}</b><br><br>Region=Central and Eastern Europe<br>year=2016<br>HealthyLifeExpectancy=%{x}<br>Score=%{y}<extra></extra>\", \"hovertext\": [\"Czech Republic\", \"Slovakia\", \"Uzbekistan\", \"Kazakhstan\", \"Moldova\", \"Russia\", \"Poland\", \"Lithuania\", \"Belarus\", \"Slovenia\", \"Turkmenistan\", \"Latvia\", \"Romania\", \"Estonia\", \"Croatia\", \"Kosovo\", \"Azerbaijan\", \"Kyrgyzstan\", \"Serbia\", \"Bosnia and Herzegovina\", \"Montenegro\", \"Hungary\", \"Macedonia\", \"Tajikistan\", \"Albania\", \"Armenia\", \"Ukraine\", \"Georgia\", \"Bulgaria\"], \"ids\": [\"Czech Republic\", \"Slovakia\", \"Uzbekistan\", \"Kazakhstan\", \"Moldova\", \"Russia\", \"Poland\", \"Lithuania\", \"Belarus\", \"Slovenia\", \"Turkmenistan\", \"Latvia\", \"Romania\", \"Estonia\", \"Croatia\", \"Kosovo\", \"Azerbaijan\", \"Kyrgyzstan\", \"Serbia\", \"Bosnia and Herzegovina\", \"Montenegro\", \"Hungary\", \"Macedonia\", \"Tajikistan\", \"Albania\", \"Armenia\", \"Ukraine\", \"Georgia\", \"Bulgaria\"], \"legendgroup\": \"Central and Eastern Europe\", \"marker\": {\"color\": \"#FF6692\", \"symbol\": \"circle\"}, \"mode\": \"markers\", \"name\": \"Central and Eastern Europe\", \"showlegend\": true, \"x\": [0.76376, 0.70367, 0.50163, 0.57386, 0.5230899999999999, 0.58991, 0.69058, 0.64674, 0.6310399999999999, 0.79151, 0.44006000000000006, 0.63952, 0.67602, 0.68098, 0.70524, 0.54, 0.54504, 0.5544899999999999, 0.6458, 0.7076600000000001, 0.6353300000000001, 0.67608, 0.6473800000000001, 0.5311899999999999, 0.73007, 0.64083, 0.58628, 0.64035, 0.67806], \"xaxis\": \"x\", \"y\": [6.596, 6.077999999999999, 5.987, 5.919, 5.897, 5.856, 5.835, 5.813, 5.8020000000000005, 5.768, 5.6579999999999995, 5.56, 5.528, 5.517, 5.4879999999999995, 5.401, 5.291, 5.185, 5.1770000000000005, 5.162999999999999, 5.1610000000000005, 5.145, 5.121, 4.996, 4.655, 4.36, 4.324, 4.252, 4.217], \"yaxis\": \"y\", \"type\": \"scatter\"}, {\"hovertemplate\": \"<b>%{hovertext}</b><br><br>Region=Eastern Asia<br>year=2016<br>HealthyLifeExpectancy=%{x}<br>Score=%{y}<extra></extra>\", \"hovertext\": [\"Taiwan\", \"Japan\", \"South Korea\", \"Hong Kong\", \"China\", \"Mongolia\"], \"ids\": [\"Taiwan\", \"Japan\", \"South Korea\", \"Hong Kong\", \"China\", \"Mongolia\"], \"legendgroup\": \"Eastern Asia\", \"marker\": {\"color\": \"#B6E880\", \"symbol\": \"circle\"}, \"mode\": \"markers\", \"name\": \"Eastern Asia\", \"showlegend\": true, \"x\": [0.79565, 0.91491, 0.88645, 0.9527700000000001, 0.73561, 0.55469], \"xaxis\": \"x\", \"y\": [6.379, 5.921, 5.835, 5.457999999999999, 5.245, 4.907], \"yaxis\": \"y\", \"type\": \"scatter\"}, {\"hovertemplate\": \"<b>%{hovertext}</b><br><br>Region=Sub-Saharan Africa<br>year=2016<br>HealthyLifeExpectancy=%{x}<br>Score=%{y}<extra></extra>\", \"hovertext\": [\"Mauritius\", \"Somalia\", \"Somaliland Region\", \"Nigeria\", \"Zambia\", \"Sierra Leone\", \"Namibia\", \"Cameroon\", \"Ethiopia\", \"South Africa\", \"Kenya\", \"Ghana\", \"Congo (Kinshasa)\", \"Congo (Brazzaville)\", \"Senegal\", \"Mauritania\", \"Zimbabwe\", \"Malawi\", \"Sudan\", \"Gabon\", \"Mali\", \"Botswana\", \"Comoros\", \"Ivory Coast\", \"Angola\", \"Niger\", \"South Sudan\", \"Chad\", \"Burkina Faso\", \"Uganda\", \"Madagascar\", \"Tanzania\", \"Liberia\", \"Guinea\", \"Rwanda\", \"Benin\", \"Togo\", \"Burundi\"], \"ids\": [\"Mauritius\", \"Somalia\", \"Somaliland Region\", \"Nigeria\", \"Zambia\", \"Sierra Leone\", \"Namibia\", \"Cameroon\", \"Ethiopia\", \"South Africa\", \"Kenya\", \"Ghana\", \"Congo (Kinshasa)\", \"Congo (Brazzaville)\", \"Senegal\", \"Mauritania\", \"Zimbabwe\", \"Malawi\", \"Sudan\", \"Gabon\", \"Mali\", \"Botswana\", \"Comoros\", \"Ivory Coast\", \"Angola\", \"Niger\", \"South Sudan\", \"Chad\", \"Burkina Faso\", \"Uganda\", \"Madagascar\", \"Tanzania\", \"Liberia\", \"Guinea\", \"Rwanda\", \"Benin\", \"Togo\", \"Burundi\"], \"legendgroup\": \"Sub-Saharan Africa\", \"marker\": {\"color\": \"#FF97FF\", \"symbol\": \"circle\"}, \"mode\": \"markers\", \"name\": \"Sub-Saharan Africa\", \"showlegend\": true, \"x\": [0.66189, 0.11465999999999998, 0.33108000000000004, 0.05108, 0.23573000000000002, 0.0, 0.34745, 0.12697999999999998, 0.34578000000000003, 0.18611, 0.30146999999999996, 0.29681, 0.188, 0.28212, 0.40457, 0.28639000000000003, 0.1595, 0.29364, 0.29759, 0.3494, 0.16347, 0.34752, 0.29980999999999997, 0.04476, 0.04991, 0.26161999999999996, 0.15780999999999998, 0.038239999999999996, 0.21297, 0.19625, 0.37109000000000003, 0.35700000000000004, 0.23165, 0.18829, 0.31865, 0.21028000000000002, 0.24811, 0.15747], \"xaxis\": \"x\", \"y\": [5.648, 5.44, 5.0569999999999995, 4.875, 4.795, 4.635, 4.574, 4.513, 4.508, 4.459, 4.356, 4.276, 4.272, 4.236000000000001, 4.218999999999999, 4.2010000000000005, 4.1930000000000005, 4.156000000000001, 4.138999999999999, 4.121, 4.073, 3.9739999999999998, 3.9560000000000004, 3.9160000000000004, 3.866, 3.8560000000000003, 3.832, 3.763, 3.739, 3.739, 3.695, 3.6660000000000004, 3.622, 3.6069999999999998, 3.515, 3.484, 3.303, 2.905], \"yaxis\": \"y\", \"type\": \"scatter\"}, {\"hovertemplate\": \"<b>%{hovertext}</b><br><br>Region=Southern Asia<br>year=2016<br>HealthyLifeExpectancy=%{x}<br>Score=%{y}<extra></extra>\", \"hovertext\": [\"Bhutan\", \"Pakistan\", \"Nepal\", \"Bangladesh\", \"Sri Lanka\", \"India\", \"Afghanistan\"], \"ids\": [\"Bhutan\", \"Pakistan\", \"Nepal\", \"Bangladesh\", \"Sri Lanka\", \"India\", \"Afghanistan\"], \"legendgroup\": \"Southern Asia\", \"marker\": {\"color\": \"#FECB52\", \"symbol\": \"circle\"}, \"mode\": \"markers\", \"name\": \"Southern Asia\", \"showlegend\": true, \"x\": [0.49759, 0.40306, 0.50073, 0.52989, 0.62007, 0.45091000000000003, 0.17344], \"xaxis\": \"x\", \"y\": [5.196000000000001, 5.132000000000001, 4.793, 4.643, 4.415, 4.404, 3.36], \"yaxis\": \"y\", \"type\": \"scatter\"}], \"name\": \"2016\"}, {\"data\": [{\"hovertemplate\": \"<b>%{hovertext}</b><br><br>Region=Western Europe<br>year=2017<br>HealthyLifeExpectancy=%{x}<br>Score=%{y}<extra></extra>\", \"hovertext\": [\"Norway\", \"Denmark\", \"Iceland\", \"Switzerland\", \"Finland\", \"Netherlands\", \"Sweden\", \"Austria\", \"Ireland\", \"Germany\", \"Belgium\", \"Luxembourg\", \"United Kingdom\", \"Malta\", \"France\", \"Spain\", \"Italy\", \"North Cyprus\", \"Cyprus\", \"Greece\", \"Portugal\"], \"ids\": [\"Norway\", \"Denmark\", \"Iceland\", \"Switzerland\", \"Finland\", \"Netherlands\", \"Sweden\", \"Austria\", \"Ireland\", \"Germany\", \"Belgium\", \"Luxembourg\", \"United Kingdom\", \"Malta\", \"France\", \"Spain\", \"Italy\", \"North Cyprus\", \"Cyprus\", \"Greece\", \"Portugal\"], \"legendgroup\": \"Western Europe\", \"marker\": {\"color\": \"#636efa\", \"symbol\": \"circle\"}, \"mode\": \"markers\", \"name\": \"Western Europe\", \"showlegend\": true, \"x\": [0.796666502952576, 0.7925655245780941, 0.8335521221160892, 0.858131289482117, 0.80915766954422, 0.8106961250305179, 0.830875158309937, 0.8153284192085269, 0.8097826242446899, 0.798950731754303, 0.8180918693542479, 0.845089495182037, 0.805335938930511, 0.821944236755371, 0.8444658517837521, 0.888960599899292, 0.8531443476676941, 0.834647238254547, 0.84471470117569, 0.8101989030838009, 0.795843541622162], \"xaxis\": \"x\", \"y\": [7.537000179290769, 7.52199983596802, 7.50400018692017, 7.49399995803833, 7.468999862670901, 7.3769998550415, 7.28399991989136, 7.00600004196167, 6.9770002365112305, 6.9510002136230495, 6.89099979400635, 6.86299991607666, 6.71400022506714, 6.52699995040894, 6.44199991226196, 6.40299987792969, 5.96400022506714, 5.80999994277954, 5.62099981307983, 5.2270002365112305, 5.19500017166138], \"yaxis\": \"y\", \"type\": \"scatter\"}, {\"hovertemplate\": \"<b>%{hovertext}</b><br><br>Region=Latin America and Caribbean<br>year=2017<br>HealthyLifeExpectancy=%{x}<br>Score=%{y}<extra></extra>\", \"hovertext\": [\"Costa Rica\", \"Chile\", \"Brazil\", \"Argentina\", \"Mexico\", \"Uruguay\", \"Guatemala\", \"Panama\", \"Colombia\", \"Trinidad and Tobago\", \"Nicaragua\", \"Ecuador\", \"El Salvador\", \"Belize\", \"Bolivia\", \"Peru\", \"Paraguay\", \"Jamaica\", \"Venezuela\", \"Dominican Republic\", \"Honduras\", \"Haiti\"], \"ids\": [\"Costa Rica\", \"Chile\", \"Brazil\", \"Argentina\", \"Mexico\", \"Uruguay\", \"Guatemala\", \"Panama\", \"Colombia\", \"Trinidad and Tobago\", \"Nicaragua\", \"Ecuador\", \"El Salvador\", \"Belize\", \"Bolivia\", \"Peru\", \"Paraguay\", \"Jamaica\", \"Venezuela\", \"Dominican Republic\", \"Honduras\", \"Haiti\"], \"legendgroup\": \"Latin America and Caribbean\", \"marker\": {\"color\": \"#FFA15A\", \"symbol\": \"circle\"}, \"mode\": \"markers\", \"name\": \"Latin America and Caribbean\", \"showlegend\": true, \"x\": [0.7595092654228209, 0.8194797039031979, 0.6165523529052729, 0.695137083530426, 0.709978997707367, 0.719216823577881, 0.540239989757538, 0.706156134605408, 0.595027923583984, 0.5199832916259771, 0.6530959606170649, 0.685636222362518, 0.596018552780151, 0.45019176602363603, 0.47363024950027505, 0.6301661133766171, 0.579250693321228, 0.6410223841667181, 0.617144227027893, 0.574873745441437, 0.582569479942322, 0.277321130037308], \"xaxis\": \"x\", \"y\": [7.0789999961853, 6.65199995040894, 6.6350002288818395, 6.59899997711182, 6.57800006866455, 6.4539999961853, 6.4539999961853, 6.4520001411438, 6.35699987411499, 6.1680002212524405, 6.07100009918213, 6.00799989700317, 6.002999782562259, 5.955999851226809, 5.82299995422363, 5.71500015258789, 5.493000030517581, 5.31099987030029, 5.25, 5.230000019073491, 5.1810002326965305, 3.6029999256133998], \"yaxis\": \"y\", \"type\": \"scatter\"}, {\"hovertemplate\": \"<b>%{hovertext}</b><br><br>Region=Central and Eastern Europe<br>year=2017<br>HealthyLifeExpectancy=%{x}<br>Score=%{y}<extra></extra>\", \"hovertext\": [\"Czech Republic\", \"Slovakia\", \"Poland\", \"Lithuania\", \"Latvia\", \"Romania\", \"Slovenia\", \"Estonia\", \"Serbia\", \"Hungary\", \"Croatia\", \"Kosovo\", \"Montenegro\", \"Bosnia and Herzegovina\", \"Macedonia\", \"Bulgaria\", \"Albania\"], \"ids\": [\"Czech Republic\", \"Slovakia\", \"Poland\", \"Lithuania\", \"Latvia\", \"Romania\", \"Slovenia\", \"Estonia\", \"Serbia\", \"Hungary\", \"Croatia\", \"Kosovo\", \"Montenegro\", \"Bosnia and Herzegovina\", \"Macedonia\", \"Bulgaria\", \"Albania\"], \"legendgroup\": \"Central and Eastern Europe\", \"marker\": {\"color\": \"#FF6692\", \"symbol\": \"circle\"}, \"mode\": \"markers\", \"name\": \"Central and Eastern Europe\", \"showlegend\": true, \"x\": [0.754444003105164, 0.712732911109924, 0.699475347995758, 0.62894994020462, 0.638566970825195, 0.6851583123207089, 0.7908282279968258, 0.695168316364288, 0.65078467130661, 0.6877634525299069, 0.701288521289825, 0.541452050209045, 0.6674646735191351, 0.705186307430267, 0.644948184490204, 0.708217680454254, 0.731159746646881], \"xaxis\": \"x\", \"y\": [6.60900020599365, 6.09800004959106, 5.97300004959106, 5.90199995040894, 5.849999904632571, 5.824999809265139, 5.75799989700317, 5.61100006103516, 5.39499998092651, 5.32399988174438, 5.2930002212524405, 5.27899980545044, 5.23699998855591, 5.18200016021729, 5.175000190734861, 4.71400022506714, 4.64400005340576], \"yaxis\": \"y\", \"type\": \"scatter\"}, {\"hovertemplate\": \"<b>%{hovertext}</b><br><br>Region=Sub-Saharan Africa<br>year=2017<br>HealthyLifeExpectancy=%{x}<br>Score=%{y}<extra></extra>\", \"hovertext\": [\"Mauritius\", \"Somalia\", \"Nigeria\", \"South Africa\", \"Sierra Leone\", \"Cameroon\", \"Namibia\", \"Kenya\", \"Mozambique\", \"Senegal\", \"Zambia\", \"Gabon\", \"Ethiopia\", \"Mauritania\", \"Congo (Brazzaville)\", \"Congo (Kinshasa)\", \"Mali\", \"Ivory Coast\", \"Sudan\", \"Ghana\", \"Uganda\", \"Burkina Faso\", \"Niger\", \"Malawi\", \"Chad\", \"Zimbabwe\", \"Lesotho\", \"Angola\", \"Botswana\", \"Benin\", \"Madagascar\", \"South Sudan\", \"Liberia\", \"Guinea\", \"Togo\", \"Rwanda\", \"Tanzania\", \"Burundi\", \"Central African Republic\"], \"ids\": [\"Mauritius\", \"Somalia\", \"Nigeria\", \"South Africa\", \"Sierra Leone\", \"Cameroon\", \"Namibia\", \"Kenya\", \"Mozambique\", \"Senegal\", \"Zambia\", \"Gabon\", \"Ethiopia\", \"Mauritania\", \"Congo (Brazzaville)\", \"Congo (Kinshasa)\", \"Mali\", \"Ivory Coast\", \"Sudan\", \"Ghana\", \"Uganda\", \"Burkina Faso\", \"Niger\", \"Malawi\", \"Chad\", \"Zimbabwe\", \"Lesotho\", \"Angola\", \"Botswana\", \"Benin\", \"Madagascar\", \"South Sudan\", \"Liberia\", \"Guinea\", \"Togo\", \"Rwanda\", \"Tanzania\", \"Burundi\", \"Central African Republic\"], \"legendgroup\": \"Sub-Saharan Africa\", \"marker\": {\"color\": \"#FF97FF\", \"symbol\": \"circle\"}, \"mode\": \"markers\", \"name\": \"Sub-Saharan Africa\", \"showlegend\": true, \"x\": [0.6380074620246889, 0.11398913711309401, 0.0569157302379608, 0.18708007037639604, 0.005564753897488121, 0.132892116904259, 0.33861181139946, 0.30998834967613204, 0.10665443539619399, 0.409362852573395, 0.25783589482307395, 0.35657858848571794, 0.35340970754623396, 0.285349279642105, 0.28995743393898, 0.191407024860382, 0.16936567425727803, 0.0486421696841717, 0.290920823812485, 0.29563772678375205, 0.21763260662555703, 0.21584425866603896, 0.26850500702858, 0.315089583396912, 0.0411347150802612, 0.19676375389099102, 0.0, 0.0498686656355858, 0.34175550937652605, 0.20993021130561804, 0.375223308801651, 0.163486003875732, 0.229918196797371, 0.194129139184952, 0.247105568647385, 0.326424807310104, 0.364509284496307, 0.151610791683197, 0.0187726859003305], \"xaxis\": \"x\", \"y\": [5.62900018692017, 5.151000022888179, 5.07399988174438, 4.8289999961853, 4.70900011062622, 4.69500017166138, 4.57399988174438, 4.55299997329712, 4.550000190734861, 4.53499984741211, 4.513999938964839, 4.46500015258789, 4.46000003814697, 4.29199981689453, 4.29099988937378, 4.2800002098083505, 4.19000005722046, 4.17999982833862, 4.138999938964839, 4.11999988555908, 4.08099985122681, 4.03200006484985, 4.02799987792969, 3.97000002861023, 3.9360001087188703, 3.875, 3.80800008773804, 3.79500007629395, 3.7660000324249303, 3.65700006484985, 3.64400005340576, 3.5910000801086404, 3.5329999923706095, 3.50699996948242, 3.4949998855590803, 3.47099995613098, 3.34899997711182, 2.90499997138977, 2.69300007820129], \"yaxis\": \"y\", \"type\": \"scatter\"}, {\"hovertemplate\": \"<b>%{hovertext}</b><br><br>Region=North America and ANZ<br>year=2017<br>HealthyLifeExpectancy=%{x}<br>Score=%{y}<extra></extra>\", \"hovertext\": [\"Canada\", \"New Zealand\", \"Australia\", \"United States\"], \"ids\": [\"Canada\", \"New Zealand\", \"Australia\", \"United States\"], \"legendgroup\": \"North America and ANZ\", \"marker\": {\"color\": \"#636efa\", \"symbol\": \"circle\"}, \"mode\": \"markers\", \"name\": \"North America and ANZ\", \"showlegend\": true, \"x\": [0.83455765247345, 0.816759705543518, 0.84388679265976, 0.7742866277694699], \"xaxis\": \"x\", \"y\": [7.31599998474121, 7.31400012969971, 7.28399991989136, 6.993000030517581], \"yaxis\": \"y\", \"type\": \"scatter\"}, {\"hovertemplate\": \"<b>%{hovertext}</b><br><br>Region=Middle East and North Africa<br>year=2017<br>HealthyLifeExpectancy=%{x}<br>Score=%{y}<extra></extra>\", \"hovertext\": [\"Israel\", \"United Arab Emirates\", \"Qatar\", \"Saudi Arabia\", \"Kuwait\", \"Bahrain\", \"Algeria\", \"Libya\", \"Turkey\", \"Jordan\", \"Morocco\", \"Lebanon\", \"Tunisia\", \"Palestinian Territories\", \"Egypt\", \"Iran\", \"Iraq\", \"Yemen\", \"Syria\"], \"ids\": [\"Israel\", \"United Arab Emirates\", \"Qatar\", \"Saudi Arabia\", \"Kuwait\", \"Bahrain\", \"Algeria\", \"Libya\", \"Turkey\", \"Jordan\", \"Morocco\", \"Lebanon\", \"Tunisia\", \"Palestinian Territories\", \"Egypt\", \"Iran\", \"Iraq\", \"Yemen\", \"Syria\"], \"legendgroup\": \"Middle East and North Africa\", \"marker\": {\"color\": \"#EF553B\", \"symbol\": \"circle\"}, \"mode\": \"markers\", \"name\": \"Middle East and North Africa\", \"showlegend\": true, \"x\": [0.83840399980545, 0.726798236370087, 0.7100980877876278, 0.590148329734802, 0.6321057081222529, 0.653133034706116, 0.6175846457481379, 0.520169019699097, 0.6376056075096129, 0.6045900583267211, 0.59771066904068, 0.7350810766220089, 0.613212049007416, 0.565666973590851, 0.520187258720398, 0.639333188533783, 0.501180469989777, 0.310080915689468, 0.5005333423614501], \"xaxis\": \"x\", \"y\": [7.212999820709231, 6.6479997634887695, 6.375, 6.343999862670901, 6.10500001907349, 6.08699989318848, 5.872000217437741, 5.525000095367429, 5.5, 5.33599996566772, 5.2350001335144, 5.22499990463257, 4.80499982833862, 4.77500009536743, 4.7350001335144, 4.69199991226196, 4.49700021743774, 3.59299993515015, 3.46199989318848], \"yaxis\": \"y\", \"type\": \"scatter\"}, {\"hovertemplate\": \"<b>%{hovertext}</b><br><br>Region=Southeast Asia<br>year=2017<br>HealthyLifeExpectancy=%{x}<br>Score=%{y}<extra></extra>\", \"hovertext\": [\"Singapore\", \"Thailand\", \"Malaysia\", \"Philippines\", \"Indonesia\", \"Vietnam\", \"Myanmar\", \"Cambodia\"], \"ids\": [\"Singapore\", \"Thailand\", \"Malaysia\", \"Philippines\", \"Indonesia\", \"Vietnam\", \"Myanmar\", \"Cambodia\"], \"legendgroup\": \"Southeast Asia\", \"marker\": {\"color\": \"#00cc96\", \"symbol\": \"circle\"}, \"mode\": \"markers\", \"name\": \"Southeast Asia\", \"showlegend\": true, \"x\": [0.9494923949241642, 0.647239029407501, 0.618784427642822, 0.46800905466079706, 0.49234572052955605, 0.6521689891815191, 0.397522568702698, 0.429783403873444], \"xaxis\": \"x\", \"y\": [6.57200002670288, 6.4239997863769505, 6.08400011062622, 5.42999982833862, 5.26200008392334, 5.07399988174438, 4.54500007629395, 4.1680002212524405], \"yaxis\": \"y\", \"type\": \"scatter\"}, {\"hovertemplate\": \"<b>%{hovertext}</b><br><br>Region=East Asia<br>year=2017<br>HealthyLifeExpectancy=%{x}<br>Score=%{y}<extra></extra>\", \"hovertext\": [\"Taiwan\", \"Japan\", \"South Korea\", \"Hong Kong S.A.R. of China\", \"China\", \"Mongolia\"], \"ids\": [\"Taiwan\", \"Japan\", \"South Korea\", \"Hong Kong S.A.R. of China\", \"China\", \"Mongolia\"], \"legendgroup\": \"East Asia\", \"marker\": {\"color\": \"#ab63fa\", \"symbol\": \"circle\"}, \"mode\": \"markers\", \"name\": \"East Asia\", \"showlegend\": true, \"x\": [0.793984234333038, 0.9134758710861209, 0.900214076042175, 0.943062424659729, 0.741415500640869, 0.557783484458923], \"xaxis\": \"x\", \"y\": [6.42199993133545, 5.92000007629395, 5.837999820709231, 5.47200012207031, 5.2729997634887695, 4.95499992370605], \"yaxis\": \"y\", \"type\": \"scatter\"}, {\"hovertemplate\": \"<b>%{hovertext}</b><br><br>Region=Commonwealth of Independent States<br>year=2017<br>HealthyLifeExpectancy=%{x}<br>Score=%{y}<extra></extra>\", \"hovertext\": [\"Uzbekistan\", \"Russia\", \"Moldova\", \"Turkmenistan\", \"Kazakhstan\", \"Belarus\", \"Azerbaijan\", \"Tajikistan\", \"Kyrgyzstan\", \"Armenia\", \"Georgia\", \"Ukraine\"], \"ids\": [\"Uzbekistan\", \"Russia\", \"Moldova\", \"Turkmenistan\", \"Kazakhstan\", \"Belarus\", \"Azerbaijan\", \"Tajikistan\", \"Kyrgyzstan\", \"Armenia\", \"Georgia\", \"Ukraine\"], \"legendgroup\": \"Commonwealth of Independent States\", \"marker\": {\"color\": \"#FFA15A\", \"symbol\": \"circle\"}, \"mode\": \"markers\", \"name\": \"Commonwealth of Independent States\", \"showlegend\": true, \"x\": [0.498272627592087, 0.547349333763123, 0.5894652009010309, 0.437726080417633, 0.6060415506362921, 0.6377142667770389, 0.5407757759094239, 0.5292351245880129, 0.553457796573639, 0.637524425983429, 0.649546980857849, 0.575903952121735], \"xaxis\": \"x\", \"y\": [5.97100019454956, 5.962999820709231, 5.837999820709231, 5.82200002670288, 5.8189997673034695, 5.5689997673034695, 5.234000205993651, 5.04099988937378, 5.0040001869201705, 4.37599992752075, 4.28599977493286, 4.09600019454956], \"yaxis\": \"y\", \"type\": \"scatter\"}, {\"hovertemplate\": \"<b>%{hovertext}</b><br><br>Region=South Asia<br>year=2017<br>HealthyLifeExpectancy=%{x}<br>Score=%{y}<extra></extra>\", \"hovertext\": [\"Pakistan\", \"Bhutan\", \"Nepal\", \"Bangladesh\", \"Sri Lanka\", \"India\", \"Afghanistan\"], \"ids\": [\"Pakistan\", \"Bhutan\", \"Nepal\", \"Bangladesh\", \"Sri Lanka\", \"India\", \"Afghanistan\"], \"legendgroup\": \"South Asia\", \"marker\": {\"color\": \"#19d3f3\", \"symbol\": \"circle\"}, \"mode\": \"markers\", \"name\": \"South Asia\", \"showlegend\": true, \"x\": [0.40204778313636796, 0.495879292488098, 0.504130780696869, 0.533241033554077, 0.625130832195282, 0.455427616834641, 0.18074677884578697], \"xaxis\": \"x\", \"y\": [5.26900005340576, 5.01100015640259, 4.961999893188481, 4.60799980163574, 4.44000005722046, 4.31500005722046, 3.7939999103546103], \"yaxis\": \"y\", \"type\": \"scatter\"}], \"name\": \"2017\"}, {\"data\": [{\"hovertemplate\": \"<b>%{hovertext}</b><br><br>Region=Western Europe<br>year=2018<br>HealthyLifeExpectancy=%{x}<br>Score=%{y}<extra></extra>\", \"hovertext\": [\"Austria\", \"Belgium\", \"Cyprus\", \"Cyprus\", \"Denmark\", \"Finland\", \"France\", \"Germany\", \"Greece\", \"Iceland\", \"Ireland\", \"Italy\", \"Luxembourg\", \"Malta\", \"Netherlands\", \"Norway\", \"Portugal\", \"Spain\", \"Sweden\", \"Switzerland\", \"United Kingdom\"], \"ids\": [\"Austria\", \"Belgium\", \"Cyprus\", \"Cyprus\", \"Denmark\", \"Finland\", \"France\", \"Germany\", \"Greece\", \"Iceland\", \"Ireland\", \"Italy\", \"Luxembourg\", \"Malta\", \"Netherlands\", \"Norway\", \"Portugal\", \"Spain\", \"Sweden\", \"Switzerland\", \"United Kingdom\"], \"legendgroup\": \"Western Europe\", \"marker\": {\"color\": \"#636efa\", \"symbol\": \"circle\"}, \"mode\": \"markers\", \"name\": \"Western Europe\", \"showlegend\": true, \"x\": [0.8909999999999999, 0.894, 0.909, 0.909, 0.868, 0.8740000000000001, 0.9079999999999999, 0.861, 0.879, 0.914, 0.8759999999999999, 0.946, 0.8959999999999999, 0.884, 0.878, 0.861, 0.884, 0.965, 0.9129999999999999, 0.927, 0.888], \"xaxis\": \"x\", \"y\": [7.138999999999999, 6.9270000000000005, 5.835, 5.7620000000000005, 7.555, 7.632000000000001, 6.489, 6.965, 5.358, 7.495, 6.977, 6.0, 6.91, 6.627000000000001, 7.441, 7.593999999999999, 5.41, 6.31, 7.314, 7.487, 7.19], \"yaxis\": \"y\", \"type\": \"scatter\"}, {\"hovertemplate\": \"<b>%{hovertext}</b><br><br>Region=Latin America and Caribbean<br>year=2018<br>HealthyLifeExpectancy=%{x}<br>Score=%{y}<extra></extra>\", \"hovertext\": [\"Argentina\", \"Belize\", \"Bolivia\", \"Brazil\", \"Chile\", \"Colombia\", \"Costa Rica\", \"Dominican Republic\", \"Ecuador\", \"El Salvador\", \"Guatemala\", \"Haiti\", \"Honduras\", \"Jamaica\", \"Mexico\", \"Nicaragua\", \"Panama\", \"Paraguay\", \"Peru\", \"Trinidad and Tobago\", \"Uruguay\", \"Venezuela\"], \"ids\": [\"Argentina\", \"Belize\", \"Bolivia\", \"Brazil\", \"Chile\", \"Colombia\", \"Costa Rica\", \"Dominican Republic\", \"Ecuador\", \"El Salvador\", \"Guatemala\", \"Haiti\", \"Honduras\", \"Jamaica\", \"Mexico\", \"Nicaragua\", \"Panama\", \"Paraguay\", \"Peru\", \"Trinidad and Tobago\", \"Uruguay\", \"Venezuela\"], \"legendgroup\": \"Latin America and Caribbean\", \"marker\": {\"color\": \"#FFA15A\", \"symbol\": \"circle\"}, \"mode\": \"markers\", \"name\": \"Latin America and Caribbean\", \"showlegend\": true, \"x\": [0.7440000000000001, 0.474, 0.508, 0.675, 0.8079999999999999, 0.635, 0.8170000000000001, 0.614, 0.736, 0.639, 0.608, 0.289, 0.622, 0.693, 0.7609999999999999, 0.7, 0.759, 0.615, 0.674, 0.564, 0.7709999999999999, 0.657], \"xaxis\": \"x\", \"y\": [6.388, 5.956, 5.752000000000001, 6.419, 6.476, 6.26, 7.072, 5.3020000000000005, 5.973, 6.167000000000001, 6.382000000000001, 3.582, 5.504, 5.89, 6.4879999999999995, 6.141, 6.43, 5.681, 5.662999999999999, 6.192, 6.379, 4.806], \"yaxis\": \"y\", \"type\": \"scatter\"}, {\"hovertemplate\": \"<b>%{hovertext}</b><br><br>Region=Central and Eastern Europe<br>year=2018<br>HealthyLifeExpectancy=%{x}<br>Score=%{y}<extra></extra>\", \"hovertext\": [\"Albania\", \"Bosnia and Herzegovina\", \"Bulgaria\", \"Croatia\", \"Czech Republic\", \"Estonia\", \"Hungary\", \"Kosovo\", \"Latvia\", \"Lithuania\", \"Macedonia\", \"Montenegro\", \"Poland\", \"Romania\", \"Serbia\", \"Slovakia\", \"Slovenia\"], \"ids\": [\"Albania\", \"Bosnia and Herzegovina\", \"Bulgaria\", \"Croatia\", \"Czech Republic\", \"Estonia\", \"Hungary\", \"Kosovo\", \"Latvia\", \"Lithuania\", \"Macedonia\", \"Montenegro\", \"Poland\", \"Romania\", \"Serbia\", \"Slovakia\", \"Slovenia\"], \"legendgroup\": \"Central and Eastern Europe\", \"marker\": {\"color\": \"#FF6692\", \"symbol\": \"circle\"}, \"mode\": \"markers\", \"name\": \"Central and Eastern Europe\", \"showlegend\": true, \"x\": [0.79, 0.758, 0.7120000000000001, 0.737, 0.8540000000000001, 0.737, 0.732, 0.578, 0.6709999999999999, 0.716, 0.691, 0.7290000000000001, 0.7809999999999999, 0.726, 0.685, 0.7759999999999999, 0.856], \"xaxis\": \"x\", \"y\": [4.586, 5.129, 4.933, 5.321000000000001, 6.711, 5.739, 5.62, 5.662000000000001, 5.933, 5.952000000000001, 5.185, 5.347, 6.122999999999999, 5.945, 5.398, 6.172999999999999, 5.9479999999999995], \"yaxis\": \"y\", \"type\": \"scatter\"}, {\"hovertemplate\": \"<b>%{hovertext}</b><br><br>Region=Sub-Saharan Africa<br>year=2018<br>HealthyLifeExpectancy=%{x}<br>Score=%{y}<extra></extra>\", \"hovertext\": [\"Angola\", \"Benin\", \"Botswana\", \"Burkina Faso\", \"Burundi\", \"Cameroon\", \"Central African Republic\", \"Chad\", \"Congo (Brazzaville)\", \"Congo (Kinshasa)\", \"Ethiopia\", \"Gabon\", \"Ghana\", \"Guinea\", \"Ivory Coast\", \"Kenya\", \"Lesotho\", \"Liberia\", \"Madagascar\", \"Malawi\", \"Mali\", \"Mauritania\", \"Mauritius\", \"Mozambique\", \"Namibia\", \"Niger\", \"Nigeria\", \"Rwanda\", \"Senegal\", \"Sierra Leone\", \"Somalia\", \"South Africa\", \"South Sudan\", \"Sudan\", \"Tanzania\", \"Togo\", \"Uganda\", \"Zambia\", \"Zimbabwe\"], \"ids\": [\"Angola\", \"Benin\", \"Botswana\", \"Burkina Faso\", \"Burundi\", \"Cameroon\", \"Central African Republic\", \"Chad\", \"Congo (Brazzaville)\", \"Congo (Kinshasa)\", \"Ethiopia\", \"Gabon\", \"Ghana\", \"Guinea\", \"Ivory Coast\", \"Kenya\", \"Lesotho\", \"Liberia\", \"Madagascar\", \"Malawi\", \"Mali\", \"Mauritania\", \"Mauritius\", \"Mozambique\", \"Namibia\", \"Niger\", \"Nigeria\", \"Rwanda\", \"Senegal\", \"Sierra Leone\", \"Somalia\", \"South Africa\", \"South Sudan\", \"Sudan\", \"Tanzania\", \"Togo\", \"Uganda\", \"Zambia\", \"Zimbabwe\"], \"legendgroup\": \"Sub-Saharan Africa\", \"marker\": {\"color\": \"#FF97FF\", \"symbol\": \"circle\"}, \"mode\": \"markers\", \"name\": \"Sub-Saharan Africa\", \"showlegend\": true, \"x\": [0.26899999999999996, 0.24, 0.41700000000000004, 0.254, 0.145, 0.182, 0.01, 0.053, 0.34299999999999997, 0.204, 0.391, 0.40399999999999997, 0.337, 0.21100000000000002, 0.08, 0.45399999999999996, 0.079, 0.267, 0.402, 0.306, 0.152, 0.292, 0.684, 0.17300000000000001, 0.365, 0.221, 0.048, 0.4, 0.433, 0.0, 0.115, 0.33, 0.177, 0.312, 0.381, 0.253, 0.237, 0.295, 0.248], \"xaxis\": \"x\", \"y\": [3.795, 4.141, 3.59, 4.4239999999999995, 2.905, 4.975, 3.083, 4.301, 4.559, 4.245, 4.35, 4.758, 4.657, 3.964, 4.671, 4.41, 3.8080000000000003, 3.495, 3.7739999999999996, 3.5869999999999997, 4.447, 4.356, 5.891, 4.417, 4.441, 4.166, 5.155, 3.408, 4.631, 4.571000000000001, 4.982, 4.724, 3.2539999999999996, 4.138999999999999, 3.303, 3.9989999999999997, 4.1610000000000005, 4.377, 3.6919999999999997], \"yaxis\": \"y\", \"type\": \"scatter\"}, {\"hovertemplate\": \"<b>%{hovertext}</b><br><br>Region=North America and ANZ<br>year=2018<br>HealthyLifeExpectancy=%{x}<br>Score=%{y}<extra></extra>\", \"hovertext\": [\"Australia\", \"Canada\", \"New Zealand\", \"United States\"], \"ids\": [\"Australia\", \"Canada\", \"New Zealand\", \"United States\"], \"legendgroup\": \"North America and ANZ\", \"marker\": {\"color\": \"#636efa\", \"symbol\": \"circle\"}, \"mode\": \"markers\", \"name\": \"North America and ANZ\", \"showlegend\": true, \"x\": [0.91, 0.8959999999999999, 0.8759999999999999, 0.8190000000000001], \"xaxis\": \"x\", \"y\": [7.272, 7.327999999999999, 7.324, 6.886], \"yaxis\": \"y\", \"type\": \"scatter\"}, {\"hovertemplate\": \"<b>%{hovertext}</b><br><br>Region=Middle East and North Africa<br>year=2018<br>HealthyLifeExpectancy=%{x}<br>Score=%{y}<extra></extra>\", \"hovertext\": [\"Algeria\", \"Bahrain\", \"Egypt\", \"Iran\", \"Iraq\", \"Israel\", \"Jordan\", \"Kuwait\", \"Lebanon\", \"Libya\", \"Morocco\", \"Palestinian Territories\", \"Qatar\", \"Saudi Arabia\", \"Syria\", \"Tunisia\", \"Turkey\", \"United Arab Emirates\", \"Yemen\"], \"ids\": [\"Algeria\", \"Bahrain\", \"Egypt\", \"Iran\", \"Iraq\", \"Israel\", \"Jordan\", \"Kuwait\", \"Lebanon\", \"Libya\", \"Morocco\", \"Palestinian Territories\", \"Qatar\", \"Saudi Arabia\", \"Syria\", \"Tunisia\", \"Turkey\", \"United Arab Emirates\", \"Yemen\"], \"legendgroup\": \"Middle East and North Africa\", \"marker\": {\"color\": \"#EF553B\", \"symbol\": \"circle\"}, \"mode\": \"markers\", \"name\": \"Middle East and North Africa\", \"showlegend\": true, \"x\": [0.687, 0.698, 0.5529999999999999, 0.691, 0.536, 0.883, 0.645, 0.675, 0.785, 0.5529999999999999, 0.669, 0.602, 0.748, 0.633, 0.539, 0.69, 0.6859999999999999, 0.67, 0.34299999999999997], \"xaxis\": \"x\", \"y\": [5.295, 6.105, 4.419, 4.707, 4.456, 6.814, 5.1610000000000005, 6.082999999999999, 5.358, 5.566, 5.254, 4.743, 6.374, 6.371, 3.4619999999999997, 4.592, 5.483, 6.774, 3.355], \"yaxis\": \"y\", \"type\": \"scatter\"}, {\"hovertemplate\": \"<b>%{hovertext}</b><br><br>Region=Southeast Asia<br>year=2018<br>HealthyLifeExpectancy=%{x}<br>Score=%{y}<extra></extra>\", \"hovertext\": [\"Cambodia\", \"Indonesia\", \"Laos\", \"Malaysia\", \"Myanmar\", \"Philippines\", \"Singapore\", \"Thailand\", \"Vietnam\"], \"ids\": [\"Cambodia\", \"Indonesia\", \"Laos\", \"Malaysia\", \"Myanmar\", \"Philippines\", \"Singapore\", \"Thailand\", \"Vietnam\"], \"legendgroup\": \"Southeast Asia\", \"marker\": {\"color\": \"#00cc96\", \"symbol\": \"circle\"}, \"mode\": \"markers\", \"name\": \"Southeast Asia\", \"showlegend\": true, \"x\": [0.457, 0.522, 0.441, 0.669, 0.429, 0.513, 1.008, 0.7070000000000001, 0.7020000000000001], \"xaxis\": \"x\", \"y\": [4.433, 5.093, 4.623, 6.322, 4.308, 5.524, 6.343, 6.072, 5.103], \"yaxis\": \"y\", \"type\": \"scatter\"}, {\"hovertemplate\": \"<b>%{hovertext}</b><br><br>Region=East Asia<br>year=2018<br>HealthyLifeExpectancy=%{x}<br>Score=%{y}<extra></extra>\", \"hovertext\": [\"China\", \"Hong Kong S.A.R. of China\", \"Japan\", \"Mongolia\", \"South Korea\", \"Taiwan\"], \"ids\": [\"China\", \"Hong Kong S.A.R. of China\", \"Japan\", \"Mongolia\", \"South Korea\", \"Taiwan\"], \"legendgroup\": \"East Asia\", \"marker\": {\"color\": \"#ab63fa\", \"symbol\": \"circle\"}, \"mode\": \"markers\", \"name\": \"East Asia\", \"showlegend\": true, \"x\": [0.799, 1.03, 0.988, 0.575, 0.955, 0.857], \"xaxis\": \"x\", \"y\": [5.246, 5.43, 5.915, 5.125, 5.875, 6.441], \"yaxis\": \"y\", \"type\": \"scatter\"}, {\"hovertemplate\": \"<b>%{hovertext}</b><br><br>Region=Commonwealth of Independent States<br>year=2018<br>HealthyLifeExpectancy=%{x}<br>Score=%{y}<extra></extra>\", \"hovertext\": [\"Armenia\", \"Azerbaijan\", \"Belarus\", \"Georgia\", \"Kazakhstan\", \"Kyrgyzstan\", \"Moldova\", \"Russia\", \"Tajikistan\", \"Turkmenistan\", \"Ukraine\", \"Uzbekistan\"], \"ids\": [\"Armenia\", \"Azerbaijan\", \"Belarus\", \"Georgia\", \"Kazakhstan\", \"Kyrgyzstan\", \"Moldova\", \"Russia\", \"Tajikistan\", \"Turkmenistan\", \"Ukraine\", \"Uzbekistan\"], \"legendgroup\": \"Commonwealth of Independent States\", \"marker\": {\"color\": \"#FFA15A\", \"symbol\": \"circle\"}, \"mode\": \"markers\", \"name\": \"Commonwealth of Independent States\", \"showlegend\": true, \"x\": [0.6659999999999999, 0.603, 0.7, 0.643, 0.631, 0.594, 0.62, 0.599, 0.598, 0.517, 0.609, 0.605], \"xaxis\": \"x\", \"y\": [4.321000000000001, 5.2010000000000005, 5.483, 4.34, 5.79, 5.131, 5.64, 5.81, 5.199, 5.636, 4.103, 6.096], \"yaxis\": \"y\", \"type\": \"scatter\"}, {\"hovertemplate\": \"<b>%{hovertext}</b><br><br>Region=South Asia<br>year=2018<br>HealthyLifeExpectancy=%{x}<br>Score=%{y}<extra></extra>\", \"hovertext\": [\"Afghanistan\", \"Bangladesh\", \"Bhutan\", \"India\", \"Nepal\", \"Pakistan\", \"Sri Lanka\"], \"ids\": [\"Afghanistan\", \"Bangladesh\", \"Bhutan\", \"India\", \"Nepal\", \"Pakistan\", \"Sri Lanka\"], \"legendgroup\": \"South Asia\", \"marker\": {\"color\": \"#19d3f3\", \"symbol\": \"circle\"}, \"mode\": \"markers\", \"name\": \"South Asia\", \"showlegend\": true, \"x\": [0.255, 0.579, 0.527, 0.485, 0.539, 0.424, 0.672], \"xaxis\": \"x\", \"y\": [3.6319999999999997, 4.5, 5.082, 4.19, 4.88, 5.472, 4.471], \"yaxis\": \"y\", \"type\": \"scatter\"}], \"name\": \"2018\"}, {\"data\": [{\"hovertemplate\": \"<b>%{hovertext}</b><br><br>Region=Western Europe<br>year=2019<br>HealthyLifeExpectancy=%{x}<br>Score=%{y}<extra></extra>\", \"hovertext\": [\"Austria\", \"Belgium\", \"Cyprus\", \"Cyprus\", \"Denmark\", \"Finland\", \"France\", \"Germany\", \"Greece\", \"Iceland\", \"Ireland\", \"Italy\", \"Luxembourg\", \"Malta\", \"Netherlands\", \"Norway\", \"Portugal\", \"Spain\", \"Sweden\", \"Switzerland\", \"United Kingdom\"], \"ids\": [\"Austria\", \"Belgium\", \"Cyprus\", \"Cyprus\", \"Denmark\", \"Finland\", \"France\", \"Germany\", \"Greece\", \"Iceland\", \"Ireland\", \"Italy\", \"Luxembourg\", \"Malta\", \"Netherlands\", \"Norway\", \"Portugal\", \"Spain\", \"Sweden\", \"Switzerland\", \"United Kingdom\"], \"legendgroup\": \"Western Europe\", \"marker\": {\"color\": \"#636efa\", \"symbol\": \"circle\"}, \"mode\": \"markers\", \"name\": \"Western Europe\", \"showlegend\": true, \"x\": [1.016, 0.986, 1.042, 1.042, 0.996, 0.986, 1.045, 0.987, 0.9990000000000001, 1.026, 0.9990000000000001, 1.0390000000000001, 1.012, 0.9990000000000001, 0.9990000000000001, 1.028, 0.9990000000000001, 1.062, 1.0090000000000001, 1.052, 0.996], \"xaxis\": \"x\", \"y\": [7.246, 6.922999999999999, 6.046, 5.718, 7.6, 7.769, 6.5920000000000005, 6.985, 5.287000000000001, 7.494, 7.021, 6.223, 7.09, 6.726, 7.4879999999999995, 7.553999999999999, 5.693, 6.354, 7.343, 7.48, 7.053999999999999], \"yaxis\": \"y\", \"type\": \"scatter\"}, {\"hovertemplate\": \"<b>%{hovertext}</b><br><br>Region=Latin America and Caribbean<br>year=2019<br>HealthyLifeExpectancy=%{x}<br>Score=%{y}<extra></extra>\", \"hovertext\": [\"Argentina\", \"Bolivia\", \"Brazil\", \"Chile\", \"Colombia\", \"Costa Rica\", \"Dominican Republic\", \"Ecuador\", \"El Salvador\", \"Guatemala\", \"Haiti\", \"Honduras\", \"Jamaica\", \"Mexico\", \"Nicaragua\", \"Panama\", \"Paraguay\", \"Peru\", \"Trinidad and Tobago\", \"Uruguay\", \"Venezuela\"], \"ids\": [\"Argentina\", \"Bolivia\", \"Brazil\", \"Chile\", \"Colombia\", \"Costa Rica\", \"Dominican Republic\", \"Ecuador\", \"El Salvador\", \"Guatemala\", \"Haiti\", \"Honduras\", \"Jamaica\", \"Mexico\", \"Nicaragua\", \"Panama\", \"Paraguay\", \"Peru\", \"Trinidad and Tobago\", \"Uruguay\", \"Venezuela\"], \"legendgroup\": \"Latin America and Caribbean\", \"marker\": {\"color\": \"#FFA15A\", \"symbol\": \"circle\"}, \"mode\": \"markers\", \"name\": \"Latin America and Caribbean\", \"showlegend\": true, \"x\": [0.8809999999999999, 0.706, 0.802, 0.92, 0.841, 0.963, 0.779, 0.868, 0.789, 0.746, 0.449, 0.828, 0.831, 0.861, 0.835, 0.91, 0.777, 0.8540000000000001, 0.713, 0.8909999999999999, 0.805], \"xaxis\": \"x\", \"y\": [6.086, 5.779, 6.3, 6.444, 6.125, 7.167000000000001, 5.425, 6.028, 6.252999999999999, 6.436, 3.597, 5.86, 5.89, 6.595, 6.105, 6.321000000000001, 5.742999999999999, 5.697, 6.192, 6.292999999999999, 4.707], \"yaxis\": \"y\", \"type\": \"scatter\"}, {\"hovertemplate\": \"<b>%{hovertext}</b><br><br>Region=Central and Eastern Europe<br>year=2019<br>HealthyLifeExpectancy=%{x}<br>Score=%{y}<extra></extra>\", \"hovertext\": [\"Albania\", \"Bosnia and Herzegovina\", \"Bulgaria\", \"Croatia\", \"Czech Republic\", \"Estonia\", \"Hungary\", \"Kosovo\", \"Latvia\", \"Lithuania\", \"Macedonia\", \"Montenegro\", \"Poland\", \"Romania\", \"Serbia\", \"Slovakia\", \"Slovenia\"], \"ids\": [\"Albania\", \"Bosnia and Herzegovina\", \"Bulgaria\", \"Croatia\", \"Czech Republic\", \"Estonia\", \"Hungary\", \"Kosovo\", \"Latvia\", \"Lithuania\", \"Macedonia\", \"Montenegro\", \"Poland\", \"Romania\", \"Serbia\", \"Slovakia\", \"Slovenia\"], \"legendgroup\": \"Central and Eastern Europe\", \"marker\": {\"color\": \"#FF6692\", \"symbol\": \"circle\"}, \"mode\": \"markers\", \"name\": \"Central and Eastern Europe\", \"showlegend\": true, \"x\": [0.8740000000000001, 0.845, 0.815, 0.914, 0.92, 0.8740000000000001, 0.828, 0.758, 0.812, 0.818, 0.838, 0.871, 0.884, 0.825, 0.8540000000000001, 0.8809999999999999, 0.953], \"xaxis\": \"x\", \"y\": [4.718999999999999, 5.386, 5.011, 5.432, 6.852, 5.893, 5.757999999999999, 6.1, 5.94, 6.149, 5.274, 5.523, 6.182, 6.07, 5.603, 6.1979999999999995, 6.117999999999999], \"yaxis\": \"y\", \"type\": \"scatter\"}, {\"hovertemplate\": \"<b>%{hovertext}</b><br><br>Region=Sub-Saharan Africa<br>year=2019<br>HealthyLifeExpectancy=%{x}<br>Score=%{y}<extra></extra>\", \"hovertext\": [\"Benin\", \"Botswana\", \"Burkina Faso\", \"Burundi\", \"Cameroon\", \"Central African Republic\", \"Chad\", \"Comoros\", \"Congo (Brazzaville)\", \"Congo (Kinshasa)\", \"Ethiopia\", \"Gabon\", \"Gambia\", \"Ghana\", \"Guinea\", \"Ivory Coast\", \"Kenya\", \"Lesotho\", \"Liberia\", \"Madagascar\", \"Malawi\", \"Mali\", \"Mauritania\", \"Mauritius\", \"Mozambique\", \"Namibia\", \"Niger\", \"Nigeria\", \"Rwanda\", \"Senegal\", \"Sierra Leone\", \"Somalia\", \"South Africa\", \"South Sudan\", \"Swaziland\", \"Tanzania\", \"Togo\", \"Uganda\", \"Zambia\", \"Zimbabwe\"], \"ids\": [\"Benin\", \"Botswana\", \"Burkina Faso\", \"Burundi\", \"Cameroon\", \"Central African Republic\", \"Chad\", \"Comoros\", \"Congo (Brazzaville)\", \"Congo (Kinshasa)\", \"Ethiopia\", \"Gabon\", \"Gambia\", \"Ghana\", \"Guinea\", \"Ivory Coast\", \"Kenya\", \"Lesotho\", \"Liberia\", \"Madagascar\", \"Malawi\", \"Mali\", \"Mauritania\", \"Mauritius\", \"Mozambique\", \"Namibia\", \"Niger\", \"Nigeria\", \"Rwanda\", \"Senegal\", \"Sierra Leone\", \"Somalia\", \"South Africa\", \"South Sudan\", \"Swaziland\", \"Tanzania\", \"Togo\", \"Uganda\", \"Zambia\", \"Zimbabwe\"], \"legendgroup\": \"Sub-Saharan Africa\", \"marker\": {\"color\": \"#FF97FF\", \"symbol\": \"circle\"}, \"mode\": \"markers\", \"name\": \"Sub-Saharan Africa\", \"showlegend\": true, \"x\": [0.397, 0.5379999999999999, 0.38, 0.38, 0.331, 0.105, 0.192, 0.505, 0.508, 0.35700000000000004, 0.532, 0.5710000000000001, 0.428, 0.486, 0.375, 0.23199999999999998, 0.581, 0.168, 0.44299999999999995, 0.555, 0.495, 0.308, 0.489, 0.7979999999999999, 0.39, 0.47700000000000004, 0.366, 0.245, 0.614, 0.5710000000000001, 0.242, 0.268, 0.469, 0.295, 0.0, 0.499, 0.41, 0.44299999999999995, 0.426, 0.433], \"xaxis\": \"x\", \"y\": [4.883, 3.488, 4.587, 3.775, 5.044, 3.083, 4.35, 3.9730000000000003, 4.812, 4.418, 4.2860000000000005, 4.7989999999999995, 4.516, 4.996, 4.534, 4.944, 4.5089999999999995, 3.802, 3.975, 3.9330000000000003, 3.41, 4.39, 4.49, 5.888, 4.466, 4.638999999999999, 4.628, 5.265, 3.3339999999999996, 4.681, 4.374, 4.668, 4.7219999999999995, 2.853, 4.212, 3.2310000000000003, 4.085, 4.189, 4.107, 3.6630000000000003], \"yaxis\": \"y\", \"type\": \"scatter\"}, {\"hovertemplate\": \"<b>%{hovertext}</b><br><br>Region=North America and ANZ<br>year=2019<br>HealthyLifeExpectancy=%{x}<br>Score=%{y}<extra></extra>\", \"hovertext\": [\"Australia\", \"Canada\", \"New Zealand\", \"United States\"], \"ids\": [\"Australia\", \"Canada\", \"New Zealand\", \"United States\"], \"legendgroup\": \"North America and ANZ\", \"marker\": {\"color\": \"#636efa\", \"symbol\": \"circle\"}, \"mode\": \"markers\", \"name\": \"North America and ANZ\", \"showlegend\": true, \"x\": [1.036, 1.0390000000000001, 1.026, 0.8740000000000001], \"xaxis\": \"x\", \"y\": [7.228, 7.278, 7.307, 6.892], \"yaxis\": \"y\", \"type\": \"scatter\"}, {\"hovertemplate\": \"<b>%{hovertext}</b><br><br>Region=Middle East and North Africa<br>year=2019<br>HealthyLifeExpectancy=%{x}<br>Score=%{y}<extra></extra>\", \"hovertext\": [\"Algeria\", \"Bahrain\", \"Egypt\", \"Iran\", \"Iraq\", \"Israel\", \"Jordan\", \"Kuwait\", \"Lebanon\", \"Libya\", \"Morocco\", \"Palestinian Territories\", \"Qatar\", \"Saudi Arabia\", \"Syria\", \"Tunisia\", \"Turkey\", \"United Arab Emirates\", \"Yemen\"], \"ids\": [\"Algeria\", \"Bahrain\", \"Egypt\", \"Iran\", \"Iraq\", \"Israel\", \"Jordan\", \"Kuwait\", \"Lebanon\", \"Libya\", \"Morocco\", \"Palestinian Territories\", \"Qatar\", \"Saudi Arabia\", \"Syria\", \"Tunisia\", \"Turkey\", \"United Arab Emirates\", \"Yemen\"], \"legendgroup\": \"Middle East and North Africa\", \"marker\": {\"color\": \"#EF553B\", \"symbol\": \"circle\"}, \"mode\": \"markers\", \"name\": \"Middle East and North Africa\", \"showlegend\": true, \"x\": [0.785, 0.871, 0.644, 0.785, 0.574, 1.0290000000000001, 0.815, 0.8079999999999999, 0.815, 0.6729999999999999, 0.782, 0.672, 0.871, 0.795, 0.44, 0.815, 0.8079999999999999, 0.825, 0.46299999999999997], \"xaxis\": \"x\", \"y\": [5.211, 6.199, 4.166, 4.548, 4.437, 7.138999999999999, 4.906000000000001, 6.021, 5.197, 5.525, 5.207999999999999, 4.696000000000001, 6.374, 6.375, 3.4619999999999997, 4.461, 5.372999999999999, 6.825, 3.38], \"yaxis\": \"y\", \"type\": \"scatter\"}, {\"hovertemplate\": \"<b>%{hovertext}</b><br><br>Region=Southeast Asia<br>year=2019<br>HealthyLifeExpectancy=%{x}<br>Score=%{y}<extra></extra>\", \"hovertext\": [\"Cambodia\", \"Indonesia\", \"Laos\", \"Malaysia\", \"Myanmar\", \"Philippines\", \"Singapore\", \"Thailand\", \"Vietnam\"], \"ids\": [\"Cambodia\", \"Indonesia\", \"Laos\", \"Malaysia\", \"Myanmar\", \"Philippines\", \"Singapore\", \"Thailand\", \"Vietnam\"], \"legendgroup\": \"Southeast Asia\", \"marker\": {\"color\": \"#00cc96\", \"symbol\": \"circle\"}, \"mode\": \"markers\", \"name\": \"Southeast Asia\", \"showlegend\": true, \"x\": [0.637, 0.66, 0.551, 0.828, 0.555, 0.657, 1.141, 0.828, 0.851], \"xaxis\": \"x\", \"y\": [4.7, 5.192, 4.796, 5.3389999999999995, 4.36, 5.631, 6.2620000000000005, 6.007999999999999, 5.175], \"yaxis\": \"y\", \"type\": \"scatter\"}, {\"hovertemplate\": \"<b>%{hovertext}</b><br><br>Region=East Asia<br>year=2019<br>HealthyLifeExpectancy=%{x}<br>Score=%{y}<extra></extra>\", \"hovertext\": [\"China\", \"Hong Kong S.A.R. of China\", \"Japan\", \"Mongolia\", \"South Korea\", \"Taiwan\"], \"ids\": [\"China\", \"Hong Kong S.A.R. of China\", \"Japan\", \"Mongolia\", \"South Korea\", \"Taiwan\"], \"legendgroup\": \"East Asia\", \"marker\": {\"color\": \"#ab63fa\", \"symbol\": \"circle\"}, \"mode\": \"markers\", \"name\": \"East Asia\", \"showlegend\": true, \"x\": [0.893, 1.122, 1.088, 0.667, 1.036, 0.914], \"xaxis\": \"x\", \"y\": [5.191, 5.43, 5.886, 5.285, 5.895, 6.446000000000001], \"yaxis\": \"y\", \"type\": \"scatter\"}, {\"hovertemplate\": \"<b>%{hovertext}</b><br><br>Region=Commonwealth of Independent States<br>year=2019<br>HealthyLifeExpectancy=%{x}<br>Score=%{y}<extra></extra>\", \"hovertext\": [\"Armenia\", \"Azerbaijan\", \"Belarus\", \"Georgia\", \"Kazakhstan\", \"Kyrgyzstan\", \"Moldova\", \"Russia\", \"Tajikistan\", \"Turkmenistan\", \"Ukraine\", \"Uzbekistan\"], \"ids\": [\"Armenia\", \"Azerbaijan\", \"Belarus\", \"Georgia\", \"Kazakhstan\", \"Kyrgyzstan\", \"Moldova\", \"Russia\", \"Tajikistan\", \"Turkmenistan\", \"Ukraine\", \"Uzbekistan\"], \"legendgroup\": \"Commonwealth of Independent States\", \"marker\": {\"color\": \"#FFA15A\", \"symbol\": \"circle\"}, \"mode\": \"markers\", \"name\": \"Commonwealth of Independent States\", \"showlegend\": true, \"x\": [0.815, 0.769, 0.789, 0.752, 0.7290000000000001, 0.723, 0.7390000000000001, 0.726, 0.718, 0.657, 0.7390000000000001, 0.7559999999999999], \"xaxis\": \"x\", \"y\": [4.559, 5.207999999999999, 5.3229999999999995, 4.519, 5.809, 5.261, 5.529, 5.648, 5.4670000000000005, 5.247000000000001, 4.332, 6.1739999999999995], \"yaxis\": \"y\", \"type\": \"scatter\"}, {\"hovertemplate\": \"<b>%{hovertext}</b><br><br>Region=South Asia<br>year=2019<br>HealthyLifeExpectancy=%{x}<br>Score=%{y}<extra></extra>\", \"hovertext\": [\"Afghanistan\", \"Bangladesh\", \"Bhutan\", \"India\", \"Nepal\", \"Pakistan\", \"Sri Lanka\"], \"ids\": [\"Afghanistan\", \"Bangladesh\", \"Bhutan\", \"India\", \"Nepal\", \"Pakistan\", \"Sri Lanka\"], \"legendgroup\": \"South Asia\", \"marker\": {\"color\": \"#19d3f3\", \"symbol\": \"circle\"}, \"mode\": \"markers\", \"name\": \"South Asia\", \"showlegend\": true, \"x\": [0.361, 0.723, 0.604, 0.588, 0.677, 0.535, 0.831], \"xaxis\": \"x\", \"y\": [3.2030000000000003, 4.456, 5.082, 4.015, 4.913, 5.653, 4.3660000000000005], \"yaxis\": \"y\", \"type\": \"scatter\"}], \"name\": \"2019\"}]);\n",
       "                        }).then(function(){\n",
       "                            \n",
       "var gd = document.getElementById('3f285c8d-ff7c-4d15-8589-186313851463');\n",
       "var x = new MutationObserver(function (mutations, observer) {{\n",
       "        var display = window.getComputedStyle(gd).display;\n",
       "        if (!display || display === 'none') {{\n",
       "            console.log([gd, 'removed!']);\n",
       "            Plotly.purge(gd);\n",
       "            observer.disconnect();\n",
       "        }}\n",
       "}});\n",
       "\n",
       "// Listen for the removal of the full notebook cells\n",
       "var notebookContainer = gd.closest('#notebook-container');\n",
       "if (notebookContainer) {{\n",
       "    x.observe(notebookContainer, {childList: true});\n",
       "}}\n",
       "\n",
       "// Listen for the clearing of the current output cell\n",
       "var outputEl = gd.closest('.output');\n",
       "if (outputEl) {{\n",
       "    x.observe(outputEl, {childList: true});\n",
       "}}\n",
       "\n",
       "                        })\n",
       "                };\n",
       "                });\n",
       "            </script>\n",
       "        </div>"
      ]
     },
     "metadata": {},
     "output_type": "display_data"
    }
   ],
   "source": [
    "fig = px.scatter(data_todo[[\"Country\",\"Region\",\"Score\",\"year\",\"HealthyLifeExpectancy\"]], \n",
    "           y = \"Score\", x = \"HealthyLifeExpectancy\", \n",
    "           animation_frame = \"year\", animation_group = \"Country\", color = \"Region\", hover_name=\"Country\")\n",
    "fig.show()"
   ]
  },
  {
   "cell_type": "code",
   "execution_count": 237,
   "metadata": {},
   "outputs": [
    {
     "data": {
      "application/vnd.plotly.v1+json": {
       "config": {
        "plotlyServerURL": "https://plotly.com"
       },
       "data": [
        {
         "hovertemplate": "<b>%{hovertext}</b><br><br>Country=Costa Rica<br>year=2015<br>GDPperCapita=%{x}<br>Score=%{y}<extra></extra>",
         "hovertext": [
          "Costa Rica"
         ],
         "ids": [
          "Costa Rica"
         ],
         "legendgroup": "Costa Rica",
         "marker": {
          "color": "#636efa",
          "symbol": "circle"
         },
         "mode": "markers",
         "name": "Costa Rica",
         "showlegend": true,
         "type": "scatter",
         "x": [
          0.95578
         ],
         "xaxis": "x",
         "y": [
          7.226
         ],
         "yaxis": "y"
        },
        {
         "hovertemplate": "<b>%{hovertext}</b><br><br>Country=Mexico<br>year=2015<br>GDPperCapita=%{x}<br>Score=%{y}<extra></extra>",
         "hovertext": [
          "Mexico"
         ],
         "ids": [
          "Mexico"
         ],
         "legendgroup": "Mexico",
         "marker": {
          "color": "#EF553B",
          "symbol": "circle"
         },
         "mode": "markers",
         "name": "Mexico",
         "showlegend": true,
         "type": "scatter",
         "x": [
          1.02054
         ],
         "xaxis": "x",
         "y": [
          7.187
         ],
         "yaxis": "y"
        },
        {
         "hovertemplate": "<b>%{hovertext}</b><br><br>Country=Brazil<br>year=2015<br>GDPperCapita=%{x}<br>Score=%{y}<extra></extra>",
         "hovertext": [
          "Brazil"
         ],
         "ids": [
          "Brazil"
         ],
         "legendgroup": "Brazil",
         "marker": {
          "color": "#00cc96",
          "symbol": "circle"
         },
         "mode": "markers",
         "name": "Brazil",
         "showlegend": true,
         "type": "scatter",
         "x": [
          0.98124
         ],
         "xaxis": "x",
         "y": [
          6.983
         ],
         "yaxis": "y"
        },
        {
         "hovertemplate": "<b>%{hovertext}</b><br><br>Country=Venezuela<br>year=2015<br>GDPperCapita=%{x}<br>Score=%{y}<extra></extra>",
         "hovertext": [
          "Venezuela"
         ],
         "ids": [
          "Venezuela"
         ],
         "legendgroup": "Venezuela",
         "marker": {
          "color": "#ab63fa",
          "symbol": "circle"
         },
         "mode": "markers",
         "name": "Venezuela",
         "showlegend": true,
         "type": "scatter",
         "x": [
          1.04424
         ],
         "xaxis": "x",
         "y": [
          6.81
         ],
         "yaxis": "y"
        },
        {
         "hovertemplate": "<b>%{hovertext}</b><br><br>Country=Panama<br>year=2015<br>GDPperCapita=%{x}<br>Score=%{y}<extra></extra>",
         "hovertext": [
          "Panama"
         ],
         "ids": [
          "Panama"
         ],
         "legendgroup": "Panama",
         "marker": {
          "color": "#FFA15A",
          "symbol": "circle"
         },
         "mode": "markers",
         "name": "Panama",
         "showlegend": true,
         "type": "scatter",
         "x": [
          1.0635299999999999
         ],
         "xaxis": "x",
         "y": [
          6.7860000000000005
         ],
         "yaxis": "y"
        },
        {
         "hovertemplate": "<b>%{hovertext}</b><br><br>Country=Chile<br>year=2015<br>GDPperCapita=%{x}<br>Score=%{y}<extra></extra>",
         "hovertext": [
          "Chile"
         ],
         "ids": [
          "Chile"
         ],
         "legendgroup": "Chile",
         "marker": {
          "color": "#19d3f3",
          "symbol": "circle"
         },
         "mode": "markers",
         "name": "Chile",
         "showlegend": true,
         "type": "scatter",
         "x": [
          1.10715
         ],
         "xaxis": "x",
         "y": [
          6.67
         ],
         "yaxis": "y"
        },
        {
         "hovertemplate": "<b>%{hovertext}</b><br><br>Country=Argentina<br>year=2015<br>GDPperCapita=%{x}<br>Score=%{y}<extra></extra>",
         "hovertext": [
          "Argentina"
         ],
         "ids": [
          "Argentina"
         ],
         "legendgroup": "Argentina",
         "marker": {
          "color": "#FF6692",
          "symbol": "circle"
         },
         "mode": "markers",
         "name": "Argentina",
         "showlegend": true,
         "type": "scatter",
         "x": [
          1.05351
         ],
         "xaxis": "x",
         "y": [
          6.574
         ],
         "yaxis": "y"
        },
        {
         "hovertemplate": "<b>%{hovertext}</b><br><br>Country=Uruguay<br>year=2015<br>GDPperCapita=%{x}<br>Score=%{y}<extra></extra>",
         "hovertext": [
          "Uruguay"
         ],
         "ids": [
          "Uruguay"
         ],
         "legendgroup": "Uruguay",
         "marker": {
          "color": "#B6E880",
          "symbol": "circle"
         },
         "mode": "markers",
         "name": "Uruguay",
         "showlegend": true,
         "type": "scatter",
         "x": [
          1.06166
         ],
         "xaxis": "x",
         "y": [
          6.485
         ],
         "yaxis": "y"
        },
        {
         "hovertemplate": "<b>%{hovertext}</b><br><br>Country=Colombia<br>year=2015<br>GDPperCapita=%{x}<br>Score=%{y}<extra></extra>",
         "hovertext": [
          "Colombia"
         ],
         "ids": [
          "Colombia"
         ],
         "legendgroup": "Colombia",
         "marker": {
          "color": "#FF97FF",
          "symbol": "circle"
         },
         "mode": "markers",
         "name": "Colombia",
         "showlegend": true,
         "type": "scatter",
         "x": [
          0.91861
         ],
         "xaxis": "x",
         "y": [
          6.477
         ],
         "yaxis": "y"
        },
        {
         "hovertemplate": "<b>%{hovertext}</b><br><br>Country=Suriname<br>year=2015<br>GDPperCapita=%{x}<br>Score=%{y}<extra></extra>",
         "hovertext": [
          "Suriname"
         ],
         "ids": [
          "Suriname"
         ],
         "legendgroup": "Suriname",
         "marker": {
          "color": "#FECB52",
          "symbol": "circle"
         },
         "mode": "markers",
         "name": "Suriname",
         "showlegend": true,
         "type": "scatter",
         "x": [
          0.99534
         ],
         "xaxis": "x",
         "y": [
          6.269
         ],
         "yaxis": "y"
        },
        {
         "hovertemplate": "<b>%{hovertext}</b><br><br>Country=Trinidad and Tobago<br>year=2015<br>GDPperCapita=%{x}<br>Score=%{y}<extra></extra>",
         "hovertext": [
          "Trinidad and Tobago"
         ],
         "ids": [
          "Trinidad and Tobago"
         ],
         "legendgroup": "Trinidad and Tobago",
         "marker": {
          "color": "#636efa",
          "symbol": "circle"
         },
         "mode": "markers",
         "name": "Trinidad and Tobago",
         "showlegend": true,
         "type": "scatter",
         "x": [
          1.21183
         ],
         "xaxis": "x",
         "y": [
          6.167999999999999
         ],
         "yaxis": "y"
        },
        {
         "hovertemplate": "<b>%{hovertext}</b><br><br>Country=El Salvador<br>year=2015<br>GDPperCapita=%{x}<br>Score=%{y}<extra></extra>",
         "hovertext": [
          "El Salvador"
         ],
         "ids": [
          "El Salvador"
         ],
         "legendgroup": "El Salvador",
         "marker": {
          "color": "#EF553B",
          "symbol": "circle"
         },
         "mode": "markers",
         "name": "El Salvador",
         "showlegend": true,
         "type": "scatter",
         "x": [
          0.76454
         ],
         "xaxis": "x",
         "y": [
          6.13
         ],
         "yaxis": "y"
        },
        {
         "hovertemplate": "<b>%{hovertext}</b><br><br>Country=Guatemala<br>year=2015<br>GDPperCapita=%{x}<br>Score=%{y}<extra></extra>",
         "hovertext": [
          "Guatemala"
         ],
         "ids": [
          "Guatemala"
         ],
         "legendgroup": "Guatemala",
         "marker": {
          "color": "#00cc96",
          "symbol": "circle"
         },
         "mode": "markers",
         "name": "Guatemala",
         "showlegend": true,
         "type": "scatter",
         "x": [
          0.74553
         ],
         "xaxis": "x",
         "y": [
          6.122999999999999
         ],
         "yaxis": "y"
        },
        {
         "hovertemplate": "<b>%{hovertext}</b><br><br>Country=Ecuador<br>year=2015<br>GDPperCapita=%{x}<br>Score=%{y}<extra></extra>",
         "hovertext": [
          "Ecuador"
         ],
         "ids": [
          "Ecuador"
         ],
         "legendgroup": "Ecuador",
         "marker": {
          "color": "#ab63fa",
          "symbol": "circle"
         },
         "mode": "markers",
         "name": "Ecuador",
         "showlegend": true,
         "type": "scatter",
         "x": [
          0.8640200000000001
         ],
         "xaxis": "x",
         "y": [
          5.975
         ],
         "yaxis": "y"
        },
        {
         "hovertemplate": "<b>%{hovertext}</b><br><br>Country=Bolivia<br>year=2015<br>GDPperCapita=%{x}<br>Score=%{y}<extra></extra>",
         "hovertext": [
          "Bolivia"
         ],
         "ids": [
          "Bolivia"
         ],
         "legendgroup": "Bolivia",
         "marker": {
          "color": "#FFA15A",
          "symbol": "circle"
         },
         "mode": "markers",
         "name": "Bolivia",
         "showlegend": true,
         "type": "scatter",
         "x": [
          0.68133
         ],
         "xaxis": "x",
         "y": [
          5.89
         ],
         "yaxis": "y"
        },
        {
         "hovertemplate": "<b>%{hovertext}</b><br><br>Country=Paraguay<br>year=2015<br>GDPperCapita=%{x}<br>Score=%{y}<extra></extra>",
         "hovertext": [
          "Paraguay"
         ],
         "ids": [
          "Paraguay"
         ],
         "legendgroup": "Paraguay",
         "marker": {
          "color": "#19d3f3",
          "symbol": "circle"
         },
         "mode": "markers",
         "name": "Paraguay",
         "showlegend": true,
         "type": "scatter",
         "x": [
          0.75985
         ],
         "xaxis": "x",
         "y": [
          5.877999999999999
         ],
         "yaxis": "y"
        },
        {
         "hovertemplate": "<b>%{hovertext}</b><br><br>Country=Nicaragua<br>year=2015<br>GDPperCapita=%{x}<br>Score=%{y}<extra></extra>",
         "hovertext": [
          "Nicaragua"
         ],
         "ids": [
          "Nicaragua"
         ],
         "legendgroup": "Nicaragua",
         "marker": {
          "color": "#FF6692",
          "symbol": "circle"
         },
         "mode": "markers",
         "name": "Nicaragua",
         "showlegend": true,
         "type": "scatter",
         "x": [
          0.59325
         ],
         "xaxis": "x",
         "y": [
          5.827999999999999
         ],
         "yaxis": "y"
        },
        {
         "hovertemplate": "<b>%{hovertext}</b><br><br>Country=Peru<br>year=2015<br>GDPperCapita=%{x}<br>Score=%{y}<extra></extra>",
         "hovertext": [
          "Peru"
         ],
         "ids": [
          "Peru"
         ],
         "legendgroup": "Peru",
         "marker": {
          "color": "#B6E880",
          "symbol": "circle"
         },
         "mode": "markers",
         "name": "Peru",
         "showlegend": true,
         "type": "scatter",
         "x": [
          0.9001899999999999
         ],
         "xaxis": "x",
         "y": [
          5.824
         ],
         "yaxis": "y"
        },
        {
         "hovertemplate": "<b>%{hovertext}</b><br><br>Country=Jamaica<br>year=2015<br>GDPperCapita=%{x}<br>Score=%{y}<extra></extra>",
         "hovertext": [
          "Jamaica"
         ],
         "ids": [
          "Jamaica"
         ],
         "legendgroup": "Jamaica",
         "marker": {
          "color": "#FF97FF",
          "symbol": "circle"
         },
         "mode": "markers",
         "name": "Jamaica",
         "showlegend": true,
         "type": "scatter",
         "x": [
          0.81038
         ],
         "xaxis": "x",
         "y": [
          5.709
         ],
         "yaxis": "y"
        },
        {
         "hovertemplate": "<b>%{hovertext}</b><br><br>Country=Dominican Republic<br>year=2015<br>GDPperCapita=%{x}<br>Score=%{y}<extra></extra>",
         "hovertext": [
          "Dominican Republic"
         ],
         "ids": [
          "Dominican Republic"
         ],
         "legendgroup": "Dominican Republic",
         "marker": {
          "color": "#FECB52",
          "symbol": "circle"
         },
         "mode": "markers",
         "name": "Dominican Republic",
         "showlegend": true,
         "type": "scatter",
         "x": [
          0.8953700000000001
         ],
         "xaxis": "x",
         "y": [
          4.885
         ],
         "yaxis": "y"
        },
        {
         "hovertemplate": "<b>%{hovertext}</b><br><br>Country=Honduras<br>year=2015<br>GDPperCapita=%{x}<br>Score=%{y}<extra></extra>",
         "hovertext": [
          "Honduras"
         ],
         "ids": [
          "Honduras"
         ],
         "legendgroup": "Honduras",
         "marker": {
          "color": "#636efa",
          "symbol": "circle"
         },
         "mode": "markers",
         "name": "Honduras",
         "showlegend": true,
         "type": "scatter",
         "x": [
          0.59532
         ],
         "xaxis": "x",
         "y": [
          4.788
         ],
         "yaxis": "y"
        },
        {
         "hovertemplate": "<b>%{hovertext}</b><br><br>Country=Haiti<br>year=2015<br>GDPperCapita=%{x}<br>Score=%{y}<extra></extra>",
         "hovertext": [
          "Haiti"
         ],
         "ids": [
          "Haiti"
         ],
         "legendgroup": "Haiti",
         "marker": {
          "color": "#EF553B",
          "symbol": "circle"
         },
         "mode": "markers",
         "name": "Haiti",
         "showlegend": true,
         "type": "scatter",
         "x": [
          0.26673
         ],
         "xaxis": "x",
         "y": [
          4.518
         ],
         "yaxis": "y"
        }
       ],
       "frames": [
        {
         "data": [
          {
           "hovertemplate": "<b>%{hovertext}</b><br><br>Country=Costa Rica<br>year=2015<br>GDPperCapita=%{x}<br>Score=%{y}<extra></extra>",
           "hovertext": [
            "Costa Rica"
           ],
           "ids": [
            "Costa Rica"
           ],
           "legendgroup": "Costa Rica",
           "marker": {
            "color": "#636efa",
            "symbol": "circle"
           },
           "mode": "markers",
           "name": "Costa Rica",
           "showlegend": true,
           "type": "scatter",
           "x": [
            0.95578
           ],
           "xaxis": "x",
           "y": [
            7.226
           ],
           "yaxis": "y"
          },
          {
           "hovertemplate": "<b>%{hovertext}</b><br><br>Country=Mexico<br>year=2015<br>GDPperCapita=%{x}<br>Score=%{y}<extra></extra>",
           "hovertext": [
            "Mexico"
           ],
           "ids": [
            "Mexico"
           ],
           "legendgroup": "Mexico",
           "marker": {
            "color": "#EF553B",
            "symbol": "circle"
           },
           "mode": "markers",
           "name": "Mexico",
           "showlegend": true,
           "type": "scatter",
           "x": [
            1.02054
           ],
           "xaxis": "x",
           "y": [
            7.187
           ],
           "yaxis": "y"
          },
          {
           "hovertemplate": "<b>%{hovertext}</b><br><br>Country=Brazil<br>year=2015<br>GDPperCapita=%{x}<br>Score=%{y}<extra></extra>",
           "hovertext": [
            "Brazil"
           ],
           "ids": [
            "Brazil"
           ],
           "legendgroup": "Brazil",
           "marker": {
            "color": "#00cc96",
            "symbol": "circle"
           },
           "mode": "markers",
           "name": "Brazil",
           "showlegend": true,
           "type": "scatter",
           "x": [
            0.98124
           ],
           "xaxis": "x",
           "y": [
            6.983
           ],
           "yaxis": "y"
          },
          {
           "hovertemplate": "<b>%{hovertext}</b><br><br>Country=Venezuela<br>year=2015<br>GDPperCapita=%{x}<br>Score=%{y}<extra></extra>",
           "hovertext": [
            "Venezuela"
           ],
           "ids": [
            "Venezuela"
           ],
           "legendgroup": "Venezuela",
           "marker": {
            "color": "#ab63fa",
            "symbol": "circle"
           },
           "mode": "markers",
           "name": "Venezuela",
           "showlegend": true,
           "type": "scatter",
           "x": [
            1.04424
           ],
           "xaxis": "x",
           "y": [
            6.81
           ],
           "yaxis": "y"
          },
          {
           "hovertemplate": "<b>%{hovertext}</b><br><br>Country=Panama<br>year=2015<br>GDPperCapita=%{x}<br>Score=%{y}<extra></extra>",
           "hovertext": [
            "Panama"
           ],
           "ids": [
            "Panama"
           ],
           "legendgroup": "Panama",
           "marker": {
            "color": "#FFA15A",
            "symbol": "circle"
           },
           "mode": "markers",
           "name": "Panama",
           "showlegend": true,
           "type": "scatter",
           "x": [
            1.0635299999999999
           ],
           "xaxis": "x",
           "y": [
            6.7860000000000005
           ],
           "yaxis": "y"
          },
          {
           "hovertemplate": "<b>%{hovertext}</b><br><br>Country=Chile<br>year=2015<br>GDPperCapita=%{x}<br>Score=%{y}<extra></extra>",
           "hovertext": [
            "Chile"
           ],
           "ids": [
            "Chile"
           ],
           "legendgroup": "Chile",
           "marker": {
            "color": "#19d3f3",
            "symbol": "circle"
           },
           "mode": "markers",
           "name": "Chile",
           "showlegend": true,
           "type": "scatter",
           "x": [
            1.10715
           ],
           "xaxis": "x",
           "y": [
            6.67
           ],
           "yaxis": "y"
          },
          {
           "hovertemplate": "<b>%{hovertext}</b><br><br>Country=Argentina<br>year=2015<br>GDPperCapita=%{x}<br>Score=%{y}<extra></extra>",
           "hovertext": [
            "Argentina"
           ],
           "ids": [
            "Argentina"
           ],
           "legendgroup": "Argentina",
           "marker": {
            "color": "#FF6692",
            "symbol": "circle"
           },
           "mode": "markers",
           "name": "Argentina",
           "showlegend": true,
           "type": "scatter",
           "x": [
            1.05351
           ],
           "xaxis": "x",
           "y": [
            6.574
           ],
           "yaxis": "y"
          },
          {
           "hovertemplate": "<b>%{hovertext}</b><br><br>Country=Uruguay<br>year=2015<br>GDPperCapita=%{x}<br>Score=%{y}<extra></extra>",
           "hovertext": [
            "Uruguay"
           ],
           "ids": [
            "Uruguay"
           ],
           "legendgroup": "Uruguay",
           "marker": {
            "color": "#B6E880",
            "symbol": "circle"
           },
           "mode": "markers",
           "name": "Uruguay",
           "showlegend": true,
           "type": "scatter",
           "x": [
            1.06166
           ],
           "xaxis": "x",
           "y": [
            6.485
           ],
           "yaxis": "y"
          },
          {
           "hovertemplate": "<b>%{hovertext}</b><br><br>Country=Colombia<br>year=2015<br>GDPperCapita=%{x}<br>Score=%{y}<extra></extra>",
           "hovertext": [
            "Colombia"
           ],
           "ids": [
            "Colombia"
           ],
           "legendgroup": "Colombia",
           "marker": {
            "color": "#FF97FF",
            "symbol": "circle"
           },
           "mode": "markers",
           "name": "Colombia",
           "showlegend": true,
           "type": "scatter",
           "x": [
            0.91861
           ],
           "xaxis": "x",
           "y": [
            6.477
           ],
           "yaxis": "y"
          },
          {
           "hovertemplate": "<b>%{hovertext}</b><br><br>Country=Suriname<br>year=2015<br>GDPperCapita=%{x}<br>Score=%{y}<extra></extra>",
           "hovertext": [
            "Suriname"
           ],
           "ids": [
            "Suriname"
           ],
           "legendgroup": "Suriname",
           "marker": {
            "color": "#FECB52",
            "symbol": "circle"
           },
           "mode": "markers",
           "name": "Suriname",
           "showlegend": true,
           "type": "scatter",
           "x": [
            0.99534
           ],
           "xaxis": "x",
           "y": [
            6.269
           ],
           "yaxis": "y"
          },
          {
           "hovertemplate": "<b>%{hovertext}</b><br><br>Country=Trinidad and Tobago<br>year=2015<br>GDPperCapita=%{x}<br>Score=%{y}<extra></extra>",
           "hovertext": [
            "Trinidad and Tobago"
           ],
           "ids": [
            "Trinidad and Tobago"
           ],
           "legendgroup": "Trinidad and Tobago",
           "marker": {
            "color": "#636efa",
            "symbol": "circle"
           },
           "mode": "markers",
           "name": "Trinidad and Tobago",
           "showlegend": true,
           "type": "scatter",
           "x": [
            1.21183
           ],
           "xaxis": "x",
           "y": [
            6.167999999999999
           ],
           "yaxis": "y"
          },
          {
           "hovertemplate": "<b>%{hovertext}</b><br><br>Country=El Salvador<br>year=2015<br>GDPperCapita=%{x}<br>Score=%{y}<extra></extra>",
           "hovertext": [
            "El Salvador"
           ],
           "ids": [
            "El Salvador"
           ],
           "legendgroup": "El Salvador",
           "marker": {
            "color": "#EF553B",
            "symbol": "circle"
           },
           "mode": "markers",
           "name": "El Salvador",
           "showlegend": true,
           "type": "scatter",
           "x": [
            0.76454
           ],
           "xaxis": "x",
           "y": [
            6.13
           ],
           "yaxis": "y"
          },
          {
           "hovertemplate": "<b>%{hovertext}</b><br><br>Country=Guatemala<br>year=2015<br>GDPperCapita=%{x}<br>Score=%{y}<extra></extra>",
           "hovertext": [
            "Guatemala"
           ],
           "ids": [
            "Guatemala"
           ],
           "legendgroup": "Guatemala",
           "marker": {
            "color": "#00cc96",
            "symbol": "circle"
           },
           "mode": "markers",
           "name": "Guatemala",
           "showlegend": true,
           "type": "scatter",
           "x": [
            0.74553
           ],
           "xaxis": "x",
           "y": [
            6.122999999999999
           ],
           "yaxis": "y"
          },
          {
           "hovertemplate": "<b>%{hovertext}</b><br><br>Country=Ecuador<br>year=2015<br>GDPperCapita=%{x}<br>Score=%{y}<extra></extra>",
           "hovertext": [
            "Ecuador"
           ],
           "ids": [
            "Ecuador"
           ],
           "legendgroup": "Ecuador",
           "marker": {
            "color": "#ab63fa",
            "symbol": "circle"
           },
           "mode": "markers",
           "name": "Ecuador",
           "showlegend": true,
           "type": "scatter",
           "x": [
            0.8640200000000001
           ],
           "xaxis": "x",
           "y": [
            5.975
           ],
           "yaxis": "y"
          },
          {
           "hovertemplate": "<b>%{hovertext}</b><br><br>Country=Bolivia<br>year=2015<br>GDPperCapita=%{x}<br>Score=%{y}<extra></extra>",
           "hovertext": [
            "Bolivia"
           ],
           "ids": [
            "Bolivia"
           ],
           "legendgroup": "Bolivia",
           "marker": {
            "color": "#FFA15A",
            "symbol": "circle"
           },
           "mode": "markers",
           "name": "Bolivia",
           "showlegend": true,
           "type": "scatter",
           "x": [
            0.68133
           ],
           "xaxis": "x",
           "y": [
            5.89
           ],
           "yaxis": "y"
          },
          {
           "hovertemplate": "<b>%{hovertext}</b><br><br>Country=Paraguay<br>year=2015<br>GDPperCapita=%{x}<br>Score=%{y}<extra></extra>",
           "hovertext": [
            "Paraguay"
           ],
           "ids": [
            "Paraguay"
           ],
           "legendgroup": "Paraguay",
           "marker": {
            "color": "#19d3f3",
            "symbol": "circle"
           },
           "mode": "markers",
           "name": "Paraguay",
           "showlegend": true,
           "type": "scatter",
           "x": [
            0.75985
           ],
           "xaxis": "x",
           "y": [
            5.877999999999999
           ],
           "yaxis": "y"
          },
          {
           "hovertemplate": "<b>%{hovertext}</b><br><br>Country=Nicaragua<br>year=2015<br>GDPperCapita=%{x}<br>Score=%{y}<extra></extra>",
           "hovertext": [
            "Nicaragua"
           ],
           "ids": [
            "Nicaragua"
           ],
           "legendgroup": "Nicaragua",
           "marker": {
            "color": "#FF6692",
            "symbol": "circle"
           },
           "mode": "markers",
           "name": "Nicaragua",
           "showlegend": true,
           "type": "scatter",
           "x": [
            0.59325
           ],
           "xaxis": "x",
           "y": [
            5.827999999999999
           ],
           "yaxis": "y"
          },
          {
           "hovertemplate": "<b>%{hovertext}</b><br><br>Country=Peru<br>year=2015<br>GDPperCapita=%{x}<br>Score=%{y}<extra></extra>",
           "hovertext": [
            "Peru"
           ],
           "ids": [
            "Peru"
           ],
           "legendgroup": "Peru",
           "marker": {
            "color": "#B6E880",
            "symbol": "circle"
           },
           "mode": "markers",
           "name": "Peru",
           "showlegend": true,
           "type": "scatter",
           "x": [
            0.9001899999999999
           ],
           "xaxis": "x",
           "y": [
            5.824
           ],
           "yaxis": "y"
          },
          {
           "hovertemplate": "<b>%{hovertext}</b><br><br>Country=Jamaica<br>year=2015<br>GDPperCapita=%{x}<br>Score=%{y}<extra></extra>",
           "hovertext": [
            "Jamaica"
           ],
           "ids": [
            "Jamaica"
           ],
           "legendgroup": "Jamaica",
           "marker": {
            "color": "#FF97FF",
            "symbol": "circle"
           },
           "mode": "markers",
           "name": "Jamaica",
           "showlegend": true,
           "type": "scatter",
           "x": [
            0.81038
           ],
           "xaxis": "x",
           "y": [
            5.709
           ],
           "yaxis": "y"
          },
          {
           "hovertemplate": "<b>%{hovertext}</b><br><br>Country=Dominican Republic<br>year=2015<br>GDPperCapita=%{x}<br>Score=%{y}<extra></extra>",
           "hovertext": [
            "Dominican Republic"
           ],
           "ids": [
            "Dominican Republic"
           ],
           "legendgroup": "Dominican Republic",
           "marker": {
            "color": "#FECB52",
            "symbol": "circle"
           },
           "mode": "markers",
           "name": "Dominican Republic",
           "showlegend": true,
           "type": "scatter",
           "x": [
            0.8953700000000001
           ],
           "xaxis": "x",
           "y": [
            4.885
           ],
           "yaxis": "y"
          },
          {
           "hovertemplate": "<b>%{hovertext}</b><br><br>Country=Honduras<br>year=2015<br>GDPperCapita=%{x}<br>Score=%{y}<extra></extra>",
           "hovertext": [
            "Honduras"
           ],
           "ids": [
            "Honduras"
           ],
           "legendgroup": "Honduras",
           "marker": {
            "color": "#636efa",
            "symbol": "circle"
           },
           "mode": "markers",
           "name": "Honduras",
           "showlegend": true,
           "type": "scatter",
           "x": [
            0.59532
           ],
           "xaxis": "x",
           "y": [
            4.788
           ],
           "yaxis": "y"
          },
          {
           "hovertemplate": "<b>%{hovertext}</b><br><br>Country=Haiti<br>year=2015<br>GDPperCapita=%{x}<br>Score=%{y}<extra></extra>",
           "hovertext": [
            "Haiti"
           ],
           "ids": [
            "Haiti"
           ],
           "legendgroup": "Haiti",
           "marker": {
            "color": "#EF553B",
            "symbol": "circle"
           },
           "mode": "markers",
           "name": "Haiti",
           "showlegend": true,
           "type": "scatter",
           "x": [
            0.26673
           ],
           "xaxis": "x",
           "y": [
            4.518
           ],
           "yaxis": "y"
          }
         ],
         "name": "2015"
        },
        {
         "data": [
          {
           "hovertemplate": "<b>%{hovertext}</b><br><br>Country=Costa Rica<br>year=2016<br>GDPperCapita=%{x}<br>Score=%{y}<extra></extra>",
           "hovertext": [
            "Costa Rica"
           ],
           "ids": [
            "Costa Rica"
           ],
           "legendgroup": "Costa Rica",
           "marker": {
            "color": "#636efa",
            "symbol": "circle"
           },
           "mode": "markers",
           "name": "Costa Rica",
           "showlegend": true,
           "type": "scatter",
           "x": [
            1.06879
           ],
           "xaxis": "x",
           "y": [
            7.087000000000001
           ],
           "yaxis": "y"
          },
          {
           "hovertemplate": "<b>%{hovertext}</b><br><br>Country=Mexico<br>year=2016<br>GDPperCapita=%{x}<br>Score=%{y}<extra></extra>",
           "hovertext": [
            "Mexico"
           ],
           "ids": [
            "Mexico"
           ],
           "legendgroup": "Mexico",
           "marker": {
            "color": "#EF553B",
            "symbol": "circle"
           },
           "mode": "markers",
           "name": "Mexico",
           "showlegend": true,
           "type": "scatter",
           "x": [
            1.1150799999999998
           ],
           "xaxis": "x",
           "y": [
            6.778
           ],
           "yaxis": "y"
          },
          {
           "hovertemplate": "<b>%{hovertext}</b><br><br>Country=Brazil<br>year=2016<br>GDPperCapita=%{x}<br>Score=%{y}<extra></extra>",
           "hovertext": [
            "Brazil"
           ],
           "ids": [
            "Brazil"
           ],
           "legendgroup": "Brazil",
           "marker": {
            "color": "#00cc96",
            "symbol": "circle"
           },
           "mode": "markers",
           "name": "Brazil",
           "showlegend": true,
           "type": "scatter",
           "x": [
            1.08754
           ],
           "xaxis": "x",
           "y": [
            6.952000000000001
           ],
           "yaxis": "y"
          },
          {
           "hovertemplate": "<b>%{hovertext}</b><br><br>Country=Venezuela<br>year=2016<br>GDPperCapita=%{x}<br>Score=%{y}<extra></extra>",
           "hovertext": [
            "Venezuela"
           ],
           "ids": [
            "Venezuela"
           ],
           "legendgroup": "Venezuela",
           "marker": {
            "color": "#ab63fa",
            "symbol": "circle"
           },
           "mode": "markers",
           "name": "Venezuela",
           "showlegend": true,
           "type": "scatter",
           "x": [
            1.1336700000000002
           ],
           "xaxis": "x",
           "y": [
            6.084
           ],
           "yaxis": "y"
          },
          {
           "hovertemplate": "<b>%{hovertext}</b><br><br>Country=Panama<br>year=2016<br>GDPperCapita=%{x}<br>Score=%{y}<extra></extra>",
           "hovertext": [
            "Panama"
           ],
           "ids": [
            "Panama"
           ],
           "legendgroup": "Panama",
           "marker": {
            "color": "#FFA15A",
            "symbol": "circle"
           },
           "mode": "markers",
           "name": "Panama",
           "showlegend": true,
           "type": "scatter",
           "x": [
            1.18306
           ],
           "xaxis": "x",
           "y": [
            6.7010000000000005
           ],
           "yaxis": "y"
          },
          {
           "hovertemplate": "<b>%{hovertext}</b><br><br>Country=Chile<br>year=2016<br>GDPperCapita=%{x}<br>Score=%{y}<extra></extra>",
           "hovertext": [
            "Chile"
           ],
           "ids": [
            "Chile"
           ],
           "legendgroup": "Chile",
           "marker": {
            "color": "#19d3f3",
            "symbol": "circle"
           },
           "mode": "markers",
           "name": "Chile",
           "showlegend": true,
           "type": "scatter",
           "x": [
            1.2167
           ],
           "xaxis": "x",
           "y": [
            6.705
           ],
           "yaxis": "y"
          },
          {
           "hovertemplate": "<b>%{hovertext}</b><br><br>Country=Argentina<br>year=2016<br>GDPperCapita=%{x}<br>Score=%{y}<extra></extra>",
           "hovertext": [
            "Argentina"
           ],
           "ids": [
            "Argentina"
           ],
           "legendgroup": "Argentina",
           "marker": {
            "color": "#FF6692",
            "symbol": "circle"
           },
           "mode": "markers",
           "name": "Argentina",
           "showlegend": true,
           "type": "scatter",
           "x": [
            1.15137
           ],
           "xaxis": "x",
           "y": [
            6.65
           ],
           "yaxis": "y"
          },
          {
           "hovertemplate": "<b>%{hovertext}</b><br><br>Country=Uruguay<br>year=2016<br>GDPperCapita=%{x}<br>Score=%{y}<extra></extra>",
           "hovertext": [
            "Uruguay"
           ],
           "ids": [
            "Uruguay"
           ],
           "legendgroup": "Uruguay",
           "marker": {
            "color": "#B6E880",
            "symbol": "circle"
           },
           "mode": "markers",
           "name": "Uruguay",
           "showlegend": true,
           "type": "scatter",
           "x": [
            1.18157
           ],
           "xaxis": "x",
           "y": [
            6.545
           ],
           "yaxis": "y"
          },
          {
           "hovertemplate": "<b>%{hovertext}</b><br><br>Country=Colombia<br>year=2016<br>GDPperCapita=%{x}<br>Score=%{y}<extra></extra>",
           "hovertext": [
            "Colombia"
           ],
           "ids": [
            "Colombia"
           ],
           "legendgroup": "Colombia",
           "marker": {
            "color": "#FF97FF",
            "symbol": "circle"
           },
           "mode": "markers",
           "name": "Colombia",
           "showlegend": true,
           "type": "scatter",
           "x": [
            1.0303200000000001
           ],
           "xaxis": "x",
           "y": [
            6.481
           ],
           "yaxis": "y"
          },
          {
           "hovertemplate": "<b>%{hovertext}</b><br><br>Country=Suriname<br>year=2016<br>GDPperCapita=%{x}<br>Score=%{y}<extra></extra>",
           "hovertext": [
            "Suriname"
           ],
           "ids": [
            "Suriname"
           ],
           "legendgroup": "Suriname",
           "marker": {
            "color": "#FECB52",
            "symbol": "circle"
           },
           "mode": "markers",
           "name": "Suriname",
           "showlegend": true,
           "type": "scatter",
           "x": [
            1.09686
           ],
           "xaxis": "x",
           "y": [
            6.269
           ],
           "yaxis": "y"
          },
          {
           "hovertemplate": "<b>%{hovertext}</b><br><br>Country=Trinidad and Tobago<br>year=2016<br>GDPperCapita=%{x}<br>Score=%{y}<extra></extra>",
           "hovertext": [
            "Trinidad and Tobago"
           ],
           "ids": [
            "Trinidad and Tobago"
           ],
           "legendgroup": "Trinidad and Tobago",
           "marker": {
            "color": "#636efa",
            "symbol": "circle"
           },
           "mode": "markers",
           "name": "Trinidad and Tobago",
           "showlegend": true,
           "type": "scatter",
           "x": [
            1.32572
           ],
           "xaxis": "x",
           "y": [
            6.167999999999999
           ],
           "yaxis": "y"
          },
          {
           "hovertemplate": "<b>%{hovertext}</b><br><br>Country=El Salvador<br>year=2016<br>GDPperCapita=%{x}<br>Score=%{y}<extra></extra>",
           "hovertext": [
            "El Salvador"
           ],
           "ids": [
            "El Salvador"
           ],
           "legendgroup": "El Salvador",
           "marker": {
            "color": "#EF553B",
            "symbol": "circle"
           },
           "mode": "markers",
           "name": "El Salvador",
           "showlegend": true,
           "type": "scatter",
           "x": [
            0.8737
           ],
           "xaxis": "x",
           "y": [
            6.068
           ],
           "yaxis": "y"
          },
          {
           "hovertemplate": "<b>%{hovertext}</b><br><br>Country=Guatemala<br>year=2016<br>GDPperCapita=%{x}<br>Score=%{y}<extra></extra>",
           "hovertext": [
            "Guatemala"
           ],
           "ids": [
            "Guatemala"
           ],
           "legendgroup": "Guatemala",
           "marker": {
            "color": "#00cc96",
            "symbol": "circle"
           },
           "mode": "markers",
           "name": "Guatemala",
           "showlegend": true,
           "type": "scatter",
           "x": [
            0.83454
           ],
           "xaxis": "x",
           "y": [
            6.324
           ],
           "yaxis": "y"
          },
          {
           "hovertemplate": "<b>%{hovertext}</b><br><br>Country=Ecuador<br>year=2016<br>GDPperCapita=%{x}<br>Score=%{y}<extra></extra>",
           "hovertext": [
            "Ecuador"
           ],
           "ids": [
            "Ecuador"
           ],
           "legendgroup": "Ecuador",
           "marker": {
            "color": "#ab63fa",
            "symbol": "circle"
           },
           "mode": "markers",
           "name": "Ecuador",
           "showlegend": true,
           "type": "scatter",
           "x": [
            0.97306
           ],
           "xaxis": "x",
           "y": [
            5.976
           ],
           "yaxis": "y"
          },
          {
           "hovertemplate": "<b>%{hovertext}</b><br><br>Country=Bolivia<br>year=2016<br>GDPperCapita=%{x}<br>Score=%{y}<extra></extra>",
           "hovertext": [
            "Bolivia"
           ],
           "ids": [
            "Bolivia"
           ],
           "legendgroup": "Bolivia",
           "marker": {
            "color": "#FFA15A",
            "symbol": "circle"
           },
           "mode": "markers",
           "name": "Bolivia",
           "showlegend": true,
           "type": "scatter",
           "x": [
            0.79422
           ],
           "xaxis": "x",
           "y": [
            5.822
           ],
           "yaxis": "y"
          },
          {
           "hovertemplate": "<b>%{hovertext}</b><br><br>Country=Paraguay<br>year=2016<br>GDPperCapita=%{x}<br>Score=%{y}<extra></extra>",
           "hovertext": [
            "Paraguay"
           ],
           "ids": [
            "Paraguay"
           ],
           "legendgroup": "Paraguay",
           "marker": {
            "color": "#19d3f3",
            "symbol": "circle"
           },
           "mode": "markers",
           "name": "Paraguay",
           "showlegend": true,
           "type": "scatter",
           "x": [
            0.8937299999999999
           ],
           "xaxis": "x",
           "y": [
            5.537999999999999
           ],
           "yaxis": "y"
          },
          {
           "hovertemplate": "<b>%{hovertext}</b><br><br>Country=Nicaragua<br>year=2016<br>GDPperCapita=%{x}<br>Score=%{y}<extra></extra>",
           "hovertext": [
            "Nicaragua"
           ],
           "ids": [
            "Nicaragua"
           ],
           "legendgroup": "Nicaragua",
           "marker": {
            "color": "#FF6692",
            "symbol": "circle"
           },
           "mode": "markers",
           "name": "Nicaragua",
           "showlegend": true,
           "type": "scatter",
           "x": [
            0.69384
           ],
           "xaxis": "x",
           "y": [
            5.992000000000001
           ],
           "yaxis": "y"
          },
          {
           "hovertemplate": "<b>%{hovertext}</b><br><br>Country=Peru<br>year=2016<br>GDPperCapita=%{x}<br>Score=%{y}<extra></extra>",
           "hovertext": [
            "Peru"
           ],
           "ids": [
            "Peru"
           ],
           "legendgroup": "Peru",
           "marker": {
            "color": "#B6E880",
            "symbol": "circle"
           },
           "mode": "markers",
           "name": "Peru",
           "showlegend": true,
           "type": "scatter",
           "x": [
            0.9960200000000001
           ],
           "xaxis": "x",
           "y": [
            5.742999999999999
           ],
           "yaxis": "y"
          },
          {
           "hovertemplate": "<b>%{hovertext}</b><br><br>Country=Jamaica<br>year=2016<br>GDPperCapita=%{x}<br>Score=%{y}<extra></extra>",
           "hovertext": [
            "Jamaica"
           ],
           "ids": [
            "Jamaica"
           ],
           "legendgroup": "Jamaica",
           "marker": {
            "color": "#FF97FF",
            "symbol": "circle"
           },
           "mode": "markers",
           "name": "Jamaica",
           "showlegend": true,
           "type": "scatter",
           "x": [
            0.89333
           ],
           "xaxis": "x",
           "y": [
            5.51
           ],
           "yaxis": "y"
          },
          {
           "hovertemplate": "<b>%{hovertext}</b><br><br>Country=Dominican Republic<br>year=2016<br>GDPperCapita=%{x}<br>Score=%{y}<extra></extra>",
           "hovertext": [
            "Dominican Republic"
           ],
           "ids": [
            "Dominican Republic"
           ],
           "legendgroup": "Dominican Republic",
           "marker": {
            "color": "#FECB52",
            "symbol": "circle"
           },
           "mode": "markers",
           "name": "Dominican Republic",
           "showlegend": true,
           "type": "scatter",
           "x": [
            1.02787
           ],
           "xaxis": "x",
           "y": [
            5.155
           ],
           "yaxis": "y"
          },
          {
           "hovertemplate": "<b>%{hovertext}</b><br><br>Country=Honduras<br>year=2016<br>GDPperCapita=%{x}<br>Score=%{y}<extra></extra>",
           "hovertext": [
            "Honduras"
           ],
           "ids": [
            "Honduras"
           ],
           "legendgroup": "Honduras",
           "marker": {
            "color": "#636efa",
            "symbol": "circle"
           },
           "mode": "markers",
           "name": "Honduras",
           "showlegend": true,
           "type": "scatter",
           "x": [
            0.69429
           ],
           "xaxis": "x",
           "y": [
            4.871
           ],
           "yaxis": "y"
          },
          {
           "hovertemplate": "<b>%{hovertext}</b><br><br>Country=Haiti<br>year=2016<br>GDPperCapita=%{x}<br>Score=%{y}<extra></extra>",
           "hovertext": [
            "Haiti"
           ],
           "ids": [
            "Haiti"
           ],
           "legendgroup": "Haiti",
           "marker": {
            "color": "#EF553B",
            "symbol": "circle"
           },
           "mode": "markers",
           "name": "Haiti",
           "showlegend": true,
           "type": "scatter",
           "x": [
            0.34097
           ],
           "xaxis": "x",
           "y": [
            4.0280000000000005
           ],
           "yaxis": "y"
          },
          {
           "hovertemplate": "<b>%{hovertext}</b><br><br>Country=Puerto Rico<br>year=2016<br>GDPperCapita=%{x}<br>Score=%{y}<extra></extra>",
           "hovertext": [
            "Puerto Rico"
           ],
           "ids": [
            "Puerto Rico"
           ],
           "legendgroup": "Puerto Rico",
           "marker": {
            "color": "#00cc96",
            "symbol": "circle"
           },
           "mode": "markers",
           "name": "Puerto Rico",
           "showlegend": true,
           "type": "scatter",
           "x": [
            1.35943
           ],
           "xaxis": "x",
           "y": [
            7.039
           ],
           "yaxis": "y"
          },
          {
           "hovertemplate": "<b>%{hovertext}</b><br><br>Country=Belize<br>year=2016<br>GDPperCapita=%{x}<br>Score=%{y}<extra></extra>",
           "hovertext": [
            "Belize"
           ],
           "ids": [
            "Belize"
           ],
           "legendgroup": "Belize",
           "marker": {
            "color": "#ab63fa",
            "symbol": "circle"
           },
           "mode": "markers",
           "name": "Belize",
           "showlegend": true,
           "type": "scatter",
           "x": [
            0.87616
           ],
           "xaxis": "x",
           "y": [
            5.956
           ],
           "yaxis": "y"
          }
         ],
         "name": "2016"
        },
        {
         "data": [
          {
           "hovertemplate": "<b>%{hovertext}</b><br><br>Country=Costa Rica<br>year=2017<br>GDPperCapita=%{x}<br>Score=%{y}<extra></extra>",
           "hovertext": [
            "Costa Rica"
           ],
           "ids": [
            "Costa Rica"
           ],
           "legendgroup": "Costa Rica",
           "marker": {
            "color": "#636efa",
            "symbol": "circle"
           },
           "mode": "markers",
           "name": "Costa Rica",
           "showlegend": true,
           "type": "scatter",
           "x": [
            1.10970628261566
           ],
           "xaxis": "x",
           "y": [
            7.0789999961853
           ],
           "yaxis": "y"
          },
          {
           "hovertemplate": "<b>%{hovertext}</b><br><br>Country=Mexico<br>year=2017<br>GDPperCapita=%{x}<br>Score=%{y}<extra></extra>",
           "hovertext": [
            "Mexico"
           ],
           "ids": [
            "Mexico"
           ],
           "legendgroup": "Mexico",
           "marker": {
            "color": "#EF553B",
            "symbol": "circle"
           },
           "mode": "markers",
           "name": "Mexico",
           "showlegend": true,
           "type": "scatter",
           "x": [
            1.1531838178634601
           ],
           "xaxis": "x",
           "y": [
            6.57800006866455
           ],
           "yaxis": "y"
          },
          {
           "hovertemplate": "<b>%{hovertext}</b><br><br>Country=Brazil<br>year=2017<br>GDPperCapita=%{x}<br>Score=%{y}<extra></extra>",
           "hovertext": [
            "Brazil"
           ],
           "ids": [
            "Brazil"
           ],
           "legendgroup": "Brazil",
           "marker": {
            "color": "#00cc96",
            "symbol": "circle"
           },
           "mode": "markers",
           "name": "Brazil",
           "showlegend": true,
           "type": "scatter",
           "x": [
            1.1073532104492199
           ],
           "xaxis": "x",
           "y": [
            6.6350002288818395
           ],
           "yaxis": "y"
          },
          {
           "hovertemplate": "<b>%{hovertext}</b><br><br>Country=Venezuela<br>year=2017<br>GDPperCapita=%{x}<br>Score=%{y}<extra></extra>",
           "hovertext": [
            "Venezuela"
           ],
           "ids": [
            "Venezuela"
           ],
           "legendgroup": "Venezuela",
           "marker": {
            "color": "#ab63fa",
            "symbol": "circle"
           },
           "mode": "markers",
           "name": "Venezuela",
           "showlegend": true,
           "type": "scatter",
           "x": [
            1.12843120098114
           ],
           "xaxis": "x",
           "y": [
            5.25
           ],
           "yaxis": "y"
          },
          {
           "hovertemplate": "<b>%{hovertext}</b><br><br>Country=Panama<br>year=2017<br>GDPperCapita=%{x}<br>Score=%{y}<extra></extra>",
           "hovertext": [
            "Panama"
           ],
           "ids": [
            "Panama"
           ],
           "legendgroup": "Panama",
           "marker": {
            "color": "#FFA15A",
            "symbol": "circle"
           },
           "mode": "markers",
           "name": "Panama",
           "showlegend": true,
           "type": "scatter",
           "x": [
            1.23374843597412
           ],
           "xaxis": "x",
           "y": [
            6.4520001411438
           ],
           "yaxis": "y"
          },
          {
           "hovertemplate": "<b>%{hovertext}</b><br><br>Country=Chile<br>year=2017<br>GDPperCapita=%{x}<br>Score=%{y}<extra></extra>",
           "hovertext": [
            "Chile"
           ],
           "ids": [
            "Chile"
           ],
           "legendgroup": "Chile",
           "marker": {
            "color": "#19d3f3",
            "symbol": "circle"
           },
           "mode": "markers",
           "name": "Chile",
           "showlegend": true,
           "type": "scatter",
           "x": [
            1.25278460979462
           ],
           "xaxis": "x",
           "y": [
            6.65199995040894
           ],
           "yaxis": "y"
          },
          {
           "hovertemplate": "<b>%{hovertext}</b><br><br>Country=Argentina<br>year=2017<br>GDPperCapita=%{x}<br>Score=%{y}<extra></extra>",
           "hovertext": [
            "Argentina"
           ],
           "ids": [
            "Argentina"
           ],
           "legendgroup": "Argentina",
           "marker": {
            "color": "#FF6692",
            "symbol": "circle"
           },
           "mode": "markers",
           "name": "Argentina",
           "showlegend": true,
           "type": "scatter",
           "x": [
            1.18529546260834
           ],
           "xaxis": "x",
           "y": [
            6.59899997711182
           ],
           "yaxis": "y"
          },
          {
           "hovertemplate": "<b>%{hovertext}</b><br><br>Country=Uruguay<br>year=2017<br>GDPperCapita=%{x}<br>Score=%{y}<extra></extra>",
           "hovertext": [
            "Uruguay"
           ],
           "ids": [
            "Uruguay"
           ],
           "legendgroup": "Uruguay",
           "marker": {
            "color": "#B6E880",
            "symbol": "circle"
           },
           "mode": "markers",
           "name": "Uruguay",
           "showlegend": true,
           "type": "scatter",
           "x": [
            1.2175596952438401
           ],
           "xaxis": "x",
           "y": [
            6.4539999961853
           ],
           "yaxis": "y"
          },
          {
           "hovertemplate": "<b>%{hovertext}</b><br><br>Country=Colombia<br>year=2017<br>GDPperCapita=%{x}<br>Score=%{y}<extra></extra>",
           "hovertext": [
            "Colombia"
           ],
           "ids": [
            "Colombia"
           ],
           "legendgroup": "Colombia",
           "marker": {
            "color": "#FF97FF",
            "symbol": "circle"
           },
           "mode": "markers",
           "name": "Colombia",
           "showlegend": true,
           "type": "scatter",
           "x": [
            1.07062232494354
           ],
           "xaxis": "x",
           "y": [
            6.35699987411499
           ],
           "yaxis": "y"
          },
          {
           "hovertemplate": "<b>%{hovertext}</b><br><br>Country=Trinidad and Tobago<br>year=2017<br>GDPperCapita=%{x}<br>Score=%{y}<extra></extra>",
           "hovertext": [
            "Trinidad and Tobago"
           ],
           "ids": [
            "Trinidad and Tobago"
           ],
           "legendgroup": "Trinidad and Tobago",
           "marker": {
            "color": "#636efa",
            "symbol": "circle"
           },
           "mode": "markers",
           "name": "Trinidad and Tobago",
           "showlegend": true,
           "type": "scatter",
           "x": [
            1.36135590076447
           ],
           "xaxis": "x",
           "y": [
            6.1680002212524405
           ],
           "yaxis": "y"
          },
          {
           "hovertemplate": "<b>%{hovertext}</b><br><br>Country=El Salvador<br>year=2017<br>GDPperCapita=%{x}<br>Score=%{y}<extra></extra>",
           "hovertext": [
            "El Salvador"
           ],
           "ids": [
            "El Salvador"
           ],
           "legendgroup": "El Salvador",
           "marker": {
            "color": "#EF553B",
            "symbol": "circle"
           },
           "mode": "markers",
           "name": "El Salvador",
           "showlegend": true,
           "type": "scatter",
           "x": [
            0.9097844958305359
           ],
           "xaxis": "x",
           "y": [
            6.002999782562259
           ],
           "yaxis": "y"
          },
          {
           "hovertemplate": "<b>%{hovertext}</b><br><br>Country=Guatemala<br>year=2017<br>GDPperCapita=%{x}<br>Score=%{y}<extra></extra>",
           "hovertext": [
            "Guatemala"
           ],
           "ids": [
            "Guatemala"
           ],
           "legendgroup": "Guatemala",
           "marker": {
            "color": "#00cc96",
            "symbol": "circle"
           },
           "mode": "markers",
           "name": "Guatemala",
           "showlegend": true,
           "type": "scatter",
           "x": [
            0.872001945972443
           ],
           "xaxis": "x",
           "y": [
            6.4539999961853
           ],
           "yaxis": "y"
          },
          {
           "hovertemplate": "<b>%{hovertext}</b><br><br>Country=Ecuador<br>year=2017<br>GDPperCapita=%{x}<br>Score=%{y}<extra></extra>",
           "hovertext": [
            "Ecuador"
           ],
           "ids": [
            "Ecuador"
           ],
           "legendgroup": "Ecuador",
           "marker": {
            "color": "#ab63fa",
            "symbol": "circle"
           },
           "mode": "markers",
           "name": "Ecuador",
           "showlegend": true,
           "type": "scatter",
           "x": [
            1.00082039833069
           ],
           "xaxis": "x",
           "y": [
            6.00799989700317
           ],
           "yaxis": "y"
          },
          {
           "hovertemplate": "<b>%{hovertext}</b><br><br>Country=Bolivia<br>year=2017<br>GDPperCapita=%{x}<br>Score=%{y}<extra></extra>",
           "hovertext": [
            "Bolivia"
           ],
           "ids": [
            "Bolivia"
           ],
           "legendgroup": "Bolivia",
           "marker": {
            "color": "#FFA15A",
            "symbol": "circle"
           },
           "mode": "markers",
           "name": "Bolivia",
           "showlegend": true,
           "type": "scatter",
           "x": [
            0.833756566047668
           ],
           "xaxis": "x",
           "y": [
            5.82299995422363
           ],
           "yaxis": "y"
          },
          {
           "hovertemplate": "<b>%{hovertext}</b><br><br>Country=Paraguay<br>year=2017<br>GDPperCapita=%{x}<br>Score=%{y}<extra></extra>",
           "hovertext": [
            "Paraguay"
           ],
           "ids": [
            "Paraguay"
           ],
           "legendgroup": "Paraguay",
           "marker": {
            "color": "#19d3f3",
            "symbol": "circle"
           },
           "mode": "markers",
           "name": "Paraguay",
           "showlegend": true,
           "type": "scatter",
           "x": [
            0.932537317276001
           ],
           "xaxis": "x",
           "y": [
            5.493000030517581
           ],
           "yaxis": "y"
          },
          {
           "hovertemplate": "<b>%{hovertext}</b><br><br>Country=Nicaragua<br>year=2017<br>GDPperCapita=%{x}<br>Score=%{y}<extra></extra>",
           "hovertext": [
            "Nicaragua"
           ],
           "ids": [
            "Nicaragua"
           ],
           "legendgroup": "Nicaragua",
           "marker": {
            "color": "#FF6692",
            "symbol": "circle"
           },
           "mode": "markers",
           "name": "Nicaragua",
           "showlegend": true,
           "type": "scatter",
           "x": [
            0.737299203872681
           ],
           "xaxis": "x",
           "y": [
            6.07100009918213
           ],
           "yaxis": "y"
          },
          {
           "hovertemplate": "<b>%{hovertext}</b><br><br>Country=Peru<br>year=2017<br>GDPperCapita=%{x}<br>Score=%{y}<extra></extra>",
           "hovertext": [
            "Peru"
           ],
           "ids": [
            "Peru"
           ],
           "legendgroup": "Peru",
           "marker": {
            "color": "#B6E880",
            "symbol": "circle"
           },
           "mode": "markers",
           "name": "Peru",
           "showlegend": true,
           "type": "scatter",
           "x": [
            1.0352252721786501
           ],
           "xaxis": "x",
           "y": [
            5.71500015258789
           ],
           "yaxis": "y"
          },
          {
           "hovertemplate": "<b>%{hovertext}</b><br><br>Country=Jamaica<br>year=2017<br>GDPperCapita=%{x}<br>Score=%{y}<extra></extra>",
           "hovertext": [
            "Jamaica"
           ],
           "ids": [
            "Jamaica"
           ],
           "legendgroup": "Jamaica",
           "marker": {
            "color": "#FF97FF",
            "symbol": "circle"
           },
           "mode": "markers",
           "name": "Jamaica",
           "showlegend": true,
           "type": "scatter",
           "x": [
            0.925579309463501
           ],
           "xaxis": "x",
           "y": [
            5.31099987030029
           ],
           "yaxis": "y"
          },
          {
           "hovertemplate": "<b>%{hovertext}</b><br><br>Country=Dominican Republic<br>year=2017<br>GDPperCapita=%{x}<br>Score=%{y}<extra></extra>",
           "hovertext": [
            "Dominican Republic"
           ],
           "ids": [
            "Dominican Republic"
           ],
           "legendgroup": "Dominican Republic",
           "marker": {
            "color": "#FECB52",
            "symbol": "circle"
           },
           "mode": "markers",
           "name": "Dominican Republic",
           "showlegend": true,
           "type": "scatter",
           "x": [
            1.07937383651733
           ],
           "xaxis": "x",
           "y": [
            5.230000019073491
           ],
           "yaxis": "y"
          },
          {
           "hovertemplate": "<b>%{hovertext}</b><br><br>Country=Honduras<br>year=2017<br>GDPperCapita=%{x}<br>Score=%{y}<extra></extra>",
           "hovertext": [
            "Honduras"
           ],
           "ids": [
            "Honduras"
           ],
           "legendgroup": "Honduras",
           "marker": {
            "color": "#636efa",
            "symbol": "circle"
           },
           "mode": "markers",
           "name": "Honduras",
           "showlegend": true,
           "type": "scatter",
           "x": [
            0.730573117733002
           ],
           "xaxis": "x",
           "y": [
            5.1810002326965305
           ],
           "yaxis": "y"
          },
          {
           "hovertemplate": "<b>%{hovertext}</b><br><br>Country=Haiti<br>year=2017<br>GDPperCapita=%{x}<br>Score=%{y}<extra></extra>",
           "hovertext": [
            "Haiti"
           ],
           "ids": [
            "Haiti"
           ],
           "legendgroup": "Haiti",
           "marker": {
            "color": "#EF553B",
            "symbol": "circle"
           },
           "mode": "markers",
           "name": "Haiti",
           "showlegend": true,
           "type": "scatter",
           "x": [
            0.368610262870789
           ],
           "xaxis": "x",
           "y": [
            3.6029999256133998
           ],
           "yaxis": "y"
          },
          {
           "hovertemplate": "<b>%{hovertext}</b><br><br>Country=Belize<br>year=2017<br>GDPperCapita=%{x}<br>Score=%{y}<extra></extra>",
           "hovertext": [
            "Belize"
           ],
           "ids": [
            "Belize"
           ],
           "legendgroup": "Belize",
           "marker": {
            "color": "#ab63fa",
            "symbol": "circle"
           },
           "mode": "markers",
           "name": "Belize",
           "showlegend": true,
           "type": "scatter",
           "x": [
            0.907975316047668
           ],
           "xaxis": "x",
           "y": [
            5.955999851226809
           ],
           "yaxis": "y"
          }
         ],
         "name": "2017"
        },
        {
         "data": [
          {
           "hovertemplate": "<b>%{hovertext}</b><br><br>Country=Costa Rica<br>year=2018<br>GDPperCapita=%{x}<br>Score=%{y}<extra></extra>",
           "hovertext": [
            "Costa Rica"
           ],
           "ids": [
            "Costa Rica"
           ],
           "legendgroup": "Costa Rica",
           "marker": {
            "color": "#636efa",
            "symbol": "circle"
           },
           "mode": "markers",
           "name": "Costa Rica",
           "showlegend": true,
           "type": "scatter",
           "x": [
            1.01
           ],
           "xaxis": "x",
           "y": [
            7.072
           ],
           "yaxis": "y"
          },
          {
           "hovertemplate": "<b>%{hovertext}</b><br><br>Country=Mexico<br>year=2018<br>GDPperCapita=%{x}<br>Score=%{y}<extra></extra>",
           "hovertext": [
            "Mexico"
           ],
           "ids": [
            "Mexico"
           ],
           "legendgroup": "Mexico",
           "marker": {
            "color": "#EF553B",
            "symbol": "circle"
           },
           "mode": "markers",
           "name": "Mexico",
           "showlegend": true,
           "type": "scatter",
           "x": [
            1.038
           ],
           "xaxis": "x",
           "y": [
            6.4879999999999995
           ],
           "yaxis": "y"
          },
          {
           "hovertemplate": "<b>%{hovertext}</b><br><br>Country=Brazil<br>year=2018<br>GDPperCapita=%{x}<br>Score=%{y}<extra></extra>",
           "hovertext": [
            "Brazil"
           ],
           "ids": [
            "Brazil"
           ],
           "legendgroup": "Brazil",
           "marker": {
            "color": "#00cc96",
            "symbol": "circle"
           },
           "mode": "markers",
           "name": "Brazil",
           "showlegend": true,
           "type": "scatter",
           "x": [
            0.986
           ],
           "xaxis": "x",
           "y": [
            6.419
           ],
           "yaxis": "y"
          },
          {
           "hovertemplate": "<b>%{hovertext}</b><br><br>Country=Venezuela<br>year=2018<br>GDPperCapita=%{x}<br>Score=%{y}<extra></extra>",
           "hovertext": [
            "Venezuela"
           ],
           "ids": [
            "Venezuela"
           ],
           "legendgroup": "Venezuela",
           "marker": {
            "color": "#ab63fa",
            "symbol": "circle"
           },
           "mode": "markers",
           "name": "Venezuela",
           "showlegend": true,
           "type": "scatter",
           "x": [
            0.996
           ],
           "xaxis": "x",
           "y": [
            4.806
           ],
           "yaxis": "y"
          },
          {
           "hovertemplate": "<b>%{hovertext}</b><br><br>Country=Panama<br>year=2018<br>GDPperCapita=%{x}<br>Score=%{y}<extra></extra>",
           "hovertext": [
            "Panama"
           ],
           "ids": [
            "Panama"
           ],
           "legendgroup": "Panama",
           "marker": {
            "color": "#FFA15A",
            "symbol": "circle"
           },
           "mode": "markers",
           "name": "Panama",
           "showlegend": true,
           "type": "scatter",
           "x": [
            1.112
           ],
           "xaxis": "x",
           "y": [
            6.43
           ],
           "yaxis": "y"
          },
          {
           "hovertemplate": "<b>%{hovertext}</b><br><br>Country=Chile<br>year=2018<br>GDPperCapita=%{x}<br>Score=%{y}<extra></extra>",
           "hovertext": [
            "Chile"
           ],
           "ids": [
            "Chile"
           ],
           "legendgroup": "Chile",
           "marker": {
            "color": "#19d3f3",
            "symbol": "circle"
           },
           "mode": "markers",
           "name": "Chile",
           "showlegend": true,
           "type": "scatter",
           "x": [
            1.131
           ],
           "xaxis": "x",
           "y": [
            6.476
           ],
           "yaxis": "y"
          },
          {
           "hovertemplate": "<b>%{hovertext}</b><br><br>Country=Argentina<br>year=2018<br>GDPperCapita=%{x}<br>Score=%{y}<extra></extra>",
           "hovertext": [
            "Argentina"
           ],
           "ids": [
            "Argentina"
           ],
           "legendgroup": "Argentina",
           "marker": {
            "color": "#FF6692",
            "symbol": "circle"
           },
           "mode": "markers",
           "name": "Argentina",
           "showlegend": true,
           "type": "scatter",
           "x": [
            1.073
           ],
           "xaxis": "x",
           "y": [
            6.388
           ],
           "yaxis": "y"
          },
          {
           "hovertemplate": "<b>%{hovertext}</b><br><br>Country=Uruguay<br>year=2018<br>GDPperCapita=%{x}<br>Score=%{y}<extra></extra>",
           "hovertext": [
            "Uruguay"
           ],
           "ids": [
            "Uruguay"
           ],
           "legendgroup": "Uruguay",
           "marker": {
            "color": "#B6E880",
            "symbol": "circle"
           },
           "mode": "markers",
           "name": "Uruguay",
           "showlegend": true,
           "type": "scatter",
           "x": [
            1.093
           ],
           "xaxis": "x",
           "y": [
            6.379
           ],
           "yaxis": "y"
          },
          {
           "hovertemplate": "<b>%{hovertext}</b><br><br>Country=Colombia<br>year=2018<br>GDPperCapita=%{x}<br>Score=%{y}<extra></extra>",
           "hovertext": [
            "Colombia"
           ],
           "ids": [
            "Colombia"
           ],
           "legendgroup": "Colombia",
           "marker": {
            "color": "#FF97FF",
            "symbol": "circle"
           },
           "mode": "markers",
           "name": "Colombia",
           "showlegend": true,
           "type": "scatter",
           "x": [
            0.96
           ],
           "xaxis": "x",
           "y": [
            6.26
           ],
           "yaxis": "y"
          },
          {
           "hovertemplate": "<b>%{hovertext}</b><br><br>Country=Trinidad and Tobago<br>year=2018<br>GDPperCapita=%{x}<br>Score=%{y}<extra></extra>",
           "hovertext": [
            "Trinidad and Tobago"
           ],
           "ids": [
            "Trinidad and Tobago"
           ],
           "legendgroup": "Trinidad and Tobago",
           "marker": {
            "color": "#636efa",
            "symbol": "circle"
           },
           "mode": "markers",
           "name": "Trinidad and Tobago",
           "showlegend": true,
           "type": "scatter",
           "x": [
            1.2229999999999999
           ],
           "xaxis": "x",
           "y": [
            6.192
           ],
           "yaxis": "y"
          },
          {
           "hovertemplate": "<b>%{hovertext}</b><br><br>Country=El Salvador<br>year=2018<br>GDPperCapita=%{x}<br>Score=%{y}<extra></extra>",
           "hovertext": [
            "El Salvador"
           ],
           "ids": [
            "El Salvador"
           ],
           "legendgroup": "El Salvador",
           "marker": {
            "color": "#EF553B",
            "symbol": "circle"
           },
           "mode": "markers",
           "name": "El Salvador",
           "showlegend": true,
           "type": "scatter",
           "x": [
            0.8059999999999999
           ],
           "xaxis": "x",
           "y": [
            6.167000000000001
           ],
           "yaxis": "y"
          },
          {
           "hovertemplate": "<b>%{hovertext}</b><br><br>Country=Guatemala<br>year=2018<br>GDPperCapita=%{x}<br>Score=%{y}<extra></extra>",
           "hovertext": [
            "Guatemala"
           ],
           "ids": [
            "Guatemala"
           ],
           "legendgroup": "Guatemala",
           "marker": {
            "color": "#00cc96",
            "symbol": "circle"
           },
           "mode": "markers",
           "name": "Guatemala",
           "showlegend": true,
           "type": "scatter",
           "x": [
            0.7809999999999999
           ],
           "xaxis": "x",
           "y": [
            6.382000000000001
           ],
           "yaxis": "y"
          },
          {
           "hovertemplate": "<b>%{hovertext}</b><br><br>Country=Ecuador<br>year=2018<br>GDPperCapita=%{x}<br>Score=%{y}<extra></extra>",
           "hovertext": [
            "Ecuador"
           ],
           "ids": [
            "Ecuador"
           ],
           "legendgroup": "Ecuador",
           "marker": {
            "color": "#ab63fa",
            "symbol": "circle"
           },
           "mode": "markers",
           "name": "Ecuador",
           "showlegend": true,
           "type": "scatter",
           "x": [
            0.889
           ],
           "xaxis": "x",
           "y": [
            5.973
           ],
           "yaxis": "y"
          },
          {
           "hovertemplate": "<b>%{hovertext}</b><br><br>Country=Bolivia<br>year=2018<br>GDPperCapita=%{x}<br>Score=%{y}<extra></extra>",
           "hovertext": [
            "Bolivia"
           ],
           "ids": [
            "Bolivia"
           ],
           "legendgroup": "Bolivia",
           "marker": {
            "color": "#FFA15A",
            "symbol": "circle"
           },
           "mode": "markers",
           "name": "Bolivia",
           "showlegend": true,
           "type": "scatter",
           "x": [
            0.7509999999999999
           ],
           "xaxis": "x",
           "y": [
            5.752000000000001
           ],
           "yaxis": "y"
          },
          {
           "hovertemplate": "<b>%{hovertext}</b><br><br>Country=Paraguay<br>year=2018<br>GDPperCapita=%{x}<br>Score=%{y}<extra></extra>",
           "hovertext": [
            "Paraguay"
           ],
           "ids": [
            "Paraguay"
           ],
           "legendgroup": "Paraguay",
           "marker": {
            "color": "#19d3f3",
            "symbol": "circle"
           },
           "mode": "markers",
           "name": "Paraguay",
           "showlegend": true,
           "type": "scatter",
           "x": [
            0.835
           ],
           "xaxis": "x",
           "y": [
            5.681
           ],
           "yaxis": "y"
          },
          {
           "hovertemplate": "<b>%{hovertext}</b><br><br>Country=Nicaragua<br>year=2018<br>GDPperCapita=%{x}<br>Score=%{y}<extra></extra>",
           "hovertext": [
            "Nicaragua"
           ],
           "ids": [
            "Nicaragua"
           ],
           "legendgroup": "Nicaragua",
           "marker": {
            "color": "#FF6692",
            "symbol": "circle"
           },
           "mode": "markers",
           "name": "Nicaragua",
           "showlegend": true,
           "type": "scatter",
           "x": [
            0.6679999999999999
           ],
           "xaxis": "x",
           "y": [
            6.141
           ],
           "yaxis": "y"
          },
          {
           "hovertemplate": "<b>%{hovertext}</b><br><br>Country=Peru<br>year=2018<br>GDPperCapita=%{x}<br>Score=%{y}<extra></extra>",
           "hovertext": [
            "Peru"
           ],
           "ids": [
            "Peru"
           ],
           "legendgroup": "Peru",
           "marker": {
            "color": "#B6E880",
            "symbol": "circle"
           },
           "mode": "markers",
           "name": "Peru",
           "showlegend": true,
           "type": "scatter",
           "x": [
            0.934
           ],
           "xaxis": "x",
           "y": [
            5.662999999999999
           ],
           "yaxis": "y"
          },
          {
           "hovertemplate": "<b>%{hovertext}</b><br><br>Country=Jamaica<br>year=2018<br>GDPperCapita=%{x}<br>Score=%{y}<extra></extra>",
           "hovertext": [
            "Jamaica"
           ],
           "ids": [
            "Jamaica"
           ],
           "legendgroup": "Jamaica",
           "marker": {
            "color": "#FF97FF",
            "symbol": "circle"
           },
           "mode": "markers",
           "name": "Jamaica",
           "showlegend": true,
           "type": "scatter",
           "x": [
            0.8190000000000001
           ],
           "xaxis": "x",
           "y": [
            5.89
           ],
           "yaxis": "y"
          },
          {
           "hovertemplate": "<b>%{hovertext}</b><br><br>Country=Dominican Republic<br>year=2018<br>GDPperCapita=%{x}<br>Score=%{y}<extra></extra>",
           "hovertext": [
            "Dominican Republic"
           ],
           "ids": [
            "Dominican Republic"
           ],
           "legendgroup": "Dominican Republic",
           "marker": {
            "color": "#FECB52",
            "symbol": "circle"
           },
           "mode": "markers",
           "name": "Dominican Republic",
           "showlegend": true,
           "type": "scatter",
           "x": [
            0.982
           ],
           "xaxis": "x",
           "y": [
            5.3020000000000005
           ],
           "yaxis": "y"
          },
          {
           "hovertemplate": "<b>%{hovertext}</b><br><br>Country=Honduras<br>year=2018<br>GDPperCapita=%{x}<br>Score=%{y}<extra></extra>",
           "hovertext": [
            "Honduras"
           ],
           "ids": [
            "Honduras"
           ],
           "legendgroup": "Honduras",
           "marker": {
            "color": "#636efa",
            "symbol": "circle"
           },
           "mode": "markers",
           "name": "Honduras",
           "showlegend": true,
           "type": "scatter",
           "x": [
            0.62
           ],
           "xaxis": "x",
           "y": [
            5.504
           ],
           "yaxis": "y"
          },
          {
           "hovertemplate": "<b>%{hovertext}</b><br><br>Country=Haiti<br>year=2018<br>GDPperCapita=%{x}<br>Score=%{y}<extra></extra>",
           "hovertext": [
            "Haiti"
           ],
           "ids": [
            "Haiti"
           ],
           "legendgroup": "Haiti",
           "marker": {
            "color": "#EF553B",
            "symbol": "circle"
           },
           "mode": "markers",
           "name": "Haiti",
           "showlegend": true,
           "type": "scatter",
           "x": [
            0.315
           ],
           "xaxis": "x",
           "y": [
            3.582
           ],
           "yaxis": "y"
          },
          {
           "hovertemplate": "<b>%{hovertext}</b><br><br>Country=Belize<br>year=2018<br>GDPperCapita=%{x}<br>Score=%{y}<extra></extra>",
           "hovertext": [
            "Belize"
           ],
           "ids": [
            "Belize"
           ],
           "legendgroup": "Belize",
           "marker": {
            "color": "#ab63fa",
            "symbol": "circle"
           },
           "mode": "markers",
           "name": "Belize",
           "showlegend": true,
           "type": "scatter",
           "x": [
            0.807
           ],
           "xaxis": "x",
           "y": [
            5.956
           ],
           "yaxis": "y"
          }
         ],
         "name": "2018"
        },
        {
         "data": [
          {
           "hovertemplate": "<b>%{hovertext}</b><br><br>Country=Costa Rica<br>year=2019<br>GDPperCapita=%{x}<br>Score=%{y}<extra></extra>",
           "hovertext": [
            "Costa Rica"
           ],
           "ids": [
            "Costa Rica"
           ],
           "legendgroup": "Costa Rica",
           "marker": {
            "color": "#636efa",
            "symbol": "circle"
           },
           "mode": "markers",
           "name": "Costa Rica",
           "showlegend": true,
           "type": "scatter",
           "x": [
            1.034
           ],
           "xaxis": "x",
           "y": [
            7.167000000000001
           ],
           "yaxis": "y"
          },
          {
           "hovertemplate": "<b>%{hovertext}</b><br><br>Country=Mexico<br>year=2019<br>GDPperCapita=%{x}<br>Score=%{y}<extra></extra>",
           "hovertext": [
            "Mexico"
           ],
           "ids": [
            "Mexico"
           ],
           "legendgroup": "Mexico",
           "marker": {
            "color": "#EF553B",
            "symbol": "circle"
           },
           "mode": "markers",
           "name": "Mexico",
           "showlegend": true,
           "type": "scatter",
           "x": [
            1.07
           ],
           "xaxis": "x",
           "y": [
            6.595
           ],
           "yaxis": "y"
          },
          {
           "hovertemplate": "<b>%{hovertext}</b><br><br>Country=Brazil<br>year=2019<br>GDPperCapita=%{x}<br>Score=%{y}<extra></extra>",
           "hovertext": [
            "Brazil"
           ],
           "ids": [
            "Brazil"
           ],
           "legendgroup": "Brazil",
           "marker": {
            "color": "#00cc96",
            "symbol": "circle"
           },
           "mode": "markers",
           "name": "Brazil",
           "showlegend": true,
           "type": "scatter",
           "x": [
            1.004
           ],
           "xaxis": "x",
           "y": [
            6.3
           ],
           "yaxis": "y"
          },
          {
           "hovertemplate": "<b>%{hovertext}</b><br><br>Country=Venezuela<br>year=2019<br>GDPperCapita=%{x}<br>Score=%{y}<extra></extra>",
           "hovertext": [
            "Venezuela"
           ],
           "ids": [
            "Venezuela"
           ],
           "legendgroup": "Venezuela",
           "marker": {
            "color": "#ab63fa",
            "symbol": "circle"
           },
           "mode": "markers",
           "name": "Venezuela",
           "showlegend": true,
           "type": "scatter",
           "x": [
            0.96
           ],
           "xaxis": "x",
           "y": [
            4.707
           ],
           "yaxis": "y"
          },
          {
           "hovertemplate": "<b>%{hovertext}</b><br><br>Country=Panama<br>year=2019<br>GDPperCapita=%{x}<br>Score=%{y}<extra></extra>",
           "hovertext": [
            "Panama"
           ],
           "ids": [
            "Panama"
           ],
           "legendgroup": "Panama",
           "marker": {
            "color": "#FFA15A",
            "symbol": "circle"
           },
           "mode": "markers",
           "name": "Panama",
           "showlegend": true,
           "type": "scatter",
           "x": [
            1.149
           ],
           "xaxis": "x",
           "y": [
            6.321000000000001
           ],
           "yaxis": "y"
          },
          {
           "hovertemplate": "<b>%{hovertext}</b><br><br>Country=Chile<br>year=2019<br>GDPperCapita=%{x}<br>Score=%{y}<extra></extra>",
           "hovertext": [
            "Chile"
           ],
           "ids": [
            "Chile"
           ],
           "legendgroup": "Chile",
           "marker": {
            "color": "#19d3f3",
            "symbol": "circle"
           },
           "mode": "markers",
           "name": "Chile",
           "showlegend": true,
           "type": "scatter",
           "x": [
            1.159
           ],
           "xaxis": "x",
           "y": [
            6.444
           ],
           "yaxis": "y"
          },
          {
           "hovertemplate": "<b>%{hovertext}</b><br><br>Country=Argentina<br>year=2019<br>GDPperCapita=%{x}<br>Score=%{y}<extra></extra>",
           "hovertext": [
            "Argentina"
           ],
           "ids": [
            "Argentina"
           ],
           "legendgroup": "Argentina",
           "marker": {
            "color": "#FF6692",
            "symbol": "circle"
           },
           "mode": "markers",
           "name": "Argentina",
           "showlegend": true,
           "type": "scatter",
           "x": [
            1.092
           ],
           "xaxis": "x",
           "y": [
            6.086
           ],
           "yaxis": "y"
          },
          {
           "hovertemplate": "<b>%{hovertext}</b><br><br>Country=Uruguay<br>year=2019<br>GDPperCapita=%{x}<br>Score=%{y}<extra></extra>",
           "hovertext": [
            "Uruguay"
           ],
           "ids": [
            "Uruguay"
           ],
           "legendgroup": "Uruguay",
           "marker": {
            "color": "#B6E880",
            "symbol": "circle"
           },
           "mode": "markers",
           "name": "Uruguay",
           "showlegend": true,
           "type": "scatter",
           "x": [
            1.124
           ],
           "xaxis": "x",
           "y": [
            6.292999999999999
           ],
           "yaxis": "y"
          },
          {
           "hovertemplate": "<b>%{hovertext}</b><br><br>Country=Colombia<br>year=2019<br>GDPperCapita=%{x}<br>Score=%{y}<extra></extra>",
           "hovertext": [
            "Colombia"
           ],
           "ids": [
            "Colombia"
           ],
           "legendgroup": "Colombia",
           "marker": {
            "color": "#FF97FF",
            "symbol": "circle"
           },
           "mode": "markers",
           "name": "Colombia",
           "showlegend": true,
           "type": "scatter",
           "x": [
            0.985
           ],
           "xaxis": "x",
           "y": [
            6.125
           ],
           "yaxis": "y"
          },
          {
           "hovertemplate": "<b>%{hovertext}</b><br><br>Country=Trinidad and Tobago<br>year=2019<br>GDPperCapita=%{x}<br>Score=%{y}<extra></extra>",
           "hovertext": [
            "Trinidad and Tobago"
           ],
           "ids": [
            "Trinidad and Tobago"
           ],
           "legendgroup": "Trinidad and Tobago",
           "marker": {
            "color": "#636efa",
            "symbol": "circle"
           },
           "mode": "markers",
           "name": "Trinidad and Tobago",
           "showlegend": true,
           "type": "scatter",
           "x": [
            1.2309999999999999
           ],
           "xaxis": "x",
           "y": [
            6.192
           ],
           "yaxis": "y"
          },
          {
           "hovertemplate": "<b>%{hovertext}</b><br><br>Country=El Salvador<br>year=2019<br>GDPperCapita=%{x}<br>Score=%{y}<extra></extra>",
           "hovertext": [
            "El Salvador"
           ],
           "ids": [
            "El Salvador"
           ],
           "legendgroup": "El Salvador",
           "marker": {
            "color": "#EF553B",
            "symbol": "circle"
           },
           "mode": "markers",
           "name": "El Salvador",
           "showlegend": true,
           "type": "scatter",
           "x": [
            0.794
           ],
           "xaxis": "x",
           "y": [
            6.252999999999999
           ],
           "yaxis": "y"
          },
          {
           "hovertemplate": "<b>%{hovertext}</b><br><br>Country=Guatemala<br>year=2019<br>GDPperCapita=%{x}<br>Score=%{y}<extra></extra>",
           "hovertext": [
            "Guatemala"
           ],
           "ids": [
            "Guatemala"
           ],
           "legendgroup": "Guatemala",
           "marker": {
            "color": "#00cc96",
            "symbol": "circle"
           },
           "mode": "markers",
           "name": "Guatemala",
           "showlegend": true,
           "type": "scatter",
           "x": [
            0.8
           ],
           "xaxis": "x",
           "y": [
            6.436
           ],
           "yaxis": "y"
          },
          {
           "hovertemplate": "<b>%{hovertext}</b><br><br>Country=Ecuador<br>year=2019<br>GDPperCapita=%{x}<br>Score=%{y}<extra></extra>",
           "hovertext": [
            "Ecuador"
           ],
           "ids": [
            "Ecuador"
           ],
           "legendgroup": "Ecuador",
           "marker": {
            "color": "#ab63fa",
            "symbol": "circle"
           },
           "mode": "markers",
           "name": "Ecuador",
           "showlegend": true,
           "type": "scatter",
           "x": [
            0.912
           ],
           "xaxis": "x",
           "y": [
            6.028
           ],
           "yaxis": "y"
          },
          {
           "hovertemplate": "<b>%{hovertext}</b><br><br>Country=Bolivia<br>year=2019<br>GDPperCapita=%{x}<br>Score=%{y}<extra></extra>",
           "hovertext": [
            "Bolivia"
           ],
           "ids": [
            "Bolivia"
           ],
           "legendgroup": "Bolivia",
           "marker": {
            "color": "#FFA15A",
            "symbol": "circle"
           },
           "mode": "markers",
           "name": "Bolivia",
           "showlegend": true,
           "type": "scatter",
           "x": [
            0.7759999999999999
           ],
           "xaxis": "x",
           "y": [
            5.779
           ],
           "yaxis": "y"
          },
          {
           "hovertemplate": "<b>%{hovertext}</b><br><br>Country=Paraguay<br>year=2019<br>GDPperCapita=%{x}<br>Score=%{y}<extra></extra>",
           "hovertext": [
            "Paraguay"
           ],
           "ids": [
            "Paraguay"
           ],
           "legendgroup": "Paraguay",
           "marker": {
            "color": "#19d3f3",
            "symbol": "circle"
           },
           "mode": "markers",
           "name": "Paraguay",
           "showlegend": true,
           "type": "scatter",
           "x": [
            0.855
           ],
           "xaxis": "x",
           "y": [
            5.742999999999999
           ],
           "yaxis": "y"
          },
          {
           "hovertemplate": "<b>%{hovertext}</b><br><br>Country=Nicaragua<br>year=2019<br>GDPperCapita=%{x}<br>Score=%{y}<extra></extra>",
           "hovertext": [
            "Nicaragua"
           ],
           "ids": [
            "Nicaragua"
           ],
           "legendgroup": "Nicaragua",
           "marker": {
            "color": "#FF6692",
            "symbol": "circle"
           },
           "mode": "markers",
           "name": "Nicaragua",
           "showlegend": true,
           "type": "scatter",
           "x": [
            0.6940000000000001
           ],
           "xaxis": "x",
           "y": [
            6.105
           ],
           "yaxis": "y"
          },
          {
           "hovertemplate": "<b>%{hovertext}</b><br><br>Country=Peru<br>year=2019<br>GDPperCapita=%{x}<br>Score=%{y}<extra></extra>",
           "hovertext": [
            "Peru"
           ],
           "ids": [
            "Peru"
           ],
           "legendgroup": "Peru",
           "marker": {
            "color": "#B6E880",
            "symbol": "circle"
           },
           "mode": "markers",
           "name": "Peru",
           "showlegend": true,
           "type": "scatter",
           "x": [
            0.96
           ],
           "xaxis": "x",
           "y": [
            5.697
           ],
           "yaxis": "y"
          },
          {
           "hovertemplate": "<b>%{hovertext}</b><br><br>Country=Jamaica<br>year=2019<br>GDPperCapita=%{x}<br>Score=%{y}<extra></extra>",
           "hovertext": [
            "Jamaica"
           ],
           "ids": [
            "Jamaica"
           ],
           "legendgroup": "Jamaica",
           "marker": {
            "color": "#FF97FF",
            "symbol": "circle"
           },
           "mode": "markers",
           "name": "Jamaica",
           "showlegend": true,
           "type": "scatter",
           "x": [
            0.831
           ],
           "xaxis": "x",
           "y": [
            5.89
           ],
           "yaxis": "y"
          },
          {
           "hovertemplate": "<b>%{hovertext}</b><br><br>Country=Dominican Republic<br>year=2019<br>GDPperCapita=%{x}<br>Score=%{y}<extra></extra>",
           "hovertext": [
            "Dominican Republic"
           ],
           "ids": [
            "Dominican Republic"
           ],
           "legendgroup": "Dominican Republic",
           "marker": {
            "color": "#FECB52",
            "symbol": "circle"
           },
           "mode": "markers",
           "name": "Dominican Republic",
           "showlegend": true,
           "type": "scatter",
           "x": [
            1.015
           ],
           "xaxis": "x",
           "y": [
            5.425
           ],
           "yaxis": "y"
          },
          {
           "hovertemplate": "<b>%{hovertext}</b><br><br>Country=Honduras<br>year=2019<br>GDPperCapita=%{x}<br>Score=%{y}<extra></extra>",
           "hovertext": [
            "Honduras"
           ],
           "ids": [
            "Honduras"
           ],
           "legendgroup": "Honduras",
           "marker": {
            "color": "#636efa",
            "symbol": "circle"
           },
           "mode": "markers",
           "name": "Honduras",
           "showlegend": true,
           "type": "scatter",
           "x": [
            0.642
           ],
           "xaxis": "x",
           "y": [
            5.86
           ],
           "yaxis": "y"
          },
          {
           "hovertemplate": "<b>%{hovertext}</b><br><br>Country=Haiti<br>year=2019<br>GDPperCapita=%{x}<br>Score=%{y}<extra></extra>",
           "hovertext": [
            "Haiti"
           ],
           "ids": [
            "Haiti"
           ],
           "legendgroup": "Haiti",
           "marker": {
            "color": "#EF553B",
            "symbol": "circle"
           },
           "mode": "markers",
           "name": "Haiti",
           "showlegend": true,
           "type": "scatter",
           "x": [
            0.32299999999999995
           ],
           "xaxis": "x",
           "y": [
            3.597
           ],
           "yaxis": "y"
          }
         ],
         "name": "2019"
        }
       ],
       "layout": {
        "autosize": true,
        "legend": {
         "title": {
          "text": "Country"
         },
         "tracegroupgap": 0
        },
        "margin": {
         "t": 60
        },
        "sliders": [
         {
          "active": 0,
          "currentvalue": {
           "prefix": "year="
          },
          "len": 0.9,
          "pad": {
           "b": 10,
           "t": 60
          },
          "steps": [
           {
            "args": [
             [
              "2015"
             ],
             {
              "frame": {
               "duration": 0,
               "redraw": false
              },
              "fromcurrent": true,
              "mode": "immediate",
              "transition": {
               "duration": 0,
               "easing": "linear"
              }
             }
            ],
            "label": "2015",
            "method": "animate"
           },
           {
            "args": [
             [
              "2016"
             ],
             {
              "frame": {
               "duration": 0,
               "redraw": false
              },
              "fromcurrent": true,
              "mode": "immediate",
              "transition": {
               "duration": 0,
               "easing": "linear"
              }
             }
            ],
            "label": "2016",
            "method": "animate"
           },
           {
            "args": [
             [
              "2017"
             ],
             {
              "frame": {
               "duration": 0,
               "redraw": false
              },
              "fromcurrent": true,
              "mode": "immediate",
              "transition": {
               "duration": 0,
               "easing": "linear"
              }
             }
            ],
            "label": "2017",
            "method": "animate"
           },
           {
            "args": [
             [
              "2018"
             ],
             {
              "frame": {
               "duration": 0,
               "redraw": false
              },
              "fromcurrent": true,
              "mode": "immediate",
              "transition": {
               "duration": 0,
               "easing": "linear"
              }
             }
            ],
            "label": "2018",
            "method": "animate"
           },
           {
            "args": [
             [
              "2019"
             ],
             {
              "frame": {
               "duration": 0,
               "redraw": false
              },
              "fromcurrent": true,
              "mode": "immediate",
              "transition": {
               "duration": 0,
               "easing": "linear"
              }
             }
            ],
            "label": "2019",
            "method": "animate"
           }
          ],
          "x": 0.1,
          "xanchor": "left",
          "y": 0,
          "yanchor": "top"
         }
        ],
        "template": {
         "data": {
          "bar": [
           {
            "error_x": {
             "color": "#2a3f5f"
            },
            "error_y": {
             "color": "#2a3f5f"
            },
            "marker": {
             "line": {
              "color": "#E5ECF6",
              "width": 0.5
             }
            },
            "type": "bar"
           }
          ],
          "barpolar": [
           {
            "marker": {
             "line": {
              "color": "#E5ECF6",
              "width": 0.5
             }
            },
            "type": "barpolar"
           }
          ],
          "carpet": [
           {
            "aaxis": {
             "endlinecolor": "#2a3f5f",
             "gridcolor": "white",
             "linecolor": "white",
             "minorgridcolor": "white",
             "startlinecolor": "#2a3f5f"
            },
            "baxis": {
             "endlinecolor": "#2a3f5f",
             "gridcolor": "white",
             "linecolor": "white",
             "minorgridcolor": "white",
             "startlinecolor": "#2a3f5f"
            },
            "type": "carpet"
           }
          ],
          "choropleth": [
           {
            "colorbar": {
             "outlinewidth": 0,
             "ticks": ""
            },
            "type": "choropleth"
           }
          ],
          "contour": [
           {
            "colorbar": {
             "outlinewidth": 0,
             "ticks": ""
            },
            "colorscale": [
             [
              0,
              "#0d0887"
             ],
             [
              0.1111111111111111,
              "#46039f"
             ],
             [
              0.2222222222222222,
              "#7201a8"
             ],
             [
              0.3333333333333333,
              "#9c179e"
             ],
             [
              0.4444444444444444,
              "#bd3786"
             ],
             [
              0.5555555555555556,
              "#d8576b"
             ],
             [
              0.6666666666666666,
              "#ed7953"
             ],
             [
              0.7777777777777778,
              "#fb9f3a"
             ],
             [
              0.8888888888888888,
              "#fdca26"
             ],
             [
              1,
              "#f0f921"
             ]
            ],
            "type": "contour"
           }
          ],
          "contourcarpet": [
           {
            "colorbar": {
             "outlinewidth": 0,
             "ticks": ""
            },
            "type": "contourcarpet"
           }
          ],
          "heatmap": [
           {
            "colorbar": {
             "outlinewidth": 0,
             "ticks": ""
            },
            "colorscale": [
             [
              0,
              "#0d0887"
             ],
             [
              0.1111111111111111,
              "#46039f"
             ],
             [
              0.2222222222222222,
              "#7201a8"
             ],
             [
              0.3333333333333333,
              "#9c179e"
             ],
             [
              0.4444444444444444,
              "#bd3786"
             ],
             [
              0.5555555555555556,
              "#d8576b"
             ],
             [
              0.6666666666666666,
              "#ed7953"
             ],
             [
              0.7777777777777778,
              "#fb9f3a"
             ],
             [
              0.8888888888888888,
              "#fdca26"
             ],
             [
              1,
              "#f0f921"
             ]
            ],
            "type": "heatmap"
           }
          ],
          "heatmapgl": [
           {
            "colorbar": {
             "outlinewidth": 0,
             "ticks": ""
            },
            "colorscale": [
             [
              0,
              "#0d0887"
             ],
             [
              0.1111111111111111,
              "#46039f"
             ],
             [
              0.2222222222222222,
              "#7201a8"
             ],
             [
              0.3333333333333333,
              "#9c179e"
             ],
             [
              0.4444444444444444,
              "#bd3786"
             ],
             [
              0.5555555555555556,
              "#d8576b"
             ],
             [
              0.6666666666666666,
              "#ed7953"
             ],
             [
              0.7777777777777778,
              "#fb9f3a"
             ],
             [
              0.8888888888888888,
              "#fdca26"
             ],
             [
              1,
              "#f0f921"
             ]
            ],
            "type": "heatmapgl"
           }
          ],
          "histogram": [
           {
            "marker": {
             "colorbar": {
              "outlinewidth": 0,
              "ticks": ""
             }
            },
            "type": "histogram"
           }
          ],
          "histogram2d": [
           {
            "colorbar": {
             "outlinewidth": 0,
             "ticks": ""
            },
            "colorscale": [
             [
              0,
              "#0d0887"
             ],
             [
              0.1111111111111111,
              "#46039f"
             ],
             [
              0.2222222222222222,
              "#7201a8"
             ],
             [
              0.3333333333333333,
              "#9c179e"
             ],
             [
              0.4444444444444444,
              "#bd3786"
             ],
             [
              0.5555555555555556,
              "#d8576b"
             ],
             [
              0.6666666666666666,
              "#ed7953"
             ],
             [
              0.7777777777777778,
              "#fb9f3a"
             ],
             [
              0.8888888888888888,
              "#fdca26"
             ],
             [
              1,
              "#f0f921"
             ]
            ],
            "type": "histogram2d"
           }
          ],
          "histogram2dcontour": [
           {
            "colorbar": {
             "outlinewidth": 0,
             "ticks": ""
            },
            "colorscale": [
             [
              0,
              "#0d0887"
             ],
             [
              0.1111111111111111,
              "#46039f"
             ],
             [
              0.2222222222222222,
              "#7201a8"
             ],
             [
              0.3333333333333333,
              "#9c179e"
             ],
             [
              0.4444444444444444,
              "#bd3786"
             ],
             [
              0.5555555555555556,
              "#d8576b"
             ],
             [
              0.6666666666666666,
              "#ed7953"
             ],
             [
              0.7777777777777778,
              "#fb9f3a"
             ],
             [
              0.8888888888888888,
              "#fdca26"
             ],
             [
              1,
              "#f0f921"
             ]
            ],
            "type": "histogram2dcontour"
           }
          ],
          "mesh3d": [
           {
            "colorbar": {
             "outlinewidth": 0,
             "ticks": ""
            },
            "type": "mesh3d"
           }
          ],
          "parcoords": [
           {
            "line": {
             "colorbar": {
              "outlinewidth": 0,
              "ticks": ""
             }
            },
            "type": "parcoords"
           }
          ],
          "pie": [
           {
            "automargin": true,
            "type": "pie"
           }
          ],
          "scatter": [
           {
            "marker": {
             "colorbar": {
              "outlinewidth": 0,
              "ticks": ""
             }
            },
            "type": "scatter"
           }
          ],
          "scatter3d": [
           {
            "line": {
             "colorbar": {
              "outlinewidth": 0,
              "ticks": ""
             }
            },
            "marker": {
             "colorbar": {
              "outlinewidth": 0,
              "ticks": ""
             }
            },
            "type": "scatter3d"
           }
          ],
          "scattercarpet": [
           {
            "marker": {
             "colorbar": {
              "outlinewidth": 0,
              "ticks": ""
             }
            },
            "type": "scattercarpet"
           }
          ],
          "scattergeo": [
           {
            "marker": {
             "colorbar": {
              "outlinewidth": 0,
              "ticks": ""
             }
            },
            "type": "scattergeo"
           }
          ],
          "scattergl": [
           {
            "marker": {
             "colorbar": {
              "outlinewidth": 0,
              "ticks": ""
             }
            },
            "type": "scattergl"
           }
          ],
          "scattermapbox": [
           {
            "marker": {
             "colorbar": {
              "outlinewidth": 0,
              "ticks": ""
             }
            },
            "type": "scattermapbox"
           }
          ],
          "scatterpolar": [
           {
            "marker": {
             "colorbar": {
              "outlinewidth": 0,
              "ticks": ""
             }
            },
            "type": "scatterpolar"
           }
          ],
          "scatterpolargl": [
           {
            "marker": {
             "colorbar": {
              "outlinewidth": 0,
              "ticks": ""
             }
            },
            "type": "scatterpolargl"
           }
          ],
          "scatterternary": [
           {
            "marker": {
             "colorbar": {
              "outlinewidth": 0,
              "ticks": ""
             }
            },
            "type": "scatterternary"
           }
          ],
          "surface": [
           {
            "colorbar": {
             "outlinewidth": 0,
             "ticks": ""
            },
            "colorscale": [
             [
              0,
              "#0d0887"
             ],
             [
              0.1111111111111111,
              "#46039f"
             ],
             [
              0.2222222222222222,
              "#7201a8"
             ],
             [
              0.3333333333333333,
              "#9c179e"
             ],
             [
              0.4444444444444444,
              "#bd3786"
             ],
             [
              0.5555555555555556,
              "#d8576b"
             ],
             [
              0.6666666666666666,
              "#ed7953"
             ],
             [
              0.7777777777777778,
              "#fb9f3a"
             ],
             [
              0.8888888888888888,
              "#fdca26"
             ],
             [
              1,
              "#f0f921"
             ]
            ],
            "type": "surface"
           }
          ],
          "table": [
           {
            "cells": {
             "fill": {
              "color": "#EBF0F8"
             },
             "line": {
              "color": "white"
             }
            },
            "header": {
             "fill": {
              "color": "#C8D4E3"
             },
             "line": {
              "color": "white"
             }
            },
            "type": "table"
           }
          ]
         },
         "layout": {
          "annotationdefaults": {
           "arrowcolor": "#2a3f5f",
           "arrowhead": 0,
           "arrowwidth": 1
          },
          "coloraxis": {
           "colorbar": {
            "outlinewidth": 0,
            "ticks": ""
           }
          },
          "colorscale": {
           "diverging": [
            [
             0,
             "#8e0152"
            ],
            [
             0.1,
             "#c51b7d"
            ],
            [
             0.2,
             "#de77ae"
            ],
            [
             0.3,
             "#f1b6da"
            ],
            [
             0.4,
             "#fde0ef"
            ],
            [
             0.5,
             "#f7f7f7"
            ],
            [
             0.6,
             "#e6f5d0"
            ],
            [
             0.7,
             "#b8e186"
            ],
            [
             0.8,
             "#7fbc41"
            ],
            [
             0.9,
             "#4d9221"
            ],
            [
             1,
             "#276419"
            ]
           ],
           "sequential": [
            [
             0,
             "#0d0887"
            ],
            [
             0.1111111111111111,
             "#46039f"
            ],
            [
             0.2222222222222222,
             "#7201a8"
            ],
            [
             0.3333333333333333,
             "#9c179e"
            ],
            [
             0.4444444444444444,
             "#bd3786"
            ],
            [
             0.5555555555555556,
             "#d8576b"
            ],
            [
             0.6666666666666666,
             "#ed7953"
            ],
            [
             0.7777777777777778,
             "#fb9f3a"
            ],
            [
             0.8888888888888888,
             "#fdca26"
            ],
            [
             1,
             "#f0f921"
            ]
           ],
           "sequentialminus": [
            [
             0,
             "#0d0887"
            ],
            [
             0.1111111111111111,
             "#46039f"
            ],
            [
             0.2222222222222222,
             "#7201a8"
            ],
            [
             0.3333333333333333,
             "#9c179e"
            ],
            [
             0.4444444444444444,
             "#bd3786"
            ],
            [
             0.5555555555555556,
             "#d8576b"
            ],
            [
             0.6666666666666666,
             "#ed7953"
            ],
            [
             0.7777777777777778,
             "#fb9f3a"
            ],
            [
             0.8888888888888888,
             "#fdca26"
            ],
            [
             1,
             "#f0f921"
            ]
           ]
          },
          "colorway": [
           "#636efa",
           "#EF553B",
           "#00cc96",
           "#ab63fa",
           "#FFA15A",
           "#19d3f3",
           "#FF6692",
           "#B6E880",
           "#FF97FF",
           "#FECB52"
          ],
          "font": {
           "color": "#2a3f5f"
          },
          "geo": {
           "bgcolor": "white",
           "lakecolor": "white",
           "landcolor": "#E5ECF6",
           "showlakes": true,
           "showland": true,
           "subunitcolor": "white"
          },
          "hoverlabel": {
           "align": "left"
          },
          "hovermode": "closest",
          "mapbox": {
           "style": "light"
          },
          "paper_bgcolor": "white",
          "plot_bgcolor": "#E5ECF6",
          "polar": {
           "angularaxis": {
            "gridcolor": "white",
            "linecolor": "white",
            "ticks": ""
           },
           "bgcolor": "#E5ECF6",
           "radialaxis": {
            "gridcolor": "white",
            "linecolor": "white",
            "ticks": ""
           }
          },
          "scene": {
           "xaxis": {
            "backgroundcolor": "#E5ECF6",
            "gridcolor": "white",
            "gridwidth": 2,
            "linecolor": "white",
            "showbackground": true,
            "ticks": "",
            "zerolinecolor": "white"
           },
           "yaxis": {
            "backgroundcolor": "#E5ECF6",
            "gridcolor": "white",
            "gridwidth": 2,
            "linecolor": "white",
            "showbackground": true,
            "ticks": "",
            "zerolinecolor": "white"
           },
           "zaxis": {
            "backgroundcolor": "#E5ECF6",
            "gridcolor": "white",
            "gridwidth": 2,
            "linecolor": "white",
            "showbackground": true,
            "ticks": "",
            "zerolinecolor": "white"
           }
          },
          "shapedefaults": {
           "line": {
            "color": "#2a3f5f"
           }
          },
          "ternary": {
           "aaxis": {
            "gridcolor": "white",
            "linecolor": "white",
            "ticks": ""
           },
           "baxis": {
            "gridcolor": "white",
            "linecolor": "white",
            "ticks": ""
           },
           "bgcolor": "#E5ECF6",
           "caxis": {
            "gridcolor": "white",
            "linecolor": "white",
            "ticks": ""
           }
          },
          "title": {
           "x": 0.05
          },
          "xaxis": {
           "automargin": true,
           "gridcolor": "white",
           "linecolor": "white",
           "ticks": "",
           "title": {
            "standoff": 15
           },
           "zerolinecolor": "white",
           "zerolinewidth": 2
          },
          "yaxis": {
           "automargin": true,
           "gridcolor": "white",
           "linecolor": "white",
           "ticks": "",
           "title": {
            "standoff": 15
           },
           "zerolinecolor": "white",
           "zerolinewidth": 2
          }
         }
        },
        "updatemenus": [
         {
          "buttons": [
           {
            "args": [
             null,
             {
              "frame": {
               "duration": 500,
               "redraw": false
              },
              "fromcurrent": true,
              "mode": "immediate",
              "transition": {
               "duration": 500,
               "easing": "linear"
              }
             }
            ],
            "label": "&#9654;",
            "method": "animate"
           },
           {
            "args": [
             [
              null
             ],
             {
              "frame": {
               "duration": 0,
               "redraw": false
              },
              "fromcurrent": true,
              "mode": "immediate",
              "transition": {
               "duration": 0,
               "easing": "linear"
              }
             }
            ],
            "label": "&#9724;",
            "method": "animate"
           }
          ],
          "direction": "left",
          "pad": {
           "r": 10,
           "t": 70
          },
          "showactive": false,
          "type": "buttons",
          "x": 0.1,
          "xanchor": "right",
          "y": 0,
          "yanchor": "top"
         }
        ],
        "xaxis": {
         "anchor": "y",
         "autorange": true,
         "domain": [
          0,
          1
         ],
         "range": [
          0.20769065206570436,
          1.2708693479342956
         ],
         "title": {
          "text": "GDPperCapita"
         },
         "type": "linear"
        },
        "yaxis": {
         "anchor": "x",
         "autorange": true,
         "domain": [
          0,
          1
         ],
         "range": [
          4.312488042947779,
          7.431511957052221
         ],
         "title": {
          "text": "Score"
         },
         "type": "linear"
        }
       }
      },
      "image/png": "[encoded data removed]",
      "text/html": [
       "<div>\n",
       "        \n",
       "        \n",
       "            <div id=\"fe94c447-1149-408f-83a4-92732afd5089\" class=\"plotly-graph-div\" style=\"height:525px; width:100%;\"></div>\n",
       "            <script type=\"text/javascript\">\n",
       "                require([\"plotly\"], function(Plotly) {\n",
       "                    window.PLOTLYENV=window.PLOTLYENV || {};\n",
       "                    \n",
       "                if (document.getElementById(\"fe94c447-1149-408f-83a4-92732afd5089\")) {\n",
       "                    Plotly.newPlot(\n",
       "                        'fe94c447-1149-408f-83a4-92732afd5089',\n",
       "                        [{\"hovertemplate\": \"<b>%{hovertext}</b><br><br>Country=Costa Rica<br>year=2015<br>GDPperCapita=%{x}<br>Score=%{y}<extra></extra>\", \"hovertext\": [\"Costa Rica\"], \"ids\": [\"Costa Rica\"], \"legendgroup\": \"Costa Rica\", \"marker\": {\"color\": \"#636efa\", \"symbol\": \"circle\"}, \"mode\": \"markers\", \"name\": \"Costa Rica\", \"showlegend\": true, \"type\": \"scatter\", \"x\": [0.95578], \"xaxis\": \"x\", \"y\": [7.226], \"yaxis\": \"y\"}, {\"hovertemplate\": \"<b>%{hovertext}</b><br><br>Country=Mexico<br>year=2015<br>GDPperCapita=%{x}<br>Score=%{y}<extra></extra>\", \"hovertext\": [\"Mexico\"], \"ids\": [\"Mexico\"], \"legendgroup\": \"Mexico\", \"marker\": {\"color\": \"#EF553B\", \"symbol\": \"circle\"}, \"mode\": \"markers\", \"name\": \"Mexico\", \"showlegend\": true, \"type\": \"scatter\", \"x\": [1.02054], \"xaxis\": \"x\", \"y\": [7.187], \"yaxis\": \"y\"}, {\"hovertemplate\": \"<b>%{hovertext}</b><br><br>Country=Brazil<br>year=2015<br>GDPperCapita=%{x}<br>Score=%{y}<extra></extra>\", \"hovertext\": [\"Brazil\"], \"ids\": [\"Brazil\"], \"legendgroup\": \"Brazil\", \"marker\": {\"color\": \"#00cc96\", \"symbol\": \"circle\"}, \"mode\": \"markers\", \"name\": \"Brazil\", \"showlegend\": true, \"type\": \"scatter\", \"x\": [0.98124], \"xaxis\": \"x\", \"y\": [6.983], \"yaxis\": \"y\"}, {\"hovertemplate\": \"<b>%{hovertext}</b><br><br>Country=Venezuela<br>year=2015<br>GDPperCapita=%{x}<br>Score=%{y}<extra></extra>\", \"hovertext\": [\"Venezuela\"], \"ids\": [\"Venezuela\"], \"legendgroup\": \"Venezuela\", \"marker\": {\"color\": \"#ab63fa\", \"symbol\": \"circle\"}, \"mode\": \"markers\", \"name\": \"Venezuela\", \"showlegend\": true, \"type\": \"scatter\", \"x\": [1.04424], \"xaxis\": \"x\", \"y\": [6.81], \"yaxis\": \"y\"}, {\"hovertemplate\": \"<b>%{hovertext}</b><br><br>Country=Panama<br>year=2015<br>GDPperCapita=%{x}<br>Score=%{y}<extra></extra>\", \"hovertext\": [\"Panama\"], \"ids\": [\"Panama\"], \"legendgroup\": \"Panama\", \"marker\": {\"color\": \"#FFA15A\", \"symbol\": \"circle\"}, \"mode\": \"markers\", \"name\": \"Panama\", \"showlegend\": true, \"type\": \"scatter\", \"x\": [1.0635299999999999], \"xaxis\": \"x\", \"y\": [6.7860000000000005], \"yaxis\": \"y\"}, {\"hovertemplate\": \"<b>%{hovertext}</b><br><br>Country=Chile<br>year=2015<br>GDPperCapita=%{x}<br>Score=%{y}<extra></extra>\", \"hovertext\": [\"Chile\"], \"ids\": [\"Chile\"], \"legendgroup\": \"Chile\", \"marker\": {\"color\": \"#19d3f3\", \"symbol\": \"circle\"}, \"mode\": \"markers\", \"name\": \"Chile\", \"showlegend\": true, \"type\": \"scatter\", \"x\": [1.10715], \"xaxis\": \"x\", \"y\": [6.67], \"yaxis\": \"y\"}, {\"hovertemplate\": \"<b>%{hovertext}</b><br><br>Country=Argentina<br>year=2015<br>GDPperCapita=%{x}<br>Score=%{y}<extra></extra>\", \"hovertext\": [\"Argentina\"], \"ids\": [\"Argentina\"], \"legendgroup\": \"Argentina\", \"marker\": {\"color\": \"#FF6692\", \"symbol\": \"circle\"}, \"mode\": \"markers\", \"name\": \"Argentina\", \"showlegend\": true, \"type\": \"scatter\", \"x\": [1.05351], \"xaxis\": \"x\", \"y\": [6.574], \"yaxis\": \"y\"}, {\"hovertemplate\": \"<b>%{hovertext}</b><br><br>Country=Uruguay<br>year=2015<br>GDPperCapita=%{x}<br>Score=%{y}<extra></extra>\", \"hovertext\": [\"Uruguay\"], \"ids\": [\"Uruguay\"], \"legendgroup\": \"Uruguay\", \"marker\": {\"color\": \"#B6E880\", \"symbol\": \"circle\"}, \"mode\": \"markers\", \"name\": \"Uruguay\", \"showlegend\": true, \"type\": \"scatter\", \"x\": [1.06166], \"xaxis\": \"x\", \"y\": [6.485], \"yaxis\": \"y\"}, {\"hovertemplate\": \"<b>%{hovertext}</b><br><br>Country=Colombia<br>year=2015<br>GDPperCapita=%{x}<br>Score=%{y}<extra></extra>\", \"hovertext\": [\"Colombia\"], \"ids\": [\"Colombia\"], \"legendgroup\": \"Colombia\", \"marker\": {\"color\": \"#FF97FF\", \"symbol\": \"circle\"}, \"mode\": \"markers\", \"name\": \"Colombia\", \"showlegend\": true, \"type\": \"scatter\", \"x\": [0.91861], \"xaxis\": \"x\", \"y\": [6.477], \"yaxis\": \"y\"}, {\"hovertemplate\": \"<b>%{hovertext}</b><br><br>Country=Suriname<br>year=2015<br>GDPperCapita=%{x}<br>Score=%{y}<extra></extra>\", \"hovertext\": [\"Suriname\"], \"ids\": [\"Suriname\"], \"legendgroup\": \"Suriname\", \"marker\": {\"color\": \"#FECB52\", \"symbol\": \"circle\"}, \"mode\": \"markers\", \"name\": \"Suriname\", \"showlegend\": true, \"type\": \"scatter\", \"x\": [0.99534], \"xaxis\": \"x\", \"y\": [6.269], \"yaxis\": \"y\"}, {\"hovertemplate\": \"<b>%{hovertext}</b><br><br>Country=Trinidad and Tobago<br>year=2015<br>GDPperCapita=%{x}<br>Score=%{y}<extra></extra>\", \"hovertext\": [\"Trinidad and Tobago\"], \"ids\": [\"Trinidad and Tobago\"], \"legendgroup\": \"Trinidad and Tobago\", \"marker\": {\"color\": \"#636efa\", \"symbol\": \"circle\"}, \"mode\": \"markers\", \"name\": \"Trinidad and Tobago\", \"showlegend\": true, \"type\": \"scatter\", \"x\": [1.21183], \"xaxis\": \"x\", \"y\": [6.167999999999999], \"yaxis\": \"y\"}, {\"hovertemplate\": \"<b>%{hovertext}</b><br><br>Country=El Salvador<br>year=2015<br>GDPperCapita=%{x}<br>Score=%{y}<extra></extra>\", \"hovertext\": [\"El Salvador\"], \"ids\": [\"El Salvador\"], \"legendgroup\": \"El Salvador\", \"marker\": {\"color\": \"#EF553B\", \"symbol\": \"circle\"}, \"mode\": \"markers\", \"name\": \"El Salvador\", \"showlegend\": true, \"type\": \"scatter\", \"x\": [0.76454], \"xaxis\": \"x\", \"y\": [6.13], \"yaxis\": \"y\"}, {\"hovertemplate\": \"<b>%{hovertext}</b><br><br>Country=Guatemala<br>year=2015<br>GDPperCapita=%{x}<br>Score=%{y}<extra></extra>\", \"hovertext\": [\"Guatemala\"], \"ids\": [\"Guatemala\"], \"legendgroup\": \"Guatemala\", \"marker\": {\"color\": \"#00cc96\", \"symbol\": \"circle\"}, \"mode\": \"markers\", \"name\": \"Guatemala\", \"showlegend\": true, \"type\": \"scatter\", \"x\": [0.74553], \"xaxis\": \"x\", \"y\": [6.122999999999999], \"yaxis\": \"y\"}, {\"hovertemplate\": \"<b>%{hovertext}</b><br><br>Country=Ecuador<br>year=2015<br>GDPperCapita=%{x}<br>Score=%{y}<extra></extra>\", \"hovertext\": [\"Ecuador\"], \"ids\": [\"Ecuador\"], \"legendgroup\": \"Ecuador\", \"marker\": {\"color\": \"#ab63fa\", \"symbol\": \"circle\"}, \"mode\": \"markers\", \"name\": \"Ecuador\", \"showlegend\": true, \"type\": \"scatter\", \"x\": [0.8640200000000001], \"xaxis\": \"x\", \"y\": [5.975], \"yaxis\": \"y\"}, {\"hovertemplate\": \"<b>%{hovertext}</b><br><br>Country=Bolivia<br>year=2015<br>GDPperCapita=%{x}<br>Score=%{y}<extra></extra>\", \"hovertext\": [\"Bolivia\"], \"ids\": [\"Bolivia\"], \"legendgroup\": \"Bolivia\", \"marker\": {\"color\": \"#FFA15A\", \"symbol\": \"circle\"}, \"mode\": \"markers\", \"name\": \"Bolivia\", \"showlegend\": true, \"type\": \"scatter\", \"x\": [0.68133], \"xaxis\": \"x\", \"y\": [5.89], \"yaxis\": \"y\"}, {\"hovertemplate\": \"<b>%{hovertext}</b><br><br>Country=Paraguay<br>year=2015<br>GDPperCapita=%{x}<br>Score=%{y}<extra></extra>\", \"hovertext\": [\"Paraguay\"], \"ids\": [\"Paraguay\"], \"legendgroup\": \"Paraguay\", \"marker\": {\"color\": \"#19d3f3\", \"symbol\": \"circle\"}, \"mode\": \"markers\", \"name\": \"Paraguay\", \"showlegend\": true, \"type\": \"scatter\", \"x\": [0.75985], \"xaxis\": \"x\", \"y\": [5.877999999999999], \"yaxis\": \"y\"}, {\"hovertemplate\": \"<b>%{hovertext}</b><br><br>Country=Nicaragua<br>year=2015<br>GDPperCapita=%{x}<br>Score=%{y}<extra></extra>\", \"hovertext\": [\"Nicaragua\"], \"ids\": [\"Nicaragua\"], \"legendgroup\": \"Nicaragua\", \"marker\": {\"color\": \"#FF6692\", \"symbol\": \"circle\"}, \"mode\": \"markers\", \"name\": \"Nicaragua\", \"showlegend\": true, \"type\": \"scatter\", \"x\": [0.59325], \"xaxis\": \"x\", \"y\": [5.827999999999999], \"yaxis\": \"y\"}, {\"hovertemplate\": \"<b>%{hovertext}</b><br><br>Country=Peru<br>year=2015<br>GDPperCapita=%{x}<br>Score=%{y}<extra></extra>\", \"hovertext\": [\"Peru\"], \"ids\": [\"Peru\"], \"legendgroup\": \"Peru\", \"marker\": {\"color\": \"#B6E880\", \"symbol\": \"circle\"}, \"mode\": \"markers\", \"name\": \"Peru\", \"showlegend\": true, \"type\": \"scatter\", \"x\": [0.9001899999999999], \"xaxis\": \"x\", \"y\": [5.824], \"yaxis\": \"y\"}, {\"hovertemplate\": \"<b>%{hovertext}</b><br><br>Country=Jamaica<br>year=2015<br>GDPperCapita=%{x}<br>Score=%{y}<extra></extra>\", \"hovertext\": [\"Jamaica\"], \"ids\": [\"Jamaica\"], \"legendgroup\": \"Jamaica\", \"marker\": {\"color\": \"#FF97FF\", \"symbol\": \"circle\"}, \"mode\": \"markers\", \"name\": \"Jamaica\", \"showlegend\": true, \"type\": \"scatter\", \"x\": [0.81038], \"xaxis\": \"x\", \"y\": [5.709], \"yaxis\": \"y\"}, {\"hovertemplate\": \"<b>%{hovertext}</b><br><br>Country=Dominican Republic<br>year=2015<br>GDPperCapita=%{x}<br>Score=%{y}<extra></extra>\", \"hovertext\": [\"Dominican Republic\"], \"ids\": [\"Dominican Republic\"], \"legendgroup\": \"Dominican Republic\", \"marker\": {\"color\": \"#FECB52\", \"symbol\": \"circle\"}, \"mode\": \"markers\", \"name\": \"Dominican Republic\", \"showlegend\": true, \"type\": \"scatter\", \"x\": [0.8953700000000001], \"xaxis\": \"x\", \"y\": [4.885], \"yaxis\": \"y\"}, {\"hovertemplate\": \"<b>%{hovertext}</b><br><br>Country=Honduras<br>year=2015<br>GDPperCapita=%{x}<br>Score=%{y}<extra></extra>\", \"hovertext\": [\"Honduras\"], \"ids\": [\"Honduras\"], \"legendgroup\": \"Honduras\", \"marker\": {\"color\": \"#636efa\", \"symbol\": \"circle\"}, \"mode\": \"markers\", \"name\": \"Honduras\", \"showlegend\": true, \"type\": \"scatter\", \"x\": [0.59532], \"xaxis\": \"x\", \"y\": [4.788], \"yaxis\": \"y\"}, {\"hovertemplate\": \"<b>%{hovertext}</b><br><br>Country=Haiti<br>year=2015<br>GDPperCapita=%{x}<br>Score=%{y}<extra></extra>\", \"hovertext\": [\"Haiti\"], \"ids\": [\"Haiti\"], \"legendgroup\": \"Haiti\", \"marker\": {\"color\": \"#EF553B\", \"symbol\": \"circle\"}, \"mode\": \"markers\", \"name\": \"Haiti\", \"showlegend\": true, \"type\": \"scatter\", \"x\": [0.26673], \"xaxis\": \"x\", \"y\": [4.518], \"yaxis\": \"y\"}],\n",
       "                        {\"legend\": {\"title\": {\"text\": \"Country\"}, \"tracegroupgap\": 0}, \"margin\": {\"t\": 60}, \"sliders\": [{\"active\": 0, \"currentvalue\": {\"prefix\": \"year=\"}, \"len\": 0.9, \"pad\": {\"b\": 10, \"t\": 60}, \"steps\": [{\"args\": [[\"2015\"], {\"frame\": {\"duration\": 0, \"redraw\": false}, \"fromcurrent\": true, \"mode\": \"immediate\", \"transition\": {\"duration\": 0, \"easing\": \"linear\"}}], \"label\": \"2015\", \"method\": \"animate\"}, {\"args\": [[\"2016\"], {\"frame\": {\"duration\": 0, \"redraw\": false}, \"fromcurrent\": true, \"mode\": \"immediate\", \"transition\": {\"duration\": 0, \"easing\": \"linear\"}}], \"label\": \"2016\", \"method\": \"animate\"}, {\"args\": [[\"2017\"], {\"frame\": {\"duration\": 0, \"redraw\": false}, \"fromcurrent\": true, \"mode\": \"immediate\", \"transition\": {\"duration\": 0, \"easing\": \"linear\"}}], \"label\": \"2017\", \"method\": \"animate\"}, {\"args\": [[\"2018\"], {\"frame\": {\"duration\": 0, \"redraw\": false}, \"fromcurrent\": true, \"mode\": \"immediate\", \"transition\": {\"duration\": 0, \"easing\": \"linear\"}}], \"label\": \"2018\", \"method\": \"animate\"}, {\"args\": [[\"2019\"], {\"frame\": {\"duration\": 0, \"redraw\": false}, \"fromcurrent\": true, \"mode\": \"immediate\", \"transition\": {\"duration\": 0, \"easing\": \"linear\"}}], \"label\": \"2019\", \"method\": \"animate\"}], \"x\": 0.1, \"xanchor\": \"left\", \"y\": 0, \"yanchor\": \"top\"}], \"template\": {\"data\": {\"bar\": [{\"error_x\": {\"color\": \"#2a3f5f\"}, \"error_y\": {\"color\": \"#2a3f5f\"}, \"marker\": {\"line\": {\"color\": \"#E5ECF6\", \"width\": 0.5}}, \"type\": \"bar\"}], \"barpolar\": [{\"marker\": {\"line\": {\"color\": \"#E5ECF6\", \"width\": 0.5}}, \"type\": \"barpolar\"}], \"carpet\": [{\"aaxis\": {\"endlinecolor\": \"#2a3f5f\", \"gridcolor\": \"white\", \"linecolor\": \"white\", \"minorgridcolor\": \"white\", \"startlinecolor\": \"#2a3f5f\"}, \"baxis\": {\"endlinecolor\": \"#2a3f5f\", \"gridcolor\": \"white\", \"linecolor\": \"white\", \"minorgridcolor\": \"white\", \"startlinecolor\": \"#2a3f5f\"}, \"type\": \"carpet\"}], \"choropleth\": [{\"colorbar\": {\"outlinewidth\": 0, \"ticks\": \"\"}, \"type\": \"choropleth\"}], \"contour\": [{\"colorbar\": {\"outlinewidth\": 0, \"ticks\": \"\"}, \"colorscale\": [[0.0, \"#0d0887\"], [0.1111111111111111, \"#46039f\"], [0.2222222222222222, \"#7201a8\"], [0.3333333333333333, \"#9c179e\"], [0.4444444444444444, \"#bd3786\"], [0.5555555555555556, \"#d8576b\"], [0.6666666666666666, \"#ed7953\"], [0.7777777777777778, \"#fb9f3a\"], [0.8888888888888888, \"#fdca26\"], [1.0, \"#f0f921\"]], \"type\": \"contour\"}], \"contourcarpet\": [{\"colorbar\": {\"outlinewidth\": 0, \"ticks\": \"\"}, \"type\": \"contourcarpet\"}], \"heatmap\": [{\"colorbar\": {\"outlinewidth\": 0, \"ticks\": \"\"}, \"colorscale\": [[0.0, \"#0d0887\"], [0.1111111111111111, \"#46039f\"], [0.2222222222222222, \"#7201a8\"], [0.3333333333333333, \"#9c179e\"], [0.4444444444444444, \"#bd3786\"], [0.5555555555555556, \"#d8576b\"], [0.6666666666666666, \"#ed7953\"], [0.7777777777777778, \"#fb9f3a\"], [0.8888888888888888, \"#fdca26\"], [1.0, \"#f0f921\"]], \"type\": \"heatmap\"}], \"heatmapgl\": [{\"colorbar\": {\"outlinewidth\": 0, \"ticks\": \"\"}, \"colorscale\": [[0.0, \"#0d0887\"], [0.1111111111111111, \"#46039f\"], [0.2222222222222222, \"#7201a8\"], [0.3333333333333333, \"#9c179e\"], [0.4444444444444444, \"#bd3786\"], [0.5555555555555556, \"#d8576b\"], [0.6666666666666666, \"#ed7953\"], [0.7777777777777778, \"#fb9f3a\"], [0.8888888888888888, \"#fdca26\"], [1.0, \"#f0f921\"]], \"type\": \"heatmapgl\"}], \"histogram\": [{\"marker\": {\"colorbar\": {\"outlinewidth\": 0, \"ticks\": \"\"}}, \"type\": \"histogram\"}], \"histogram2d\": [{\"colorbar\": {\"outlinewidth\": 0, \"ticks\": \"\"}, \"colorscale\": [[0.0, \"#0d0887\"], [0.1111111111111111, \"#46039f\"], [0.2222222222222222, \"#7201a8\"], [0.3333333333333333, \"#9c179e\"], [0.4444444444444444, \"#bd3786\"], [0.5555555555555556, \"#d8576b\"], [0.6666666666666666, \"#ed7953\"], [0.7777777777777778, \"#fb9f3a\"], [0.8888888888888888, \"#fdca26\"], [1.0, \"#f0f921\"]], \"type\": \"histogram2d\"}], \"histogram2dcontour\": [{\"colorbar\": {\"outlinewidth\": 0, \"ticks\": \"\"}, \"colorscale\": [[0.0, \"#0d0887\"], [0.1111111111111111, \"#46039f\"], [0.2222222222222222, \"#7201a8\"], [0.3333333333333333, \"#9c179e\"], [0.4444444444444444, \"#bd3786\"], [0.5555555555555556, \"#d8576b\"], [0.6666666666666666, \"#ed7953\"], [0.7777777777777778, \"#fb9f3a\"], [0.8888888888888888, \"#fdca26\"], [1.0, \"#f0f921\"]], \"type\": \"histogram2dcontour\"}], \"mesh3d\": [{\"colorbar\": {\"outlinewidth\": 0, \"ticks\": \"\"}, \"type\": \"mesh3d\"}], \"parcoords\": [{\"line\": {\"colorbar\": {\"outlinewidth\": 0, \"ticks\": \"\"}}, \"type\": \"parcoords\"}], \"pie\": [{\"automargin\": true, \"type\": \"pie\"}], \"scatter\": [{\"marker\": {\"colorbar\": {\"outlinewidth\": 0, \"ticks\": \"\"}}, \"type\": \"scatter\"}], \"scatter3d\": [{\"line\": {\"colorbar\": {\"outlinewidth\": 0, \"ticks\": \"\"}}, \"marker\": {\"colorbar\": {\"outlinewidth\": 0, \"ticks\": \"\"}}, \"type\": \"scatter3d\"}], \"scattercarpet\": [{\"marker\": {\"colorbar\": {\"outlinewidth\": 0, \"ticks\": \"\"}}, \"type\": \"scattercarpet\"}], \"scattergeo\": [{\"marker\": {\"colorbar\": {\"outlinewidth\": 0, \"ticks\": \"\"}}, \"type\": \"scattergeo\"}], \"scattergl\": [{\"marker\": {\"colorbar\": {\"outlinewidth\": 0, \"ticks\": \"\"}}, \"type\": \"scattergl\"}], \"scattermapbox\": [{\"marker\": {\"colorbar\": {\"outlinewidth\": 0, \"ticks\": \"\"}}, \"type\": \"scattermapbox\"}], \"scatterpolar\": [{\"marker\": {\"colorbar\": {\"outlinewidth\": 0, \"ticks\": \"\"}}, \"type\": \"scatterpolar\"}], \"scatterpolargl\": [{\"marker\": {\"colorbar\": {\"outlinewidth\": 0, \"ticks\": \"\"}}, \"type\": \"scatterpolargl\"}], \"scatterternary\": [{\"marker\": {\"colorbar\": {\"outlinewidth\": 0, \"ticks\": \"\"}}, \"type\": \"scatterternary\"}], \"surface\": [{\"colorbar\": {\"outlinewidth\": 0, \"ticks\": \"\"}, \"colorscale\": [[0.0, \"#0d0887\"], [0.1111111111111111, \"#46039f\"], [0.2222222222222222, \"#7201a8\"], [0.3333333333333333, \"#9c179e\"], [0.4444444444444444, \"#bd3786\"], [0.5555555555555556, \"#d8576b\"], [0.6666666666666666, \"#ed7953\"], [0.7777777777777778, \"#fb9f3a\"], [0.8888888888888888, \"#fdca26\"], [1.0, \"#f0f921\"]], \"type\": \"surface\"}], \"table\": [{\"cells\": {\"fill\": {\"color\": \"#EBF0F8\"}, \"line\": {\"color\": \"white\"}}, \"header\": {\"fill\": {\"color\": \"#C8D4E3\"}, \"line\": {\"color\": \"white\"}}, \"type\": \"table\"}]}, \"layout\": {\"annotationdefaults\": {\"arrowcolor\": \"#2a3f5f\", \"arrowhead\": 0, \"arrowwidth\": 1}, \"coloraxis\": {\"colorbar\": {\"outlinewidth\": 0, \"ticks\": \"\"}}, \"colorscale\": {\"diverging\": [[0, \"#8e0152\"], [0.1, \"#c51b7d\"], [0.2, \"#de77ae\"], [0.3, \"#f1b6da\"], [0.4, \"#fde0ef\"], [0.5, \"#f7f7f7\"], [0.6, \"#e6f5d0\"], [0.7, \"#b8e186\"], [0.8, \"#7fbc41\"], [0.9, \"#4d9221\"], [1, \"#276419\"]], \"sequential\": [[0.0, \"#0d0887\"], [0.1111111111111111, \"#46039f\"], [0.2222222222222222, \"#7201a8\"], [0.3333333333333333, \"#9c179e\"], [0.4444444444444444, \"#bd3786\"], [0.5555555555555556, \"#d8576b\"], [0.6666666666666666, \"#ed7953\"], [0.7777777777777778, \"#fb9f3a\"], [0.8888888888888888, \"#fdca26\"], [1.0, \"#f0f921\"]], \"sequentialminus\": [[0.0, \"#0d0887\"], [0.1111111111111111, \"#46039f\"], [0.2222222222222222, \"#7201a8\"], [0.3333333333333333, \"#9c179e\"], [0.4444444444444444, \"#bd3786\"], [0.5555555555555556, \"#d8576b\"], [0.6666666666666666, \"#ed7953\"], [0.7777777777777778, \"#fb9f3a\"], [0.8888888888888888, \"#fdca26\"], [1.0, \"#f0f921\"]]}, \"colorway\": [\"#636efa\", \"#EF553B\", \"#00cc96\", \"#ab63fa\", \"#FFA15A\", \"#19d3f3\", \"#FF6692\", \"#B6E880\", \"#FF97FF\", \"#FECB52\"], \"font\": {\"color\": \"#2a3f5f\"}, \"geo\": {\"bgcolor\": \"white\", \"lakecolor\": \"white\", \"landcolor\": \"#E5ECF6\", \"showlakes\": true, \"showland\": true, \"subunitcolor\": \"white\"}, \"hoverlabel\": {\"align\": \"left\"}, \"hovermode\": \"closest\", \"mapbox\": {\"style\": \"light\"}, \"paper_bgcolor\": \"white\", \"plot_bgcolor\": \"#E5ECF6\", \"polar\": {\"angularaxis\": {\"gridcolor\": \"white\", \"linecolor\": \"white\", \"ticks\": \"\"}, \"bgcolor\": \"#E5ECF6\", \"radialaxis\": {\"gridcolor\": \"white\", \"linecolor\": \"white\", \"ticks\": \"\"}}, \"scene\": {\"xaxis\": {\"backgroundcolor\": \"#E5ECF6\", \"gridcolor\": \"white\", \"gridwidth\": 2, \"linecolor\": \"white\", \"showbackground\": true, \"ticks\": \"\", \"zerolinecolor\": \"white\"}, \"yaxis\": {\"backgroundcolor\": \"#E5ECF6\", \"gridcolor\": \"white\", \"gridwidth\": 2, \"linecolor\": \"white\", \"showbackground\": true, \"ticks\": \"\", \"zerolinecolor\": \"white\"}, \"zaxis\": {\"backgroundcolor\": \"#E5ECF6\", \"gridcolor\": \"white\", \"gridwidth\": 2, \"linecolor\": \"white\", \"showbackground\": true, \"ticks\": \"\", \"zerolinecolor\": \"white\"}}, \"shapedefaults\": {\"line\": {\"color\": \"#2a3f5f\"}}, \"ternary\": {\"aaxis\": {\"gridcolor\": \"white\", \"linecolor\": \"white\", \"ticks\": \"\"}, \"baxis\": {\"gridcolor\": \"white\", \"linecolor\": \"white\", \"ticks\": \"\"}, \"bgcolor\": \"#E5ECF6\", \"caxis\": {\"gridcolor\": \"white\", \"linecolor\": \"white\", \"ticks\": \"\"}}, \"title\": {\"x\": 0.05}, \"xaxis\": {\"automargin\": true, \"gridcolor\": \"white\", \"linecolor\": \"white\", \"ticks\": \"\", \"title\": {\"standoff\": 15}, \"zerolinecolor\": \"white\", \"zerolinewidth\": 2}, \"yaxis\": {\"automargin\": true, \"gridcolor\": \"white\", \"linecolor\": \"white\", \"ticks\": \"\", \"title\": {\"standoff\": 15}, \"zerolinecolor\": \"white\", \"zerolinewidth\": 2}}}, \"updatemenus\": [{\"buttons\": [{\"args\": [null, {\"frame\": {\"duration\": 500, \"redraw\": false}, \"fromcurrent\": true, \"mode\": \"immediate\", \"transition\": {\"duration\": 500, \"easing\": \"linear\"}}], \"label\": \"&#9654;\", \"method\": \"animate\"}, {\"args\": [[null], {\"frame\": {\"duration\": 0, \"redraw\": false}, \"fromcurrent\": true, \"mode\": \"immediate\", \"transition\": {\"duration\": 0, \"easing\": \"linear\"}}], \"label\": \"&#9724;\", \"method\": \"animate\"}], \"direction\": \"left\", \"pad\": {\"r\": 10, \"t\": 70}, \"showactive\": false, \"type\": \"buttons\", \"x\": 0.1, \"xanchor\": \"right\", \"y\": 0, \"yanchor\": \"top\"}], \"xaxis\": {\"anchor\": \"y\", \"domain\": [0.0, 1.0], \"title\": {\"text\": \"GDPperCapita\"}}, \"yaxis\": {\"anchor\": \"x\", \"domain\": [0.0, 1.0], \"title\": {\"text\": \"Score\"}}},\n",
       "                        {\"responsive\": true}\n",
       "                    ).then(function(){\n",
       "                            Plotly.addFrames('fe94c447-1149-408f-83a4-92732afd5089', [{\"data\": [{\"hovertemplate\": \"<b>%{hovertext}</b><br><br>Country=Costa Rica<br>year=2015<br>GDPperCapita=%{x}<br>Score=%{y}<extra></extra>\", \"hovertext\": [\"Costa Rica\"], \"ids\": [\"Costa Rica\"], \"legendgroup\": \"Costa Rica\", \"marker\": {\"color\": \"#636efa\", \"symbol\": \"circle\"}, \"mode\": \"markers\", \"name\": \"Costa Rica\", \"showlegend\": true, \"x\": [0.95578], \"xaxis\": \"x\", \"y\": [7.226], \"yaxis\": \"y\", \"type\": \"scatter\"}, {\"hovertemplate\": \"<b>%{hovertext}</b><br><br>Country=Mexico<br>year=2015<br>GDPperCapita=%{x}<br>Score=%{y}<extra></extra>\", \"hovertext\": [\"Mexico\"], \"ids\": [\"Mexico\"], \"legendgroup\": \"Mexico\", \"marker\": {\"color\": \"#EF553B\", \"symbol\": \"circle\"}, \"mode\": \"markers\", \"name\": \"Mexico\", \"showlegend\": true, \"x\": [1.02054], \"xaxis\": \"x\", \"y\": [7.187], \"yaxis\": \"y\", \"type\": \"scatter\"}, {\"hovertemplate\": \"<b>%{hovertext}</b><br><br>Country=Brazil<br>year=2015<br>GDPperCapita=%{x}<br>Score=%{y}<extra></extra>\", \"hovertext\": [\"Brazil\"], \"ids\": [\"Brazil\"], \"legendgroup\": \"Brazil\", \"marker\": {\"color\": \"#00cc96\", \"symbol\": \"circle\"}, \"mode\": \"markers\", \"name\": \"Brazil\", \"showlegend\": true, \"x\": [0.98124], \"xaxis\": \"x\", \"y\": [6.983], \"yaxis\": \"y\", \"type\": \"scatter\"}, {\"hovertemplate\": \"<b>%{hovertext}</b><br><br>Country=Venezuela<br>year=2015<br>GDPperCapita=%{x}<br>Score=%{y}<extra></extra>\", \"hovertext\": [\"Venezuela\"], \"ids\": [\"Venezuela\"], \"legendgroup\": \"Venezuela\", \"marker\": {\"color\": \"#ab63fa\", \"symbol\": \"circle\"}, \"mode\": \"markers\", \"name\": \"Venezuela\", \"showlegend\": true, \"x\": [1.04424], \"xaxis\": \"x\", \"y\": [6.81], \"yaxis\": \"y\", \"type\": \"scatter\"}, {\"hovertemplate\": \"<b>%{hovertext}</b><br><br>Country=Panama<br>year=2015<br>GDPperCapita=%{x}<br>Score=%{y}<extra></extra>\", \"hovertext\": [\"Panama\"], \"ids\": [\"Panama\"], \"legendgroup\": \"Panama\", \"marker\": {\"color\": \"#FFA15A\", \"symbol\": \"circle\"}, \"mode\": \"markers\", \"name\": \"Panama\", \"showlegend\": true, \"x\": [1.0635299999999999], \"xaxis\": \"x\", \"y\": [6.7860000000000005], \"yaxis\": \"y\", \"type\": \"scatter\"}, {\"hovertemplate\": \"<b>%{hovertext}</b><br><br>Country=Chile<br>year=2015<br>GDPperCapita=%{x}<br>Score=%{y}<extra></extra>\", \"hovertext\": [\"Chile\"], \"ids\": [\"Chile\"], \"legendgroup\": \"Chile\", \"marker\": {\"color\": \"#19d3f3\", \"symbol\": \"circle\"}, \"mode\": \"markers\", \"name\": \"Chile\", \"showlegend\": true, \"x\": [1.10715], \"xaxis\": \"x\", \"y\": [6.67], \"yaxis\": \"y\", \"type\": \"scatter\"}, {\"hovertemplate\": \"<b>%{hovertext}</b><br><br>Country=Argentina<br>year=2015<br>GDPperCapita=%{x}<br>Score=%{y}<extra></extra>\", \"hovertext\": [\"Argentina\"], \"ids\": [\"Argentina\"], \"legendgroup\": \"Argentina\", \"marker\": {\"color\": \"#FF6692\", \"symbol\": \"circle\"}, \"mode\": \"markers\", \"name\": \"Argentina\", \"showlegend\": true, \"x\": [1.05351], \"xaxis\": \"x\", \"y\": [6.574], \"yaxis\": \"y\", \"type\": \"scatter\"}, {\"hovertemplate\": \"<b>%{hovertext}</b><br><br>Country=Uruguay<br>year=2015<br>GDPperCapita=%{x}<br>Score=%{y}<extra></extra>\", \"hovertext\": [\"Uruguay\"], \"ids\": [\"Uruguay\"], \"legendgroup\": \"Uruguay\", \"marker\": {\"color\": \"#B6E880\", \"symbol\": \"circle\"}, \"mode\": \"markers\", \"name\": \"Uruguay\", \"showlegend\": true, \"x\": [1.06166], \"xaxis\": \"x\", \"y\": [6.485], \"yaxis\": \"y\", \"type\": \"scatter\"}, {\"hovertemplate\": \"<b>%{hovertext}</b><br><br>Country=Colombia<br>year=2015<br>GDPperCapita=%{x}<br>Score=%{y}<extra></extra>\", \"hovertext\": [\"Colombia\"], \"ids\": [\"Colombia\"], \"legendgroup\": \"Colombia\", \"marker\": {\"color\": \"#FF97FF\", \"symbol\": \"circle\"}, \"mode\": \"markers\", \"name\": \"Colombia\", \"showlegend\": true, \"x\": [0.91861], \"xaxis\": \"x\", \"y\": [6.477], \"yaxis\": \"y\", \"type\": \"scatter\"}, {\"hovertemplate\": \"<b>%{hovertext}</b><br><br>Country=Suriname<br>year=2015<br>GDPperCapita=%{x}<br>Score=%{y}<extra></extra>\", \"hovertext\": [\"Suriname\"], \"ids\": [\"Suriname\"], \"legendgroup\": \"Suriname\", \"marker\": {\"color\": \"#FECB52\", \"symbol\": \"circle\"}, \"mode\": \"markers\", \"name\": \"Suriname\", \"showlegend\": true, \"x\": [0.99534], \"xaxis\": \"x\", \"y\": [6.269], \"yaxis\": \"y\", \"type\": \"scatter\"}, {\"hovertemplate\": \"<b>%{hovertext}</b><br><br>Country=Trinidad and Tobago<br>year=2015<br>GDPperCapita=%{x}<br>Score=%{y}<extra></extra>\", \"hovertext\": [\"Trinidad and Tobago\"], \"ids\": [\"Trinidad and Tobago\"], \"legendgroup\": \"Trinidad and Tobago\", \"marker\": {\"color\": \"#636efa\", \"symbol\": \"circle\"}, \"mode\": \"markers\", \"name\": \"Trinidad and Tobago\", \"showlegend\": true, \"x\": [1.21183], \"xaxis\": \"x\", \"y\": [6.167999999999999], \"yaxis\": \"y\", \"type\": \"scatter\"}, {\"hovertemplate\": \"<b>%{hovertext}</b><br><br>Country=El Salvador<br>year=2015<br>GDPperCapita=%{x}<br>Score=%{y}<extra></extra>\", \"hovertext\": [\"El Salvador\"], \"ids\": [\"El Salvador\"], \"legendgroup\": \"El Salvador\", \"marker\": {\"color\": \"#EF553B\", \"symbol\": \"circle\"}, \"mode\": \"markers\", \"name\": \"El Salvador\", \"showlegend\": true, \"x\": [0.76454], \"xaxis\": \"x\", \"y\": [6.13], \"yaxis\": \"y\", \"type\": \"scatter\"}, {\"hovertemplate\": \"<b>%{hovertext}</b><br><br>Country=Guatemala<br>year=2015<br>GDPperCapita=%{x}<br>Score=%{y}<extra></extra>\", \"hovertext\": [\"Guatemala\"], \"ids\": [\"Guatemala\"], \"legendgroup\": \"Guatemala\", \"marker\": {\"color\": \"#00cc96\", \"symbol\": \"circle\"}, \"mode\": \"markers\", \"name\": \"Guatemala\", \"showlegend\": true, \"x\": [0.74553], \"xaxis\": \"x\", \"y\": [6.122999999999999], \"yaxis\": \"y\", \"type\": \"scatter\"}, {\"hovertemplate\": \"<b>%{hovertext}</b><br><br>Country=Ecuador<br>year=2015<br>GDPperCapita=%{x}<br>Score=%{y}<extra></extra>\", \"hovertext\": [\"Ecuador\"], \"ids\": [\"Ecuador\"], \"legendgroup\": \"Ecuador\", \"marker\": {\"color\": \"#ab63fa\", \"symbol\": \"circle\"}, \"mode\": \"markers\", \"name\": \"Ecuador\", \"showlegend\": true, \"x\": [0.8640200000000001], \"xaxis\": \"x\", \"y\": [5.975], \"yaxis\": \"y\", \"type\": \"scatter\"}, {\"hovertemplate\": \"<b>%{hovertext}</b><br><br>Country=Bolivia<br>year=2015<br>GDPperCapita=%{x}<br>Score=%{y}<extra></extra>\", \"hovertext\": [\"Bolivia\"], \"ids\": [\"Bolivia\"], \"legendgroup\": \"Bolivia\", \"marker\": {\"color\": \"#FFA15A\", \"symbol\": \"circle\"}, \"mode\": \"markers\", \"name\": \"Bolivia\", \"showlegend\": true, \"x\": [0.68133], \"xaxis\": \"x\", \"y\": [5.89], \"yaxis\": \"y\", \"type\": \"scatter\"}, {\"hovertemplate\": \"<b>%{hovertext}</b><br><br>Country=Paraguay<br>year=2015<br>GDPperCapita=%{x}<br>Score=%{y}<extra></extra>\", \"hovertext\": [\"Paraguay\"], \"ids\": [\"Paraguay\"], \"legendgroup\": \"Paraguay\", \"marker\": {\"color\": \"#19d3f3\", \"symbol\": \"circle\"}, \"mode\": \"markers\", \"name\": \"Paraguay\", \"showlegend\": true, \"x\": [0.75985], \"xaxis\": \"x\", \"y\": [5.877999999999999], \"yaxis\": \"y\", \"type\": \"scatter\"}, {\"hovertemplate\": \"<b>%{hovertext}</b><br><br>Country=Nicaragua<br>year=2015<br>GDPperCapita=%{x}<br>Score=%{y}<extra></extra>\", \"hovertext\": [\"Nicaragua\"], \"ids\": [\"Nicaragua\"], \"legendgroup\": \"Nicaragua\", \"marker\": {\"color\": \"#FF6692\", \"symbol\": \"circle\"}, \"mode\": \"markers\", \"name\": \"Nicaragua\", \"showlegend\": true, \"x\": [0.59325], \"xaxis\": \"x\", \"y\": [5.827999999999999], \"yaxis\": \"y\", \"type\": \"scatter\"}, {\"hovertemplate\": \"<b>%{hovertext}</b><br><br>Country=Peru<br>year=2015<br>GDPperCapita=%{x}<br>Score=%{y}<extra></extra>\", \"hovertext\": [\"Peru\"], \"ids\": [\"Peru\"], \"legendgroup\": \"Peru\", \"marker\": {\"color\": \"#B6E880\", \"symbol\": \"circle\"}, \"mode\": \"markers\", \"name\": \"Peru\", \"showlegend\": true, \"x\": [0.9001899999999999], \"xaxis\": \"x\", \"y\": [5.824], \"yaxis\": \"y\", \"type\": \"scatter\"}, {\"hovertemplate\": \"<b>%{hovertext}</b><br><br>Country=Jamaica<br>year=2015<br>GDPperCapita=%{x}<br>Score=%{y}<extra></extra>\", \"hovertext\": [\"Jamaica\"], \"ids\": [\"Jamaica\"], \"legendgroup\": \"Jamaica\", \"marker\": {\"color\": \"#FF97FF\", \"symbol\": \"circle\"}, \"mode\": \"markers\", \"name\": \"Jamaica\", \"showlegend\": true, \"x\": [0.81038], \"xaxis\": \"x\", \"y\": [5.709], \"yaxis\": \"y\", \"type\": \"scatter\"}, {\"hovertemplate\": \"<b>%{hovertext}</b><br><br>Country=Dominican Republic<br>year=2015<br>GDPperCapita=%{x}<br>Score=%{y}<extra></extra>\", \"hovertext\": [\"Dominican Republic\"], \"ids\": [\"Dominican Republic\"], \"legendgroup\": \"Dominican Republic\", \"marker\": {\"color\": \"#FECB52\", \"symbol\": \"circle\"}, \"mode\": \"markers\", \"name\": \"Dominican Republic\", \"showlegend\": true, \"x\": [0.8953700000000001], \"xaxis\": \"x\", \"y\": [4.885], \"yaxis\": \"y\", \"type\": \"scatter\"}, {\"hovertemplate\": \"<b>%{hovertext}</b><br><br>Country=Honduras<br>year=2015<br>GDPperCapita=%{x}<br>Score=%{y}<extra></extra>\", \"hovertext\": [\"Honduras\"], \"ids\": [\"Honduras\"], \"legendgroup\": \"Honduras\", \"marker\": {\"color\": \"#636efa\", \"symbol\": \"circle\"}, \"mode\": \"markers\", \"name\": \"Honduras\", \"showlegend\": true, \"x\": [0.59532], \"xaxis\": \"x\", \"y\": [4.788], \"yaxis\": \"y\", \"type\": \"scatter\"}, {\"hovertemplate\": \"<b>%{hovertext}</b><br><br>Country=Haiti<br>year=2015<br>GDPperCapita=%{x}<br>Score=%{y}<extra></extra>\", \"hovertext\": [\"Haiti\"], \"ids\": [\"Haiti\"], \"legendgroup\": \"Haiti\", \"marker\": {\"color\": \"#EF553B\", \"symbol\": \"circle\"}, \"mode\": \"markers\", \"name\": \"Haiti\", \"showlegend\": true, \"x\": [0.26673], \"xaxis\": \"x\", \"y\": [4.518], \"yaxis\": \"y\", \"type\": \"scatter\"}], \"name\": \"2015\"}, {\"data\": [{\"hovertemplate\": \"<b>%{hovertext}</b><br><br>Country=Costa Rica<br>year=2016<br>GDPperCapita=%{x}<br>Score=%{y}<extra></extra>\", \"hovertext\": [\"Costa Rica\"], \"ids\": [\"Costa Rica\"], \"legendgroup\": \"Costa Rica\", \"marker\": {\"color\": \"#636efa\", \"symbol\": \"circle\"}, \"mode\": \"markers\", \"name\": \"Costa Rica\", \"showlegend\": true, \"x\": [1.06879], \"xaxis\": \"x\", \"y\": [7.087000000000001], \"yaxis\": \"y\", \"type\": \"scatter\"}, {\"hovertemplate\": \"<b>%{hovertext}</b><br><br>Country=Mexico<br>year=2016<br>GDPperCapita=%{x}<br>Score=%{y}<extra></extra>\", \"hovertext\": [\"Mexico\"], \"ids\": [\"Mexico\"], \"legendgroup\": \"Mexico\", \"marker\": {\"color\": \"#EF553B\", \"symbol\": \"circle\"}, \"mode\": \"markers\", \"name\": \"Mexico\", \"showlegend\": true, \"x\": [1.1150799999999998], \"xaxis\": \"x\", \"y\": [6.778], \"yaxis\": \"y\", \"type\": \"scatter\"}, {\"hovertemplate\": \"<b>%{hovertext}</b><br><br>Country=Brazil<br>year=2016<br>GDPperCapita=%{x}<br>Score=%{y}<extra></extra>\", \"hovertext\": [\"Brazil\"], \"ids\": [\"Brazil\"], \"legendgroup\": \"Brazil\", \"marker\": {\"color\": \"#00cc96\", \"symbol\": \"circle\"}, \"mode\": \"markers\", \"name\": \"Brazil\", \"showlegend\": true, \"x\": [1.08754], \"xaxis\": \"x\", \"y\": [6.952000000000001], \"yaxis\": \"y\", \"type\": \"scatter\"}, {\"hovertemplate\": \"<b>%{hovertext}</b><br><br>Country=Venezuela<br>year=2016<br>GDPperCapita=%{x}<br>Score=%{y}<extra></extra>\", \"hovertext\": [\"Venezuela\"], \"ids\": [\"Venezuela\"], \"legendgroup\": \"Venezuela\", \"marker\": {\"color\": \"#ab63fa\", \"symbol\": \"circle\"}, \"mode\": \"markers\", \"name\": \"Venezuela\", \"showlegend\": true, \"x\": [1.1336700000000002], \"xaxis\": \"x\", \"y\": [6.084], \"yaxis\": \"y\", \"type\": \"scatter\"}, {\"hovertemplate\": \"<b>%{hovertext}</b><br><br>Country=Panama<br>year=2016<br>GDPperCapita=%{x}<br>Score=%{y}<extra></extra>\", \"hovertext\": [\"Panama\"], \"ids\": [\"Panama\"], \"legendgroup\": \"Panama\", \"marker\": {\"color\": \"#FFA15A\", \"symbol\": \"circle\"}, \"mode\": \"markers\", \"name\": \"Panama\", \"showlegend\": true, \"x\": [1.18306], \"xaxis\": \"x\", \"y\": [6.7010000000000005], \"yaxis\": \"y\", \"type\": \"scatter\"}, {\"hovertemplate\": \"<b>%{hovertext}</b><br><br>Country=Chile<br>year=2016<br>GDPperCapita=%{x}<br>Score=%{y}<extra></extra>\", \"hovertext\": [\"Chile\"], \"ids\": [\"Chile\"], \"legendgroup\": \"Chile\", \"marker\": {\"color\": \"#19d3f3\", \"symbol\": \"circle\"}, \"mode\": \"markers\", \"name\": \"Chile\", \"showlegend\": true, \"x\": [1.2167], \"xaxis\": \"x\", \"y\": [6.705], \"yaxis\": \"y\", \"type\": \"scatter\"}, {\"hovertemplate\": \"<b>%{hovertext}</b><br><br>Country=Argentina<br>year=2016<br>GDPperCapita=%{x}<br>Score=%{y}<extra></extra>\", \"hovertext\": [\"Argentina\"], \"ids\": [\"Argentina\"], \"legendgroup\": \"Argentina\", \"marker\": {\"color\": \"#FF6692\", \"symbol\": \"circle\"}, \"mode\": \"markers\", \"name\": \"Argentina\", \"showlegend\": true, \"x\": [1.15137], \"xaxis\": \"x\", \"y\": [6.65], \"yaxis\": \"y\", \"type\": \"scatter\"}, {\"hovertemplate\": \"<b>%{hovertext}</b><br><br>Country=Uruguay<br>year=2016<br>GDPperCapita=%{x}<br>Score=%{y}<extra></extra>\", \"hovertext\": [\"Uruguay\"], \"ids\": [\"Uruguay\"], \"legendgroup\": \"Uruguay\", \"marker\": {\"color\": \"#B6E880\", \"symbol\": \"circle\"}, \"mode\": \"markers\", \"name\": \"Uruguay\", \"showlegend\": true, \"x\": [1.18157], \"xaxis\": \"x\", \"y\": [6.545], \"yaxis\": \"y\", \"type\": \"scatter\"}, {\"hovertemplate\": \"<b>%{hovertext}</b><br><br>Country=Colombia<br>year=2016<br>GDPperCapita=%{x}<br>Score=%{y}<extra></extra>\", \"hovertext\": [\"Colombia\"], \"ids\": [\"Colombia\"], \"legendgroup\": \"Colombia\", \"marker\": {\"color\": \"#FF97FF\", \"symbol\": \"circle\"}, \"mode\": \"markers\", \"name\": \"Colombia\", \"showlegend\": true, \"x\": [1.0303200000000001], \"xaxis\": \"x\", \"y\": [6.481], \"yaxis\": \"y\", \"type\": \"scatter\"}, {\"hovertemplate\": \"<b>%{hovertext}</b><br><br>Country=Suriname<br>year=2016<br>GDPperCapita=%{x}<br>Score=%{y}<extra></extra>\", \"hovertext\": [\"Suriname\"], \"ids\": [\"Suriname\"], \"legendgroup\": \"Suriname\", \"marker\": {\"color\": \"#FECB52\", \"symbol\": \"circle\"}, \"mode\": \"markers\", \"name\": \"Suriname\", \"showlegend\": true, \"x\": [1.09686], \"xaxis\": \"x\", \"y\": [6.269], \"yaxis\": \"y\", \"type\": \"scatter\"}, {\"hovertemplate\": \"<b>%{hovertext}</b><br><br>Country=Trinidad and Tobago<br>year=2016<br>GDPperCapita=%{x}<br>Score=%{y}<extra></extra>\", \"hovertext\": [\"Trinidad and Tobago\"], \"ids\": [\"Trinidad and Tobago\"], \"legendgroup\": \"Trinidad and Tobago\", \"marker\": {\"color\": \"#636efa\", \"symbol\": \"circle\"}, \"mode\": \"markers\", \"name\": \"Trinidad and Tobago\", \"showlegend\": true, \"x\": [1.32572], \"xaxis\": \"x\", \"y\": [6.167999999999999], \"yaxis\": \"y\", \"type\": \"scatter\"}, {\"hovertemplate\": \"<b>%{hovertext}</b><br><br>Country=El Salvador<br>year=2016<br>GDPperCapita=%{x}<br>Score=%{y}<extra></extra>\", \"hovertext\": [\"El Salvador\"], \"ids\": [\"El Salvador\"], \"legendgroup\": \"El Salvador\", \"marker\": {\"color\": \"#EF553B\", \"symbol\": \"circle\"}, \"mode\": \"markers\", \"name\": \"El Salvador\", \"showlegend\": true, \"x\": [0.8737], \"xaxis\": \"x\", \"y\": [6.068], \"yaxis\": \"y\", \"type\": \"scatter\"}, {\"hovertemplate\": \"<b>%{hovertext}</b><br><br>Country=Guatemala<br>year=2016<br>GDPperCapita=%{x}<br>Score=%{y}<extra></extra>\", \"hovertext\": [\"Guatemala\"], \"ids\": [\"Guatemala\"], \"legendgroup\": \"Guatemala\", \"marker\": {\"color\": \"#00cc96\", \"symbol\": \"circle\"}, \"mode\": \"markers\", \"name\": \"Guatemala\", \"showlegend\": true, \"x\": [0.83454], \"xaxis\": \"x\", \"y\": [6.324], \"yaxis\": \"y\", \"type\": \"scatter\"}, {\"hovertemplate\": \"<b>%{hovertext}</b><br><br>Country=Ecuador<br>year=2016<br>GDPperCapita=%{x}<br>Score=%{y}<extra></extra>\", \"hovertext\": [\"Ecuador\"], \"ids\": [\"Ecuador\"], \"legendgroup\": \"Ecuador\", \"marker\": {\"color\": \"#ab63fa\", \"symbol\": \"circle\"}, \"mode\": \"markers\", \"name\": \"Ecuador\", \"showlegend\": true, \"x\": [0.97306], \"xaxis\": \"x\", \"y\": [5.976], \"yaxis\": \"y\", \"type\": \"scatter\"}, {\"hovertemplate\": \"<b>%{hovertext}</b><br><br>Country=Bolivia<br>year=2016<br>GDPperCapita=%{x}<br>Score=%{y}<extra></extra>\", \"hovertext\": [\"Bolivia\"], \"ids\": [\"Bolivia\"], \"legendgroup\": \"Bolivia\", \"marker\": {\"color\": \"#FFA15A\", \"symbol\": \"circle\"}, \"mode\": \"markers\", \"name\": \"Bolivia\", \"showlegend\": true, \"x\": [0.79422], \"xaxis\": \"x\", \"y\": [5.822], \"yaxis\": \"y\", \"type\": \"scatter\"}, {\"hovertemplate\": \"<b>%{hovertext}</b><br><br>Country=Paraguay<br>year=2016<br>GDPperCapita=%{x}<br>Score=%{y}<extra></extra>\", \"hovertext\": [\"Paraguay\"], \"ids\": [\"Paraguay\"], \"legendgroup\": \"Paraguay\", \"marker\": {\"color\": \"#19d3f3\", \"symbol\": \"circle\"}, \"mode\": \"markers\", \"name\": \"Paraguay\", \"showlegend\": true, \"x\": [0.8937299999999999], \"xaxis\": \"x\", \"y\": [5.537999999999999], \"yaxis\": \"y\", \"type\": \"scatter\"}, {\"hovertemplate\": \"<b>%{hovertext}</b><br><br>Country=Nicaragua<br>year=2016<br>GDPperCapita=%{x}<br>Score=%{y}<extra></extra>\", \"hovertext\": [\"Nicaragua\"], \"ids\": [\"Nicaragua\"], \"legendgroup\": \"Nicaragua\", \"marker\": {\"color\": \"#FF6692\", \"symbol\": \"circle\"}, \"mode\": \"markers\", \"name\": \"Nicaragua\", \"showlegend\": true, \"x\": [0.69384], \"xaxis\": \"x\", \"y\": [5.992000000000001], \"yaxis\": \"y\", \"type\": \"scatter\"}, {\"hovertemplate\": \"<b>%{hovertext}</b><br><br>Country=Peru<br>year=2016<br>GDPperCapita=%{x}<br>Score=%{y}<extra></extra>\", \"hovertext\": [\"Peru\"], \"ids\": [\"Peru\"], \"legendgroup\": \"Peru\", \"marker\": {\"color\": \"#B6E880\", \"symbol\": \"circle\"}, \"mode\": \"markers\", \"name\": \"Peru\", \"showlegend\": true, \"x\": [0.9960200000000001], \"xaxis\": \"x\", \"y\": [5.742999999999999], \"yaxis\": \"y\", \"type\": \"scatter\"}, {\"hovertemplate\": \"<b>%{hovertext}</b><br><br>Country=Jamaica<br>year=2016<br>GDPperCapita=%{x}<br>Score=%{y}<extra></extra>\", \"hovertext\": [\"Jamaica\"], \"ids\": [\"Jamaica\"], \"legendgroup\": \"Jamaica\", \"marker\": {\"color\": \"#FF97FF\", \"symbol\": \"circle\"}, \"mode\": \"markers\", \"name\": \"Jamaica\", \"showlegend\": true, \"x\": [0.89333], \"xaxis\": \"x\", \"y\": [5.51], \"yaxis\": \"y\", \"type\": \"scatter\"}, {\"hovertemplate\": \"<b>%{hovertext}</b><br><br>Country=Dominican Republic<br>year=2016<br>GDPperCapita=%{x}<br>Score=%{y}<extra></extra>\", \"hovertext\": [\"Dominican Republic\"], \"ids\": [\"Dominican Republic\"], \"legendgroup\": \"Dominican Republic\", \"marker\": {\"color\": \"#FECB52\", \"symbol\": \"circle\"}, \"mode\": \"markers\", \"name\": \"Dominican Republic\", \"showlegend\": true, \"x\": [1.02787], \"xaxis\": \"x\", \"y\": [5.155], \"yaxis\": \"y\", \"type\": \"scatter\"}, {\"hovertemplate\": \"<b>%{hovertext}</b><br><br>Country=Honduras<br>year=2016<br>GDPperCapita=%{x}<br>Score=%{y}<extra></extra>\", \"hovertext\": [\"Honduras\"], \"ids\": [\"Honduras\"], \"legendgroup\": \"Honduras\", \"marker\": {\"color\": \"#636efa\", \"symbol\": \"circle\"}, \"mode\": \"markers\", \"name\": \"Honduras\", \"showlegend\": true, \"x\": [0.69429], \"xaxis\": \"x\", \"y\": [4.871], \"yaxis\": \"y\", \"type\": \"scatter\"}, {\"hovertemplate\": \"<b>%{hovertext}</b><br><br>Country=Haiti<br>year=2016<br>GDPperCapita=%{x}<br>Score=%{y}<extra></extra>\", \"hovertext\": [\"Haiti\"], \"ids\": [\"Haiti\"], \"legendgroup\": \"Haiti\", \"marker\": {\"color\": \"#EF553B\", \"symbol\": \"circle\"}, \"mode\": \"markers\", \"name\": \"Haiti\", \"showlegend\": true, \"x\": [0.34097], \"xaxis\": \"x\", \"y\": [4.0280000000000005], \"yaxis\": \"y\", \"type\": \"scatter\"}, {\"hovertemplate\": \"<b>%{hovertext}</b><br><br>Country=Puerto Rico<br>year=2016<br>GDPperCapita=%{x}<br>Score=%{y}<extra></extra>\", \"hovertext\": [\"Puerto Rico\"], \"ids\": [\"Puerto Rico\"], \"legendgroup\": \"Puerto Rico\", \"marker\": {\"color\": \"#00cc96\", \"symbol\": \"circle\"}, \"mode\": \"markers\", \"name\": \"Puerto Rico\", \"showlegend\": true, \"x\": [1.35943], \"xaxis\": \"x\", \"y\": [7.039], \"yaxis\": \"y\", \"type\": \"scatter\"}, {\"hovertemplate\": \"<b>%{hovertext}</b><br><br>Country=Belize<br>year=2016<br>GDPperCapita=%{x}<br>Score=%{y}<extra></extra>\", \"hovertext\": [\"Belize\"], \"ids\": [\"Belize\"], \"legendgroup\": \"Belize\", \"marker\": {\"color\": \"#ab63fa\", \"symbol\": \"circle\"}, \"mode\": \"markers\", \"name\": \"Belize\", \"showlegend\": true, \"x\": [0.87616], \"xaxis\": \"x\", \"y\": [5.956], \"yaxis\": \"y\", \"type\": \"scatter\"}], \"name\": \"2016\"}, {\"data\": [{\"hovertemplate\": \"<b>%{hovertext}</b><br><br>Country=Costa Rica<br>year=2017<br>GDPperCapita=%{x}<br>Score=%{y}<extra></extra>\", \"hovertext\": [\"Costa Rica\"], \"ids\": [\"Costa Rica\"], \"legendgroup\": \"Costa Rica\", \"marker\": {\"color\": \"#636efa\", \"symbol\": \"circle\"}, \"mode\": \"markers\", \"name\": \"Costa Rica\", \"showlegend\": true, \"x\": [1.10970628261566], \"xaxis\": \"x\", \"y\": [7.0789999961853], \"yaxis\": \"y\", \"type\": \"scatter\"}, {\"hovertemplate\": \"<b>%{hovertext}</b><br><br>Country=Mexico<br>year=2017<br>GDPperCapita=%{x}<br>Score=%{y}<extra></extra>\", \"hovertext\": [\"Mexico\"], \"ids\": [\"Mexico\"], \"legendgroup\": \"Mexico\", \"marker\": {\"color\": \"#EF553B\", \"symbol\": \"circle\"}, \"mode\": \"markers\", \"name\": \"Mexico\", \"showlegend\": true, \"x\": [1.1531838178634601], \"xaxis\": \"x\", \"y\": [6.57800006866455], \"yaxis\": \"y\", \"type\": \"scatter\"}, {\"hovertemplate\": \"<b>%{hovertext}</b><br><br>Country=Brazil<br>year=2017<br>GDPperCapita=%{x}<br>Score=%{y}<extra></extra>\", \"hovertext\": [\"Brazil\"], \"ids\": [\"Brazil\"], \"legendgroup\": \"Brazil\", \"marker\": {\"color\": \"#00cc96\", \"symbol\": \"circle\"}, \"mode\": \"markers\", \"name\": \"Brazil\", \"showlegend\": true, \"x\": [1.1073532104492199], \"xaxis\": \"x\", \"y\": [6.6350002288818395], \"yaxis\": \"y\", \"type\": \"scatter\"}, {\"hovertemplate\": \"<b>%{hovertext}</b><br><br>Country=Venezuela<br>year=2017<br>GDPperCapita=%{x}<br>Score=%{y}<extra></extra>\", \"hovertext\": [\"Venezuela\"], \"ids\": [\"Venezuela\"], \"legendgroup\": \"Venezuela\", \"marker\": {\"color\": \"#ab63fa\", \"symbol\": \"circle\"}, \"mode\": \"markers\", \"name\": \"Venezuela\", \"showlegend\": true, \"x\": [1.12843120098114], \"xaxis\": \"x\", \"y\": [5.25], \"yaxis\": \"y\", \"type\": \"scatter\"}, {\"hovertemplate\": \"<b>%{hovertext}</b><br><br>Country=Panama<br>year=2017<br>GDPperCapita=%{x}<br>Score=%{y}<extra></extra>\", \"hovertext\": [\"Panama\"], \"ids\": [\"Panama\"], \"legendgroup\": \"Panama\", \"marker\": {\"color\": \"#FFA15A\", \"symbol\": \"circle\"}, \"mode\": \"markers\", \"name\": \"Panama\", \"showlegend\": true, \"x\": [1.23374843597412], \"xaxis\": \"x\", \"y\": [6.4520001411438], \"yaxis\": \"y\", \"type\": \"scatter\"}, {\"hovertemplate\": \"<b>%{hovertext}</b><br><br>Country=Chile<br>year=2017<br>GDPperCapita=%{x}<br>Score=%{y}<extra></extra>\", \"hovertext\": [\"Chile\"], \"ids\": [\"Chile\"], \"legendgroup\": \"Chile\", \"marker\": {\"color\": \"#19d3f3\", \"symbol\": \"circle\"}, \"mode\": \"markers\", \"name\": \"Chile\", \"showlegend\": true, \"x\": [1.25278460979462], \"xaxis\": \"x\", \"y\": [6.65199995040894], \"yaxis\": \"y\", \"type\": \"scatter\"}, {\"hovertemplate\": \"<b>%{hovertext}</b><br><br>Country=Argentina<br>year=2017<br>GDPperCapita=%{x}<br>Score=%{y}<extra></extra>\", \"hovertext\": [\"Argentina\"], \"ids\": [\"Argentina\"], \"legendgroup\": \"Argentina\", \"marker\": {\"color\": \"#FF6692\", \"symbol\": \"circle\"}, \"mode\": \"markers\", \"name\": \"Argentina\", \"showlegend\": true, \"x\": [1.18529546260834], \"xaxis\": \"x\", \"y\": [6.59899997711182], \"yaxis\": \"y\", \"type\": \"scatter\"}, {\"hovertemplate\": \"<b>%{hovertext}</b><br><br>Country=Uruguay<br>year=2017<br>GDPperCapita=%{x}<br>Score=%{y}<extra></extra>\", \"hovertext\": [\"Uruguay\"], \"ids\": [\"Uruguay\"], \"legendgroup\": \"Uruguay\", \"marker\": {\"color\": \"#B6E880\", \"symbol\": \"circle\"}, \"mode\": \"markers\", \"name\": \"Uruguay\", \"showlegend\": true, \"x\": [1.2175596952438401], \"xaxis\": \"x\", \"y\": [6.4539999961853], \"yaxis\": \"y\", \"type\": \"scatter\"}, {\"hovertemplate\": \"<b>%{hovertext}</b><br><br>Country=Colombia<br>year=2017<br>GDPperCapita=%{x}<br>Score=%{y}<extra></extra>\", \"hovertext\": [\"Colombia\"], \"ids\": [\"Colombia\"], \"legendgroup\": \"Colombia\", \"marker\": {\"color\": \"#FF97FF\", \"symbol\": \"circle\"}, \"mode\": \"markers\", \"name\": \"Colombia\", \"showlegend\": true, \"x\": [1.07062232494354], \"xaxis\": \"x\", \"y\": [6.35699987411499], \"yaxis\": \"y\", \"type\": \"scatter\"}, {\"hovertemplate\": \"<b>%{hovertext}</b><br><br>Country=Trinidad and Tobago<br>year=2017<br>GDPperCapita=%{x}<br>Score=%{y}<extra></extra>\", \"hovertext\": [\"Trinidad and Tobago\"], \"ids\": [\"Trinidad and Tobago\"], \"legendgroup\": \"Trinidad and Tobago\", \"marker\": {\"color\": \"#636efa\", \"symbol\": \"circle\"}, \"mode\": \"markers\", \"name\": \"Trinidad and Tobago\", \"showlegend\": true, \"x\": [1.36135590076447], \"xaxis\": \"x\", \"y\": [6.1680002212524405], \"yaxis\": \"y\", \"type\": \"scatter\"}, {\"hovertemplate\": \"<b>%{hovertext}</b><br><br>Country=El Salvador<br>year=2017<br>GDPperCapita=%{x}<br>Score=%{y}<extra></extra>\", \"hovertext\": [\"El Salvador\"], \"ids\": [\"El Salvador\"], \"legendgroup\": \"El Salvador\", \"marker\": {\"color\": \"#EF553B\", \"symbol\": \"circle\"}, \"mode\": \"markers\", \"name\": \"El Salvador\", \"showlegend\": true, \"x\": [0.9097844958305359], \"xaxis\": \"x\", \"y\": [6.002999782562259], \"yaxis\": \"y\", \"type\": \"scatter\"}, {\"hovertemplate\": \"<b>%{hovertext}</b><br><br>Country=Guatemala<br>year=2017<br>GDPperCapita=%{x}<br>Score=%{y}<extra></extra>\", \"hovertext\": [\"Guatemala\"], \"ids\": [\"Guatemala\"], \"legendgroup\": \"Guatemala\", \"marker\": {\"color\": \"#00cc96\", \"symbol\": \"circle\"}, \"mode\": \"markers\", \"name\": \"Guatemala\", \"showlegend\": true, \"x\": [0.872001945972443], \"xaxis\": \"x\", \"y\": [6.4539999961853], \"yaxis\": \"y\", \"type\": \"scatter\"}, {\"hovertemplate\": \"<b>%{hovertext}</b><br><br>Country=Ecuador<br>year=2017<br>GDPperCapita=%{x}<br>Score=%{y}<extra></extra>\", \"hovertext\": [\"Ecuador\"], \"ids\": [\"Ecuador\"], \"legendgroup\": \"Ecuador\", \"marker\": {\"color\": \"#ab63fa\", \"symbol\": \"circle\"}, \"mode\": \"markers\", \"name\": \"Ecuador\", \"showlegend\": true, \"x\": [1.00082039833069], \"xaxis\": \"x\", \"y\": [6.00799989700317], \"yaxis\": \"y\", \"type\": \"scatter\"}, {\"hovertemplate\": \"<b>%{hovertext}</b><br><br>Country=Bolivia<br>year=2017<br>GDPperCapita=%{x}<br>Score=%{y}<extra></extra>\", \"hovertext\": [\"Bolivia\"], \"ids\": [\"Bolivia\"], \"legendgroup\": \"Bolivia\", \"marker\": {\"color\": \"#FFA15A\", \"symbol\": \"circle\"}, \"mode\": \"markers\", \"name\": \"Bolivia\", \"showlegend\": true, \"x\": [0.833756566047668], \"xaxis\": \"x\", \"y\": [5.82299995422363], \"yaxis\": \"y\", \"type\": \"scatter\"}, {\"hovertemplate\": \"<b>%{hovertext}</b><br><br>Country=Paraguay<br>year=2017<br>GDPperCapita=%{x}<br>Score=%{y}<extra></extra>\", \"hovertext\": [\"Paraguay\"], \"ids\": [\"Paraguay\"], \"legendgroup\": \"Paraguay\", \"marker\": {\"color\": \"#19d3f3\", \"symbol\": \"circle\"}, \"mode\": \"markers\", \"name\": \"Paraguay\", \"showlegend\": true, \"x\": [0.932537317276001], \"xaxis\": \"x\", \"y\": [5.493000030517581], \"yaxis\": \"y\", \"type\": \"scatter\"}, {\"hovertemplate\": \"<b>%{hovertext}</b><br><br>Country=Nicaragua<br>year=2017<br>GDPperCapita=%{x}<br>Score=%{y}<extra></extra>\", \"hovertext\": [\"Nicaragua\"], \"ids\": [\"Nicaragua\"], \"legendgroup\": \"Nicaragua\", \"marker\": {\"color\": \"#FF6692\", \"symbol\": \"circle\"}, \"mode\": \"markers\", \"name\": \"Nicaragua\", \"showlegend\": true, \"x\": [0.737299203872681], \"xaxis\": \"x\", \"y\": [6.07100009918213], \"yaxis\": \"y\", \"type\": \"scatter\"}, {\"hovertemplate\": \"<b>%{hovertext}</b><br><br>Country=Peru<br>year=2017<br>GDPperCapita=%{x}<br>Score=%{y}<extra></extra>\", \"hovertext\": [\"Peru\"], \"ids\": [\"Peru\"], \"legendgroup\": \"Peru\", \"marker\": {\"color\": \"#B6E880\", \"symbol\": \"circle\"}, \"mode\": \"markers\", \"name\": \"Peru\", \"showlegend\": true, \"x\": [1.0352252721786501], \"xaxis\": \"x\", \"y\": [5.71500015258789], \"yaxis\": \"y\", \"type\": \"scatter\"}, {\"hovertemplate\": \"<b>%{hovertext}</b><br><br>Country=Jamaica<br>year=2017<br>GDPperCapita=%{x}<br>Score=%{y}<extra></extra>\", \"hovertext\": [\"Jamaica\"], \"ids\": [\"Jamaica\"], \"legendgroup\": \"Jamaica\", \"marker\": {\"color\": \"#FF97FF\", \"symbol\": \"circle\"}, \"mode\": \"markers\", \"name\": \"Jamaica\", \"showlegend\": true, \"x\": [0.925579309463501], \"xaxis\": \"x\", \"y\": [5.31099987030029], \"yaxis\": \"y\", \"type\": \"scatter\"}, {\"hovertemplate\": \"<b>%{hovertext}</b><br><br>Country=Dominican Republic<br>year=2017<br>GDPperCapita=%{x}<br>Score=%{y}<extra></extra>\", \"hovertext\": [\"Dominican Republic\"], \"ids\": [\"Dominican Republic\"], \"legendgroup\": \"Dominican Republic\", \"marker\": {\"color\": \"#FECB52\", \"symbol\": \"circle\"}, \"mode\": \"markers\", \"name\": \"Dominican Republic\", \"showlegend\": true, \"x\": [1.07937383651733], \"xaxis\": \"x\", \"y\": [5.230000019073491], \"yaxis\": \"y\", \"type\": \"scatter\"}, {\"hovertemplate\": \"<b>%{hovertext}</b><br><br>Country=Honduras<br>year=2017<br>GDPperCapita=%{x}<br>Score=%{y}<extra></extra>\", \"hovertext\": [\"Honduras\"], \"ids\": [\"Honduras\"], \"legendgroup\": \"Honduras\", \"marker\": {\"color\": \"#636efa\", \"symbol\": \"circle\"}, \"mode\": \"markers\", \"name\": \"Honduras\", \"showlegend\": true, \"x\": [0.730573117733002], \"xaxis\": \"x\", \"y\": [5.1810002326965305], \"yaxis\": \"y\", \"type\": \"scatter\"}, {\"hovertemplate\": \"<b>%{hovertext}</b><br><br>Country=Haiti<br>year=2017<br>GDPperCapita=%{x}<br>Score=%{y}<extra></extra>\", \"hovertext\": [\"Haiti\"], \"ids\": [\"Haiti\"], \"legendgroup\": \"Haiti\", \"marker\": {\"color\": \"#EF553B\", \"symbol\": \"circle\"}, \"mode\": \"markers\", \"name\": \"Haiti\", \"showlegend\": true, \"x\": [0.368610262870789], \"xaxis\": \"x\", \"y\": [3.6029999256133998], \"yaxis\": \"y\", \"type\": \"scatter\"}, {\"hovertemplate\": \"<b>%{hovertext}</b><br><br>Country=Belize<br>year=2017<br>GDPperCapita=%{x}<br>Score=%{y}<extra></extra>\", \"hovertext\": [\"Belize\"], \"ids\": [\"Belize\"], \"legendgroup\": \"Belize\", \"marker\": {\"color\": \"#ab63fa\", \"symbol\": \"circle\"}, \"mode\": \"markers\", \"name\": \"Belize\", \"showlegend\": true, \"x\": [0.907975316047668], \"xaxis\": \"x\", \"y\": [5.955999851226809], \"yaxis\": \"y\", \"type\": \"scatter\"}], \"name\": \"2017\"}, {\"data\": [{\"hovertemplate\": \"<b>%{hovertext}</b><br><br>Country=Costa Rica<br>year=2018<br>GDPperCapita=%{x}<br>Score=%{y}<extra></extra>\", \"hovertext\": [\"Costa Rica\"], \"ids\": [\"Costa Rica\"], \"legendgroup\": \"Costa Rica\", \"marker\": {\"color\": \"#636efa\", \"symbol\": \"circle\"}, \"mode\": \"markers\", \"name\": \"Costa Rica\", \"showlegend\": true, \"x\": [1.01], \"xaxis\": \"x\", \"y\": [7.072], \"yaxis\": \"y\", \"type\": \"scatter\"}, {\"hovertemplate\": \"<b>%{hovertext}</b><br><br>Country=Mexico<br>year=2018<br>GDPperCapita=%{x}<br>Score=%{y}<extra></extra>\", \"hovertext\": [\"Mexico\"], \"ids\": [\"Mexico\"], \"legendgroup\": \"Mexico\", \"marker\": {\"color\": \"#EF553B\", \"symbol\": \"circle\"}, \"mode\": \"markers\", \"name\": \"Mexico\", \"showlegend\": true, \"x\": [1.038], \"xaxis\": \"x\", \"y\": [6.4879999999999995], \"yaxis\": \"y\", \"type\": \"scatter\"}, {\"hovertemplate\": \"<b>%{hovertext}</b><br><br>Country=Brazil<br>year=2018<br>GDPperCapita=%{x}<br>Score=%{y}<extra></extra>\", \"hovertext\": [\"Brazil\"], \"ids\": [\"Brazil\"], \"legendgroup\": \"Brazil\", \"marker\": {\"color\": \"#00cc96\", \"symbol\": \"circle\"}, \"mode\": \"markers\", \"name\": \"Brazil\", \"showlegend\": true, \"x\": [0.986], \"xaxis\": \"x\", \"y\": [6.419], \"yaxis\": \"y\", \"type\": \"scatter\"}, {\"hovertemplate\": \"<b>%{hovertext}</b><br><br>Country=Venezuela<br>year=2018<br>GDPperCapita=%{x}<br>Score=%{y}<extra></extra>\", \"hovertext\": [\"Venezuela\"], \"ids\": [\"Venezuela\"], \"legendgroup\": \"Venezuela\", \"marker\": {\"color\": \"#ab63fa\", \"symbol\": \"circle\"}, \"mode\": \"markers\", \"name\": \"Venezuela\", \"showlegend\": true, \"x\": [0.996], \"xaxis\": \"x\", \"y\": [4.806], \"yaxis\": \"y\", \"type\": \"scatter\"}, {\"hovertemplate\": \"<b>%{hovertext}</b><br><br>Country=Panama<br>year=2018<br>GDPperCapita=%{x}<br>Score=%{y}<extra></extra>\", \"hovertext\": [\"Panama\"], \"ids\": [\"Panama\"], \"legendgroup\": \"Panama\", \"marker\": {\"color\": \"#FFA15A\", \"symbol\": \"circle\"}, \"mode\": \"markers\", \"name\": \"Panama\", \"showlegend\": true, \"x\": [1.112], \"xaxis\": \"x\", \"y\": [6.43], \"yaxis\": \"y\", \"type\": \"scatter\"}, {\"hovertemplate\": \"<b>%{hovertext}</b><br><br>Country=Chile<br>year=2018<br>GDPperCapita=%{x}<br>Score=%{y}<extra></extra>\", \"hovertext\": [\"Chile\"], \"ids\": [\"Chile\"], \"legendgroup\": \"Chile\", \"marker\": {\"color\": \"#19d3f3\", \"symbol\": \"circle\"}, \"mode\": \"markers\", \"name\": \"Chile\", \"showlegend\": true, \"x\": [1.131], \"xaxis\": \"x\", \"y\": [6.476], \"yaxis\": \"y\", \"type\": \"scatter\"}, {\"hovertemplate\": \"<b>%{hovertext}</b><br><br>Country=Argentina<br>year=2018<br>GDPperCapita=%{x}<br>Score=%{y}<extra></extra>\", \"hovertext\": [\"Argentina\"], \"ids\": [\"Argentina\"], \"legendgroup\": \"Argentina\", \"marker\": {\"color\": \"#FF6692\", \"symbol\": \"circle\"}, \"mode\": \"markers\", \"name\": \"Argentina\", \"showlegend\": true, \"x\": [1.073], \"xaxis\": \"x\", \"y\": [6.388], \"yaxis\": \"y\", \"type\": \"scatter\"}, {\"hovertemplate\": \"<b>%{hovertext}</b><br><br>Country=Uruguay<br>year=2018<br>GDPperCapita=%{x}<br>Score=%{y}<extra></extra>\", \"hovertext\": [\"Uruguay\"], \"ids\": [\"Uruguay\"], \"legendgroup\": \"Uruguay\", \"marker\": {\"color\": \"#B6E880\", \"symbol\": \"circle\"}, \"mode\": \"markers\", \"name\": \"Uruguay\", \"showlegend\": true, \"x\": [1.093], \"xaxis\": \"x\", \"y\": [6.379], \"yaxis\": \"y\", \"type\": \"scatter\"}, {\"hovertemplate\": \"<b>%{hovertext}</b><br><br>Country=Colombia<br>year=2018<br>GDPperCapita=%{x}<br>Score=%{y}<extra></extra>\", \"hovertext\": [\"Colombia\"], \"ids\": [\"Colombia\"], \"legendgroup\": \"Colombia\", \"marker\": {\"color\": \"#FF97FF\", \"symbol\": \"circle\"}, \"mode\": \"markers\", \"name\": \"Colombia\", \"showlegend\": true, \"x\": [0.96], \"xaxis\": \"x\", \"y\": [6.26], \"yaxis\": \"y\", \"type\": \"scatter\"}, {\"hovertemplate\": \"<b>%{hovertext}</b><br><br>Country=Trinidad and Tobago<br>year=2018<br>GDPperCapita=%{x}<br>Score=%{y}<extra></extra>\", \"hovertext\": [\"Trinidad and Tobago\"], \"ids\": [\"Trinidad and Tobago\"], \"legendgroup\": \"Trinidad and Tobago\", \"marker\": {\"color\": \"#636efa\", \"symbol\": \"circle\"}, \"mode\": \"markers\", \"name\": \"Trinidad and Tobago\", \"showlegend\": true, \"x\": [1.2229999999999999], \"xaxis\": \"x\", \"y\": [6.192], \"yaxis\": \"y\", \"type\": \"scatter\"}, {\"hovertemplate\": \"<b>%{hovertext}</b><br><br>Country=El Salvador<br>year=2018<br>GDPperCapita=%{x}<br>Score=%{y}<extra></extra>\", \"hovertext\": [\"El Salvador\"], \"ids\": [\"El Salvador\"], \"legendgroup\": \"El Salvador\", \"marker\": {\"color\": \"#EF553B\", \"symbol\": \"circle\"}, \"mode\": \"markers\", \"name\": \"El Salvador\", \"showlegend\": true, \"x\": [0.8059999999999999], \"xaxis\": \"x\", \"y\": [6.167000000000001], \"yaxis\": \"y\", \"type\": \"scatter\"}, {\"hovertemplate\": \"<b>%{hovertext}</b><br><br>Country=Guatemala<br>year=2018<br>GDPperCapita=%{x}<br>Score=%{y}<extra></extra>\", \"hovertext\": [\"Guatemala\"], \"ids\": [\"Guatemala\"], \"legendgroup\": \"Guatemala\", \"marker\": {\"color\": \"#00cc96\", \"symbol\": \"circle\"}, \"mode\": \"markers\", \"name\": \"Guatemala\", \"showlegend\": true, \"x\": [0.7809999999999999], \"xaxis\": \"x\", \"y\": [6.382000000000001], \"yaxis\": \"y\", \"type\": \"scatter\"}, {\"hovertemplate\": \"<b>%{hovertext}</b><br><br>Country=Ecuador<br>year=2018<br>GDPperCapita=%{x}<br>Score=%{y}<extra></extra>\", \"hovertext\": [\"Ecuador\"], \"ids\": [\"Ecuador\"], \"legendgroup\": \"Ecuador\", \"marker\": {\"color\": \"#ab63fa\", \"symbol\": \"circle\"}, \"mode\": \"markers\", \"name\": \"Ecuador\", \"showlegend\": true, \"x\": [0.889], \"xaxis\": \"x\", \"y\": [5.973], \"yaxis\": \"y\", \"type\": \"scatter\"}, {\"hovertemplate\": \"<b>%{hovertext}</b><br><br>Country=Bolivia<br>year=2018<br>GDPperCapita=%{x}<br>Score=%{y}<extra></extra>\", \"hovertext\": [\"Bolivia\"], \"ids\": [\"Bolivia\"], \"legendgroup\": \"Bolivia\", \"marker\": {\"color\": \"#FFA15A\", \"symbol\": \"circle\"}, \"mode\": \"markers\", \"name\": \"Bolivia\", \"showlegend\": true, \"x\": [0.7509999999999999], \"xaxis\": \"x\", \"y\": [5.752000000000001], \"yaxis\": \"y\", \"type\": \"scatter\"}, {\"hovertemplate\": \"<b>%{hovertext}</b><br><br>Country=Paraguay<br>year=2018<br>GDPperCapita=%{x}<br>Score=%{y}<extra></extra>\", \"hovertext\": [\"Paraguay\"], \"ids\": [\"Paraguay\"], \"legendgroup\": \"Paraguay\", \"marker\": {\"color\": \"#19d3f3\", \"symbol\": \"circle\"}, \"mode\": \"markers\", \"name\": \"Paraguay\", \"showlegend\": true, \"x\": [0.835], \"xaxis\": \"x\", \"y\": [5.681], \"yaxis\": \"y\", \"type\": \"scatter\"}, {\"hovertemplate\": \"<b>%{hovertext}</b><br><br>Country=Nicaragua<br>year=2018<br>GDPperCapita=%{x}<br>Score=%{y}<extra></extra>\", \"hovertext\": [\"Nicaragua\"], \"ids\": [\"Nicaragua\"], \"legendgroup\": \"Nicaragua\", \"marker\": {\"color\": \"#FF6692\", \"symbol\": \"circle\"}, \"mode\": \"markers\", \"name\": \"Nicaragua\", \"showlegend\": true, \"x\": [0.6679999999999999], \"xaxis\": \"x\", \"y\": [6.141], \"yaxis\": \"y\", \"type\": \"scatter\"}, {\"hovertemplate\": \"<b>%{hovertext}</b><br><br>Country=Peru<br>year=2018<br>GDPperCapita=%{x}<br>Score=%{y}<extra></extra>\", \"hovertext\": [\"Peru\"], \"ids\": [\"Peru\"], \"legendgroup\": \"Peru\", \"marker\": {\"color\": \"#B6E880\", \"symbol\": \"circle\"}, \"mode\": \"markers\", \"name\": \"Peru\", \"showlegend\": true, \"x\": [0.934], \"xaxis\": \"x\", \"y\": [5.662999999999999], \"yaxis\": \"y\", \"type\": \"scatter\"}, {\"hovertemplate\": \"<b>%{hovertext}</b><br><br>Country=Jamaica<br>year=2018<br>GDPperCapita=%{x}<br>Score=%{y}<extra></extra>\", \"hovertext\": [\"Jamaica\"], \"ids\": [\"Jamaica\"], \"legendgroup\": \"Jamaica\", \"marker\": {\"color\": \"#FF97FF\", \"symbol\": \"circle\"}, \"mode\": \"markers\", \"name\": \"Jamaica\", \"showlegend\": true, \"x\": [0.8190000000000001], \"xaxis\": \"x\", \"y\": [5.89], \"yaxis\": \"y\", \"type\": \"scatter\"}, {\"hovertemplate\": \"<b>%{hovertext}</b><br><br>Country=Dominican Republic<br>year=2018<br>GDPperCapita=%{x}<br>Score=%{y}<extra></extra>\", \"hovertext\": [\"Dominican Republic\"], \"ids\": [\"Dominican Republic\"], \"legendgroup\": \"Dominican Republic\", \"marker\": {\"color\": \"#FECB52\", \"symbol\": \"circle\"}, \"mode\": \"markers\", \"name\": \"Dominican Republic\", \"showlegend\": true, \"x\": [0.982], \"xaxis\": \"x\", \"y\": [5.3020000000000005], \"yaxis\": \"y\", \"type\": \"scatter\"}, {\"hovertemplate\": \"<b>%{hovertext}</b><br><br>Country=Honduras<br>year=2018<br>GDPperCapita=%{x}<br>Score=%{y}<extra></extra>\", \"hovertext\": [\"Honduras\"], \"ids\": [\"Honduras\"], \"legendgroup\": \"Honduras\", \"marker\": {\"color\": \"#636efa\", \"symbol\": \"circle\"}, \"mode\": \"markers\", \"name\": \"Honduras\", \"showlegend\": true, \"x\": [0.62], \"xaxis\": \"x\", \"y\": [5.504], \"yaxis\": \"y\", \"type\": \"scatter\"}, {\"hovertemplate\": \"<b>%{hovertext}</b><br><br>Country=Haiti<br>year=2018<br>GDPperCapita=%{x}<br>Score=%{y}<extra></extra>\", \"hovertext\": [\"Haiti\"], \"ids\": [\"Haiti\"], \"legendgroup\": \"Haiti\", \"marker\": {\"color\": \"#EF553B\", \"symbol\": \"circle\"}, \"mode\": \"markers\", \"name\": \"Haiti\", \"showlegend\": true, \"x\": [0.315], \"xaxis\": \"x\", \"y\": [3.582], \"yaxis\": \"y\", \"type\": \"scatter\"}, {\"hovertemplate\": \"<b>%{hovertext}</b><br><br>Country=Belize<br>year=2018<br>GDPperCapita=%{x}<br>Score=%{y}<extra></extra>\", \"hovertext\": [\"Belize\"], \"ids\": [\"Belize\"], \"legendgroup\": \"Belize\", \"marker\": {\"color\": \"#ab63fa\", \"symbol\": \"circle\"}, \"mode\": \"markers\", \"name\": \"Belize\", \"showlegend\": true, \"x\": [0.807], \"xaxis\": \"x\", \"y\": [5.956], \"yaxis\": \"y\", \"type\": \"scatter\"}], \"name\": \"2018\"}, {\"data\": [{\"hovertemplate\": \"<b>%{hovertext}</b><br><br>Country=Costa Rica<br>year=2019<br>GDPperCapita=%{x}<br>Score=%{y}<extra></extra>\", \"hovertext\": [\"Costa Rica\"], \"ids\": [\"Costa Rica\"], \"legendgroup\": \"Costa Rica\", \"marker\": {\"color\": \"#636efa\", \"symbol\": \"circle\"}, \"mode\": \"markers\", \"name\": \"Costa Rica\", \"showlegend\": true, \"x\": [1.034], \"xaxis\": \"x\", \"y\": [7.167000000000001], \"yaxis\": \"y\", \"type\": \"scatter\"}, {\"hovertemplate\": \"<b>%{hovertext}</b><br><br>Country=Mexico<br>year=2019<br>GDPperCapita=%{x}<br>Score=%{y}<extra></extra>\", \"hovertext\": [\"Mexico\"], \"ids\": [\"Mexico\"], \"legendgroup\": \"Mexico\", \"marker\": {\"color\": \"#EF553B\", \"symbol\": \"circle\"}, \"mode\": \"markers\", \"name\": \"Mexico\", \"showlegend\": true, \"x\": [1.07], \"xaxis\": \"x\", \"y\": [6.595], \"yaxis\": \"y\", \"type\": \"scatter\"}, {\"hovertemplate\": \"<b>%{hovertext}</b><br><br>Country=Brazil<br>year=2019<br>GDPperCapita=%{x}<br>Score=%{y}<extra></extra>\", \"hovertext\": [\"Brazil\"], \"ids\": [\"Brazil\"], \"legendgroup\": \"Brazil\", \"marker\": {\"color\": \"#00cc96\", \"symbol\": \"circle\"}, \"mode\": \"markers\", \"name\": \"Brazil\", \"showlegend\": true, \"x\": [1.004], \"xaxis\": \"x\", \"y\": [6.3], \"yaxis\": \"y\", \"type\": \"scatter\"}, {\"hovertemplate\": \"<b>%{hovertext}</b><br><br>Country=Venezuela<br>year=2019<br>GDPperCapita=%{x}<br>Score=%{y}<extra></extra>\", \"hovertext\": [\"Venezuela\"], \"ids\": [\"Venezuela\"], \"legendgroup\": \"Venezuela\", \"marker\": {\"color\": \"#ab63fa\", \"symbol\": \"circle\"}, \"mode\": \"markers\", \"name\": \"Venezuela\", \"showlegend\": true, \"x\": [0.96], \"xaxis\": \"x\", \"y\": [4.707], \"yaxis\": \"y\", \"type\": \"scatter\"}, {\"hovertemplate\": \"<b>%{hovertext}</b><br><br>Country=Panama<br>year=2019<br>GDPperCapita=%{x}<br>Score=%{y}<extra></extra>\", \"hovertext\": [\"Panama\"], \"ids\": [\"Panama\"], \"legendgroup\": \"Panama\", \"marker\": {\"color\": \"#FFA15A\", \"symbol\": \"circle\"}, \"mode\": \"markers\", \"name\": \"Panama\", \"showlegend\": true, \"x\": [1.149], \"xaxis\": \"x\", \"y\": [6.321000000000001], \"yaxis\": \"y\", \"type\": \"scatter\"}, {\"hovertemplate\": \"<b>%{hovertext}</b><br><br>Country=Chile<br>year=2019<br>GDPperCapita=%{x}<br>Score=%{y}<extra></extra>\", \"hovertext\": [\"Chile\"], \"ids\": [\"Chile\"], \"legendgroup\": \"Chile\", \"marker\": {\"color\": \"#19d3f3\", \"symbol\": \"circle\"}, \"mode\": \"markers\", \"name\": \"Chile\", \"showlegend\": true, \"x\": [1.159], \"xaxis\": \"x\", \"y\": [6.444], \"yaxis\": \"y\", \"type\": \"scatter\"}, {\"hovertemplate\": \"<b>%{hovertext}</b><br><br>Country=Argentina<br>year=2019<br>GDPperCapita=%{x}<br>Score=%{y}<extra></extra>\", \"hovertext\": [\"Argentina\"], \"ids\": [\"Argentina\"], \"legendgroup\": \"Argentina\", \"marker\": {\"color\": \"#FF6692\", \"symbol\": \"circle\"}, \"mode\": \"markers\", \"name\": \"Argentina\", \"showlegend\": true, \"x\": [1.092], \"xaxis\": \"x\", \"y\": [6.086], \"yaxis\": \"y\", \"type\": \"scatter\"}, {\"hovertemplate\": \"<b>%{hovertext}</b><br><br>Country=Uruguay<br>year=2019<br>GDPperCapita=%{x}<br>Score=%{y}<extra></extra>\", \"hovertext\": [\"Uruguay\"], \"ids\": [\"Uruguay\"], \"legendgroup\": \"Uruguay\", \"marker\": {\"color\": \"#B6E880\", \"symbol\": \"circle\"}, \"mode\": \"markers\", \"name\": \"Uruguay\", \"showlegend\": true, \"x\": [1.124], \"xaxis\": \"x\", \"y\": [6.292999999999999], \"yaxis\": \"y\", \"type\": \"scatter\"}, {\"hovertemplate\": \"<b>%{hovertext}</b><br><br>Country=Colombia<br>year=2019<br>GDPperCapita=%{x}<br>Score=%{y}<extra></extra>\", \"hovertext\": [\"Colombia\"], \"ids\": [\"Colombia\"], \"legendgroup\": \"Colombia\", \"marker\": {\"color\": \"#FF97FF\", \"symbol\": \"circle\"}, \"mode\": \"markers\", \"name\": \"Colombia\", \"showlegend\": true, \"x\": [0.985], \"xaxis\": \"x\", \"y\": [6.125], \"yaxis\": \"y\", \"type\": \"scatter\"}, {\"hovertemplate\": \"<b>%{hovertext}</b><br><br>Country=Trinidad and Tobago<br>year=2019<br>GDPperCapita=%{x}<br>Score=%{y}<extra></extra>\", \"hovertext\": [\"Trinidad and Tobago\"], \"ids\": [\"Trinidad and Tobago\"], \"legendgroup\": \"Trinidad and Tobago\", \"marker\": {\"color\": \"#636efa\", \"symbol\": \"circle\"}, \"mode\": \"markers\", \"name\": \"Trinidad and Tobago\", \"showlegend\": true, \"x\": [1.2309999999999999], \"xaxis\": \"x\", \"y\": [6.192], \"yaxis\": \"y\", \"type\": \"scatter\"}, {\"hovertemplate\": \"<b>%{hovertext}</b><br><br>Country=El Salvador<br>year=2019<br>GDPperCapita=%{x}<br>Score=%{y}<extra></extra>\", \"hovertext\": [\"El Salvador\"], \"ids\": [\"El Salvador\"], \"legendgroup\": \"El Salvador\", \"marker\": {\"color\": \"#EF553B\", \"symbol\": \"circle\"}, \"mode\": \"markers\", \"name\": \"El Salvador\", \"showlegend\": true, \"x\": [0.794], \"xaxis\": \"x\", \"y\": [6.252999999999999], \"yaxis\": \"y\", \"type\": \"scatter\"}, {\"hovertemplate\": \"<b>%{hovertext}</b><br><br>Country=Guatemala<br>year=2019<br>GDPperCapita=%{x}<br>Score=%{y}<extra></extra>\", \"hovertext\": [\"Guatemala\"], \"ids\": [\"Guatemala\"], \"legendgroup\": \"Guatemala\", \"marker\": {\"color\": \"#00cc96\", \"symbol\": \"circle\"}, \"mode\": \"markers\", \"name\": \"Guatemala\", \"showlegend\": true, \"x\": [0.8], \"xaxis\": \"x\", \"y\": [6.436], \"yaxis\": \"y\", \"type\": \"scatter\"}, {\"hovertemplate\": \"<b>%{hovertext}</b><br><br>Country=Ecuador<br>year=2019<br>GDPperCapita=%{x}<br>Score=%{y}<extra></extra>\", \"hovertext\": [\"Ecuador\"], \"ids\": [\"Ecuador\"], \"legendgroup\": \"Ecuador\", \"marker\": {\"color\": \"#ab63fa\", \"symbol\": \"circle\"}, \"mode\": \"markers\", \"name\": \"Ecuador\", \"showlegend\": true, \"x\": [0.912], \"xaxis\": \"x\", \"y\": [6.028], \"yaxis\": \"y\", \"type\": \"scatter\"}, {\"hovertemplate\": \"<b>%{hovertext}</b><br><br>Country=Bolivia<br>year=2019<br>GDPperCapita=%{x}<br>Score=%{y}<extra></extra>\", \"hovertext\": [\"Bolivia\"], \"ids\": [\"Bolivia\"], \"legendgroup\": \"Bolivia\", \"marker\": {\"color\": \"#FFA15A\", \"symbol\": \"circle\"}, \"mode\": \"markers\", \"name\": \"Bolivia\", \"showlegend\": true, \"x\": [0.7759999999999999], \"xaxis\": \"x\", \"y\": [5.779], \"yaxis\": \"y\", \"type\": \"scatter\"}, {\"hovertemplate\": \"<b>%{hovertext}</b><br><br>Country=Paraguay<br>year=2019<br>GDPperCapita=%{x}<br>Score=%{y}<extra></extra>\", \"hovertext\": [\"Paraguay\"], \"ids\": [\"Paraguay\"], \"legendgroup\": \"Paraguay\", \"marker\": {\"color\": \"#19d3f3\", \"symbol\": \"circle\"}, \"mode\": \"markers\", \"name\": \"Paraguay\", \"showlegend\": true, \"x\": [0.855], \"xaxis\": \"x\", \"y\": [5.742999999999999], \"yaxis\": \"y\", \"type\": \"scatter\"}, {\"hovertemplate\": \"<b>%{hovertext}</b><br><br>Country=Nicaragua<br>year=2019<br>GDPperCapita=%{x}<br>Score=%{y}<extra></extra>\", \"hovertext\": [\"Nicaragua\"], \"ids\": [\"Nicaragua\"], \"legendgroup\": \"Nicaragua\", \"marker\": {\"color\": \"#FF6692\", \"symbol\": \"circle\"}, \"mode\": \"markers\", \"name\": \"Nicaragua\", \"showlegend\": true, \"x\": [0.6940000000000001], \"xaxis\": \"x\", \"y\": [6.105], \"yaxis\": \"y\", \"type\": \"scatter\"}, {\"hovertemplate\": \"<b>%{hovertext}</b><br><br>Country=Peru<br>year=2019<br>GDPperCapita=%{x}<br>Score=%{y}<extra></extra>\", \"hovertext\": [\"Peru\"], \"ids\": [\"Peru\"], \"legendgroup\": \"Peru\", \"marker\": {\"color\": \"#B6E880\", \"symbol\": \"circle\"}, \"mode\": \"markers\", \"name\": \"Peru\", \"showlegend\": true, \"x\": [0.96], \"xaxis\": \"x\", \"y\": [5.697], \"yaxis\": \"y\", \"type\": \"scatter\"}, {\"hovertemplate\": \"<b>%{hovertext}</b><br><br>Country=Jamaica<br>year=2019<br>GDPperCapita=%{x}<br>Score=%{y}<extra></extra>\", \"hovertext\": [\"Jamaica\"], \"ids\": [\"Jamaica\"], \"legendgroup\": \"Jamaica\", \"marker\": {\"color\": \"#FF97FF\", \"symbol\": \"circle\"}, \"mode\": \"markers\", \"name\": \"Jamaica\", \"showlegend\": true, \"x\": [0.831], \"xaxis\": \"x\", \"y\": [5.89], \"yaxis\": \"y\", \"type\": \"scatter\"}, {\"hovertemplate\": \"<b>%{hovertext}</b><br><br>Country=Dominican Republic<br>year=2019<br>GDPperCapita=%{x}<br>Score=%{y}<extra></extra>\", \"hovertext\": [\"Dominican Republic\"], \"ids\": [\"Dominican Republic\"], \"legendgroup\": \"Dominican Republic\", \"marker\": {\"color\": \"#FECB52\", \"symbol\": \"circle\"}, \"mode\": \"markers\", \"name\": \"Dominican Republic\", \"showlegend\": true, \"x\": [1.015], \"xaxis\": \"x\", \"y\": [5.425], \"yaxis\": \"y\", \"type\": \"scatter\"}, {\"hovertemplate\": \"<b>%{hovertext}</b><br><br>Country=Honduras<br>year=2019<br>GDPperCapita=%{x}<br>Score=%{y}<extra></extra>\", \"hovertext\": [\"Honduras\"], \"ids\": [\"Honduras\"], \"legendgroup\": \"Honduras\", \"marker\": {\"color\": \"#636efa\", \"symbol\": \"circle\"}, \"mode\": \"markers\", \"name\": \"Honduras\", \"showlegend\": true, \"x\": [0.642], \"xaxis\": \"x\", \"y\": [5.86], \"yaxis\": \"y\", \"type\": \"scatter\"}, {\"hovertemplate\": \"<b>%{hovertext}</b><br><br>Country=Haiti<br>year=2019<br>GDPperCapita=%{x}<br>Score=%{y}<extra></extra>\", \"hovertext\": [\"Haiti\"], \"ids\": [\"Haiti\"], \"legendgroup\": \"Haiti\", \"marker\": {\"color\": \"#EF553B\", \"symbol\": \"circle\"}, \"mode\": \"markers\", \"name\": \"Haiti\", \"showlegend\": true, \"x\": [0.32299999999999995], \"xaxis\": \"x\", \"y\": [3.597], \"yaxis\": \"y\", \"type\": \"scatter\"}], \"name\": \"2019\"}]);\n",
       "                        }).then(function(){\n",
       "                            \n",
       "var gd = document.getElementById('fe94c447-1149-408f-83a4-92732afd5089');\n",
       "var x = new MutationObserver(function (mutations, observer) {{\n",
       "        var display = window.getComputedStyle(gd).display;\n",
       "        if (!display || display === 'none') {{\n",
       "            console.log([gd, 'removed!']);\n",
       "            Plotly.purge(gd);\n",
       "            observer.disconnect();\n",
       "        }}\n",
       "}});\n",
       "\n",
       "// Listen for the removal of the full notebook cells\n",
       "var notebookContainer = gd.closest('#notebook-container');\n",
       "if (notebookContainer) {{\n",
       "    x.observe(notebookContainer, {childList: true});\n",
       "}}\n",
       "\n",
       "// Listen for the clearing of the current output cell\n",
       "var outputEl = gd.closest('.output');\n",
       "if (outputEl) {{\n",
       "    x.observe(outputEl, {childList: true});\n",
       "}}\n",
       "\n",
       "                        })\n",
       "                };\n",
       "                });\n",
       "            </script>\n",
       "        </div>"
      ]
     },
     "metadata": {},
     "output_type": "display_data"
    }
   ],
   "source": [
    "fig = px.scatter(data_todo[data_todo.Region==\"Latin America and Caribbean\"][[\"Country\",\"Region\",\"Score\",\"year\",\"GDPperCapita\"]], \n",
    "           y = \"Score\", x = \"GDPperCapita\", \n",
    "           animation_frame = \"year\", animation_group = \"Country\", color = \"Country\", hover_name=\"Country\")\n",
    "fig.show()"
   ]
  },
  {
   "cell_type": "code",
   "execution_count": 296,
   "metadata": {},
   "outputs": [],
   "source": [
    "df_top = pd.concat((genDataRank(data_todo[data_todo.year=='2015'],False,20),\n",
    "                      genDataRank(data_todo[data_todo.year=='2016'],False,20),\n",
    "                      genDataRank(data_todo[data_todo.year=='2017'],False,20),\n",
    "                      genDataRank(data_todo[data_todo.year=='2018'],False,20),\n",
    "                      genDataRank(data_todo[data_todo.year=='2019'],False,20)), axis=0)\n"
   ]
  },
  {
   "cell_type": "code",
   "execution_count": 309,
   "metadata": {},
   "outputs": [
    {
     "data": {
      "application/vnd.plotly.v1+json": {
       "config": {
        "plotlyServerURL": "https://plotly.com"
       },
       "data": [
        {
         "alignmentgroup": "True",
         "hovertemplate": "year=2019<br>Score=%{text}<br>Country=%{y}<extra></extra>",
         "legendgroup": "",
         "marker": {
          "color": "#636efa"
         },
         "name": "",
         "offsetgroup": "",
         "orientation": "h",
         "showlegend": false,
         "text": [
          6.892,
          6.922999999999999,
          6.985,
          7.021,
          7.053999999999999,
          7.09,
          7.138999999999999,
          7.167000000000001,
          7.228,
          7.246,
          7.278,
          7.307,
          7.343,
          7.48,
          7.4879999999999995,
          7.494,
          7.553999999999999,
          7.6,
          7.769,
          11.764
         ],
         "textposition": "auto",
         "texttemplate": "%{text:.2s}",
         "type": "bar",
         "x": [
          6.892,
          6.922999999999999,
          6.985,
          7.021,
          7.053999999999999,
          7.09,
          7.138999999999999,
          7.167000000000001,
          7.228,
          7.246,
          7.278,
          7.307,
          7.343,
          7.48,
          7.4879999999999995,
          7.494,
          7.553999999999999,
          7.6,
          7.769,
          11.764
         ],
         "xaxis": "x",
         "y": [
          "United States",
          "Belgium",
          "Germany",
          "Ireland",
          "United Kingdom",
          "Luxembourg",
          "Israel",
          "Costa Rica",
          "Australia",
          "Austria",
          "Canada",
          "New Zealand",
          "Sweden",
          "Switzerland",
          "Netherlands",
          "Iceland",
          "Norway",
          "Denmark",
          "Finland",
          "Cyprus"
         ],
         "yaxis": "y"
        }
       ],
       "frames": [
        {
         "data": [
          {
           "alignmentgroup": "True",
           "hovertemplate": "year=2015<br>Score=%{text}<br>Country=%{y}<extra></extra>",
           "legendgroup": "",
           "marker": {
            "color": "#636efa"
           },
           "name": "",
           "offsetgroup": "",
           "orientation": "h",
           "showlegend": false,
           "text": [
            6.901,
            6.937,
            6.94,
            6.946000000000001,
            6.983,
            7.119,
            7.187,
            7.2,
            7.226,
            7.278,
            7.284,
            7.2860000000000005,
            7.364,
            7.377999999999999,
            7.406000000000001,
            7.4270000000000005,
            7.522,
            7.527,
            7.561,
            7.587000000000001
           ],
           "textposition": "auto",
           "type": "bar",
           "x": [
            6.901,
            6.937,
            6.94,
            6.946000000000001,
            6.983,
            7.119,
            7.187,
            7.2,
            7.226,
            7.278,
            7.284,
            7.2860000000000005,
            7.364,
            7.377999999999999,
            7.406000000000001,
            7.4270000000000005,
            7.522,
            7.527,
            7.561,
            7.587000000000001
           ],
           "xaxis": "x",
           "y": [
            "United Arab Emirates",
            "Belgium",
            "Ireland",
            "Luxembourg",
            "Brazil",
            "United States",
            "Mexico",
            "Austria",
            "Costa Rica",
            "Israel",
            "Australia",
            "New Zealand",
            "Sweden",
            "Netherlands",
            "Finland",
            "Canada",
            "Norway",
            "Denmark",
            "Iceland",
            "Switzerland"
           ],
           "yaxis": "y"
          }
         ],
         "name": "2015"
        },
        {
         "data": [
          {
           "alignmentgroup": "True",
           "hovertemplate": "year=2016<br>Score=%{text}<br>Country=%{y}<extra></extra>",
           "legendgroup": "",
           "marker": {
            "color": "#636efa"
           },
           "name": "",
           "offsetgroup": "",
           "orientation": "h",
           "showlegend": false,
           "text": [
            6.871,
            6.907,
            6.928999999999999,
            6.952000000000001,
            6.994,
            7.039,
            7.087000000000001,
            7.104,
            7.119,
            7.267,
            7.291,
            7.313,
            7.334,
            7.3389999999999995,
            7.404,
            7.412999999999999,
            7.497999999999999,
            7.501,
            7.5089999999999995,
            7.526
           ],
           "textposition": "auto",
           "type": "bar",
           "x": [
            6.871,
            6.907,
            6.928999999999999,
            6.952000000000001,
            6.994,
            7.039,
            7.087000000000001,
            7.104,
            7.119,
            7.267,
            7.291,
            7.313,
            7.334,
            7.3389999999999995,
            7.404,
            7.412999999999999,
            7.497999999999999,
            7.501,
            7.5089999999999995,
            7.526
           ],
           "xaxis": "x",
           "y": [
            "Luxembourg",
            "Ireland",
            "Belgium",
            "Brazil",
            "Germany",
            "Puerto Rico",
            "Costa Rica",
            "United States",
            "Austria",
            "Israel",
            "Sweden",
            "Australia",
            "New Zealand",
            "Netherlands",
            "Canada",
            "Finland",
            "Norway",
            "Iceland",
            "Switzerland",
            "Denmark"
           ],
           "yaxis": "y"
          }
         ],
         "name": "2016"
        },
        {
         "data": [
          {
           "alignmentgroup": "True",
           "hovertemplate": "year=2017<br>Score=%{text}<br>Country=%{y}<extra></extra>",
           "legendgroup": "",
           "marker": {
            "color": "#636efa"
           },
           "name": "",
           "offsetgroup": "",
           "orientation": "h",
           "showlegend": false,
           "text": [
            6.65199995040894,
            6.71400022506714,
            6.86299991607666,
            6.89099979400635,
            6.9510002136230495,
            6.9770002365112305,
            6.993000030517581,
            7.00600004196167,
            7.0789999961853,
            7.212999820709231,
            7.28399991989136,
            7.28399991989136,
            7.31400012969971,
            7.31599998474121,
            7.3769998550415,
            7.468999862670901,
            7.49399995803833,
            7.50400018692017,
            7.52199983596802,
            7.537000179290769
           ],
           "textposition": "auto",
           "type": "bar",
           "x": [
            6.65199995040894,
            6.71400022506714,
            6.86299991607666,
            6.89099979400635,
            6.9510002136230495,
            6.9770002365112305,
            6.993000030517581,
            7.00600004196167,
            7.0789999961853,
            7.212999820709231,
            7.28399991989136,
            7.28399991989136,
            7.31400012969971,
            7.31599998474121,
            7.3769998550415,
            7.468999862670901,
            7.49399995803833,
            7.50400018692017,
            7.52199983596802,
            7.537000179290769
           ],
           "xaxis": "x",
           "y": [
            "Chile",
            "United Kingdom",
            "Luxembourg",
            "Belgium",
            "Germany",
            "Ireland",
            "United States",
            "Austria",
            "Costa Rica",
            "Israel",
            "Sweden",
            "Australia",
            "New Zealand",
            "Canada",
            "Netherlands",
            "Finland",
            "Switzerland",
            "Iceland",
            "Denmark",
            "Norway"
           ],
           "yaxis": "y"
          }
         ],
         "name": "2017"
        },
        {
         "data": [
          {
           "alignmentgroup": "True",
           "hovertemplate": "year=2018<br>Score=%{text}<br>Country=%{y}<extra></extra>",
           "legendgroup": "",
           "marker": {
            "color": "#636efa"
           },
           "name": "",
           "offsetgroup": "",
           "orientation": "h",
           "showlegend": false,
           "text": [
            6.814,
            6.886,
            6.91,
            6.9270000000000005,
            6.965,
            6.977,
            7.072,
            7.138999999999999,
            7.19,
            7.272,
            7.314,
            7.324,
            7.327999999999999,
            7.441,
            7.487,
            7.495,
            7.555,
            7.593999999999999,
            7.632000000000001,
            11.597000000000001
           ],
           "textposition": "auto",
           "type": "bar",
           "x": [
            6.814,
            6.886,
            6.91,
            6.9270000000000005,
            6.965,
            6.977,
            7.072,
            7.138999999999999,
            7.19,
            7.272,
            7.314,
            7.324,
            7.327999999999999,
            7.441,
            7.487,
            7.495,
            7.555,
            7.593999999999999,
            7.632000000000001,
            11.597000000000001
           ],
           "xaxis": "x",
           "y": [
            "Israel",
            "United States",
            "Luxembourg",
            "Belgium",
            "Germany",
            "Ireland",
            "Costa Rica",
            "Austria",
            "United Kingdom",
            "Australia",
            "Sweden",
            "New Zealand",
            "Canada",
            "Netherlands",
            "Switzerland",
            "Iceland",
            "Denmark",
            "Norway",
            "Finland",
            "Cyprus"
           ],
           "yaxis": "y"
          }
         ],
         "name": "2018"
        },
        {
         "data": [
          {
           "alignmentgroup": "True",
           "hovertemplate": "year=2019<br>Score=%{text}<br>Country=%{y}<extra></extra>",
           "legendgroup": "",
           "marker": {
            "color": "#636efa"
           },
           "name": "",
           "offsetgroup": "",
           "orientation": "h",
           "showlegend": false,
           "text": [
            6.892,
            6.922999999999999,
            6.985,
            7.021,
            7.053999999999999,
            7.09,
            7.138999999999999,
            7.167000000000001,
            7.228,
            7.246,
            7.278,
            7.307,
            7.343,
            7.48,
            7.4879999999999995,
            7.494,
            7.553999999999999,
            7.6,
            7.769,
            11.764
           ],
           "textposition": "auto",
           "type": "bar",
           "x": [
            6.892,
            6.922999999999999,
            6.985,
            7.021,
            7.053999999999999,
            7.09,
            7.138999999999999,
            7.167000000000001,
            7.228,
            7.246,
            7.278,
            7.307,
            7.343,
            7.48,
            7.4879999999999995,
            7.494,
            7.553999999999999,
            7.6,
            7.769,
            11.764
           ],
           "xaxis": "x",
           "y": [
            "United States",
            "Belgium",
            "Germany",
            "Ireland",
            "United Kingdom",
            "Luxembourg",
            "Israel",
            "Costa Rica",
            "Australia",
            "Austria",
            "Canada",
            "New Zealand",
            "Sweden",
            "Switzerland",
            "Netherlands",
            "Iceland",
            "Norway",
            "Denmark",
            "Finland",
            "Cyprus"
           ],
           "yaxis": "y"
          }
         ],
         "name": "2019"
        }
       ],
       "layout": {
        "autosize": true,
        "barmode": "relative",
        "legend": {
         "tracegroupgap": 0
        },
        "margin": {
         "t": 60
        },
        "sliders": [
         {
          "active": 4,
          "currentvalue": {
           "prefix": "year="
          },
          "len": 0.9,
          "pad": {
           "b": 10,
           "t": 60
          },
          "steps": [
           {
            "args": [
             [
              "2015"
             ],
             {
              "frame": {
               "duration": 0,
               "redraw": true
              },
              "fromcurrent": true,
              "mode": "immediate",
              "transition": {
               "duration": 0,
               "easing": "linear"
              }
             }
            ],
            "label": "2015",
            "method": "animate"
           },
           {
            "args": [
             [
              "2016"
             ],
             {
              "frame": {
               "duration": 0,
               "redraw": true
              },
              "fromcurrent": true,
              "mode": "immediate",
              "transition": {
               "duration": 0,
               "easing": "linear"
              }
             }
            ],
            "label": "2016",
            "method": "animate"
           },
           {
            "args": [
             [
              "2017"
             ],
             {
              "frame": {
               "duration": 0,
               "redraw": true
              },
              "fromcurrent": true,
              "mode": "immediate",
              "transition": {
               "duration": 0,
               "easing": "linear"
              }
             }
            ],
            "label": "2017",
            "method": "animate"
           },
           {
            "args": [
             [
              "2018"
             ],
             {
              "frame": {
               "duration": 0,
               "redraw": true
              },
              "fromcurrent": true,
              "mode": "immediate",
              "transition": {
               "duration": 0,
               "easing": "linear"
              }
             }
            ],
            "label": "2018",
            "method": "animate"
           },
           {
            "args": [
             [
              "2019"
             ],
             {
              "frame": {
               "duration": 0,
               "redraw": true
              },
              "fromcurrent": true,
              "mode": "immediate",
              "transition": {
               "duration": 0,
               "easing": "linear"
              }
             }
            ],
            "label": "2019",
            "method": "animate"
           }
          ],
          "x": 0.1,
          "xanchor": "left",
          "y": 0,
          "yanchor": "top"
         }
        ],
        "template": {
         "data": {
          "bar": [
           {
            "error_x": {
             "color": "#2a3f5f"
            },
            "error_y": {
             "color": "#2a3f5f"
            },
            "marker": {
             "line": {
              "color": "#E5ECF6",
              "width": 0.5
             }
            },
            "type": "bar"
           }
          ],
          "barpolar": [
           {
            "marker": {
             "line": {
              "color": "#E5ECF6",
              "width": 0.5
             }
            },
            "type": "barpolar"
           }
          ],
          "carpet": [
           {
            "aaxis": {
             "endlinecolor": "#2a3f5f",
             "gridcolor": "white",
             "linecolor": "white",
             "minorgridcolor": "white",
             "startlinecolor": "#2a3f5f"
            },
            "baxis": {
             "endlinecolor": "#2a3f5f",
             "gridcolor": "white",
             "linecolor": "white",
             "minorgridcolor": "white",
             "startlinecolor": "#2a3f5f"
            },
            "type": "carpet"
           }
          ],
          "choropleth": [
           {
            "colorbar": {
             "outlinewidth": 0,
             "ticks": ""
            },
            "type": "choropleth"
           }
          ],
          "contour": [
           {
            "colorbar": {
             "outlinewidth": 0,
             "ticks": ""
            },
            "colorscale": [
             [
              0,
              "#0d0887"
             ],
             [
              0.1111111111111111,
              "#46039f"
             ],
             [
              0.2222222222222222,
              "#7201a8"
             ],
             [
              0.3333333333333333,
              "#9c179e"
             ],
             [
              0.4444444444444444,
              "#bd3786"
             ],
             [
              0.5555555555555556,
              "#d8576b"
             ],
             [
              0.6666666666666666,
              "#ed7953"
             ],
             [
              0.7777777777777778,
              "#fb9f3a"
             ],
             [
              0.8888888888888888,
              "#fdca26"
             ],
             [
              1,
              "#f0f921"
             ]
            ],
            "type": "contour"
           }
          ],
          "contourcarpet": [
           {
            "colorbar": {
             "outlinewidth": 0,
             "ticks": ""
            },
            "type": "contourcarpet"
           }
          ],
          "heatmap": [
           {
            "colorbar": {
             "outlinewidth": 0,
             "ticks": ""
            },
            "colorscale": [
             [
              0,
              "#0d0887"
             ],
             [
              0.1111111111111111,
              "#46039f"
             ],
             [
              0.2222222222222222,
              "#7201a8"
             ],
             [
              0.3333333333333333,
              "#9c179e"
             ],
             [
              0.4444444444444444,
              "#bd3786"
             ],
             [
              0.5555555555555556,
              "#d8576b"
             ],
             [
              0.6666666666666666,
              "#ed7953"
             ],
             [
              0.7777777777777778,
              "#fb9f3a"
             ],
             [
              0.8888888888888888,
              "#fdca26"
             ],
             [
              1,
              "#f0f921"
             ]
            ],
            "type": "heatmap"
           }
          ],
          "heatmapgl": [
           {
            "colorbar": {
             "outlinewidth": 0,
             "ticks": ""
            },
            "colorscale": [
             [
              0,
              "#0d0887"
             ],
             [
              0.1111111111111111,
              "#46039f"
             ],
             [
              0.2222222222222222,
              "#7201a8"
             ],
             [
              0.3333333333333333,
              "#9c179e"
             ],
             [
              0.4444444444444444,
              "#bd3786"
             ],
             [
              0.5555555555555556,
              "#d8576b"
             ],
             [
              0.6666666666666666,
              "#ed7953"
             ],
             [
              0.7777777777777778,
              "#fb9f3a"
             ],
             [
              0.8888888888888888,
              "#fdca26"
             ],
             [
              1,
              "#f0f921"
             ]
            ],
            "type": "heatmapgl"
           }
          ],
          "histogram": [
           {
            "marker": {
             "colorbar": {
              "outlinewidth": 0,
              "ticks": ""
             }
            },
            "type": "histogram"
           }
          ],
          "histogram2d": [
           {
            "colorbar": {
             "outlinewidth": 0,
             "ticks": ""
            },
            "colorscale": [
             [
              0,
              "#0d0887"
             ],
             [
              0.1111111111111111,
              "#46039f"
             ],
             [
              0.2222222222222222,
              "#7201a8"
             ],
             [
              0.3333333333333333,
              "#9c179e"
             ],
             [
              0.4444444444444444,
              "#bd3786"
             ],
             [
              0.5555555555555556,
              "#d8576b"
             ],
             [
              0.6666666666666666,
              "#ed7953"
             ],
             [
              0.7777777777777778,
              "#fb9f3a"
             ],
             [
              0.8888888888888888,
              "#fdca26"
             ],
             [
              1,
              "#f0f921"
             ]
            ],
            "type": "histogram2d"
           }
          ],
          "histogram2dcontour": [
           {
            "colorbar": {
             "outlinewidth": 0,
             "ticks": ""
            },
            "colorscale": [
             [
              0,
              "#0d0887"
             ],
             [
              0.1111111111111111,
              "#46039f"
             ],
             [
              0.2222222222222222,
              "#7201a8"
             ],
             [
              0.3333333333333333,
              "#9c179e"
             ],
             [
              0.4444444444444444,
              "#bd3786"
             ],
             [
              0.5555555555555556,
              "#d8576b"
             ],
             [
              0.6666666666666666,
              "#ed7953"
             ],
             [
              0.7777777777777778,
              "#fb9f3a"
             ],
             [
              0.8888888888888888,
              "#fdca26"
             ],
             [
              1,
              "#f0f921"
             ]
            ],
            "type": "histogram2dcontour"
           }
          ],
          "mesh3d": [
           {
            "colorbar": {
             "outlinewidth": 0,
             "ticks": ""
            },
            "type": "mesh3d"
           }
          ],
          "parcoords": [
           {
            "line": {
             "colorbar": {
              "outlinewidth": 0,
              "ticks": ""
             }
            },
            "type": "parcoords"
           }
          ],
          "pie": [
           {
            "automargin": true,
            "type": "pie"
           }
          ],
          "scatter": [
           {
            "marker": {
             "colorbar": {
              "outlinewidth": 0,
              "ticks": ""
             }
            },
            "type": "scatter"
           }
          ],
          "scatter3d": [
           {
            "line": {
             "colorbar": {
              "outlinewidth": 0,
              "ticks": ""
             }
            },
            "marker": {
             "colorbar": {
              "outlinewidth": 0,
              "ticks": ""
             }
            },
            "type": "scatter3d"
           }
          ],
          "scattercarpet": [
           {
            "marker": {
             "colorbar": {
              "outlinewidth": 0,
              "ticks": ""
             }
            },
            "type": "scattercarpet"
           }
          ],
          "scattergeo": [
           {
            "marker": {
             "colorbar": {
              "outlinewidth": 0,
              "ticks": ""
             }
            },
            "type": "scattergeo"
           }
          ],
          "scattergl": [
           {
            "marker": {
             "colorbar": {
              "outlinewidth": 0,
              "ticks": ""
             }
            },
            "type": "scattergl"
           }
          ],
          "scattermapbox": [
           {
            "marker": {
             "colorbar": {
              "outlinewidth": 0,
              "ticks": ""
             }
            },
            "type": "scattermapbox"
           }
          ],
          "scatterpolar": [
           {
            "marker": {
             "colorbar": {
              "outlinewidth": 0,
              "ticks": ""
             }
            },
            "type": "scatterpolar"
           }
          ],
          "scatterpolargl": [
           {
            "marker": {
             "colorbar": {
              "outlinewidth": 0,
              "ticks": ""
             }
            },
            "type": "scatterpolargl"
           }
          ],
          "scatterternary": [
           {
            "marker": {
             "colorbar": {
              "outlinewidth": 0,
              "ticks": ""
             }
            },
            "type": "scatterternary"
           }
          ],
          "surface": [
           {
            "colorbar": {
             "outlinewidth": 0,
             "ticks": ""
            },
            "colorscale": [
             [
              0,
              "#0d0887"
             ],
             [
              0.1111111111111111,
              "#46039f"
             ],
             [
              0.2222222222222222,
              "#7201a8"
             ],
             [
              0.3333333333333333,
              "#9c179e"
             ],
             [
              0.4444444444444444,
              "#bd3786"
             ],
             [
              0.5555555555555556,
              "#d8576b"
             ],
             [
              0.6666666666666666,
              "#ed7953"
             ],
             [
              0.7777777777777778,
              "#fb9f3a"
             ],
             [
              0.8888888888888888,
              "#fdca26"
             ],
             [
              1,
              "#f0f921"
             ]
            ],
            "type": "surface"
           }
          ],
          "table": [
           {
            "cells": {
             "fill": {
              "color": "#EBF0F8"
             },
             "line": {
              "color": "white"
             }
            },
            "header": {
             "fill": {
              "color": "#C8D4E3"
             },
             "line": {
              "color": "white"
             }
            },
            "type": "table"
           }
          ]
         },
         "layout": {
          "annotationdefaults": {
           "arrowcolor": "#2a3f5f",
           "arrowhead": 0,
           "arrowwidth": 1
          },
          "coloraxis": {
           "colorbar": {
            "outlinewidth": 0,
            "ticks": ""
           }
          },
          "colorscale": {
           "diverging": [
            [
             0,
             "#8e0152"
            ],
            [
             0.1,
             "#c51b7d"
            ],
            [
             0.2,
             "#de77ae"
            ],
            [
             0.3,
             "#f1b6da"
            ],
            [
             0.4,
             "#fde0ef"
            ],
            [
             0.5,
             "#f7f7f7"
            ],
            [
             0.6,
             "#e6f5d0"
            ],
            [
             0.7,
             "#b8e186"
            ],
            [
             0.8,
             "#7fbc41"
            ],
            [
             0.9,
             "#4d9221"
            ],
            [
             1,
             "#276419"
            ]
           ],
           "sequential": [
            [
             0,
             "#0d0887"
            ],
            [
             0.1111111111111111,
             "#46039f"
            ],
            [
             0.2222222222222222,
             "#7201a8"
            ],
            [
             0.3333333333333333,
             "#9c179e"
            ],
            [
             0.4444444444444444,
             "#bd3786"
            ],
            [
             0.5555555555555556,
             "#d8576b"
            ],
            [
             0.6666666666666666,
             "#ed7953"
            ],
            [
             0.7777777777777778,
             "#fb9f3a"
            ],
            [
             0.8888888888888888,
             "#fdca26"
            ],
            [
             1,
             "#f0f921"
            ]
           ],
           "sequentialminus": [
            [
             0,
             "#0d0887"
            ],
            [
             0.1111111111111111,
             "#46039f"
            ],
            [
             0.2222222222222222,
             "#7201a8"
            ],
            [
             0.3333333333333333,
             "#9c179e"
            ],
            [
             0.4444444444444444,
             "#bd3786"
            ],
            [
             0.5555555555555556,
             "#d8576b"
            ],
            [
             0.6666666666666666,
             "#ed7953"
            ],
            [
             0.7777777777777778,
             "#fb9f3a"
            ],
            [
             0.8888888888888888,
             "#fdca26"
            ],
            [
             1,
             "#f0f921"
            ]
           ]
          },
          "colorway": [
           "#636efa",
           "#EF553B",
           "#00cc96",
           "#ab63fa",
           "#FFA15A",
           "#19d3f3",
           "#FF6692",
           "#B6E880",
           "#FF97FF",
           "#FECB52"
          ],
          "font": {
           "color": "#2a3f5f"
          },
          "geo": {
           "bgcolor": "white",
           "lakecolor": "white",
           "landcolor": "#E5ECF6",
           "showlakes": true,
           "showland": true,
           "subunitcolor": "white"
          },
          "hoverlabel": {
           "align": "left"
          },
          "hovermode": "closest",
          "mapbox": {
           "style": "light"
          },
          "paper_bgcolor": "white",
          "plot_bgcolor": "#E5ECF6",
          "polar": {
           "angularaxis": {
            "gridcolor": "white",
            "linecolor": "white",
            "ticks": ""
           },
           "bgcolor": "#E5ECF6",
           "radialaxis": {
            "gridcolor": "white",
            "linecolor": "white",
            "ticks": ""
           }
          },
          "scene": {
           "xaxis": {
            "backgroundcolor": "#E5ECF6",
            "gridcolor": "white",
            "gridwidth": 2,
            "linecolor": "white",
            "showbackground": true,
            "ticks": "",
            "zerolinecolor": "white"
           },
           "yaxis": {
            "backgroundcolor": "#E5ECF6",
            "gridcolor": "white",
            "gridwidth": 2,
            "linecolor": "white",
            "showbackground": true,
            "ticks": "",
            "zerolinecolor": "white"
           },
           "zaxis": {
            "backgroundcolor": "#E5ECF6",
            "gridcolor": "white",
            "gridwidth": 2,
            "linecolor": "white",
            "showbackground": true,
            "ticks": "",
            "zerolinecolor": "white"
           }
          },
          "shapedefaults": {
           "line": {
            "color": "#2a3f5f"
           }
          },
          "ternary": {
           "aaxis": {
            "gridcolor": "white",
            "linecolor": "white",
            "ticks": ""
           },
           "baxis": {
            "gridcolor": "white",
            "linecolor": "white",
            "ticks": ""
           },
           "bgcolor": "#E5ECF6",
           "caxis": {
            "gridcolor": "white",
            "linecolor": "white",
            "ticks": ""
           }
          },
          "title": {
           "x": 0.05
          },
          "xaxis": {
           "automargin": true,
           "gridcolor": "white",
           "linecolor": "white",
           "ticks": "",
           "title": {
            "standoff": 15
           },
           "zerolinecolor": "white",
           "zerolinewidth": 2
          },
          "yaxis": {
           "automargin": true,
           "gridcolor": "white",
           "linecolor": "white",
           "ticks": "",
           "title": {
            "standoff": 15
           },
           "zerolinecolor": "white",
           "zerolinewidth": 2
          }
         }
        },
        "uniformtext": {
         "minsize": 8
        },
        "updatemenus": [
         {
          "active": 0,
          "buttons": [
           {
            "args": [
             null,
             {
              "frame": {
               "duration": 500,
               "redraw": true
              },
              "fromcurrent": true,
              "mode": "immediate",
              "transition": {
               "duration": 500,
               "easing": "linear"
              }
             }
            ],
            "label": "&#9654;",
            "method": "animate"
           },
           {
            "args": [
             [
              null
             ],
             {
              "frame": {
               "duration": 0,
               "redraw": true
              },
              "fromcurrent": true,
              "mode": "immediate",
              "transition": {
               "duration": 0,
               "easing": "linear"
              }
             }
            ],
            "label": "&#9724;",
            "method": "animate"
           }
          ],
          "direction": "left",
          "pad": {
           "r": 10,
           "t": 70
          },
          "showactive": false,
          "type": "buttons",
          "x": 0.1,
          "xanchor": "right",
          "y": 0,
          "yanchor": "top"
         }
        ],
        "xaxis": {
         "anchor": "y",
         "autorange": true,
         "domain": [
          0,
          1
         ],
         "range": [
          0,
          12.207368421052633
         ],
         "title": {
          "text": "Score"
         },
         "type": "linear"
        },
        "yaxis": {
         "anchor": "x",
         "autorange": true,
         "domain": [
          0,
          1
         ],
         "range": [
          -0.5,
          19.5
         ],
         "title": {
          "text": "Country"
         },
         "type": "category"
        }
       }
      },
      "image/png": "[encoded data removed]",
      "text/html": [
       "<div>\n",
       "        \n",
       "        \n",
       "            <div id=\"f9c24357-90bf-438e-b240-6b946eb214c2\" class=\"plotly-graph-div\" style=\"height:525px; width:100%;\"></div>\n",
       "            <script type=\"text/javascript\">\n",
       "                require([\"plotly\"], function(Plotly) {\n",
       "                    window.PLOTLYENV=window.PLOTLYENV || {};\n",
       "                    \n",
       "                if (document.getElementById(\"f9c24357-90bf-438e-b240-6b946eb214c2\")) {\n",
       "                    Plotly.newPlot(\n",
       "                        'f9c24357-90bf-438e-b240-6b946eb214c2',\n",
       "                        [{\"alignmentgroup\": \"True\", \"hovertemplate\": \"year=2015<br>Score=%{text}<br>Country=%{y}<extra></extra>\", \"legendgroup\": \"\", \"marker\": {\"color\": \"#636efa\"}, \"name\": \"\", \"offsetgroup\": \"\", \"orientation\": \"h\", \"showlegend\": false, \"text\": [6.901, 6.937, 6.94, 6.946000000000001, 6.983, 7.119, 7.187, 7.2, 7.226, 7.278, 7.284, 7.2860000000000005, 7.364, 7.377999999999999, 7.406000000000001, 7.4270000000000005, 7.522, 7.527, 7.561, 7.587000000000001], \"textposition\": \"outside\", \"texttemplate\": \"%{text:.2s}\", \"type\": \"bar\", \"x\": [6.901, 6.937, 6.94, 6.946000000000001, 6.983, 7.119, 7.187, 7.2, 7.226, 7.278, 7.284, 7.2860000000000005, 7.364, 7.377999999999999, 7.406000000000001, 7.4270000000000005, 7.522, 7.527, 7.561, 7.587000000000001], \"xaxis\": \"x\", \"y\": [\"United Arab Emirates\", \"Belgium\", \"Ireland\", \"Luxembourg\", \"Brazil\", \"United States\", \"Mexico\", \"Austria\", \"Costa Rica\", \"Israel\", \"Australia\", \"New Zealand\", \"Sweden\", \"Netherlands\", \"Finland\", \"Canada\", \"Norway\", \"Denmark\", \"Iceland\", \"Switzerland\"], \"yaxis\": \"y\"}],\n",
       "                        {\"barmode\": \"relative\", \"legend\": {\"tracegroupgap\": 0}, \"margin\": {\"t\": 60}, \"sliders\": [{\"active\": 0, \"currentvalue\": {\"prefix\": \"year=\"}, \"len\": 0.9, \"pad\": {\"b\": 10, \"t\": 60}, \"steps\": [{\"args\": [[\"2015\"], {\"frame\": {\"duration\": 0, \"redraw\": true}, \"fromcurrent\": true, \"mode\": \"immediate\", \"transition\": {\"duration\": 0, \"easing\": \"linear\"}}], \"label\": \"2015\", \"method\": \"animate\"}, {\"args\": [[\"2016\"], {\"frame\": {\"duration\": 0, \"redraw\": true}, \"fromcurrent\": true, \"mode\": \"immediate\", \"transition\": {\"duration\": 0, \"easing\": \"linear\"}}], \"label\": \"2016\", \"method\": \"animate\"}, {\"args\": [[\"2017\"], {\"frame\": {\"duration\": 0, \"redraw\": true}, \"fromcurrent\": true, \"mode\": \"immediate\", \"transition\": {\"duration\": 0, \"easing\": \"linear\"}}], \"label\": \"2017\", \"method\": \"animate\"}, {\"args\": [[\"2018\"], {\"frame\": {\"duration\": 0, \"redraw\": true}, \"fromcurrent\": true, \"mode\": \"immediate\", \"transition\": {\"duration\": 0, \"easing\": \"linear\"}}], \"label\": \"2018\", \"method\": \"animate\"}, {\"args\": [[\"2019\"], {\"frame\": {\"duration\": 0, \"redraw\": true}, \"fromcurrent\": true, \"mode\": \"immediate\", \"transition\": {\"duration\": 0, \"easing\": \"linear\"}}], \"label\": \"2019\", \"method\": \"animate\"}], \"x\": 0.1, \"xanchor\": \"left\", \"y\": 0, \"yanchor\": \"top\"}], \"template\": {\"data\": {\"bar\": [{\"error_x\": {\"color\": \"#2a3f5f\"}, \"error_y\": {\"color\": \"#2a3f5f\"}, \"marker\": {\"line\": {\"color\": \"#E5ECF6\", \"width\": 0.5}}, \"type\": \"bar\"}], \"barpolar\": [{\"marker\": {\"line\": {\"color\": \"#E5ECF6\", \"width\": 0.5}}, \"type\": \"barpolar\"}], \"carpet\": [{\"aaxis\": {\"endlinecolor\": \"#2a3f5f\", \"gridcolor\": \"white\", \"linecolor\": \"white\", \"minorgridcolor\": \"white\", \"startlinecolor\": \"#2a3f5f\"}, \"baxis\": {\"endlinecolor\": \"#2a3f5f\", \"gridcolor\": \"white\", \"linecolor\": \"white\", \"minorgridcolor\": \"white\", \"startlinecolor\": \"#2a3f5f\"}, \"type\": \"carpet\"}], \"choropleth\": [{\"colorbar\": {\"outlinewidth\": 0, \"ticks\": \"\"}, \"type\": \"choropleth\"}], \"contour\": [{\"colorbar\": {\"outlinewidth\": 0, \"ticks\": \"\"}, \"colorscale\": [[0.0, \"#0d0887\"], [0.1111111111111111, \"#46039f\"], [0.2222222222222222, \"#7201a8\"], [0.3333333333333333, \"#9c179e\"], [0.4444444444444444, \"#bd3786\"], [0.5555555555555556, \"#d8576b\"], [0.6666666666666666, \"#ed7953\"], [0.7777777777777778, \"#fb9f3a\"], [0.8888888888888888, \"#fdca26\"], [1.0, \"#f0f921\"]], \"type\": \"contour\"}], \"contourcarpet\": [{\"colorbar\": {\"outlinewidth\": 0, \"ticks\": \"\"}, \"type\": \"contourcarpet\"}], \"heatmap\": [{\"colorbar\": {\"outlinewidth\": 0, \"ticks\": \"\"}, \"colorscale\": [[0.0, \"#0d0887\"], [0.1111111111111111, \"#46039f\"], [0.2222222222222222, \"#7201a8\"], [0.3333333333333333, \"#9c179e\"], [0.4444444444444444, \"#bd3786\"], [0.5555555555555556, \"#d8576b\"], [0.6666666666666666, \"#ed7953\"], [0.7777777777777778, \"#fb9f3a\"], [0.8888888888888888, \"#fdca26\"], [1.0, \"#f0f921\"]], \"type\": \"heatmap\"}], \"heatmapgl\": [{\"colorbar\": {\"outlinewidth\": 0, \"ticks\": \"\"}, \"colorscale\": [[0.0, \"#0d0887\"], [0.1111111111111111, \"#46039f\"], [0.2222222222222222, \"#7201a8\"], [0.3333333333333333, \"#9c179e\"], [0.4444444444444444, \"#bd3786\"], [0.5555555555555556, \"#d8576b\"], [0.6666666666666666, \"#ed7953\"], [0.7777777777777778, \"#fb9f3a\"], [0.8888888888888888, \"#fdca26\"], [1.0, \"#f0f921\"]], \"type\": \"heatmapgl\"}], \"histogram\": [{\"marker\": {\"colorbar\": {\"outlinewidth\": 0, \"ticks\": \"\"}}, \"type\": \"histogram\"}], \"histogram2d\": [{\"colorbar\": {\"outlinewidth\": 0, \"ticks\": \"\"}, \"colorscale\": [[0.0, \"#0d0887\"], [0.1111111111111111, \"#46039f\"], [0.2222222222222222, \"#7201a8\"], [0.3333333333333333, \"#9c179e\"], [0.4444444444444444, \"#bd3786\"], [0.5555555555555556, \"#d8576b\"], [0.6666666666666666, \"#ed7953\"], [0.7777777777777778, \"#fb9f3a\"], [0.8888888888888888, \"#fdca26\"], [1.0, \"#f0f921\"]], \"type\": \"histogram2d\"}], \"histogram2dcontour\": [{\"colorbar\": {\"outlinewidth\": 0, \"ticks\": \"\"}, \"colorscale\": [[0.0, \"#0d0887\"], [0.1111111111111111, \"#46039f\"], [0.2222222222222222, \"#7201a8\"], [0.3333333333333333, \"#9c179e\"], [0.4444444444444444, \"#bd3786\"], [0.5555555555555556, \"#d8576b\"], [0.6666666666666666, \"#ed7953\"], [0.7777777777777778, \"#fb9f3a\"], [0.8888888888888888, \"#fdca26\"], [1.0, \"#f0f921\"]], \"type\": \"histogram2dcontour\"}], \"mesh3d\": [{\"colorbar\": {\"outlinewidth\": 0, \"ticks\": \"\"}, \"type\": \"mesh3d\"}], \"parcoords\": [{\"line\": {\"colorbar\": {\"outlinewidth\": 0, \"ticks\": \"\"}}, \"type\": \"parcoords\"}], \"pie\": [{\"automargin\": true, \"type\": \"pie\"}], \"scatter\": [{\"marker\": {\"colorbar\": {\"outlinewidth\": 0, \"ticks\": \"\"}}, \"type\": \"scatter\"}], \"scatter3d\": [{\"line\": {\"colorbar\": {\"outlinewidth\": 0, \"ticks\": \"\"}}, \"marker\": {\"colorbar\": {\"outlinewidth\": 0, \"ticks\": \"\"}}, \"type\": \"scatter3d\"}], \"scattercarpet\": [{\"marker\": {\"colorbar\": {\"outlinewidth\": 0, \"ticks\": \"\"}}, \"type\": \"scattercarpet\"}], \"scattergeo\": [{\"marker\": {\"colorbar\": {\"outlinewidth\": 0, \"ticks\": \"\"}}, \"type\": \"scattergeo\"}], \"scattergl\": [{\"marker\": {\"colorbar\": {\"outlinewidth\": 0, \"ticks\": \"\"}}, \"type\": \"scattergl\"}], \"scattermapbox\": [{\"marker\": {\"colorbar\": {\"outlinewidth\": 0, \"ticks\": \"\"}}, \"type\": \"scattermapbox\"}], \"scatterpolar\": [{\"marker\": {\"colorbar\": {\"outlinewidth\": 0, \"ticks\": \"\"}}, \"type\": \"scatterpolar\"}], \"scatterpolargl\": [{\"marker\": {\"colorbar\": {\"outlinewidth\": 0, \"ticks\": \"\"}}, \"type\": \"scatterpolargl\"}], \"scatterternary\": [{\"marker\": {\"colorbar\": {\"outlinewidth\": 0, \"ticks\": \"\"}}, \"type\": \"scatterternary\"}], \"surface\": [{\"colorbar\": {\"outlinewidth\": 0, \"ticks\": \"\"}, \"colorscale\": [[0.0, \"#0d0887\"], [0.1111111111111111, \"#46039f\"], [0.2222222222222222, \"#7201a8\"], [0.3333333333333333, \"#9c179e\"], [0.4444444444444444, \"#bd3786\"], [0.5555555555555556, \"#d8576b\"], [0.6666666666666666, \"#ed7953\"], [0.7777777777777778, \"#fb9f3a\"], [0.8888888888888888, \"#fdca26\"], [1.0, \"#f0f921\"]], \"type\": \"surface\"}], \"table\": [{\"cells\": {\"fill\": {\"color\": \"#EBF0F8\"}, \"line\": {\"color\": \"white\"}}, \"header\": {\"fill\": {\"color\": \"#C8D4E3\"}, \"line\": {\"color\": \"white\"}}, \"type\": \"table\"}]}, \"layout\": {\"annotationdefaults\": {\"arrowcolor\": \"#2a3f5f\", \"arrowhead\": 0, \"arrowwidth\": 1}, \"coloraxis\": {\"colorbar\": {\"outlinewidth\": 0, \"ticks\": \"\"}}, \"colorscale\": {\"diverging\": [[0, \"#8e0152\"], [0.1, \"#c51b7d\"], [0.2, \"#de77ae\"], [0.3, \"#f1b6da\"], [0.4, \"#fde0ef\"], [0.5, \"#f7f7f7\"], [0.6, \"#e6f5d0\"], [0.7, \"#b8e186\"], [0.8, \"#7fbc41\"], [0.9, \"#4d9221\"], [1, \"#276419\"]], \"sequential\": [[0.0, \"#0d0887\"], [0.1111111111111111, \"#46039f\"], [0.2222222222222222, \"#7201a8\"], [0.3333333333333333, \"#9c179e\"], [0.4444444444444444, \"#bd3786\"], [0.5555555555555556, \"#d8576b\"], [0.6666666666666666, \"#ed7953\"], [0.7777777777777778, \"#fb9f3a\"], [0.8888888888888888, \"#fdca26\"], [1.0, \"#f0f921\"]], \"sequentialminus\": [[0.0, \"#0d0887\"], [0.1111111111111111, \"#46039f\"], [0.2222222222222222, \"#7201a8\"], [0.3333333333333333, \"#9c179e\"], [0.4444444444444444, \"#bd3786\"], [0.5555555555555556, \"#d8576b\"], [0.6666666666666666, \"#ed7953\"], [0.7777777777777778, \"#fb9f3a\"], [0.8888888888888888, \"#fdca26\"], [1.0, \"#f0f921\"]]}, \"colorway\": [\"#636efa\", \"#EF553B\", \"#00cc96\", \"#ab63fa\", \"#FFA15A\", \"#19d3f3\", \"#FF6692\", \"#B6E880\", \"#FF97FF\", \"#FECB52\"], \"font\": {\"color\": \"#2a3f5f\"}, \"geo\": {\"bgcolor\": \"white\", \"lakecolor\": \"white\", \"landcolor\": \"#E5ECF6\", \"showlakes\": true, \"showland\": true, \"subunitcolor\": \"white\"}, \"hoverlabel\": {\"align\": \"left\"}, \"hovermode\": \"closest\", \"mapbox\": {\"style\": \"light\"}, \"paper_bgcolor\": \"white\", \"plot_bgcolor\": \"#E5ECF6\", \"polar\": {\"angularaxis\": {\"gridcolor\": \"white\", \"linecolor\": \"white\", \"ticks\": \"\"}, \"bgcolor\": \"#E5ECF6\", \"radialaxis\": {\"gridcolor\": \"white\", \"linecolor\": \"white\", \"ticks\": \"\"}}, \"scene\": {\"xaxis\": {\"backgroundcolor\": \"#E5ECF6\", \"gridcolor\": \"white\", \"gridwidth\": 2, \"linecolor\": \"white\", \"showbackground\": true, \"ticks\": \"\", \"zerolinecolor\": \"white\"}, \"yaxis\": {\"backgroundcolor\": \"#E5ECF6\", \"gridcolor\": \"white\", \"gridwidth\": 2, \"linecolor\": \"white\", \"showbackground\": true, \"ticks\": \"\", \"zerolinecolor\": \"white\"}, \"zaxis\": {\"backgroundcolor\": \"#E5ECF6\", \"gridcolor\": \"white\", \"gridwidth\": 2, \"linecolor\": \"white\", \"showbackground\": true, \"ticks\": \"\", \"zerolinecolor\": \"white\"}}, \"shapedefaults\": {\"line\": {\"color\": \"#2a3f5f\"}}, \"ternary\": {\"aaxis\": {\"gridcolor\": \"white\", \"linecolor\": \"white\", \"ticks\": \"\"}, \"baxis\": {\"gridcolor\": \"white\", \"linecolor\": \"white\", \"ticks\": \"\"}, \"bgcolor\": \"#E5ECF6\", \"caxis\": {\"gridcolor\": \"white\", \"linecolor\": \"white\", \"ticks\": \"\"}}, \"title\": {\"x\": 0.05}, \"xaxis\": {\"automargin\": true, \"gridcolor\": \"white\", \"linecolor\": \"white\", \"ticks\": \"\", \"title\": {\"standoff\": 15}, \"zerolinecolor\": \"white\", \"zerolinewidth\": 2}, \"yaxis\": {\"automargin\": true, \"gridcolor\": \"white\", \"linecolor\": \"white\", \"ticks\": \"\", \"title\": {\"standoff\": 15}, \"zerolinecolor\": \"white\", \"zerolinewidth\": 2}}}, \"uniformtext\": {\"minsize\": 8}, \"updatemenus\": [{\"buttons\": [{\"args\": [null, {\"frame\": {\"duration\": 500, \"redraw\": true}, \"fromcurrent\": true, \"mode\": \"immediate\", \"transition\": {\"duration\": 500, \"easing\": \"linear\"}}], \"label\": \"&#9654;\", \"method\": \"animate\"}, {\"args\": [[null], {\"frame\": {\"duration\": 0, \"redraw\": true}, \"fromcurrent\": true, \"mode\": \"immediate\", \"transition\": {\"duration\": 0, \"easing\": \"linear\"}}], \"label\": \"&#9724;\", \"method\": \"animate\"}], \"direction\": \"left\", \"pad\": {\"r\": 10, \"t\": 70}, \"showactive\": false, \"type\": \"buttons\", \"x\": 0.1, \"xanchor\": \"right\", \"y\": 0, \"yanchor\": \"top\"}], \"xaxis\": {\"anchor\": \"y\", \"domain\": [0.0, 1.0], \"title\": {\"text\": \"Score\"}}, \"yaxis\": {\"anchor\": \"x\", \"domain\": [0.0, 1.0], \"title\": {\"text\": \"Country\"}}},\n",
       "                        {\"responsive\": true}\n",
       "                    ).then(function(){\n",
       "                            Plotly.addFrames('f9c24357-90bf-438e-b240-6b946eb214c2', [{\"data\": [{\"alignmentgroup\": \"True\", \"hovertemplate\": \"year=2015<br>Score=%{text}<br>Country=%{y}<extra></extra>\", \"legendgroup\": \"\", \"marker\": {\"color\": \"#636efa\"}, \"name\": \"\", \"offsetgroup\": \"\", \"orientation\": \"h\", \"showlegend\": false, \"text\": [6.901, 6.937, 6.94, 6.946000000000001, 6.983, 7.119, 7.187, 7.2, 7.226, 7.278, 7.284, 7.2860000000000005, 7.364, 7.377999999999999, 7.406000000000001, 7.4270000000000005, 7.522, 7.527, 7.561, 7.587000000000001], \"textposition\": \"auto\", \"x\": [6.901, 6.937, 6.94, 6.946000000000001, 6.983, 7.119, 7.187, 7.2, 7.226, 7.278, 7.284, 7.2860000000000005, 7.364, 7.377999999999999, 7.406000000000001, 7.4270000000000005, 7.522, 7.527, 7.561, 7.587000000000001], \"xaxis\": \"x\", \"y\": [\"United Arab Emirates\", \"Belgium\", \"Ireland\", \"Luxembourg\", \"Brazil\", \"United States\", \"Mexico\", \"Austria\", \"Costa Rica\", \"Israel\", \"Australia\", \"New Zealand\", \"Sweden\", \"Netherlands\", \"Finland\", \"Canada\", \"Norway\", \"Denmark\", \"Iceland\", \"Switzerland\"], \"yaxis\": \"y\", \"type\": \"bar\"}], \"name\": \"2015\"}, {\"data\": [{\"alignmentgroup\": \"True\", \"hovertemplate\": \"year=2016<br>Score=%{text}<br>Country=%{y}<extra></extra>\", \"legendgroup\": \"\", \"marker\": {\"color\": \"#636efa\"}, \"name\": \"\", \"offsetgroup\": \"\", \"orientation\": \"h\", \"showlegend\": false, \"text\": [6.871, 6.907, 6.928999999999999, 6.952000000000001, 6.994, 7.039, 7.087000000000001, 7.104, 7.119, 7.267, 7.291, 7.313, 7.334, 7.3389999999999995, 7.404, 7.412999999999999, 7.497999999999999, 7.501, 7.5089999999999995, 7.526], \"textposition\": \"auto\", \"x\": [6.871, 6.907, 6.928999999999999, 6.952000000000001, 6.994, 7.039, 7.087000000000001, 7.104, 7.119, 7.267, 7.291, 7.313, 7.334, 7.3389999999999995, 7.404, 7.412999999999999, 7.497999999999999, 7.501, 7.5089999999999995, 7.526], \"xaxis\": \"x\", \"y\": [\"Luxembourg\", \"Ireland\", \"Belgium\", \"Brazil\", \"Germany\", \"Puerto Rico\", \"Costa Rica\", \"United States\", \"Austria\", \"Israel\", \"Sweden\", \"Australia\", \"New Zealand\", \"Netherlands\", \"Canada\", \"Finland\", \"Norway\", \"Iceland\", \"Switzerland\", \"Denmark\"], \"yaxis\": \"y\", \"type\": \"bar\"}], \"name\": \"2016\"}, {\"data\": [{\"alignmentgroup\": \"True\", \"hovertemplate\": \"year=2017<br>Score=%{text}<br>Country=%{y}<extra></extra>\", \"legendgroup\": \"\", \"marker\": {\"color\": \"#636efa\"}, \"name\": \"\", \"offsetgroup\": \"\", \"orientation\": \"h\", \"showlegend\": false, \"text\": [6.65199995040894, 6.71400022506714, 6.86299991607666, 6.89099979400635, 6.9510002136230495, 6.9770002365112305, 6.993000030517581, 7.00600004196167, 7.0789999961853, 7.212999820709231, 7.28399991989136, 7.28399991989136, 7.31400012969971, 7.31599998474121, 7.3769998550415, 7.468999862670901, 7.49399995803833, 7.50400018692017, 7.52199983596802, 7.537000179290769], \"textposition\": \"auto\", \"x\": [6.65199995040894, 6.71400022506714, 6.86299991607666, 6.89099979400635, 6.9510002136230495, 6.9770002365112305, 6.993000030517581, 7.00600004196167, 7.0789999961853, 7.212999820709231, 7.28399991989136, 7.28399991989136, 7.31400012969971, 7.31599998474121, 7.3769998550415, 7.468999862670901, 7.49399995803833, 7.50400018692017, 7.52199983596802, 7.537000179290769], \"xaxis\": \"x\", \"y\": [\"Chile\", \"United Kingdom\", \"Luxembourg\", \"Belgium\", \"Germany\", \"Ireland\", \"United States\", \"Austria\", \"Costa Rica\", \"Israel\", \"Sweden\", \"Australia\", \"New Zealand\", \"Canada\", \"Netherlands\", \"Finland\", \"Switzerland\", \"Iceland\", \"Denmark\", \"Norway\"], \"yaxis\": \"y\", \"type\": \"bar\"}], \"name\": \"2017\"}, {\"data\": [{\"alignmentgroup\": \"True\", \"hovertemplate\": \"year=2018<br>Score=%{text}<br>Country=%{y}<extra></extra>\", \"legendgroup\": \"\", \"marker\": {\"color\": \"#636efa\"}, \"name\": \"\", \"offsetgroup\": \"\", \"orientation\": \"h\", \"showlegend\": false, \"text\": [6.814, 6.886, 6.91, 6.9270000000000005, 6.965, 6.977, 7.072, 7.138999999999999, 7.19, 7.272, 7.314, 7.324, 7.327999999999999, 7.441, 7.487, 7.495, 7.555, 7.593999999999999, 7.632000000000001, 11.597000000000001], \"textposition\": \"auto\", \"x\": [6.814, 6.886, 6.91, 6.9270000000000005, 6.965, 6.977, 7.072, 7.138999999999999, 7.19, 7.272, 7.314, 7.324, 7.327999999999999, 7.441, 7.487, 7.495, 7.555, 7.593999999999999, 7.632000000000001, 11.597000000000001], \"xaxis\": \"x\", \"y\": [\"Israel\", \"United States\", \"Luxembourg\", \"Belgium\", \"Germany\", \"Ireland\", \"Costa Rica\", \"Austria\", \"United Kingdom\", \"Australia\", \"Sweden\", \"New Zealand\", \"Canada\", \"Netherlands\", \"Switzerland\", \"Iceland\", \"Denmark\", \"Norway\", \"Finland\", \"Cyprus\"], \"yaxis\": \"y\", \"type\": \"bar\"}], \"name\": \"2018\"}, {\"data\": [{\"alignmentgroup\": \"True\", \"hovertemplate\": \"year=2019<br>Score=%{text}<br>Country=%{y}<extra></extra>\", \"legendgroup\": \"\", \"marker\": {\"color\": \"#636efa\"}, \"name\": \"\", \"offsetgroup\": \"\", \"orientation\": \"h\", \"showlegend\": false, \"text\": [6.892, 6.922999999999999, 6.985, 7.021, 7.053999999999999, 7.09, 7.138999999999999, 7.167000000000001, 7.228, 7.246, 7.278, 7.307, 7.343, 7.48, 7.4879999999999995, 7.494, 7.553999999999999, 7.6, 7.769, 11.764], \"textposition\": \"auto\", \"x\": [6.892, 6.922999999999999, 6.985, 7.021, 7.053999999999999, 7.09, 7.138999999999999, 7.167000000000001, 7.228, 7.246, 7.278, 7.307, 7.343, 7.48, 7.4879999999999995, 7.494, 7.553999999999999, 7.6, 7.769, 11.764], \"xaxis\": \"x\", \"y\": [\"United States\", \"Belgium\", \"Germany\", \"Ireland\", \"United Kingdom\", \"Luxembourg\", \"Israel\", \"Costa Rica\", \"Australia\", \"Austria\", \"Canada\", \"New Zealand\", \"Sweden\", \"Switzerland\", \"Netherlands\", \"Iceland\", \"Norway\", \"Denmark\", \"Finland\", \"Cyprus\"], \"yaxis\": \"y\", \"type\": \"bar\"}], \"name\": \"2019\"}]);\n",
       "                        }).then(function(){\n",
       "                            \n",
       "var gd = document.getElementById('f9c24357-90bf-438e-b240-6b946eb214c2');\n",
       "var x = new MutationObserver(function (mutations, observer) {{\n",
       "        var display = window.getComputedStyle(gd).display;\n",
       "        if (!display || display === 'none') {{\n",
       "            console.log([gd, 'removed!']);\n",
       "            Plotly.purge(gd);\n",
       "            observer.disconnect();\n",
       "        }}\n",
       "}});\n",
       "\n",
       "// Listen for the removal of the full notebook cells\n",
       "var notebookContainer = gd.closest('#notebook-container');\n",
       "if (notebookContainer) {{\n",
       "    x.observe(notebookContainer, {childList: true});\n",
       "}}\n",
       "\n",
       "// Listen for the clearing of the current output cell\n",
       "var outputEl = gd.closest('.output');\n",
       "if (outputEl) {{\n",
       "    x.observe(outputEl, {childList: true});\n",
       "}}\n",
       "\n",
       "                        })\n",
       "                };\n",
       "                });\n",
       "            </script>\n",
       "        </div>"
      ]
     },
     "metadata": {},
     "output_type": "display_data"
    }
   ],
   "source": [
    "\n",
    "fig = px.bar(df_top, y='Country', x='Score', text='Score',orientation='h',\n",
    "            animation_frame = \"year\")\n",
    "fig.update_traces(texttemplate='%{text:.2s}', textposition='outside')\n",
    "fig.update_layout(uniformtext_minsize=8)\n",
    "fig.show()"
   ]
  },
  {
   "cell_type": "code",
   "execution_count": 302,
   "metadata": {},
   "outputs": [
    {
     "data": {
      "text/html": [
       "<div>\n",
       "<style scoped>\n",
       "    .dataframe tbody tr th:only-of-type {\n",
       "        vertical-align: middle;\n",
       "    }\n",
       "\n",
       "    .dataframe tbody tr th {\n",
       "        vertical-align: top;\n",
       "    }\n",
       "\n",
       "    .dataframe thead th {\n",
       "        text-align: right;\n",
       "    }\n",
       "</style>\n",
       "<table border=\"1\" class=\"dataframe\">\n",
       "  <thead>\n",
       "    <tr style=\"text-align: right;\">\n",
       "      <th></th>\n",
       "      <th>Country</th>\n",
       "      <th>Region</th>\n",
       "      <th>year</th>\n",
       "      <th>Score</th>\n",
       "    </tr>\n",
       "  </thead>\n",
       "  <tbody>\n",
       "    <tr>\n",
       "      <th>148</th>\n",
       "      <td>United Arab Emirates</td>\n",
       "      <td>Middle East and Northern Africa</td>\n",
       "      <td>2015</td>\n",
       "      <td>6.901</td>\n",
       "    </tr>\n",
       "    <tr>\n",
       "      <th>12</th>\n",
       "      <td>Belgium</td>\n",
       "      <td>Western Europe</td>\n",
       "      <td>2015</td>\n",
       "      <td>6.937</td>\n",
       "    </tr>\n",
       "    <tr>\n",
       "      <th>63</th>\n",
       "      <td>Ireland</td>\n",
       "      <td>Western Europe</td>\n",
       "      <td>2015</td>\n",
       "      <td>6.940</td>\n",
       "    </tr>\n",
       "    <tr>\n",
       "      <th>82</th>\n",
       "      <td>Luxembourg</td>\n",
       "      <td>Western Europe</td>\n",
       "      <td>2015</td>\n",
       "      <td>6.946</td>\n",
       "    </tr>\n",
       "    <tr>\n",
       "      <th>18</th>\n",
       "      <td>Brazil</td>\n",
       "      <td>Latin America and Caribbean</td>\n",
       "      <td>2015</td>\n",
       "      <td>6.983</td>\n",
       "    </tr>\n",
       "    <tr>\n",
       "      <th>150</th>\n",
       "      <td>United States</td>\n",
       "      <td>North America</td>\n",
       "      <td>2015</td>\n",
       "      <td>7.119</td>\n",
       "    </tr>\n",
       "    <tr>\n",
       "      <th>91</th>\n",
       "      <td>Mexico</td>\n",
       "      <td>Latin America and Caribbean</td>\n",
       "      <td>2015</td>\n",
       "      <td>7.187</td>\n",
       "    </tr>\n",
       "    <tr>\n",
       "      <th>7</th>\n",
       "      <td>Austria</td>\n",
       "      <td>Western Europe</td>\n",
       "      <td>2015</td>\n",
       "      <td>7.200</td>\n",
       "    </tr>\n",
       "    <tr>\n",
       "      <th>33</th>\n",
       "      <td>Costa Rica</td>\n",
       "      <td>Latin America and Caribbean</td>\n",
       "      <td>2015</td>\n",
       "      <td>7.226</td>\n",
       "    </tr>\n",
       "    <tr>\n",
       "      <th>64</th>\n",
       "      <td>Israel</td>\n",
       "      <td>Middle East and Northern Africa</td>\n",
       "      <td>2015</td>\n",
       "      <td>7.278</td>\n",
       "    </tr>\n",
       "    <tr>\n",
       "      <th>6</th>\n",
       "      <td>Australia</td>\n",
       "      <td>Australia and New Zealand</td>\n",
       "      <td>2015</td>\n",
       "      <td>7.284</td>\n",
       "    </tr>\n",
       "    <tr>\n",
       "      <th>100</th>\n",
       "      <td>New Zealand</td>\n",
       "      <td>Australia and New Zealand</td>\n",
       "      <td>2015</td>\n",
       "      <td>7.286</td>\n",
       "    </tr>\n",
       "    <tr>\n",
       "      <th>134</th>\n",
       "      <td>Sweden</td>\n",
       "      <td>Western Europe</td>\n",
       "      <td>2015</td>\n",
       "      <td>7.364</td>\n",
       "    </tr>\n",
       "    <tr>\n",
       "      <th>99</th>\n",
       "      <td>Netherlands</td>\n",
       "      <td>Western Europe</td>\n",
       "      <td>2015</td>\n",
       "      <td>7.378</td>\n",
       "    </tr>\n",
       "    <tr>\n",
       "      <th>45</th>\n",
       "      <td>Finland</td>\n",
       "      <td>Western Europe</td>\n",
       "      <td>2015</td>\n",
       "      <td>7.406</td>\n",
       "    </tr>\n",
       "    <tr>\n",
       "      <th>24</th>\n",
       "      <td>Canada</td>\n",
       "      <td>North America</td>\n",
       "      <td>2015</td>\n",
       "      <td>7.427</td>\n",
       "    </tr>\n",
       "    <tr>\n",
       "      <th>105</th>\n",
       "      <td>Norway</td>\n",
       "      <td>Western Europe</td>\n",
       "      <td>2015</td>\n",
       "      <td>7.522</td>\n",
       "    </tr>\n",
       "    <tr>\n",
       "      <th>37</th>\n",
       "      <td>Denmark</td>\n",
       "      <td>Western Europe</td>\n",
       "      <td>2015</td>\n",
       "      <td>7.527</td>\n",
       "    </tr>\n",
       "    <tr>\n",
       "      <th>58</th>\n",
       "      <td>Iceland</td>\n",
       "      <td>Western Europe</td>\n",
       "      <td>2015</td>\n",
       "      <td>7.561</td>\n",
       "    </tr>\n",
       "    <tr>\n",
       "      <th>135</th>\n",
       "      <td>Switzerland</td>\n",
       "      <td>Western Europe</td>\n",
       "      <td>2015</td>\n",
       "      <td>7.587</td>\n",
       "    </tr>\n",
       "  </tbody>\n",
       "</table>\n",
       "</div>"
      ],
      "text/plain": [
       "                  Country                           Region  year  Score\n",
       "148  United Arab Emirates  Middle East and Northern Africa  2015  6.901\n",
       "12                Belgium                   Western Europe  2015  6.937\n",
       "63                Ireland                   Western Europe  2015  6.940\n",
       "82             Luxembourg                   Western Europe  2015  6.946\n",
       "18                 Brazil      Latin America and Caribbean  2015  6.983\n",
       "150         United States                    North America  2015  7.119\n",
       "91                 Mexico      Latin America and Caribbean  2015  7.187\n",
       "7                 Austria                   Western Europe  2015  7.200\n",
       "33             Costa Rica      Latin America and Caribbean  2015  7.226\n",
       "64                 Israel  Middle East and Northern Africa  2015  7.278\n",
       "6               Australia        Australia and New Zealand  2015  7.284\n",
       "100           New Zealand        Australia and New Zealand  2015  7.286\n",
       "134                Sweden                   Western Europe  2015  7.364\n",
       "99            Netherlands                   Western Europe  2015  7.378\n",
       "45                Finland                   Western Europe  2015  7.406\n",
       "24                 Canada                    North America  2015  7.427\n",
       "105                Norway                   Western Europe  2015  7.522\n",
       "37                Denmark                   Western Europe  2015  7.527\n",
       "58                Iceland                   Western Europe  2015  7.561\n",
       "135           Switzerland                   Western Europe  2015  7.587"
      ]
     },
     "execution_count": 302,
     "metadata": {},
     "output_type": "execute_result"
    }
   ],
   "source": [
    "df_top[df_top.year==\"2015\"]"
   ]
  }
 ],
 "metadata": {
  "kernelspec": {
   "display_name": "Python 3",
   "language": "python",
   "name": "python3"
  },
  "language_info": {
   "codemirror_mode": {
    "name": "ipython",
    "version": 3
   },
   "file_extension": ".py",
   "mimetype": "text/x-python",
   "name": "python",
   "nbconvert_exporter": "python",
   "pygments_lexer": "ipython3",
   "version": "3.7.7"
  }
 },
 "nbformat": 4,
 "nbformat_minor": 4
}
